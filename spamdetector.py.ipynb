{
 "cells": [
  {
   "cell_type": "code",
   "execution_count": 1,
   "metadata": {},
   "outputs": [
    {
     "name": "stderr",
     "output_type": "stream",
     "text": [
      "C:\\Users\\krina\\Anaconda3\\lib\\site-packages\\pandas\\core\\frame.py:6211: FutureWarning: Sorting because non-concatenation axis is not aligned. A future version\n",
      "of pandas will change to not sort by default.\n",
      "\n",
      "To accept the future behavior, pass 'sort=False'.\n",
      "\n",
      "To retain the current behavior and silence the warning, pass 'sort=True'.\n",
      "\n",
      "  sort=sort)\n"
     ]
    }
   ],
   "source": [
    "import os\n",
    "import io\n",
    "import numpy\n",
    "from pandas import DataFrame\n",
    "from sklearn.feature_extraction.text import CountVectorizer\n",
    "from sklearn.naive_bayes import MultinomialNB\n",
    "\n",
    "def readFiles(path):\n",
    "    for root, dirnames, filenames in os.walk(path):\n",
    "        for filename in filenames:\n",
    "            path = os.path.join(root, filename)\n",
    "\n",
    "            inBody = False\n",
    "            lines = []\n",
    "            f = io.open(path, 'r', encoding='latin1')\n",
    "            for line in f:\n",
    "                if inBody:\n",
    "                    lines.append(line)\n",
    "                elif line == '\\n':\n",
    "                    inBody = True\n",
    "            f.close()\n",
    "            message = '\\n'.join(lines)\n",
    "            yield path, message\n",
    "\n",
    "\n",
    "def dataFrameFromDirectory(path, classification):\n",
    "    rows = []\n",
    "    index = []\n",
    "    for filename, message in readFiles(path):\n",
    "        rows.append({'message': message, 'class': classification})\n",
    "        index.append(filename)\n",
    "\n",
    "    return DataFrame(rows, index=index)\n",
    "\n",
    "df = DataFrame({'message': [], 'class': []})\n",
    "\n",
    "df = df.append(dataFrameFromDirectory('C:/Users/krina/emails/spam', 'spam'))\n",
    "df= df.append(dataFrameFromDirectory('C:/Users/krina/emails/ham', 'ham'))\n"
   ]
  },
  {
   "cell_type": "code",
   "execution_count": 3,
   "metadata": {},
   "outputs": [
    {
     "data": {
      "text/html": [
       "<div>\n",
       "<style scoped>\n",
       "    .dataframe tbody tr th:only-of-type {\n",
       "        vertical-align: middle;\n",
       "    }\n",
       "\n",
       "    .dataframe tbody tr th {\n",
       "        vertical-align: top;\n",
       "    }\n",
       "\n",
       "    .dataframe thead th {\n",
       "        text-align: right;\n",
       "    }\n",
       "</style>\n",
       "<table border=\"1\" class=\"dataframe\">\n",
       "  <thead>\n",
       "    <tr style=\"text-align: right;\">\n",
       "      <th></th>\n",
       "      <th>class</th>\n",
       "      <th>message</th>\n",
       "    </tr>\n",
       "  </thead>\n",
       "  <tbody>\n",
       "    <tr>\n",
       "      <th>C:/Users/krina/emails/spam\\00001.7848dde101aa985090474a91ec93fcf0</th>\n",
       "      <td>spam</td>\n",
       "      <td>&lt;!DOCTYPE HTML PUBLIC \"-//W3C//DTD HTML 4.0 Tr...</td>\n",
       "    </tr>\n",
       "    <tr>\n",
       "      <th>C:/Users/krina/emails/spam\\00002.d94f1b97e48ed3b553b3508d116e6a09</th>\n",
       "      <td>spam</td>\n",
       "      <td>1) Fight The Risk of Cancer!\\n\\nhttp://www.adc...</td>\n",
       "    </tr>\n",
       "    <tr>\n",
       "      <th>C:/Users/krina/emails/spam\\00003.2ee33bc6eacdb11f38d052c44819ba6c</th>\n",
       "      <td>spam</td>\n",
       "      <td>1) Fight The Risk of Cancer!\\n\\nhttp://www.adc...</td>\n",
       "    </tr>\n",
       "    <tr>\n",
       "      <th>C:/Users/krina/emails/spam\\00004.eac8de8d759b7e74154f142194282724</th>\n",
       "      <td>spam</td>\n",
       "      <td>##############################################...</td>\n",
       "    </tr>\n",
       "    <tr>\n",
       "      <th>C:/Users/krina/emails/spam\\00005.57696a39d7d84318ce497886896bf90d</th>\n",
       "      <td>spam</td>\n",
       "      <td>I thought you might like these:\\n\\n1) Slim Dow...</td>\n",
       "    </tr>\n",
       "  </tbody>\n",
       "</table>\n",
       "</div>"
      ],
      "text/plain": [
       "                                                   class  \\\n",
       "C:/Users/krina/emails/spam\\00001.7848dde101aa98...  spam   \n",
       "C:/Users/krina/emails/spam\\00002.d94f1b97e48ed3...  spam   \n",
       "C:/Users/krina/emails/spam\\00003.2ee33bc6eacdb1...  spam   \n",
       "C:/Users/krina/emails/spam\\00004.eac8de8d759b7e...  spam   \n",
       "C:/Users/krina/emails/spam\\00005.57696a39d7d843...  spam   \n",
       "\n",
       "                                                                                              message  \n",
       "C:/Users/krina/emails/spam\\00001.7848dde101aa98...  <!DOCTYPE HTML PUBLIC \"-//W3C//DTD HTML 4.0 Tr...  \n",
       "C:/Users/krina/emails/spam\\00002.d94f1b97e48ed3...  1) Fight The Risk of Cancer!\\n\\nhttp://www.adc...  \n",
       "C:/Users/krina/emails/spam\\00003.2ee33bc6eacdb1...  1) Fight The Risk of Cancer!\\n\\nhttp://www.adc...  \n",
       "C:/Users/krina/emails/spam\\00004.eac8de8d759b7e...  ##############################################...  \n",
       "C:/Users/krina/emails/spam\\00005.57696a39d7d843...  I thought you might like these:\\n\\n1) Slim Dow...  "
      ]
     },
     "execution_count": 3,
     "metadata": {},
     "output_type": "execute_result"
    }
   ],
   "source": [
    "df.head()"
   ]
  },
  {
   "cell_type": "code",
   "execution_count": 24,
   "metadata": {},
   "outputs": [],
   "source": [
    "df['length'] = df['message'].apply(len)"
   ]
  },
  {
   "cell_type": "code",
   "execution_count": 25,
   "metadata": {},
   "outputs": [
    {
     "data": {
      "text/plain": [
       "C:/Users/krina/emails/spam\\00001.7848dde101aa985090474a91ec93fcf0    3966\n",
       "C:/Users/krina/emails/spam\\00002.d94f1b97e48ed3b553b3508d116e6a09     820\n",
       "C:/Users/krina/emails/spam\\00003.2ee33bc6eacdb11f38d052c44819ba6c     669\n",
       "C:/Users/krina/emails/spam\\00004.eac8de8d759b7e74154f142194282724    3004\n",
       "C:/Users/krina/emails/spam\\00005.57696a39d7d84318ce497886896bf90d     687\n",
       "Name: length, dtype: int64"
      ]
     },
     "execution_count": 25,
     "metadata": {},
     "output_type": "execute_result"
    }
   ],
   "source": [
    "df['length'].head()"
   ]
  },
  {
   "cell_type": "code",
   "execution_count": 26,
   "metadata": {},
   "outputs": [
    {
     "name": "stdout",
     "output_type": "stream",
     "text": [
      "0 <!DOCTYPE HTML PUBLIC \"-//W3C//DTD HTML 4.0 Transitional//EN\">\n",
      "\n",
      "<HTML><HEAD>\n",
      "\n",
      "<META content=3D\"text/html; charset=3Dwindows-1252\" http-equiv=3DContent-T=\n",
      "\n",
      "ype>\n",
      "\n",
      "<META content=3D\"MSHTML 5.00.2314.1000\" name=3DGENERATOR></HEAD>\n",
      "\n",
      "<BODY><!-- Inserted by Calypso -->\n",
      "\n",
      "<TABLE border=3D0 cellPadding=3D0 cellSpacing=3D2 id=3D_CalyPrintHeader_ r=\n",
      "\n",
      "ules=3Dnone \n",
      "\n",
      "style=3D\"COLOR: black; DISPLAY: none\" width=3D\"100%\">\n",
      "\n",
      "  <TBODY>\n",
      "\n",
      "  <TR>\n",
      "\n",
      "    <TD colSpan=3D3>\n",
      "\n",
      "      <HR color=3Dblack noShade SIZE=3D1>\n",
      "\n",
      "    </TD></TR></TD></TR>\n",
      "\n",
      "  <TR>\n",
      "\n",
      "    <TD colSpan=3D3>\n",
      "\n",
      "      <HR color=3Dblack noShade SIZE=3D1>\n",
      "\n",
      "    </TD></TR></TBODY></TABLE><!-- End Calypso --><!-- Inserted by Calypso=\n",
      "\n",
      " --><FONT \n",
      "\n",
      "color=3D#000000 face=3DVERDANA,ARIAL,HELVETICA size=3D-2><BR></FONT></TD><=\n",
      "\n",
      "/TR></TABLE><!-- End Calypso --><FONT color=3D#ff0000 \n",
      "\n",
      "face=3D\"Copperplate Gothic Bold\" size=3D5 PTSIZE=3D\"10\">\n",
      "\n",
      "<CENTER>Save up to 70% on Life Insurance.</CENTER></FONT><FONT color=3D#ff=\n",
      "\n",
      "0000 \n",
      "\n",
      "face=3D\"Copperplate Gothic Bold\" size=3D5 PTSIZE=3D\"10\">\n",
      "\n",
      "<CENTER>Why Spend More Than You Have To?\n",
      "\n",
      "<CENTER><FONT color=3D#ff0000 face=3D\"Copperplate Gothic Bold\" size=3D5 PT=\n",
      "\n",
      "SIZE=3D\"10\">\n",
      "\n",
      "<CENTER>Life Quote Savings\n",
      "\n",
      "<CENTER>\n",
      "\n",
      "<P align=3Dleft></P>\n",
      "\n",
      "<P align=3Dleft></P></FONT></U></I></B><BR></FONT></U></B></U></I>\n",
      "\n",
      "<P></P>\n",
      "\n",
      "<CENTER>\n",
      "\n",
      "<TABLE border=3D0 borderColor=3D#111111 cellPadding=3D0 cellSpacing=3D0 wi=\n",
      "\n",
      "dth=3D650>\n",
      "\n",
      "  <TBODY></TBODY></TABLE>\n",
      "\n",
      "<TABLE border=3D0 borderColor=3D#111111 cellPadding=3D5 cellSpacing=3D0 wi=\n",
      "\n",
      "dth=3D650>\n",
      "\n",
      "  <TBODY>\n",
      "\n",
      "  <TR>\n",
      "\n",
      "    <TD colSpan=3D2 width=3D\"35%\"><B><FONT face=3DVerdana size=3D4>Ensurin=\n",
      "\n",
      "g your \n",
      "\n",
      "      family's financial security is very important. Life Quote Savings ma=\n",
      "\n",
      "kes \n",
      "\n",
      "      buying life insurance simple and affordable. We Provide FREE Access =\n",
      "\n",
      "to The \n",
      "\n",
      "      Very Best Companies and The Lowest Rates.</FONT></B></TD></TR>\n",
      "\n",
      "  <TR>\n",
      "\n",
      "    <TD align=3Dmiddle vAlign=3Dtop width=3D\"18%\">\n",
      "\n",
      "      <TABLE borderColor=3D#111111 width=3D\"100%\">\n",
      "\n",
      "        <TBODY>\n",
      "\n",
      "        <TR>\n",
      "\n",
      "          <TD style=3D\"PADDING-LEFT: 5px; PADDING-RIGHT: 5px\" width=3D\"100=\n",
      "\n",
      "%\"><FONT \n",
      "\n",
      "            face=3DVerdana size=3D4><B>Life Quote Savings</B> is FAST, EAS=\n",
      "\n",
      "Y and \n",
      "\n",
      "            SAVES you money! Let us help you get started with the best val=\n",
      "\n",
      "ues in \n",
      "\n",
      "            the country on new coverage. You can SAVE hundreds or even tho=\n",
      "\n",
      "usands \n",
      "\n",
      "            of dollars by requesting a FREE quote from Lifequote Savings. =\n",
      "\n",
      "Our \n",
      "\n",
      "            service will take you less than 5 minutes to complete. Shop an=\n",
      "\n",
      "d \n",
      "\n",
      "            compare. SAVE up to 70% on all types of Life insurance! \n",
      "\n",
      "</FONT></TD></TR>\n",
      "\n",
      "        <TR><BR><BR>\n",
      "\n",
      "          <TD height=3D50 style=3D\"PADDING-LEFT: 5px; PADDING-RIGHT: 5px\" \n",
      "\n",
      "          width=3D\"100%\">\n",
      "\n",
      "            <P align=3Dcenter><B><FONT face=3DVerdana size=3D5><A \n",
      "\n",
      "            href=3D\"http://website.e365.cc/savequote/\">Click Here For Your=\n",
      "\n",
      " \n",
      "\n",
      "            Free Quote!</A></FONT></B></P></TD>\n",
      "\n",
      "          <P><FONT face=3DVerdana size=3D4><STRONG>\n",
      "\n",
      "          <CENTER>Protecting your family is the best investment you'll eve=\n",
      "\n",
      "r \n",
      "\n",
      "          make!<BR></B></TD></TR>\n",
      "\n",
      "        <TR><BR><BR></STRONG></FONT></TD></TR></TD></TR>\n",
      "\n",
      "        <TR></TR></TBODY></TABLE>\n",
      "\n",
      "      <P align=3Dleft><FONT face=3D\"Arial, Helvetica, sans-serif\" size=3D2=\n",
      "\n",
      "></FONT></P>\n",
      "\n",
      "      <P></P>\n",
      "\n",
      "      <CENTER><BR><BR><BR>\n",
      "\n",
      "      <P></P>\n",
      "\n",
      "      <P align=3Dleft><BR></B><BR><BR><BR><BR></P>\n",
      "\n",
      "      <P align=3Dcenter><BR></P>\n",
      "\n",
      "      <P align=3Dleft><BR></B><BR><BR></FONT>If you are in receipt of this=\n",
      "\n",
      " email \n",
      "\n",
      "      in error and/or wish to be removed from our list, <A \n",
      "\n",
      "      href=3D\"mailto:coins@btamail.net.cn\">PLEASE CLICK HERE</A> AND TYPE =\n",
      "\n",
      "REMOVE. If you \n",
      "\n",
      "      reside in any state which prohibits e-mail solicitations for insuran=\n",
      "\n",
      "ce, \n",
      "\n",
      "      please disregard this \n",
      "\n",
      "      email.<BR></FONT><BR><BR><BR><BR><BR><BR><BR><BR><BR><BR><BR><BR><BR=\n",
      "\n",
      "><BR><BR><BR></FONT></P></CENTER></CENTER></TR></TBODY></TABLE></CENTER></=\n",
      "\n",
      "CENTER></CENTER></CENTER></CENTER></BODY></HTML>\n",
      "\n",
      "\n",
      "\n",
      "\n",
      "\n",
      "\n",
      "\n",
      "\n",
      "\n",
      "1 1) Fight The Risk of Cancer!\n",
      "\n",
      "http://www.adclick.ws/p.cfm?o=315&s=pk007\n",
      "\n",
      "\n",
      "\n",
      "2) Slim Down - Guaranteed to lose 10-12 lbs in 30 days\n",
      "\n",
      "http://www.adclick.ws/p.cfm?o=249&s=pk007\n",
      "\n",
      "\n",
      "\n",
      "3) Get the Child Support You Deserve - Free Legal Advice\n",
      "\n",
      "http://www.adclick.ws/p.cfm?o=245&s=pk002\n",
      "\n",
      "\n",
      "\n",
      "4) Join the Web's Fastest Growing Singles Community\n",
      "\n",
      "http://www.adclick.ws/p.cfm?o=259&s=pk007\n",
      "\n",
      "\n",
      "\n",
      "5) Start Your Private Photo Album Online!\n",
      "\n",
      "http://www.adclick.ws/p.cfm?o=283&s=pk007\n",
      "\n",
      "\n",
      "\n",
      "Have a Wonderful Day,\n",
      "\n",
      "Offer Manager\n",
      "\n",
      "PrizeMama\n",
      "\n",
      "\n",
      "\n",
      "\n",
      "\n",
      "\n",
      "\n",
      "\n",
      "\n",
      "\n",
      "\n",
      "\n",
      "\n",
      "\n",
      "\n",
      "\n",
      "\n",
      "\n",
      "\n",
      "\n",
      "\n",
      "\n",
      "\n",
      "\n",
      "\n",
      "\n",
      "\n",
      "If you wish to leave this list please use the link below.\n",
      "\n",
      "http://www.qves.com/trim/?ilug@linux.ie%7C17%7C114258\n",
      "\n",
      "\n",
      "\n",
      "\n",
      "\n",
      "-- \n",
      "\n",
      "Irish Linux Users' Group: ilug@linux.ie\n",
      "\n",
      "http://www.linux.ie/mailman/listinfo/ilug for (un)subscription information.\n",
      "\n",
      "List maintainer: listmaster@linux.ie\n",
      "\n",
      "\n",
      "\n",
      "\n",
      "\n",
      "2 1) Fight The Risk of Cancer!\n",
      "\n",
      "http://www.adclick.ws/p.cfm?o=315&s=pk007\n",
      "\n",
      "\n",
      "\n",
      "2) Slim Down - Guaranteed to lose 10-12 lbs in 30 days\n",
      "\n",
      "http://www.adclick.ws/p.cfm?o=249&s=pk007\n",
      "\n",
      "\n",
      "\n",
      "3) Get the Child Support You Deserve - Free Legal Advice\n",
      "\n",
      "http://www.adclick.ws/p.cfm?o=245&s=pk002\n",
      "\n",
      "\n",
      "\n",
      "4) Join the Web's Fastest Growing Singles Community\n",
      "\n",
      "http://www.adclick.ws/p.cfm?o=259&s=pk007\n",
      "\n",
      "\n",
      "\n",
      "5) Start Your Private Photo Album Online!\n",
      "\n",
      "http://www.adclick.ws/p.cfm?o=283&s=pk007\n",
      "\n",
      "\n",
      "\n",
      "Have a Wonderful Day,\n",
      "\n",
      "Offer Manager\n",
      "\n",
      "PrizeMama\n",
      "\n",
      "\n",
      "\n",
      "\n",
      "\n",
      "\n",
      "\n",
      "\n",
      "\n",
      "\n",
      "\n",
      "\n",
      "\n",
      "\n",
      "\n",
      "\n",
      "\n",
      "\n",
      "\n",
      "\n",
      "\n",
      "\n",
      "\n",
      "\n",
      "\n",
      "\n",
      "\n",
      "If you wish to leave this list please use the link below.\n",
      "\n",
      "http://www.qves.com/trim/?zzzz@spamassassin.taint.org%7C17%7C308417\n",
      "\n",
      "\n",
      "\n",
      "\n",
      "\n",
      "3 ##################################################\n",
      "\n",
      "#                                                #\n",
      "\n",
      "#                 Adult Club                     #\n",
      "\n",
      "#           Offers FREE Membership               #\n",
      "\n",
      "#                                                #\n",
      "\n",
      "##################################################\n",
      "\n",
      "\n",
      "\n",
      ">>>>>  INSTANT ACCESS TO ALL SITES NOW\n",
      "\n",
      ">>>>>  Your User Name And Password is.\n",
      "\n",
      ">>>>>  User Name: zzzz@spamassassin.taint.org\n",
      "\n",
      ">>>>>  Password: 760382\n",
      "\n",
      "\n",
      "\n",
      "5 of the Best Adult Sites on the Internet for FREE!\n",
      "\n",
      "---------------------------------------\n",
      "\n",
      "NEWS 08/18/02\n",
      "\n",
      "With just over 2.9 Million Members that signed up for FREE, Last month there were 721,184 New\n",
      "\n",
      "Members. Are you one of them yet???\n",
      "\n",
      "---------------------------------------\n",
      "\n",
      "Our Membership FAQ\n",
      "\n",
      "\n",
      "\n",
      "Q. Why are you offering free access to 5 adult membership sites for free?\n",
      "\n",
      "A. I have advertisers that pay me for ad space so you don't have to pay for membership.\n",
      "\n",
      "\n",
      "\n",
      "Q. Is it true my membership is for life?\n",
      "\n",
      "A. Absolutely you'll never have to pay a cent the advertisers do.\n",
      "\n",
      "\n",
      "\n",
      "Q. Can I give my account to my friends and family?\n",
      "\n",
      "A. Yes, as long they are over the age of 18.\n",
      "\n",
      "\n",
      "\n",
      "Q. Do I have to sign up for all 5 membership sites?\n",
      "\n",
      "A. No just one to get access to all of them.\n",
      "\n",
      "\n",
      "\n",
      "Q. How do I get started?\n",
      "\n",
      "A. Click on one of the following links below to become a member.\n",
      "\n",
      "\n",
      "\n",
      "- These are multi million dollar operations with policies and rules.\n",
      "\n",
      "- Fill in the required info and they won't charge you for the Free pass!\n",
      "\n",
      "- If you don't believe us, just read their terms and conditions.\n",
      "\n",
      "\n",
      "\n",
      "---------------------------\n",
      "\n",
      "\n",
      "\n",
      "# 5. > Adults Farm\n",
      "\n",
      "http://80.71.66.8/farm/?aid=760382\n",
      "\n",
      "Girls and Animals Getting Freaky....FREE Lifetime Membership!!\n",
      "\n",
      "\n",
      "\n",
      "# 4. > Sexy Celebes\n",
      "\n",
      "http://80.71.66.8/celebst/?aid=760382\n",
      "\n",
      "Thousands Of XXX Celebes doing it...FREE Lifetime Membership!!\n",
      "\n",
      "\n",
      "\n",
      "# 3. > Play House Porn\n",
      "\n",
      "http://80.71.66.8/mega/?aid=760382\n",
      "\n",
      "Live Feeds From 60 Sites And Web Cams...FREE Lifetime Membership!!\n",
      "\n",
      "\n",
      "\n",
      "# 2. > Asian Sex Fantasies\n",
      "\n",
      "http://80.71.66.8/asian/?aid=760382\n",
      "\n",
      "Japanese Schoolgirls, Live Sex Shows ...FREE Lifetime Membership!!\n",
      "\n",
      "\n",
      "\n",
      "# 1. > Lesbian Lace\n",
      "\n",
      "http://80.71.66.8/lesbian/?aid=760382\n",
      "\n",
      "Girls and Girls Getting Freaky! ...FREE Lifetime Membership!!\n",
      "\n",
      "\n",
      "\n",
      "--------------------------\n",
      "\n",
      "\n",
      "\n",
      "Jennifer Simpson, Miami, FL\n",
      "\n",
      "Your FREE lifetime membership has entertained my boyffriend and I for\n",
      "\n",
      "the last two years!  Your Adult Sites are the best on the net!\n",
      "\n",
      "\n",
      "\n",
      "Joe Morgan Manhattan, NY\n",
      "\n",
      "Your live sex shows and live sex cams are unbelievable. The best part\n",
      "\n",
      "about your porn sites, is that they're absolutely FREE!\n",
      "\n",
      "\n",
      "\n",
      "--------------------------\n",
      "\n",
      "\n",
      "\n",
      "\n",
      "\n",
      "\n",
      "\n",
      "\n",
      "\n",
      "\n",
      "\n",
      "\n",
      "\n",
      "\n",
      "\n",
      "\n",
      "\n",
      "\n",
      "\n",
      "Removal Instructions:\n",
      "\n",
      "\n",
      "\n",
      "You have received this advertisement because you have opted in to receive free adult internet\n",
      "\n",
      "offers and specials through our affiliated websites. If you do not wish to receive further emails\n",
      "\n",
      "or have received the email in error you may opt-out of our database here\n",
      "\n",
      "http://80.71.66.8/optout/ . Please allow 24 hours for removal.\n",
      "\n",
      "\n",
      "\n",
      "vonolmosatkirekpups\n",
      "\n",
      "\n",
      "\n",
      "\n",
      "\n",
      "4 I thought you might like these:\n",
      "\n",
      "1) Slim Down - Guaranteed to lose 10-12 lbs in 30 days\n",
      "\n",
      "http://www.freeyankee.com/cgi/fy2/to.cgi?l=822slim1\n",
      "\n",
      "\n",
      "\n",
      "2) Fight The Risk of Cancer! \n",
      "\n",
      "http://www.freeyankee.com/cgi/fy2/to.cgi?l=822nic1 \n",
      "\n",
      "\n",
      "\n",
      "3) Get the Child Support You Deserve - Free Legal Advice \n",
      "\n",
      "http://www.freeyankee.com/cgi/fy2/to.cgi?l=822ppl1\n",
      "\n",
      "\n",
      "\n",
      "Offer Manager\n",
      "\n",
      "Daily-Deals\n",
      "\n",
      "\n",
      "\n",
      "\n",
      "\n",
      "\n",
      "\n",
      "\n",
      "\n",
      "\n",
      "\n",
      "\n",
      "\n",
      "\n",
      "\n",
      "\n",
      "\n",
      "If you wish to leave this list please use the link below.\n",
      "\n",
      "http://www.qves.com/trim/?social@linux.ie%7C29%7C134077\n",
      "\n",
      "\n",
      "\n",
      "\n",
      "\n",
      "-- \n",
      "\n",
      "Irish Linux Users' Group Social Events: social@linux.ie\n",
      "\n",
      "http://www.linux.ie/mailman/listinfo/social for (un)subscription information.\n",
      "\n",
      "List maintainer: listmaster@linux.ie\n",
      "\n",
      "\n",
      "\n",
      "\n",
      "\n"
     ]
    }
   ],
   "source": [
    "for message_no, message in enumerate(df['message'][:5]):\n",
    "    print(message_no, message)\n",
    "    print('\\n')"
   ]
  },
  {
   "cell_type": "code",
   "execution_count": 27,
   "metadata": {},
   "outputs": [
    {
     "data": {
      "text/plain": [
       "count                                                  3000\n",
       "unique                                                 2943\n",
       "top       URL: http://www.askbjoernhansen.com/archives/2...\n",
       "freq                                                      4\n",
       "Name: message, dtype: object"
      ]
     },
     "execution_count": 27,
     "metadata": {},
     "output_type": "execute_result"
    }
   ],
   "source": [
    "df['message'].describe()"
   ]
  },
  {
   "cell_type": "code",
   "execution_count": 28,
   "metadata": {},
   "outputs": [],
   "source": [
    "by_class=df.groupby('class')['message']"
   ]
  },
  {
   "cell_type": "code",
   "execution_count": 29,
   "metadata": {},
   "outputs": [
    {
     "data": {
      "text/html": [
       "<div>\n",
       "<style scoped>\n",
       "    .dataframe tbody tr th:only-of-type {\n",
       "        vertical-align: middle;\n",
       "    }\n",
       "\n",
       "    .dataframe tbody tr th {\n",
       "        vertical-align: top;\n",
       "    }\n",
       "\n",
       "    .dataframe thead th {\n",
       "        text-align: right;\n",
       "    }\n",
       "</style>\n",
       "<table border=\"1\" class=\"dataframe\">\n",
       "  <thead>\n",
       "    <tr style=\"text-align: right;\">\n",
       "      <th></th>\n",
       "      <th>count</th>\n",
       "      <th>unique</th>\n",
       "      <th>top</th>\n",
       "      <th>freq</th>\n",
       "    </tr>\n",
       "    <tr>\n",
       "      <th>class</th>\n",
       "      <th></th>\n",
       "      <th></th>\n",
       "      <th></th>\n",
       "      <th></th>\n",
       "    </tr>\n",
       "  </thead>\n",
       "  <tbody>\n",
       "    <tr>\n",
       "      <th>ham</th>\n",
       "      <td>2500</td>\n",
       "      <td>2472</td>\n",
       "      <td>URL: http://www.askbjoernhansen.com/archives/2...</td>\n",
       "      <td>4</td>\n",
       "    </tr>\n",
       "    <tr>\n",
       "      <th>spam</th>\n",
       "      <td>500</td>\n",
       "      <td>471</td>\n",
       "      <td>Lowest rates available for term life insurance...</td>\n",
       "      <td>4</td>\n",
       "    </tr>\n",
       "  </tbody>\n",
       "</table>\n",
       "</div>"
      ],
      "text/plain": [
       "      count unique                                                top freq\n",
       "class                                                                     \n",
       "ham    2500   2472  URL: http://www.askbjoernhansen.com/archives/2...    4\n",
       "spam    500    471  Lowest rates available for term life insurance...    4"
      ]
     },
     "execution_count": 29,
     "metadata": {},
     "output_type": "execute_result"
    }
   ],
   "source": [
    "by_class.describe()"
   ]
  },
  {
   "cell_type": "code",
   "execution_count": 30,
   "metadata": {},
   "outputs": [],
   "source": [
    "import matplotlib.pyplot as plt\n",
    "import seaborn as sns\n",
    "\n",
    "%matplotlib inline"
   ]
  },
  {
   "cell_type": "code",
   "execution_count": 31,
   "metadata": {},
   "outputs": [
    {
     "data": {
      "text/plain": [
       "<matplotlib.axes._subplots.AxesSubplot at 0xbd2a860>"
      ]
     },
     "execution_count": 31,
     "metadata": {},
     "output_type": "execute_result"
    },
    {
     "data": {
      "image/png": "[encoded data removed]",
      "text/plain": [
       "<Figure size 432x288 with 1 Axes>"
      ]
     },
     "metadata": {
      "needs_background": "light"
     },
     "output_type": "display_data"
    }
   ],
   "source": [
    "len_message.plot(bins=100, kind='hist') "
   ]
  },
  {
   "cell_type": "code",
   "execution_count": 32,
   "metadata": {},
   "outputs": [
    {
     "data": {
      "text/plain": [
       "count      3000.000000\n",
       "mean       2196.253333\n",
       "std        7378.845770\n",
       "min          54.000000\n",
       "25%         526.000000\n",
       "50%        1025.000000\n",
       "75%        1857.000000\n",
       "max      234358.000000\n",
       "Name: length, dtype: float64"
      ]
     },
     "execution_count": 32,
     "metadata": {},
     "output_type": "execute_result"
    }
   ],
   "source": [
    "df['length'].describe()"
   ]
  },
  {
   "cell_type": "code",
   "execution_count": 33,
   "metadata": {},
   "outputs": [
    {
     "data": {
      "text/plain": [
       "'This is a multi-part message in MIME format.\\n\\n\\n\\n------=_NextPart_000_01BC2B74.89D1CCC0\\n\\nContent-Type: multipart/alternative; \\n\\n\\tboundary=\"----=_NextPart_84815C5ABAF209EF376268C8\"\\n\\n\\n\\n------=_NextPart_84815C5ABAF209EF376268C8\\n\\nContent-type: text/plain; charset=windows-1252\\n\\nContent-Transfer-Encoding: quoted-printable\\n\\n\\n\\nDear Sir/Madam\\n\\n\\n\\nWishing you a wonderful day=2E  With an offer, to save you money and  time=\\n\\n=2E Shopping from the convenience from  home or office=2E\\n\\nWindow shopping, A new way to go window shopping=2E Our online super store=\\n\\n offers over 1500 quality products, with 15 plus categories=2E\\n\\nFor you to, window shop through=2E=20\\n\\n\\n\\nThe following are E-coupons numbers, which you can use with any order=2E Y=\\n\\nou place from Johnson Home Products Online Super Store=2E\\n\\nDuring the check out process of our online secure shopping cart system ord=\\n\\ner form, you will be prompt to enter in the E-coupon\\n\\nnumber=2E which will give you, your discount on any order you place with J=\\n\\nohnson Home Products Online Store=2E All major Credit cards\\n\\naccepted=2E\\n\\n\\n\\nPlease visit us at!=20\\n\\nhttp://www=2Ejohnsonhome2276=2Ecom\\n\\n\\n\\nE-Coupon Numbers:\\n\\n\\n\\nMJ95L594568JWWL       5% off  any order ! E-coupon Expires\\'s   01/14/2003 =\\n\\nany orders, maximum cash value of  $5=2E00 off=20\\n\\nMJ633554962R89O       10% off  any order ! E-Coupon Expires\\'s  01/302003 a=\\n\\nny orders,  maximum cash  value of $10=2E00 off=20\\n\\n\\n\\n\\n\\nThis is not spam I received your email from an email list you may have sub=\\n\\nscript to or from the search engine emailing list, from your submission to=\\n\\n search engines=2E If you have received this email by error, I am sorry fo=\\n\\nr any inconvenience=2E To be remove from the emailing list, reply to this =\\n\\nemail with the word remove in the subject area of the email=2E\\n\\n\\n\\nthe file attached to this email is a Html Document file of the E-coupon fo=\\n\\nr viewing or for printing out to send in with mail in orders=2E\\n\\n\\n\\nThank you for your time!\\n\\n\\n\\nGod Bless you!\\n\\nSincerely,\\n\\n\\n\\nBob Johnson\\n\\nEmail me with any concerns, comments, or problems, or to be removed from t=\\n\\nhe emailing list=2E\\n\\nAdvertSpRj40@cs=2Ecom\\n\\n\\n\\n\\n\\nTo be removed from my Email list Please reply to this email=2E type \"remov=\\n\\ne\" in the subject area of the email=2E\\n\\n\\n\\n\\n\\n\\n\\n------=_NextPart_84815C5ABAF209EF376268C8\\n\\nContent-Type: text/html; charset=windows-1252\\n\\nContent-Transfer-Encoding: quoted-printable\\n\\n\\n\\n<!DOCTYPE HTML PUBLIC \"-//W3C//DTD HTML 4=2E0 Transitional//EN\">\\n\\n\\n\\n<html>\\n\\n<head>\\n\\n<title>Welcome</title>\\n\\n</head>\\n\\n<body>\\n\\n<center>\\n\\n<a href=3D\"http://home=2Eattbi=2Ecom/~johnsonhomestor1/pro=2Ehtm\"><img src=\\n\\n=3D\"http://johnson2276=2Eitctv=2Ecom/j/johnson2276/Images/IntroDuction=2Ej=\\n\\npg\" alt=3D\"Welcome\"><br><font color=3D\"#6633ff\"><b><small><small><br>Click=\\n\\n on to continue</a></font></small></small><br>\\n\\n</center>\\n\\n\\n\\n</body>\\n\\n</html>\\n\\n\\n\\n------=_NextPart_84815C5ABAF209EF376268C8--\\n\\n\\n\\n------=_NextPart_000_01BC2B74.89D1CCC0\\n\\nContent-Type: image/gif; name=\"ecp10cc.gif\"\\n\\nContent-Transfer-Encoding: base64\\n\\nContent-Description: ecp10cc.gif\\n\\nContent-Disposition: attachment; filename=\"ecp10cc.gif\"\\n\\n\\n\\nR0lGODlhfQIGAfcAAPn6/er3/PPp/Nv3+/b47v0CA+no+vTo7Nrm7Nvn+AEB2jEzAtn07gIB4trY\\n\\n9+jZ+fHa+wEjAuj17fDL+fPY6eTJ6+bK+ObY68z3+8rX9wALAMvm7Mvn+MnI9veJjfpDPce79ebY\\n\\n3LGy8flJTPawtPR3iPO1x/eEfdnY68jX6v0aJLbN8Ofm7PdscPovMnyE8fs7Rerk3NnJ94yN7trY\\n\\n29a76sTFufojHcrV2uW667C0sMzy6mBfP5CViTEv5djI69TH2XmNheCv/0E83/9/oPCWq7rl7fhZ\\n\\nZtW52vhkXebH2FFSLKKckHBw7Ji28fnX2r3k+lNpUa2T7DxWRMW52T5B5cjH6dbj2vbDusfH2kA8\\n\\nE2lrSh8j2Zym9oR67mNb7/TK59e796Cff/OknUxM57bDuCMb3R8i5JOP2j1BE7nIz0dZR8Kp9EE8\\n\\n5+vGyldg3zJMM5WjlIyo5h86JPnH1HaGcaipltLVyfzWzMa66FpyZUA9IIR7a3uH3253aZnG811k\\n\\n6KCn37349ay61sao2pepqNukw5/Y9xtAG99PX4qLciId4/C89ZCgcMbSyK+o36+n0N9xfIeAX+XQ\\n\\nyisr2/rHyEtL3bKK23+X/8aX4IB3X6V44+W89/C768jJyY/A8OyUx6ezxZTM37m5xcasyaSEyR9A\\n\\nIVpj8Imv3SI7JNaQsJWXqnV7hK/k99e3x9jGxkRGGDxF2mVnPIa446+g37q42HRv2jpiRdiLmNOt\\n\\n92+E93mDXbOX26V30qiI2HiZ2KiYscO4yJ/EteCo4DBgP2CA33uE6WJdSbCYzInG5MezuZi36Zmn\\n\\n6JRy0Kqoyrem2HOx299ziG9Y39+o4KuayNap2Hqo5auW12+Z2n/H53fD35dkv19w719w8IC68Map\\n\\n6MeT34Wn/1hjOXmV6ZfH6af9/3+Qz4zU5o/X+5PV6bWpy2+r52e354r8/5z6/Hr8+mCo8G/H8HCI\\n\\nwIDg74Dv/3Cw/2D4/2Df/2/X71ev92+f/2CI72+w/1CX75fk9wAAACH/C05FVFNDQVBFMi4wAwEA\\n\\nAAAh/kVKb2huc29uIEhvbWUgUCZTIE9ubGluZSBTdXBlciBTdG9yZSAoaHR0cDovL3d3dy5qb2hu\\n\\nc29uaG9tZTIyNzYuY29tKS4AIfkEACwBGgAsAAAAAH0CBgEACP8AdRX7E26ft3X68KHrxy4evHz0\\n\\n4K2jx69eOXTx0Pmzx03QPXeC3r1rR7Jcu3IY3LkbMMBduQGCUAoShGEmywEBAOjcCSDATQY3b+Zk\\n\\nGaCozwE9cxrNybOp06dQo0qdSrWq1atYs2rdyrUrzwNew4odS7as2bNo06qNGuIAWAAECOiMC9ep\\n\\nXKt3o8YFm3et37+AAwseHJYp4cOIEytezHhn27dSBTztOzWuZQJuY8Q4QLex58+gQ4seTbq06dNU\\n\\nHzc1PHcn5dZyY9t1jbluT9S4c+vezbu3799mVVN9PZw23AMS5hIHzry58+fQo0vPKrzpcutwr8/l\\n\\nGyC2ZdvTw4v/H0++vPnA1aeylnq9aOvz8OPLn09fsPa1biGHpdtZOf/u99Un4IAEFmggYPnN5hpP\\n\\nAdaW3YMAuKUTchBupZ1sBy7IHnhaBZihXhr2h1WDHb5n31UeEpZiad4RkByHMCpH1XqTNRWDAPqJ\\n\\nhZkE38lGQAA45hjaiqYR+aGRxYHYFY0jMvgekhgiORZxd0lZHJQeWvlXd0nZ9p1xMfIHXl803vji\\n\\nlJhFWSVnad7FZFVEavlhjRuWJ2eSXDF1J5ywKZhYTnlVGaKFdYnZZJROPvUmYJf52CeXJr55IQCb\\n\\nCbkfa3EBqKehQ1oXqIZVLZqooGQJSllfcXq5G6kkoobqapWh/3gahn7KeJ2Ue9JpIp9Qfbpglb5m\\n\\nlxyqjub1Fq3aVVqqTjzy1CwAw36ZWK68iTjcq3juWiteTsqZKrexhiljn2aROpu5t1o2bHYu8tdu\\n\\nXDy+C+9dMUSIWQgSZNZWvhQIIEAIE7RFARgPUFDBZhFOQAEBAQNQAcAVTCBxBTlMgBkFIUAwAcUQ\\n\\nUCCxxxUcbPC/FIMRMhAIoABEBUg4AAQAIQCxcgUXAEFDzSsDgQQQStRcARAh4EADDlnYjIMaWeCA\\n\\nAxIIAAGJMzgQkgUkpKQACSQVPEMKFc/UgAQkhBBSAzXIEEIFIZmUQsg1yJQiAymlqE0IL6WUHXcN\\n\\nz1BDBTJgQ//yzTV0y53JN5dkwksmveBdChq8gMALLYFccIABdXa7k2EtYiaAi4Amd+ZhHi4qalbY\\n\\njkmrie426m6EFNi7GWZugSGBAMkdEAIYCgvgse4AU+CWEh0rDIDESGxsMBIRe6yEwTKEHLIMECCh\\n\\nhBIRV0B9Di4LYD0QDvzw8/RACCAzDSo7QIX3QLiSRRZq7AxEFzzzz0TwUSwfxACNFZDKJ0MANs7QwK\\n\\nanDayp6BNWSQghRIQAIvagC2WpDiamBLGzKQgbgHQCJuhCjFJbbBixz4ghcTmJsUejG3Z0jhEbzo\\n\\nRS8y4YtLgOMSbFjhNoSQiWZsIhMvvIQv0OYLC7DhEmGQAhv/hLCJID7iEjdkgxA3IYVLSAENSkQD\\n\\nGoT4RFpIIRC/AIET5LACOXRhBWjogBxEIEUROOGMWxTBCsxhRjkEQg5nlIMbVxCIP/wBFYc4RCBW\\n\\n8IdDJMMJUAhEMg5Bjk8cAo+HOGMXZrHFFSzDCdlwwiE+4YR0zAIKhxDFMkTRij+Igo9dXMEKRNDH\\n\\nFRziD6JcQSsyYIRBmDEDHXCCKEUAglp2YAW37AAUVpCBDOQhBSvgAAd4OUwoZAAKHDDCIYyAgV72\\n\\nsgMcgAI0MwDMDGAgmBiAAjBbkc0UDKAVLAlmCoywAShgYJzCNAIzjbACI6SAA1kwgiBSsIMdrGAH\\n\\nG0gmKzcw/84N+JMlGPCnQIfJkgwMAAEsSQBOWBKk5HQsBgaz3isooARSTAAM0lMYRUMwPSRQVAlI\\n\\nmAZIXZFAiyIBgSEgBRAQKLNg6AwJWXCFzGBKCnXIDBKjQNoggkGFYKgDAKSgBiQcUAsqQKIWY6MG\\n\\nEp5BiEcQAgSPwFsY2NC2w4EDHCT0RdoEQIheIONsl7jEAtMmBLpd4xpK5IUTw+pEKbiVilJoRgfY\\n\\nIEU2/HATaADBEzsgAimAIBAiEAFgA/FXNDjhD6RcxjK4aI4u/sIaaOzDLIwgB1RsYAXZOMQsPkEO\\n\\nPCYDCk6whii8cYh0ZAMVn/gEKv6Q2k9Yw4ySXAYmV5ACJ/+oMQOBBQEqA3tbNfIxsL1MJRR2OUoO\\n\\niKADGQgmX3c5TOQmlwMOwOUKjKlK5PJyuKLMQDSh2UxjHlOYq+TAKjGAAQ4cIprhRSZ5s2lOc7J3\\n\\nuNkkLxSMkAAOkFeYwoTCDoQ5AA7swKADqIAROKDQVnAAoNlE8AAkMIAMIPTAQcHAABJwFJ8gFAAb\\n\\nwABCD+oTgzJAoSxhwIZBjICdHBQpGbiNXDYcgBL3JDkGAFJODpATA6AAAAYwAFgO0DoAPAAnDygK\\n\\njUss4wC0TjIbSEoF5OIApOgEAk/WSY8px6UcD4DGATgATnRiAAQoNAAGqIB7ioIAyfgLRwAoc4zT\\n\\nDBYzSwb/SACQDE+YAiQGGDnLksHMAPwVoZxMQDIVSMABBFBmBDAAxwBAQVwc4OUYIIAGBNCe5Ggs\\n\\ngAsc2igSQECLGZBpGms500m58ZrL7ADKJUBZopgFOTIpijseYhnYOOMvzghYJ6RWs3+QoxMCYVs0\\n\\n/GGLgxjEaldg2+OKchm4fScyU3BeKIiAA8+NZnnnO2D7IpOZyRRmQG+S4QGwcwA7WG8vwS1hDACF\\n\\nARgwgk/CzZJkLpTLGGA3tys8ADvbeSkUJopPWryUOTPlRYbGsZcF4AAB5HjNAEgAmqkMFj3h2AE9\\n\\nQUGLdWKUnhirJxeQS0407TAwGwAnmsaJAfw18ZyQ/DY5/6Yx5QyeAC6TnHKXYxbFe8IAKkPcxzyJ\\n\\ncYuRIoAAJIdLYOayyYHe8zQLvSg6zrJOQA4AfSfgRywQOJAIwAEKUFgCLZcLjRNQ4pEjgMlk7rmR\\n\\n4zy5mevkAj2Rs9ojfZwJFUXsKk7Kz1dDY6NHaOZiR7vR+cwUObccACmOcQJaPnijXMAnb/m4ThR+\\n\\nFwmQOegjZ7xSzA6r2ySFcg13cQUMcGkxX67v0NKJnOtucKWYuUIAuHmbWeAeljSdxhKI+tYpznUc\\n\\nIYDGDDgAAsoMlBDcPgQsOEDUKyCZHW8uzHa/wItiDHsD5AssBpABkChsUAAI4cM1GMADALADHMcY\\n\\nKTVosf8ANoAARmcaBx2gwQEsgAIUZKA7EJczTlhDgUNfuDUMFj2OoSyZPf9o+0pBYwPAaJDyYxEC\\n\\nczxRdHcXZ5CiFNv3FVcWZzD3FnImZBNieWy3HlCGc2x3G3IGcUq3ExzHAUXBAQi4dGvWZDlBYXA2\\n\\ndgyIFE42f5TjZKzhcLeREw4QdPpXerdhAUs3f0EXAHqXgwBAAUBCO08SZxdIcTAndn9nG3tmeQwI\\n\\nF62XFEbxACOXg3r3gBWgEw+4fYMWAH9naZQjFz33dwhnYjeof3HGcxNWFD5IANtHAEjxIn/Xcvzm\\n\\nfTtxcgZXgTkmGQkQZAEwATPWEx83OXtWcTP3I0MhZ57/l4ODGAA5kBMWMAAjt2UDeBc8J2IWcIQT\\n\\nRjliloeKwodBCCQwlmNgNjnu0XNRiHM1NwBysWc9tzABEGRKKHamZ3YTZ4ioiAAMpmldxmWDdwAJ\\n\\nkAIflwFcl4OVlgAowAIZgALChwKl1mJdt3sBgANcIgEvUmk6qCxa1iVI8SNpNn8Mo2mS8QCSMQE9\\n\\nkQM6IQPIYVBJFgAOcGpLlynbV19qpnA9toGgtzmX82YCEIN7mBQ4IWdNp45wloAtCJCfp3+GoXIG\\n\\np3MOABk5cQFmZgByMXI9QYFmGIXa93+3QYN0NnOmVxR6dxsqaGEllmcO8CMtN3Jt1oQMAGW1iGO2\\n\\nqIAh//hmAMAARdd/F4ATNGl5UShjcXZvMjaAG7mTO6aIc7YTazaBNDh/l5aIAKB8tahwCFVnpQYA\\n\\nEIAABgABI0cBsNgTPYZ2BGCEDGkYAOkeStiWd9Fzavd2aedkGKB2cGGXTPF3hlGLORF1dFZ4d/cj\\n\\nSLEURBF5OfaE/vgAL8IUh/Z6lwMWGyAZPDkhEWgvbSlnh9dnbyZxI1kXZcZlHqiEReZ4LCh6EpBj\\n\\nPZF13hF6E2BnAZmDBgCCEOAmOLKYRggAPyByQyGGqUlxiYh1OEJyaOcvXtll81cBDmBnlvhiyimC\\n\\ndQEW/RIhyrJvT+mFhOYABTchAtByB1WJQMIBycEBOP+WAYrpMBvwhrqTZhJwaARAZWNXYoOHY6aH\\n\\nhhlZF9pXFBDAFFs2iGIXYwE5aE72FUm5iFOYdk0Bcye4Ey8ikE3XZWwpjqJXFFwXaf6pcOKnk5MB\\n\\nKf7GhkyIgWz4ZgfleFoGZpCYAKh4ei42gDTCckkxehznYlJ4aKHon/iZEwvjFED3I5xHeXLmYjXY\\n\\nF1RGYZSjcwZgohIKKEiBUDFGYHumYwJHpBa2mBHCAG+Jo4xIZHm2gRv4oT9Sd12SkIcnIbeRnwu4\\n\\no3AJl6BZoK0Rjo25gBdQZgfAaJLxAwVHcIt3ekwxcpXWc+TnE4Yon1FRg2v4dhMGFxhJcRWndsEo\\n\\nnwL/IIjBaXdxVp/g4aWWSKImWanuGZBFdgDkp3tpJ2YHEGSDRmiU42Ixpo2GMX+3oVBpphpvaACH\\n\\np3f5WYtJpp1DNjypuZJ/N4+bo3BFymUQaobeN5ZgNnm+CR476hNkOgFrxgFYJohGN3JyyRo02IQi\\n\\nKWWUB4uFqJaUdzm2SGVNsaVeGGdZGSo6h45caWqYCCBvVhRv6aVzMZI815S3iIHgGiGScXiG4YMJ\\n\\nZxRlV6hYF4P+0p449hY2GK9ph3mix3NEKWe2mHZmNnQ1iQA/SWjL2YLiaJA8aaMS+5ocOpcoN6SL\\n\\nJ7H/55VYCCQwV2IU2qEGcJsfx4pGqJZe+SNdqBQy/3aJS4eLCMuWgtqiVBmKCdCYKkqSTOFiHKcU\\n\\nXccaYkdp/vZ2OQEUz2qgMcYAPggoCCCuRbeBFnOZlqeAi2diy+l8EpACctkT5adwFIZxCSqeTZdl\\n\\nJbacHJeylncsjMhlCTJxPqqLrVFzw9l0UfeZ8riwaVZstkWwlOODRWqGPhiz+lElHVBLICACh9qF\\n\\nOJKQjqp/HMeQCbhlyTdmWUaUPDGYRieGKNuiJscXQFh0D6ipZvgjcTmFp4OofCUFtNQBJrdmURi5\\n\\ntuUELWmhbcmvblaVXDpnbBdpmDIUXCmFeEqmDVeISuhkGSgZCKhxfZZ6Q5cBUmAML2AMfdAFVpBw\\n\\nS//HevbyucnhZKaKZWtqHVYQuYGVZ3HxuLklnl7rFFzzzzp10imkGrE405aA7pqUgnehj5jf+JY3z1\\n\\nAl7wAi/QBSJQY252ZjsmlqArmmKXn3IxO6crAPlJnGk2iNjKZ2/GgnhIaZyzcgdqFAH6YqbXc/4J\\n\\nFio4SgjcB15ACyBQfAmQnAuomMUKF1mHcw1pGMkhGVgHZgEpZz0WkEWJjkKYhpY2Obuncj6Ho5Da\\n\\nfxSHZRcQAmhWrJDnhYdmkHdXYw6zkXkbAAwQZDPQAApgxlzAgU3xFvlZlkv4ZmZ8xg0QBm2YcG8W\\n\\nFyaadt/on4N5wlIYut36FD1qckiheEUBiRVYrV3/ApEmh2Mq3MB4+JBDJ8dnPAN2i6dcoABnrAAz\\n\\nULZvxo+tF3JZ6adjZnkBEHUR6p5UxnF9JqGAOKsQEI5/WnScUYQOKXpapxNscAoNYMa+rMm9DAgZ\\n\\nIKzg22chhor1Krx06HNPqxOa/Mzvl3AGEMeanGKVuYYLm2Vl15MsmIifW8d/fIOxSHFDyAF9wAW9\\n\\n3MvA3MtfAAIzJoQNmnZDlyhmp6kSW8Ms4ZUJtXgUdpEFJ4aCdqbDc1DwCqE6gcobCXM+8Wad+J0v\\n\\ncAbrrM6a/AUG9XcfCC0S6QUaImcIaHBwQdBetnFj1nBlp4qaank+OqLG2hpF65QDkGQs0WQFKyFC\\n\\n/+iV/+tj3fGNH11vKCmhMOhiXDcAluDLDdAEPhEXV9xmPkGI8mnQcdYBz6wAaaxxMvYAdtZ0rFhv\\n\\nkzeRYszFbUjVPLuTaUqtTTGTZQuxriFn/AevUhgAsxnIUXEAeRDVDUCCBQqLIhDVCmCiRuylbkKL\\n\\nDRfOcwF3Z3eDOdaBd/GAJQZ7eNhyB3CSS2fKZreNEiwFQ0DJmyzHEv0C7ktx4lhxGrejgQoAHaDO\\n\\nDeAD3UFhIGDaPmDRMecabOmUdwl5D8gTN8fR2werhVx6XuoEvwzMwL3JRi2Bl9mKFcLFb9E6Pwco\\n\\nNbu1ciYXEGCQ8Ixzbts5G0kj7lGrxjt1XNkdqP8ZACKQyesc3OncBDTYcx0oAkMtDRxCZxdNeaUm\\n\\nAbGsnT1xsliII9nZZkAR2X4Ko00Jo2UYG0gafGCRf263h3LRY9CSkDupY0jp1l74IxKtAF2gg7zZ\\n\\ndBRHaNhxOX2Qzg1gC3LW0AsNF+pYt3tpswriIIoic6JnolY2sjuxxY2MqEvYFHG5KNQr1krxAums\\n\\nAD5wc38XGx0OzJSgEzeHoE4WsSMXKHkxeQ94gocnug3JIGpXyIn6eX8HGVVSFMnB48FN3s/cy0PA\\n\\nFBTogSud4YBioDqBCdTcBIVSxs8sDZ0pn5PHvAzukLYoZkDMrxsIlyTMlXhMOVD95ZtM1Jps1Jj/\\n\\nx2dInMNdEslMfdJNwQGSIZ6cR5OzGrGJOJReCyRSHnNommaScaN1lwAMNujUHOaZfeg4iGMWYAC0\\n\\ncNlm/AJM0Trf7NF/2p4zxnyiS9KXSTl613dGAaeaxpYN93E62JZm6+KCRiG8SSNrdno66Wc9UQGb\\n\\nuHQHkNeavWeQYcF5AXEJ6ixk8MtScDl3UXavN2hhSIUWELFwdsdUSL20jMvIPmFyMYebw+U7AYk3\\n\\nB74GhxMZqHAQsmZKZxQCjuZw4QOZbd7914QBgPDA7OZtCxdEtoGXCChmJmZIjGiDZtH+WBcrJwCN\\n\\nmQD7GCGdSADU/oWN2cjCGWUdOHSnANxmDAhd/zDMACACmLAI1FzUNlooYkiHFofFAUCCYogTjg0A\\n\\nVfDLzHCqAaC7IpAHHfDHhSrgTmYAD0h6GysAEicBE9ndffYAP0KTNzmZTBHu6ewDtMBxA+AEQ3Dq\\n\\nIKCQ/Zp6z+0vByXxdSGGx3dmOTHMWjdjKniRxuuVbAiLlhiKR3aIf/7aDomRb0DNPtAFhDcAr/7L\\n\\nDZBiXAIBCRDHZgzwBPCE04toq1kbkZbgnyuEEssCTpqQeLl9Hu0i1D2Hnk2vOlbL7a4fDV0BK2l0\\n\\n+96JApABa+ljA2ALmT3moXfdcZYAgZUHTRYbecYsGaDXfycBIhAOIjB4BCvF27nDrXjtgYUU+/++\\n\\nHmKYW05Qte/R7vWIWyCA/KBt43FmkFTd9HmQAc2ycnwd8RI46RLdADNc47FZ6AogBe4BEAQABAAA\\n\\nwIEIESAyEAwgYCACABAEMBBIsGCABAAyINwgAYDDgh0GOBGRYYADghkADLBS0EJIEFJAiPgI4IAA\\n\\nggIMNBxAsGJNLwoUNGiggFJGkAUBGPBRVKiCjD0HMnRIAMJSAwlFbDhQ0IEBAwUPPB1qkaHSn0sF\\n\\nZlxaEKGIBAYSOOwpwEECgndB0OpCM4GDgSsJsmUAgIBApYaHPjUgtevKIUSFNnlQ8EHhxgIOBNj8\\n\\nMSfBqxETo11JBWHBwgMNCJBQFUACBiveBhj/4FCCAwkGKgTAOHDA4wB52IBQGtbwQMQAyCq4abh1\\n\\nwSFDizbBuXSAlMUKhni8+FEC740JQSDGKVCAwMrel15IMHPFUs5hcVoBQXKlZgkIeItdSSBz8poK\\n\\nMi4ACQjoirbubAIAA50GCAuiAA4LLDUDIBqoQLx8IKuPDQJ4oCUAQOgjsqecImOGLAQEgAEHnJBO\\n\\ngSoAmKGNopz6goOCMiKAty5qbOAFDl5oysc3RADJIYJEeKPGEhcBRCUF0RrghVickkyBN2YY7bUA\\n\\nmBGqqBkGMEbDK9/A8QLeHDJgx/N2LIgAFxdrIDGfCBBABDkVGOCjuATwoo3lhDrRrAcIqqCL/y8V\\n\\neAGBYrhokib/+jiDqKK4eCGsw/aU4IADhLRSqCHkKIw3BLnczwAJ2svziyMLGuCwABDwUQEty7tT\\n\\nTi+CHJJSMjIo1LMEenyqCo+6csJKMlACIJDs+tB1uV5rwlSAAfrQMFEYvbDJgowc2DOBATIKQNk2\\n\\nyWpABAbkAokAEYZo45Q+ZgDsWKcs2TMwAJogK0wcpmpKKDNWeGHSK7l5bykKClJTyOyIikVLvCwC\\n\\ngJkrw3zBUTBVBIC7gXDKTgE5HNAMzYKccLcJL+TQTFgmrZSmpgT+pLREMtA4L8ADEK0REwSMOWOx\\n\\nGdb8awYyyari0teO23Jpn5re2M7XErhAp/+LJKgAAQEssNAwxAAM7LGCZHixAeKmJgCBGbiQzClz\\n\\nh+gC6gAM0PfLIX4uscSutpY7OzLMuNvKrwB4aQAyvmR75ga0JAAwO2e4ku1EKSEOrQCKYRKQu0ts\\n\\nYKeCsP5MKQEc+sJwMlZMEIAHRn+KjAgbc3y5WRXwQSWfDhhA9enMYFJOES4296kZCHhJIwFegDzR\\n\\noshAyj+Fm1cK0Bp94KDr7ngjAHNKLbGJoANsSfSU3c0Vl+u5heqjO0Aq5qx4stJH3Cku9qQgQj9j\\n\\n//gN47yOkM6ClnyRjC4wQGIY2tEFDHCALzCpCZ8RiN2KopLDnM1wV9KcArigEgEg4CZT+lT/nhTw\\n\\nhQxUpyvcIAsIaPQUH1zAeeYxDGvIcLg3dIEgFtoTbfa0p/IdTihS+I4cHtewoswOAAioyBtKJIJr\\n\\nCYULYQnAC3RnpU8pTyBdOYCElLI/zsSKfwCIQWfetCUHUQtCgfFI3ALTkBUpqwIzSBQXABCGnmRg\\n\\ndLPyQRuGtBgzQKkgfguUD14IRTQY5DATWYR0ZuaDyFCKKOdTiyXMVYUhkKhE41GKvqDog1hQgoJ5\\n\\nRIsB1KZDRPrNR0EbiBeVlhhHLeYMQ4BkLFhZBUtUiW02G0gCkYfIE8ppfAWZ1N/saDjZLaaOmquC\\n\\nWQAwR1VWgUyS+UILOyYxwxyAA5ADwb26/3Mzw7ygRLG4IgB+9rgG1FGUX5pBenCCMaGs4IBh6eVQ\\n\\n2AKARcyqKLGowtoyBpJTIG8RdkTcG5CilK60qjsg8OBQAOGEqSAHOQRQ21M6AKAVyOkMDcFgDqUj\\n\\nzo+x7j4B8N9T9nktp7zhKhYhGFEosRyabMZB3XRTB8YmnTdIwSs7ukpFNPm+L6kkgTOTXd3GdsHV\\n\\nGKiQkllmURBqACMmygxDKFpRAAE2Y64IJChBwK8KhRHOcCowOIEmCzUToIRtSaAJSOpQSqcfAPTB\\n\\nkApoAogAwIF/FQV/BbHC2oZyivE4SJK0+oibpvkpS6gkI9FxyguUkgG2AeIsCJhjAxbhBf+QaPNF\\n\\nTXAAYhJw0pAaR5o6JAOOCgJSRSXlVax5THVAQEEoHs9KIiCI8eTUhAyEBgSa/NIbDBQSbJmhD7xh\\n\\ngDZ5+gIC7ElnQolRX9VKVBEYwUEdSKICOMBb3nBuTXaypFB8IMiBPICrczmPZOfZmgAwQAgTbECv\\n\\ncCKAOzZAWwZ5jbkYlwAOkIULt81Aw7CUALY09XwNkSyoaFKQDMRVAR3oDgMQEK4dWUCAnbkT5B5X\\n\\nJIyoSQD1lcwirAmADrCxRm9I6DFfpAAyWAFcEvCCXQlcKO+Gk7WtScCuGpCBA6gwAYHigrwkgILz\\n\\nhC50YsFJAvQzAGH9jijSkCEB5pIjAs3/bTrnBYBrn+IFAjvEAem1hAUI0oHjnWEGHBiASQBgjMgR\\n\\nZzMooK1QaHeBzkhFgxj5igEyEBap8UaDWjVMThIDkgdshlpy0aB50kQQAzDAIQwYalEMSwAcIJZt\\n\\nM0iAQCwQugO0DDAAwESeMKFghjhSMoFYiXfYmJ0ZRGh4L3wKJgaJJyb54AuPOEmIAMMZg1B4McVo\\n\\niEMEAN9ZTS+4nwaeftYEgMI9RQqjAhD3amg8e2KrgkI5gwMQYAHIaesAbAHXcthSvMMZ6QBrUrJQ\\n\\ngqcaMDsFEKgLwF+ZLYAw3CS8eJKOtgR4nwNsoLLjqkKiDKuj8BIkXHELAG0NvZqC+PYp/y+4oQA4\\n\\nEOyhzKDHBnCcU07xqpVoWCjduIjEi4IGNOrEElZSHGKlE7+qqDBOi9xqp81CrXsFYAIJcOIPKTUE\\n\\n1t72dQbd2meZ1AWwACYB4wTxX8Clk3ouxrBdzk4e/VODnbC7KJAN+O6GoEIDjBQwFbLIADSYGt5g\\n\\nYGBrzU4VqvnOgTSXFsyjsFMwgZGwGOACA2jZQpr8qTbopzIEeAACErUIHFGrAgTw4WL6YOu2KGUC\\n\\ndam1BpcCEjQfwCN1eQ1aP9KVR4/rByeRgfwcRIHa8AYCvHnEcloCAgH0gW3FbLRBzEhYodBEAI5c\\n\\nzBfKDZjCHE7ntHnAH0F1Q598So8BiP/n3xRwhj50wCwoaQLb2oCkSSOAAfV2ShceEmyikEEzCeDO\\n\\nE4ci/KS9hlo4UTfhjPaCGYD/BX14wQu8QDChuB4CliTKEKJLEdUwfyigLwipiaLYB7BhJZqejEXs\\n\\ntHFKkQKuyqdhmQFb0IXy8wL3MTT2Eo0A2LyGCACU6jQ9c54JWw4ngIAp8p+icD+2QAnrcy4mQio5\\n\\neYFRIUHgsTXogxGvyBHd8wj3Ia7xmwEafIH0+RIT5AkBeIA90bN7SY3asB0QaIKGwhayoT374yuu\\n\\nCRFsEQiUEACCYhsUULuU8x7pCCQGIMD2K78XMIYurC712o+kKoozgCD8EoieiDDusbP/i9gNAGCD\\n\\nPkil3TmXnBAIl/KR5smhIUAVz0iXAai3p1iB80C4Bmi2HkyTGxyKIRi/F0CDJpgBZEqc3tgRNxmi\\n\\nIaoq2tsTaukcTgmoALCAQMsAxECrDPAxBHC2DFiIAKAAnYhAuhOgGggK+MGACgi7mRHAk/ssskAo\\n\\nAICcPKCNiEE164KID5wVEOCNe3GpxViEx3gAAugAPlItBWiD6dk+zCKKMHGVwIurc3ETyGGDxTmO\\n\\nO6yU4kiMA/ONneAjb/O/rRqAsZECK2uuLriZCfAKpngRIykIyBGBARAJjZiVqfmiT6msjSnC4/kY\\n\\nQwtH9uqNuEmA3UEorjqb7jAy1iMK/zO4DzuhoPGounG0oNE4nNjKCShyPCgSgR1hiIiCH+T4psxB\\n\\nnoEbCJJJw67ADc9oCAQ4MA85DDYovpZhnYbQnZw6DoHgNRDrCjsJgEoTt8VZqQwKCuChu3Z6KdhR\\n\\nlJrYnS4IjdAQCP35jgr4lgBYiK8KgEHoBgqCkSpSiuMSinFTEJDqxuOQGNSjQ+VgEm05SX1zIGU7\\n\\nSMhCo7BgAVjDpgRhCIzoxOwaiNAoCFYUnAy6Gj7TLv84DBUKkAFormLImoK4G9fgE82wqysji0Xg\\n\\njYThDIFjKzQqiCgUikXopibLjgVSEYJwgiYAyh86CrAYi0ThAKRotPNwgDyZNHZTIv8kUaEmSpQm\\n\\nOI6k4J8AUDqh6Ikq4omPWIHDwQALYDuy8LE0KYgK2ABz+Q0AyAPD8QGLUIn6egpKyIzaOE2PDBF3\\n\\nbJmWyROyoUQ6OZKWMSzB3InGKIjhEgrns5CIUiVXoTsD6C+2goC6IKjFaIPAIAADta4BeIAEULpC\\n\\nTIBtewzRk45uQJCpNMIXAcdOOx1+Q4gZKIYXiBu0agyCQDihWIrflB1Aq4hEMjTWEEOywATVbDEr\\n\\ncT62sx85KcmBWFB3QiOsQcylMQySoEEvqCGJyYjC8RE0EoglHQpe/Agowgu4kbLD0ZrOY5sHSDsJ\\n\\n8xHVmsP/epUI6QkICQC//KKNAR3/dSsIz/Ish0CA1Yiu+BiX7/ACTACESAqLezmWEukAAiUIxEkV\\n\\nCzgMUJQRsmiDCSCAFGuCtPC+p3ACg3u16vogNzGOenIKxREMnGAiEJiBU7Ab4LGIsUnTvgo4snC/\\n\\ngtAFwwGExUEAtoAeoXCCe7G6h3DT85DFDjSM1MCvj/CtIAouCWQSJqLJbFobH0CM0XQ9Z+K1BrCF\\n\\n5rmATyuKZlKQj8FODkCJrnk1pcgIX7MyjCA1ZgMLO7GLWhMA7CiRIXAmAHBKaQ3MuJRV1LCcp6AO\\n\\nN0G26cCI3rISDksQWFUAmtiThsGXOkPDxmtF59gJffuO5ViIuOgct8CWggi3yQC7/xVtgDCotRSY\\n\\nS8nQkhr4iPMQxqIAieVowKTYjwDx1Q8CKFIxWbvMIuQRRFhrwdN6ke9wlbvJCAOgAAbYnXRZigN5\\n\\nAAH1AQdBtqF4A2jaGAG4m97ACSLqGlKhFjc5sJrNvrTjDLyYME5ZvNcQGsRYDW6dtuYhiA+rDaWQ\\n\\nBr75CCLyJsMpTjQCDKJUgC5IGECRji7wiLBK2hIpiM1biliQE04LkF7MDigZBPDrgzYQxdCxiDFs\\n\\ngN0iiKhEg4ywnZ7QsOazCEAsCpPECHGBHA7YxANAqx00zFfZFbaatsi7gGoUsCbg1k8aCm3pjYJo\\n\\nOKegCYLArKGQAovIWNRTACfAAP/r+YNlUgBn1QgAyCUFeAQAWIEDcNujeUTG6cEQkovNa1B6eYoh\\n\\nAL3VeLUMADPDOYN3IggaqRHnC5DxfIraQAkDMF4BFAzSdQIWwIvoeApmEIjW2JG1Gh/CwtyTLIwZ\\n\\nsIQXwAQ5OEYtujO0w4n4FYo3GAA0sRPPqUjZ+QhYbYB5RJ23KqSPw4vXUNC7iYUI+QE5+xeD2oCl\\n\\nOCHMFUWs6oI2QMAueDNdfArno42VPSOuii4AKBos8YyKgI2OMoqplTgQY4HmQb/EWRMkEQBEeZG6\\n\\nvUcXjpU/w4igIwp4nQpMWMQZKImKOM79IBWloCEFqQBOEYidEJlTZJ78sAIDwSr/JuYNyPEBL5gB\\n\\nWohEfxWcnJi5hAsXANgA7yraFXHHF2meKgqE0dO3CMGAhrmhN+HToTg+gTBb3mHi14hfovCLtEKc\\n\\nGbiNAeAgRToF9oq0RMGLbSsIipGOIcALCmATn1WYwRgb1urKnZCKaTIcEYBTTKYUjJPlCn2KUwC0\\n\\n9XSKDXiJA8gBA8CWnUACCbhkLwXm47C4MyAwKOAgOQkhqBE0CRAgAQovA4jBLwGEGXACJ7BBL/29\\n\\nDrCQQnHIRPm1qnideeo0ApC1oigINHFIK5kLb3lZnYgLAqAYp0BQxJADOeECSpIRxCFbS4wSh6iM\\n\\nACixRPGBF6AFEHWiPBlfnpIX/8OYgaH6Ei9gHACIxUD5AhCoAAMAgSRqgCXyCAmg40UAAY9wAB82\\n\\nA2f7SsixpgOpM208o3XNE4WWAoTogq1LlLNTCvCpkdaEtf7KmO8I0OV4qgQo36LoAJRg4tC5DrKQ\\n\\nnOOwHLbxMQJ4DsA7C+MgtwD4AZj8jeYYgMFDHWtykDIFXahR1fD5sA8iCBWyjbm1kioAxBJRVgFw\\n\\nkRr5Au54jOJbjPVSCikwPr2tJLIALleJRuloAzL4JIczMpuYMoSsAhLO5p6oLFoQ7LPIFyu5lAmI\\n\\nqpoIACUAgDh5igDIBYKgAnIz1ERhgNqwugOWjrn+mA/akx3RmaKognOEiCOOvv8BwIAeRGQFiAUB\\n\\nkpAAiOBwiusvMcnN8EsDmp8DGowBsABI9r1AsYS/MFlzZRIEHY2+HooXkIBCtW3t+ImRAzGRAQB+\\n\\nHpYOUDuS4UmhWK/Se9KioIQq4LkG6IAwKIgcIGDOgIjgyl9zsStKGV4CAOGhQCQoegqaCE0hAGG7\\n\\nqoJrlA6ZcokAkCSi8IFLNRzQ418mSddSPc7gEguwPRsLP8i1OgVIg47laIM2cD2DAy1FBPB2HYgg\\n\\n044shkyCsILLHQpKGAJ1HArW0onPPQ7OUYp76Qqw2J7H06oL2IEJoJbQyLHSsggEKOUBqIEd/5sG\\n\\nAATuIIgC8Q8HHpsaeYELII7/CZhUw0aSAAAttzKM7qZKgTVwPRoADpDxQGmA4nRCgciAJTHxeT2w\\n\\nI1NVixaLXwMtQSTbfRsNggCfLyED1mYA1g4MA+iG7LAED8k8Dti4CQpwLSlVIxpzAKhFwenuH6Gr\\n\\n/qmYMNjzwSBAIGI2fvSJuNiAyRsACsALCAgBI+uUtVakoTiDnhZowMBVRcmfgjippwABb6kiSg9V\\n\\npcAdBfCCnCifZwcLgqhHG+6A9CiInaTuSlmBABCCHWEEgRB1FuqJdSb1H/oSSugCDEYAkNUcTHCg\\n\\nBgDWnnhl6bClg/SBg0ESI2P1DyuKRfD2TmN0oTBsAq6I0tzUiUgAZAqUFzED/7iYH6UgWjkBBOpb\\n\\nCQ7UIRz0iC39dG87Dw9xa4XBAMzRnCvJIwtJgfJgqYQCVtqINweRUMXLLv1AgT1BEzTrjq4Ab72N\\n\\nmxnI8qH4gnysdtoYHgCghUQskaNRidhYCXRSAAgyaI+TjsQIi5sys9GYMUPCl/0JhCT0qC94qLd8\\n\\nSxFIesk4GtwYqXps3QYQxB0pFN6Uk3ENi+W1NeJQUAAwyBc4gHr8ZcNIABawYKKArAHQwACogDvZ\\n\\nYdgmuDexCAsWCuIYnByQQwXQPwBAgpXovaJYgRrYE+IgEABQEsQOJy1hAN0comL+jQNrxR0wDAzQ\\n\\nCF0ALacYgibw9rR9CSz68f/J2dai441Ji8YGYIOwSJiG2vwdZACWJBsMwjytp5RE5RoJAQFb+s5O\\n\\nz7H9EUqewNadIIA8wAT5axhLkCnAmPk7kfcz2Hty1uPO4LsX4SYpkH2FBjBkBPnQn34UkqnhSRhQ\\n\\nve/ROBAGA4gAAAIYEBDgYAACCXRVUeDwYYMGlmYIMBBgAgEABDJ6aaDAo8MuAgZuFPHFY8SHVTAJ\\n\\nEHCAAQALZ1A2AGEAgoSBAhnkPBDAJMiHProYAAAggdENIwUSOEhyAMmBAC4YPQAgxgGrCRIMMMC1\\n\\nqQGYCABIeADVYIoACSoYkBAiAAgQ4QYNMIIUqlGjDvIaFZhAChsRUvLCrHH/gEAFCUgBGFBodCyA\\n\\nlgEcSAiQVUAIoyEgAKCQUKrRjAIj9yXbN4AAESJAiEBQNCpkAD5jqq21TMQKqAebluYrwSrq0aNJ\\n\\nE7AA9QLcgRmM5hBYw6gVAAMyDAiw4SAGoyIG7nUA2cADASxaOmAjJS6Ew0YnhD5YtCmBARkRZLQY\\n\\ngCpCqQYtHkYhGwBMORGwggMioPEIAAhUoJZARSUUwA4BQEWFUWxkRIhRzwFw3h8gJLCUThY5MJqD\\n\\nB1jkWG+LjSYAfAS8Z4FGCQpkGQLySZUAAT4lEEAGCw7A2VEJHCDAAAfUAKMBMhi1HAci5CECBxnl\\n\\nxUFByxHAQWlQZaQbASwG/9CBalKIYJFuAyAXAARjCZDBkzBigJFRVBn140FffORQH/EBgIJq2+EF\\n\\nwIiRCWfiACv0OSMDAkE2kmzD/WcjaaHlJZxAjGZQyyOq/TBQDgOdKWUAY3XwpAhAtBSZlBk5wJoI\\n\\nHQw0kgQGRTqei5YaxWgNLjEalwiP+KXVSBQAOWMAOVV1q1EG4CXQkMAxYNV1vAmAwGxeJYgAAqGi\\n\\ncNCHD/x3VQLUZkTAcj6xCMAEB0B1AAhEWgVABZFhCQAUMfEFgLd5vTanURh0KYhVUIxEAHt8kdgY\\n\\nQUYtNpKKyN4oEF4cMIpsl94aNN69EFQaHAAQVGdaVKBdpy+AksYIqmiVSf/QmAHqtWQQAnvxyBiV\\n\\njE6M2gHIAQdCRu3mNTEFXeblEwEdMGxZUWuGsKYS2V6wAQEyZItUVgo2hcAE1YEBwAZ5xXtAwb2R\\n\\nBjGJ9/o02mKLxRvZACMN8ECxCVSmk3SMMXAmBU4fJcAGXTEQLwvetQRV2wNFR0AK0k3b9rk5LqXh\\n\\nvW0nlG7HrwlAQUEWWDTBQRAYVNFGQ4K6Y15/wpTQGQ5F5CrpSAXHopcSVgd7AAxkK8COBHDWNQFy\\n\\ndgoAz4zdeu5RbMuLO7oFHTUBkQ44AN5Y8bm0gQVzH4Sksozm2xdwTTFFgcMw0yfr2soWl8FIB5AO\\n\\nIGq4D4nUBWdlV3pGyEn/xt8AA3gm72E5XTSWxgKwIASEgFpqcdsEDIAACGzAJxgYAEYwAD4MQCwv\\n\\nNZDQpCaAAPxcsAIxK94AQCCdDFCgOt0LANwEFakUZCQ6AEgcAHDAL4MV7GZiQ4iUbpURmzHAWwaw\\n\\nQAIMkAFsHWQACNhK8wYSr+CgpiAWyVYAUEC42RglD9CZ03uUVZQPoW9gIiQAzwIwCOlgwALWMU7M\\n\\niiQAfwWgjAbJYWRGIifp/I5zgIqMxwRomQbljwBgkE8OcLdBB9RAEABAgiAQIIAUoAABKPCPT2ZT\\n\\nLgRgQJESTB8FsrNGo8DEIo9ZCtxyIh8iDaRlUlkWapb1GgxKhyDKM9ag/1BTt/xx5jc7yNGbQgUT\\n\\nGKZFIwJ5QFjelSVOPig0icqLipaCELVwhyDeIcupihcAIGQoNFrSCwAy8BAFcIEvQ3IKC2IkwoEA\\n\\nB3kPiJW6ujSAFHCmAlaBmywNNpVKVQc5IWulbujGmLGoi4hHLBb6orjPlr0sZMrMVsuo5hqpEMSe\\n\\nddvhQPbXFBbprnkJYVQAsrAkjeAghwSIlQEusEW/JORDv9lh2uIkHfBVpwIVYIBBPjQArlxkQS80\\n\\nSgqmh0UJ+Icg6hISA+TjACEwkzMZyIg7JzCsz+3IK36RijALJxtc8QV5ijuIt9B0EHO9ymFdhSBU\\n\\nJgCT4U1KJ6ScjYSWMv+SlgR1YwJU4XN+JBuZBRGDXUkaAFzVlOBVYF0baNkAKJMAnCQga2iSakVO\\n\\nA4F9jSyoKpRORrITVjxKaCzVGUANPta1GArAASyQQf7MeIEwHKQDDPDkGAGwgs4QCQGbxYsR/jMS\\n\\nRSYEnoyRgJmqE5yQ5iWUoUzAvDAwkoIYBJjDlA614Ke4vRxggQBgQV8NEIIa9MwoRtsIAPy1Rlnp\\n\\nZyB46cCMSrObgwxMVmbZEubiOa74OEU6nKkUyQDwgpQoABD+y8hipONJGEXGNYJUS3hQOJBtza9I\\n\\ndQ2V2DYrSwF3xpsHkMDXrNIUmEqnegEwjvI8Mxz+2uxeTQHOrYrymtf/KFIzzzzwLU87K5nxh8TD4S\\n\\nGKuW8DKxHBbJKcLxrlmxMlvXuLaIA7ibAxjgAPTFAG4VwFwHiuQAAVBFSu+b4zjXSrjNgsA6AvAW\\n\\njGY2s6II+bIPiliyqhoaDrCHYFXFS2MGYizh3Sc/M5KVQSBWFDNpxI4F45xl9DeQgsnAMnEWCJBS\\n\\naNNJAQfBypOVlKyE2xKqJyEUkkCNKkAuCV1AVQLJACvXV0E2o5kAkEEATBTiFKjlL6+Hoc4FjJAz\\n\\nECwNBXhI0AUYkCME/GazSkkYGHZElfyxssEA2Jr/TqPfZPlUIJ4ZHKM4cwDjAmpLBgnsrUajyLUe\\n\\nJGuCcg1SlLWXAXTA/yccUFICkLBWIOHrZWsjp+citaJjdSwji5UNcQcrITwDkTGScwqOpIOXbJU1\\n\\nAJYASQO6oDDrElts9uEbbt8mkL5OhmtJaa7cmGmw/BXpVnj50Ejg1hIEeKbEAPiBfyVmAAxorDOo\\n\\n8ZZPJNclRwlThQPT50d/g5R4tW0AldmKfremMO99SwLPo8BizqJA/kjqXGodAAsezDWD3G0g4bTM\\n\\nBi7QSAG8OEEssI5ANsAAjJT6OghI3EZyESpGYYsBFsKsANOXlxw0xQJmdMmz4Isv5hhFozGy4wE4\\n\\noKg/rfSiM9ziQM4ZGhAlxSJNPUqggqisIHWFK03F+ZJdOTtlGVFCUP+LUYIU55UOBwAJr5IPtw7i\\n\\ngDyADwRbA0E1Kuya7GV3Th/rK9ndMy0AcAB8LPBM4XSTSqdngCvwko87E4ADbOUgtgBIZAmhqEAE\\n\\n/EAgQJBbReaFFGrJVTbzo+DNTrU/daVyYtEujWcivzZ7vosgcK6qVYgnISFUWD4G2MFhcHDxyOQX\\n\\nUDO6bFU+lpccldUoHA685ECbWvxUjWxM8fCFFexQkxkFBIARLbBBXNCApFjLvQBAAkoHcARKX2lE\\n\\nmchGDjEcZ+DVBnVYRvjPWIRXEQURRg0RQSiSArmE7uCVezTLfkjJwTHFpDiF0HjXFHXVUUDFclRH\\n\\nU/gHudyRS7QMAiz/hwUaBQcsiGiQhYvgl0ZQTVbkVQY8wAMEVBCpywDlTYNdgE8IXgVI0YUlBAp4\\n\\nzg4kRdtoFANo3djEiBBkxAY4wABEiQEEGQdomhTGE3cNB174ixKGwcqZHAq2B5wpHMe0XG/ozmjM\\n\\nB7H4BEyVSUEgok54TF+0xIIwBUKECwMaBWkd4Bw12/UAIRRMBhRgQAJgwDk9AGcIQLqVHICkF91I\\n\\nSLwoYY0EUbLAGGnYhwM0xXVcQI3QoXx0jQRQAa1tENdYAJF0QLZ4kIQQwHYAQKfU3Pb8zAHq22Mc\\n\\nxHikVULBWy8iywHIgLLED8S8TAAZhFXwXe2QxNG5SALEzw/p1XMQ/0APlcx6VRkYpUrHJMh7PVTL\\n\\nCYe3IIZRmMU8ScbC2NgdHcWg5ctIsF8ACEFjbGAOSZhA8BdoKQwTOZVA7MUdCgBMqMveSMeg9Qtt\\n\\njdXcSUADDs16yIac1A7zMIBxXFjhuMa6nUtzSdzwWEYOFYX6tMx71A3w+EeCjIQDHEC8CCS63Auj\\n\\nGABbFJqLDATJsdKQRAZISoWOAUpXeFCitM0RdcBW0OGaXEAC7IXe8Y3JaIQB8FZGhIFG7EVeCYQI\\n\\nSUC7wFRLUNcBHNUBrMAG5A7p5JHfOQqoLEUTriTpSM5RjAUFLhmRhIci4aKDiBoKVVyk9EZnlU55\\n\\nVaTcqcu5cMYAPP+Q22yJTSGFizgWaBiMrOyIVbgKAFCBAQTOOzbSQOQh7Q0ECUQCDXwIOW2hkKxm\\n\\nFWVXCHpYXtRCpRwGGFbAXlYAEsxG0kXdQTTNWsSMRR1FCNyFTjjh52iEZ6xZCnFfM3XGWOyFZMTI\\n\\nXaDPTNGHjHgFppWF4W2Qt2jMTXBHggRRjnCF+nCAEgQAB3QCd3ifQ7LdAJiRcIDAg+lftsSknFwQ\\n\\nv8yee+1Z25hFRbTNvrglBGSHIv1JU/wYBemTlrjOjNVOcPjPVsVZli0RFjlVV0DFawBB/kRT5lWE\\n\\n8pyJiSAHXsRK+9RY4WjVxM3IiDhKV6GVVWTiYowFBUSSJuYEoyD/hVXhCAF4SyZOhl+wCF5kAEia\\n\\nCP0xhk+iBgIknYQZxwZoCIB65QXQ4aZsAGnB5A4MVtvcZ75xwAX9gEU8QLyEG90FgIZYgQOA1ohk\\n\\nB9ZVhwVggChNorf8CFRUY16wBwr5Xo3oxERphD3hyO5hlap0yVPuU6hgyxYl3WnQkxnZm/Ck5Uy9\\n\\nCrfISqCwpVFIVFpWUXUBgBWBkVXITLLYHPBQgAB0m0hWB7aM5kVRxggUQAhA2x3qm/5wwDRIxzAY\\n\\nhZII0cKlTQDkAAUdgFIgRx4aAJlBQUa0Qos6AAc8TwKA3LIiBWdAgbJFhn2I649M6Nzp6A5hJoNh\\n\\nHhxFxwAIpwFk/4GN1U5mRSbTZaJZGaYveclXUEDfeBpeKEl7oKgvJUiwIRhfBAqo6cTF3V8RMYrC\\n\\nhhkcHRFOaQQHvItWGIWxpBQAyMD8CAQMWcGMZFWg3ZhUZISGeMlZeU2+nBtk4AXPGQANuA0AZIJR\\n\\nVIBBTMDMARrhMWpeZEt4DM28fl+cDaR03MVSDGkAgA8IzUmgDUR+wZESpkBQXZncqRRWhoB6OCMQ\\n\\nuSKSdmlYCEF1mMUFxI9IIYAyQoXApgCVOMYAhIHt4IWWbARv2CqgSEAGrMyISEy0RSZqJIpl7IWe\\n\\nzNBIWEkH7GBpVmDsQFDnoEa+idABqKYIUWCXHMZspa1hpYm49v/s/pFG0EghY5xJADAC3fXFlhTH\\n\\nZ3yI+tCpIBBADpRiBWSHVTwtAOBBC4yAChSACahL1mjJ4CTAJMDAB/jLz1jGCXwADJyAsyrLtiBA\\n\\nRx3VfzJACJyA8HoAEkjObEzAE5zACIxACVzQaBiB3IlYBXJVQlgiAcxP7WHgZ0DhZvmSeeIIDCpS\\n\\nrYAqJ4WMVqHJq4TAhD1b0RRLFuTIn7TqXgHIszzzzZFd1LwjQi8BRab7QXjL2L98VRgtBcJygP2lgW\\n\\ncfwM0/5oqfZfe61V0gIJRrxRZLAHSBJA3wzJvixFlpWMT1DF7GFAOuoogBDOciDsFZRaKXmSoljG\\n\\njgwMs/BHAID/3WoN1/3CrFHgwNLGyDkFwBVkr2zADW31RVaBj5lNomV0RlZYhYTR2gEUJWr8APpU\\n\\nQAc0YMQlhM1dif4SAHUBT2cMQBkUQhnoAAtEIwjEQBkAgw7oACS46Ei8F8+0BM6pGINc2UwOzLmF\\n\\nQCEEQQ8MwkZUHFMsVBx1SZwBybTJhhnpADWUQQDkwkCQKhJkRKdkRBnYgA3IEwDcgQ3owCv4H1YR\\n\\nGgCUQR2nbypBihlVhp5qEv/JbVqoF7dsxBXw35xVBE3RQe4WgDIXQAvAzQEAndJZABYs8+Hkwm90\\n\\nggsscwGowBNkXt3EmbqEQDZr8yRAWKhYwBWMszLfQLHibOaN/ws2yop9HFODkMibrVRfUEDiMC0F\\n\\nHFUWFst2DIhLBJRM+kVd9YUCDRxVMkY0TYAS0B7M3GSCDMBDG0BzcI5FIMFBgC9fpJBTnIXccRdx\\n\\ngI8e5VlpAu4mbVKj3FYoKnA+SUdO+GkJAuVPvQSswAhkVBYyVSxDV8a5MQsOlR/IriS8GAUQZMQK\\n\\nZAQVzEdGHBVSnsv+mNXK5CBk7EVsSIBCbITaMAtHTssFLMeadEwGOAi/HAAM5XAczxCkYKDSBZay\\n\\nEBW3VYcVbICCjHVBFGUCYJpXJApVZAB7CEDBGEAEDHYEjIK+EUAQEHYE9IAA4cV1BAAVyI4zSkgR\\n\\nPQhT/AlexP+BYkdAHQDI/MyJ9nTVqc4JaAUAC/wYYePWlnBPaRK23eXLA0TBYNfBk57c7LoEYcMx\\n\\nA6Zle6lqnRntPj4WQykjUoVTBmAaA8gfQQzAJCSzNhdACQxEvQmEISzzCPwOI0CFOi/zBxTOYlhJ\\n\\n1G23MsMAo6mPeBfACDAK30nKkoKPocIRqggKamyEoQYhlozGdMAygn2UJmIee2xdb1+ncCSbYxNO\\n\\n/uwIv3nqTrTS/bIP5rHWRDN41yQWKb2KaDiVhOZQZYYGUisue/PGRqidQFAIAFATsgxHwbwLUkhA\\n\\nTrjqg/tapOQbafgcvuEgvBiE5lbAXhgnurQUVEAAjsATiwL/ZQVaY0EkDAbQ3AMcm3SYBQZsmwyb\\n\\ncELIUGCFF1+cmKsEW/GE+EZsVVaAymOo00AsVA8lyrSsXDnVzUt9HFSggA0otjDc9wDAgWLHAc/9\\n\\nbP4AaicSwP54BnDYU+Jo9mZHQBAsIdOqpJVXIJBQgBoM9i1EyqpaCACQKgpMwWCHgv9xxxwMthps\\n\\n8bksxgUIwJtHwBRMBdn1qCcaBSO4SOEUzDAUWIMgwANkRwXUC7O+mfS0gDKPgK6rc8oFpAdocwl4\\n\\nJgYwQAks8xHsqjK7gVqgqMRYx7ErcyIcwTIbgl6fALIrewG4Qb8YzB4xsbCBJKAJxyDWjgDI0J4k\\n\\nBRPuU2nS/4ftJAjgZZNZjHYnJiWDScgDIAcYcRKTbRCo6JUImSSJs8ENeZNzjFiCuOX5AdaOJEAK\\n\\nvUoKXY7wtMe4VGM8JW5R9/hpTEwAJm3mWQzmyUkaCg18dxi+CKEsdYWEhNOnqryWPBDdjBUKgbmx\\n\\n1LwCdxgLORwBCC4EwISJG8zDn8vTIUZG5AuYS1iau1lBaK1VyAlGqc3LqG5g+fS4K88ARDYBUAgB\\n\\nCPpgB0H7OMJml0ErEY+9eEqlyDyITSFOTUAZDDphe8I0gjYGtqVGwNlw5EghOLrJXthaNkUYEMNg\\n\\nC8O3AEDeR8AcIIxBVIZuwUThr0H68oWUuA5Qns6CcaCN2P8clp77QKyWYxS0xuSuCgjArtKBshOB\\n\\nd5EADDw3EYw8FRxAMnuAZ4xzCRCJhmWNBAxDMpeAVYyzB7AfASxzC8AE7zPFVFrjM68VOZG1Zzhi\\n\\n4zHKmmPO4LOlBdzOqSwRBOTLOyXQoecfv6RV4L2JSAJAbElIc/1HADw0AIgtLK4Nf/GFTUlZTIQV\\n\\noMktkBylPFcHLPEGUN4YmI8GlQJEAAAAEAw8AGCAwAEDBjIAEAAiQQEBDgg4KIDgwAADKjwUwBDA\\n\\nBo0UBj4YiBDAxIkUBeIYaGVgR40EEhoY8MCAQIMAMhAIIMBASgI+dT5kOBEA0QAGKgI4kIDAw4o6\\n\\nMWYE0BH/qMAAUTsAoJBB4UCQDhH6fDjw40ACDyBeCBDiwEEAEAhOGGjBAIMMGQBYcCBAwoUKB2ho\\n\\nZWAhwQCfPhN0AiChRwTJEYI8ZBBnsmQGBCAkJJAgKVkDaTcORDARAd2+JweYmjwlyJTJegYIqFob\\n\\nrQDOJUEvDL0wMuWsPwlYoIjyYRDJlXk+9COZFUQIPwdOgGhXeYQeAMJIGKj65N3vSZHyRR6gIICc\\n\\nigPgiLpXgF4BCBI8KFBgxAAVBTaQGNHChIU8uI/A+yoBgK1OSiDwqgNOuO8IAKxLqb4DBryPEw4A\\n\\nWBC/zR68jwGBPhyBgutAcuonDCDACIIDApCgqoGC8ko8/wBAQMgBhARyCAHfKDjggQeAeIAAFogk\\n\\nAKOtAEghxBUkcAij9A6KSr2BeuMJgwASSACBHpNkAEwGDiDALd1OEsjF8NLTSYKNJEAyqRMjOgsA\\n\\nBma0K7yJgqKIAPcAoIKrqIo6S6CVNvpqICROMiCqKS3QiM6TKhiqMwES8E5CK0GjLqqq2NpKJ+sC\\n\\nYESuiahUDTzWxCKAAg4CoEAk6tQLaiW0ilIoqoSc0kinBCA6oCACyAqvqDIREKgrniBaKkkKMIVo\\n\\nIgrgOugBBt48SjEAaGCKAQckGCADDAxwAIELuMxgxu8uYIiG7JYDwIEAosgsglwFMKnOg/hCgIGq\\n\\nVkQwqP8HEsLILQDc9UOneSOYIwUANq1qyjMHAA0EKh9KQA/JtrPIV4cf4iDG7Jg7KIDJbJioNiVB\\n\\nEihjyq4CDSU0HyKgI5oe+kkgKhEQFC0kMbgqSwtAypYhAgMo4IMBYNSIgSQI/IBAgSnCAIb7SqBp\\n\\ngAs/CACDJBNjwYX7Whhg5w8/kAGAsAto4QGoiLhvawA4IIDRpCQISiReB2W1qKEGcFGgdAkg+SAX\\n\\n6WszjBAzWEiAHQ6quYKI0oW3pIFyTOmhnf+86qccYX4sKQIecWBLjPIYCISmkOo4qbMYimpGkPIG\\n\\nwK3RZpxRyc9ZF0imCmb8PDwUbkUbgBxWDq9OM6sSQCb/POfE9+eUEkrszJOQ6jEphWIkSaGf/k7z\\n\\nu4gw4isAFCC9+YC7p9SpKPNq8CnelDAdyDvD4+cpqgv8Jjl+A7zTbSk2YcxBGMKsAcQgLgh5AH3s\\n\\nMoAc2KQGZKsABkgyAAsc5FGrQdBj9vSDgdwiAmvQ2I0YIJmWrUFNNoqJUeL3EYXUpoDLGohsQggp\\n\\nHEymBgdgykaSRL+b1SkAvsNcQkQYgTJYbgAhGppaABAcPYgFAKuQTCrQ8xByeYV9AgBhBEIBAAxQ\\n\\nqSo5OcsXKYc5iyHHNimZEEKocBfp9AxqBQjbCaaTLa9A7QMm4JALCGUIApngKgT4EAw68B7y4OGP\\n\\nGRgT/4c+wAFE3scQ89kQ3KqyqUVZLwB0gdZZTmMlgdDlADeiQFcENgC7BMACIarAwG5SJyIF0QCx\\n\\nIwkHxpSuvwXAIZs0zUE40BEMrLJfXRLCTybwkY+ICgBCuIuu8IWihwgtmQLBk5c+cgHxaGUphbqb\\n\\njqCllYFEb1jHCg+VUAA7HenIJ2KUVFt0opjoCQRfaQlJ6/AlEzr9bSKgIcDp/rSyyAkEAesx01m8\\n\\nZoAKeIckPkRLQZYiI4wQDGDZYwtbbGKllKxyKX87yc8E8EWagCoqc0NIAh5aqJXhUlcsSKDQbOMr\\n\\nB7gqABmIF0cQIIHOwKiAikFSBXpkHdsgAA4R2GIQOP9xgEJI5jkRiIIMfOKMlqWiBxGJDWzUI4Gp\\n\\nroEGGJFABiUwmUJAKwEVcE0EhPETNSjMFEHQFQJcdIUgpEIyUVBDVCgwVk8UIqhTuAMWA4CngZRB\\n\\nMsQYiEtaVgekjEJhc6gMKgGACMmowWBTWEMPrAkAYEi2MqoRgA6IIZldBCMpDUMTQ8CFEQI44CAd\\n\\nCKgBEjAaDjzgbQQaQS7P1AISRCUREJrOTy5UgOokoGpIswBfBCCSHESCQAeYYACC6wIMcKgABxiA\\n\\nNeP4Ae4Z5yRyOY5DhEWdnIFkU6TtwEb4ohhyJcQBDwAWBCgwXYhUYD70YYGlCLA4muRKI1DBnJa8\\n\\nY4D/HjHEAQ7hqXL/9t+DcGkDE8BNnU6SnrzN6YevUxpCUHVSa36EAc1MiMBSchzWDCULpjnfSfCl\\n\\nTAAoqp8yWl/MEpCmeHnngu3FyAHswqqBtNcpJ7JeVd1CACXIRbPzS1LNeliTmwwAChLSkBfFAiq5\\n\\nnC+IHiHKBixFIcs9ZFI08RWVNsUXJMnMYQKZHYy2QoEzmiouB3HAAAxggWMtECLlGldWFheiTZUo\\n\\nABcwjgDiZRMaIHU5GBhAy0TWFzU4NjN1qGl2TDEAB+hgMkEw7UMBcNQImEKc0q10Ga7QMDXMgV51\\n\\ngFZxg5oZRDgCACyYDGYmAwfkRO+vknE1jUAdAU/8/8QR9IqAYWszGYwklRUgYXVllBkAVre6OjnL\\n\\ni3oOkxILCKIvWcrLAVp0qTjeRwVFCApJ4tM6tZ2gNkA5wn1uoBEHqK0FTI6pdHNbABUgxCXoFsC4\\n\\n5Si9tFktKdg7U2Ubkr2IyJBXKGlYGQvIgJoioDAokEAMlk2ADSQEPW/KyQHAgrOZ6WpHP4wZ6kbK\\n\\ngIm96XQBQMJGbBK5gbgvuwYxLZwAUMgFc9iY48HmdNKIETZ/slAjpo6OT6IEhmC0BtVhIvLmlB74\\n\\n/qwzJhFjet6p87EYBQO9gYjN6OQdso30Iel60QG4OxDhAcAlGlkeeZKSLiAw0XYNRZ7YdXiS/KEl\\n\\nlv8WcahT5N4UqwTAJLtRqUL8h5vaeIdL0vOeem/1QsuoJwBXWI5rgqAox04hOHGwAgLGSi8cWGQy\\n\\naghAESOwro51oCN1QGqV+nI5CDDiApXPTAwCgLaWTUYDShXAn3UtGUcEIAdRMfFAJiMWSEvGNHDV\\n\\n9RUAEALJIIIhhD6JwoIQEcDqmjnpIVRpfDKpJaHFIww5wLXvUwSk5EQnBCLBxBMQxyNshS0E8sDA\\n\\nK5uBOCah5d4hUAm2DyGM+Er9qnmU+I5jJr/iyUU8JecOIAy8IgX8hyZW4gFWgCI6wDZuRAJcIgAd\\n\\nwjs2wJAQT+PsBMKWIiqoTEd0yiJOKXKUZgBcZYX/oiI9yEJXMoJoagJeKulWMEKMaiXnfoKkSO/J\\n\\nqkIrzihbosczXkfjsC9GzkIkGIIB2st7BCLE6KYqpI9YtqIqCql1GmzH5gKeTmJYSgRJHGAo5G7t\\n\\nvtAs7ElC2GcH6WQIrQ5BNqxLcMwAcICAwgj7dGJGZiyBlKA6dGMCdIhZIIILkURpKiohuE0EZ+X3\\n\\nYoMyDEAYlkNhygABWG0OdIAVai2qLkBh6sDSIiAO5kJiAKCI4gAoOqw0FsIRmSAOEC0TBWIyVkEY\\n\\nFCYCdgAYMqMHLvGIlERJeA/4QqJlnsgAWA0RhCEOai0TbUDWZkgyQuEgDICGbABziigKdEBh4IBn\\n\\n/6wMKcijU9JjKFACSQigQNzttDZCLkyAQaxnPwrAAzSCDsSvOMRMQggEFxCEASpB/ABg/vzLAdyA\\n\\nQFwBXz7HLG7smU4CZpbFnHYFAIJOhS5pIKgAIoBAIFYgKQbhJTIJwq6vGx8jjRjMC6vIKmSAfWKm\\n\\nU2iiM+pmWMiCTTyFIKKiX2YEATLofooCKE6jTRAvK1grJ3RwUaxJJ2wsJR7ANiqAAmYwSXqIUFJi\\n\\nhxDETGRAh8JtwWoscuBEDk1jIhxgAkDjnzjFTB6nOhgCmpCjXNAjASDACFIiyVxkNIKletInRzzD\\n\\n5kxlPghAApyQrkqDBUMsz+gO++aJKHIJU2xih/8OQKXeo0tkigUy4DQkiSkeQAIOwJoq4sLOwkWQ\\n\\nBEoCIDiAQYSaL6lwoNRoAABYAToSgAOKKAi2RIoiIBVqDQ5ywgL0hEpKTQ0ugFYYYslAIDgk7QA8\\n\\nEyiEsYaQQAIQARGiIAtCUzsAIA+KSBkLkDtYw64OgAKEzw58IjtYgRgjgBUuQzLWYCKEbxRSxmSu\\n\\nItdEs0eMD/jcLCnWLCU6CV52YC44gHFGAzcEwB5b4EMKoAjQhDqKgNxKxCKOpvvuorfAoHFMIojw\\n\\nEz7jAwFiqwCuQAAIZAyyiUDThH20KzxAoiULYiFeZGYwJwWiwnzYLACHgiRs5ilmYiBCQGqEYsT/\\n\\nCoLPSM8b60Rwgq6T8E4g2ogAgIBubCKDClI1/OpBx6vlJuKUWMpF4ilnPilPPKIu90TrCiahuPAn\\n\\nxmUoRgMFr24D04O0LMo8H6BrvClnVJCA6KSdliXqgKhWHhQbp2vjWOBM2Cd6Bi4lPtFBNY58wmN+\\n\\nzqJPeEYP3Y4sbUUjSsUimkIufIIuCMAu4sIk84I+0EMwHe1YuCSgJGcA2usGg2VihDI7QkE29EAA\\n\\nXMPVJuO7cOAwA4CGtoMBgEDXdAApquJGAGAyiE8jcgLwGKFOcAAzCYCGMlEAni8C9MB4QsAnBCA7\\n\\n5iAqaqCIRiGZGCIHdqKIukgNJGMODGIrgEBV/2noq0TmICbjdQ5AUwWi0CBCOAfgwWLkRL4yAIxA\\n\\nIOIlAIrgBIhAAAbEAwiAPslRLKqCQ0bgBh2GQLBALOjNBYR0LtjsjwZgOpym3gCUBNACYPloRnJk\\n\\nCKnET8FoJyYNK72CLyZgcRSC4k7OYgngVBumvh4ABTzOQz0QvITSmTSiR2pJLHxlZ3IiBzaiYOxN\\n\\n6MaQO07kGvtiM3Q0dqyH5zqMAU7pVEbsC+OFgMZkZYASYgTiW+pGoaBoMb4SdNJD+siCykqVLjFn\\n\\nIJLlRjACT86IIDXL7eokBoiFZMBoJq1IKs4CNMCH2tqSbrLlc+YkKFCQQjhGxIh0A9jCYfQkof8A\\n\\nx5gEVXoqQvq0Ar5S8lh+gHfW9AXphLgQIKloQDamABKQSlQjYApGQyaQoAzqoNaUcSBYUamiYigE\\n\\nhbt6z2K2grQKCACuIBTqANGOaABuKNEwhQCOAToKCNEc4SfDIwMUJg4YQDOVykpmBAgut9ZCAQFk\\n\\nFxMBwBOO7zEIwDYRAXWKSAcAqojKQEe/TChM4gAc4GvjSS3ILQBaoABMIADAsQBOoCoSKo5KAO8u\\n\\n5h6jIgHGUX0DgAOCoksG4I8cRhvvA9wMIB5tY/40sa8IxUkxJ0SY1eZYByQYinwSgiFsgiEDAARw\\n\\n6TS3qkZWwCG4UIcshgCu9DDEKUTyFpfm9if/hyaj/utYbjYpzFN8PhGI3M4AlI4+nKK18PSS+G/B\\n\\nJsLuiKWy8Cye3IslFAICcmJFiuLJqLYi8QU3cOYIkwLO6MJ28mYDIvJRvjYBzPRtRUxYsscsQOJn\\n\\nmGIgzJPJ9GRd+k1yBiV7MK7KKGdyBCe/sGwrfEUCzCPsNgKXWOshzAchcuJHosIBKCCIncKmXsTN\\n\\nSKq1+IUpBgBtnqWy0kJgOisCKqBxs0MNnk8PfGID9ADRMqMjEPnYIiALNDSJ887Xcsou8g4EJOD1\\n\\nMgNKAED1RBPVtEgygEEgQMDXtmLNBiU4okr4gEF6ECCVJyNEkhECnm8KHMB/QnMKvCMHaq32/1h3\\n\\nLfxOwZIiAX7GSutyBO4DD645KgCWCKKCSAaCQIjAOmJJP+5jXQGAQEMAKECGIE7zBswZNGLrBkji\\n\\nAd4ZPhPAAWJLBVhzsE7iAixi7GDmArpF+xastXRCCjM0e8yESpCwo8ysawYCpjoqlgYnMUOklEoq\\n\\nBW2jRqdwJmDGv95kTuakkIqDfqoiKnwwIToiAG5ZT6rEQb+ZhTfSO/pGRmjFKez4bhd1NB6KzUaj\\n\\niFfQ7vpKIBKqKiZgV98JZv60ZTUqGiMiZIMSB08ib3JKPVKQTp4scl6YIORCmWymI+iCIZGjerKJ\\n\\ndgziGuUil9hyIFrWivqlTXoHABBIzciGS/8sqCY24C92oDcUTAJWSSAJQntk2LHmYABk4xaCag4E\\n\\nIDYHh5kzYw5eJF5+jzImZiOk5iOiQlNfjM9sABjuYAByQfh0LVMEIHnpZVlRVTIgQSAiNwI6bIOi\\n\\nok1iM1lv8SpG29QYQAZqjVODww82KDueKCVqbzKOSHO45MsEYOA09jiIA3wLoGpgAAx6Sy4w5QkI\\n\\nBA/YLCkgoGAPgATyDwBIAAY+YASqJQDozbpUYRxPoC8IoGCfgHzdFXMooKNlBCUmZALaTCCs6XWm\\n\\ng8HAgC9wLFs2IAVsw1UgIINU45sTbCJ2FpcEAGTCdSCoDCRwWiyOkABSYyCIM0ck4H1Ersb/Vi48\\n\\n8CIdA+7kGIIvNG2DIWYzapFKMM44tiqnzNgfy9asO0csWUsg0MVhZrJUsutWws4lpFQjvpIAkgU5\\n\\nTmSNkqUnGAKpT6IrTmsoyPVtk+QC6nS/KO1dqeQnjjEwrZBMXOWoCyIqhfIT/7lXkkJDmHAtrown\\n\\nzzzzV+PExofhiBogK+bjdemKenZ0xDDoADOmNK7+mbplMAZKPUaEP0tCMA3EWxFEawAAAmaCgCfvty\\n\\nfAc98iZVC2YiOtFdTMEPTmgjTiPxHLm4Vfu1t+L3buEsvCU8OuD3pqB3/eAHosJdUqEOTsgtJuNG\\n\\nCi0qaCg6HoK4JYMGOoAkJmBC4iMB7CKs/+AFWvakE7axQDyAKgYivhslcOK7QFQgBJSGkcIN2wlE\\n\\nBcAAISzgu6G9AMisIaxvNG7SJLIEAHbA426negzqIcgHley8pe+CX9ZMxS8nLRxgXQKgMGbkCvrF\\n\\nN9iMX1bGN7I4Tl7kxaXZVWRSLZ4ll4IFKRjWKTL8k7ClaMMDAnTGKJIkTcCISiSgmXKSPLAJh1sy\\n\\nAAfCg1KiiGdWLnRVK6wxoZSgpgZFBXGWdp7uLCbII8KWWOhOPikAh9taVZjVm7jH5nKEKUnrrglF\\n\\nYecJ7KJCyAdi4HBg6qyHVoAnAOia7oTGAgY6RyjuaNHkoF/KN1CDfveEmA87M3TgAWiorP9KrQ4S\\n\\nItGDoIIuMQLg4MKmQ73CoxPnBAUmgwbGihVoItHrwIpy5QBsYIu0YxSU9VSdCHcG5QCebw1qrRCq\\n\\nYqyaTwIWHwBIYYreR3drptaiQ7NvcSVu9GeEAOlMCkHA2LRgt7cK5Pz8W7svhI+WByeueRtNoCmA\\n\\nvwVI6uuBv0BIgA9Bg94KxATWTGPzhnDPRzGWzAh2wyucOijIgrvYQyOufIMQjwEqIG9ChHd8glvL\\n\\n5ydsY9vxbsMY4ErqZDpgZnaIJVmy+FdGLOgIgCAT6KgBAoKAXAYeQAgAYEACAAESIAQAQMCBiBQh\\n\\nPhgQAAJDAQwDPIQIUcBHAAYeBrgAESP/ygAVGE7kGADmxJgfKWBAuAMABYgJCDAcAIAABpAQCVyQ\\n\\nAHFmwgwAGCBAwHDhQgZAIRqQGZJpwpQJUxA1+RWARo9QawSl4RMqASsQrfQMcOBhXI4WJCD0SeBA\\n\\nXqQAJuZ1SFSjAZABECQwEEJvwqc/OAwQAHQAA49VB8jAWAHoQ8iUYeqIEKHOhjWgIyA6IKA0Cwml\\n\\nGVgIAAd0kJCmSoO+I3LAhAGoB/iMAnoN1IhBQMMJUFoNAAuxI/QoPCBGHAcIDwB3biM4yB6yCRgg\\n\\nwIColQFXbIPGCLH0D4/NeyAIBXqKb9IRyiDMDnoQSESgGUgYgEMhOzx0BURMEZCBT0ZA/4SDTkOJ\\n\\nlBIEJxRAYQE3eBDAawwxRMARFB4RUkmDHdBChS6YUFhmFZYgAAMCCEBAiRTe4AYHUDmAUggyWogF\\n\\nRS0BAAZEE0CEAEcvApAZABNkcORVHhGAEAUcTTDlABb4NAEDHDhAwQQUMHCAARgF4GIAPlUA5UMM\\n\\nEOBbAEYspBtDE0SZ1AA7SQYRA0P6xJAME4nF0AOEgSQERBaEBFRLAfwA1GQItKkQQ9QFwEJeSQGA\\n\\nwEwcATBpXKgNVlFQoEJEU0RXhXmBk4cdUKRHF5i5qZGEeQVAgx15FFQHENEaFkQHGegTCBtCABSM\\n\\nSPi0AqZjgpQAUg6Q6hGEfUWE0Kakbv8IkaJMHcAUBUBNMNEDIzI0mLUBbNAXB3AZgRoHO3EgKAdF\\n\\nBYUQUgE8SxJJifkUUwh2RpuURztFBNQBcT5UEETeQlRcBEEIoEdpURhcWkmlGeZIaaFw1HAEc8iG\\n\\n6KbJAlBHaXHYtYrJCFwsgBoaN9VcHAsB4AdoPXAXgR58XhcHSBSYCdIKBJgXBQC6GlDaBhe4DJow\\n\\nADSsB0RTgFZGg7eUBsmG1+nQV8ShAZABBARUgGaTQ84swGB2BgrRBwWY8ASnIPk0cFB83n3tEyS4\\n\\nsfADMYkEU90BhFDEK9T2FZPCIZhggq9BDfAsBkwNICgAfgMA57MDMMVRpHkOkAJCkkH/2QF66GYB\\n\\nkRGiBzVzVTggRYAE4XGkHABZPAbBBgcckEBcoB7gbXUpIbRmSgj4VBXQRBG5PLpBZZuRXa8RQCwB\\n\\nbOaGLUK/BgAUlPxqtDwBMAZQN5QCQHW+SPdWe1gApx5AnQSblquwAOAObCRHcZE6wXAgQci9aeUO\\n\\nSYkbU3gmsJDXCOAHEEGJ5ZzXvckAYCgTnFZCRoKpjhyEAO2b3LMSwJEEvMYALPhOwPoikYocKnHe\\n\\n2ZD/QuI+u7jEbyzYHacEkAHKYE50PpmZRwrzAHThCzIp+RErZDMAnEVgFQCATwTkgxzQ6KEQU8uP\\n\\nACTAnyfibAoIIN/5mvInHNhmClWM/4ApJDA0KRaiORFQjgGuEwGuFSKLjsBZEHQFgCqGwgEwcgC3\\n\\nDDQk8zBhABVASGn8sMbSeOJp3QHA1XImADhG4Fo4gwMDylAarjEKADIYigU0Q8GgXKFIkBGThlSg\\n\\nAshcACNSGhH4nuUiFwVlU+L6S0kSAAHZ6SUvGKhKXHQjpkLe6yYX2V0A5pSRhExEKwshAB7Zspa2\\n\\nJC4ADwjPLMkUQp8c6ngJ8c13/DKR5MWgJQdQ1EIEwAFLHQCBF1hB2hKQgQQ8hUggbAgIJ8KGa2UE\\n\\nIavUiQU5Ij6f+UQAO8GXrj55laugkyMFaciQTrKpAZSEmtV6ybL41CtofQUyvGmgR/9K8qICHuUu\\n\\neQoABaHyKpI8pDIQ4Qun+PLLhOhqABLtyzmXIilsSWA4ztNdVQCALgKkwCclWR5SALqRkuiFmlAq\\n\\nCb6eJQAUuM8qHFHLRFjFEKQopigoWB4E+BiTyBxmX0bjnkNYAhQFZm9S+FqIAQzwJ8xJDTQ6cEDH\\n\\nUHCAOIAmCiKhj3kiUJKOxaA8oKHBRjAigFbkyWt/ZWIAymiehwjjr6C5BQDoEwe1lEY/YEOIVhyT\\n\\nR9vEAICQtQ01qygMkZQ2i3C4FAM+Zp7Wck9eAKDVBnyShY8kALFAIRaM5Aq58GgGLAtBWFCow0GE\\n\\nXEQhjzIfQhKwyrQY4AKPSoC8DED/WwQQCyrWXGlfgCIlAISAIyEYzJJS8hiP/Gl/AwsB5zqwqVz+\\n\\nLQUCwYBIrMmAlmDgUMq0HdgY0goEOICmBkBADjZyWBEdDy7LQzA1G9xga1ouPIfyVAX+5BtOVecu\\n\\nCCGeVf7HT5G8kCi/tdZGXoIagHkHVxVx4AplVSqIbAAhqNsQAfDVYBbnCyH4YqBFQgIABzogLde6\\n\\ncYgwctWimAQhgyHqVn4sFjMN+H/FG84Pi8ziqQrryUQZlQ6dbD19KQbJc8sTRkOCrt3CVTOSwVX3\\n\\nqliGJAbHIw1jhUZSVpq7ihFkAqhiD16U3sQBlQFsLE0duqdXQ5fGVgeomXkQscgq/9qgKKXBlE8S\\n\\nRJRnlbFo/x1AokFTMtDgwAFwprNt5tCwKVwKAHguzRxGsZFnVWBTfikyS6EEAKSATyT8itWgeIyt\\n\\nMgc5JFB5yPUIkxGMyPNIEXVfhrOHLQJIqZcAgAJEKCg6uZAkbcvp8Ja3/N8f0lYr1rQVDqpVAaj0\\n\\nNih6MUAhgSev84UTAnERCGrqyeHnDWpeH74Wvc4c7J8dky+4+iH5oCytioCKli4JFeYgJJN7iUpE\\n\\nCvHIA7TpGyPRzTsCQRJcGx6RiaBtWMZ1nwCERYGZuYjMhXpAtxiScojgESZs5oqvp7U6DnmkApP5\\n\\nIk/+ZKaiIgwyRQp5TF4VXoq4z/9JpEIJRy6wKQqQcKsJMbFYAtpSPeEaPYgi1Y9Kkxk7cu86q3gM\\n\\nBbwWhRg0pwxVnEMMGJLqI/k7IhWQgF/noANupRDtNFi75SDSA9h6zBEiaQ1DMBkBYmRgAuJriUZu\\n\\n7JNQR6BncQIK2hlQRR1EMQIoGGgVTVFHUCPuuz3IYioc8ScEDGaaLN5twGLiEAEc5nwlgVxfLKA/\\n\\nFwGuI8WyVEUu8qINwGRTjMc68Cc4lixxykXVFBQC5lRO3jhAlgHAY9YiAqYW1Y3EEw0AGrcy4x1i\\n\\nCiEIkAC3dgnXH/nGMAOQwDdiZyAWOIApLOEICzone7uoPlp0+kmeogITRFEZ5pL/QXFxcASjNrkx\\n\\nFgxFLKTyJztxTAwBAbNTcxORUiC2ejBxEYIyAGNRSHhDOR0BEc+SOPvzADkBAcniWyG1PLQFErwj\\n\\nOU0xcgqVFAwgA1WXEDf4H8yjc3jEAhfEPRwRHh/BYgYAJiHBLxKEc9Qhd9VRLk9IFiRRbBCyellW\\n\\nbAZIVhgxJyD0GKokEgzkbkCxSp2TEqNSFRgQAsdGAELgEYxAEnrhc2pwB2ZxGRkiEa/REB4xYOpW\\n\\nXO3DPeSHAzZgA+JDOdZiA8oBUMPhQwGgBmUQDECBBLVHfl2EHhkAFBugGQPFE/4WQADlCGoQO/nm\\n\\nXQlBAZ6gBhORKT8FE99BADpQ/wbIwxU/wS8b8hgwRD7F0oUCkTb0ZgAJQB1Bhlgd9nc2FoBKN0To\\n\\nJSjkpxu980nLgQCKgib7xQDuNhTVFF6HElIGGF+4JoJRJyRJ0QHkE45BgUzpBhcMAAIccSCPsDuc\\n\\ncygXMWTJYiZ2YS8cZCjXtHJwATk89lHq5T5mRRRhBjSjok+Pw4PEIxHF8iMgFBGHAYuyJxL4VjkX\\n\\nF4sjgUHQwiY+IUEBcIPLgRF+E4D/IUwNCBkTQX285mX/ExJ/MipRx5K5BgA1oE3VMhwX0DvD4VKW\\n\\nhhpAdpGDUjnZgmwAlDwg8RQICSsMoSgOYBclZi03lxjhVFuYcxUJ4BTOoxVWBv9hyBYiPIE8DiAm\\n\\nDwAZI1Q2EDAU4cFzV8EAzzJj+mNsWRltOgcqdkFN5xQTS+kSDUIAEIQAG/mPGDQk/JaVeYAtAgCW\\n\\nPzEmByF7/BdWm+JAtNaT9DJLwkZApAIjtShR2qQ+Y8J1/xh+CPGBVchim9ISlnIvNlJUbPIYCIAB\\n\\nk0JdOiFR3pI2Hcg9degACTBaDBURgDMTK7Z6sVgZ2lIUQDFgk+KGBsAJMWEBO/AiO1ABYtJV4SFU\\n\\nmHIQEXgAE9gXQ6gnbEMwojORCEdi1eKZHwGVxTIZHjGdf9k3IhgX8lNmxTgz+OJATkGQBVYvIRVV\\n\\ng0FKTNcQw7Nt+hMS8hJATWH/Y9VSixgVV8+DEMICPxGRAalYFMX4PAs3UDk3lGRyZWHBjfTji+aT\\n\\nKeB5Ek0FZH0BPByxfSRmQSqJc0AWAzb0bIMxYAHQoEDRh1RyTNWSm8PRi7tyRdZCHb0xPGxCEhhh\\n\\nTckDGEOWJ+EkhCn5ZPzCpMjWYeoDccpDKnfDLw+RkxLGjUfYXXPyHY/xAGDpeg/HPc+iFPkSbBUR\\n\\nK8ViEgx1ORP6UxSAFHMiAIUUEjDiGhDRkQGZlTe3KX+Ia1AiA7HDmE6RABvglc4mAR0gAfIHF+Fk\\n\\nPXdBkA9RXPk2XJQJMH1BAEVHU09Apmd5AEbgE+lUGCJYFXyxKT5xW1uBAs/I/ybTZwAyEH5NhgB+\\n\\nk2wpASOtwhdO5pa7CoFEFCgecSVKwlsMBhKCIj5ahaDh0yt8AhYSsHAWJTqaQn4kcRgM0VXep1LS\\n\\nIozzwicPSBijOURctyFUCJmUCVQMsqsK52+yMowT4CREyIkOWHBksiEkRRR/Mqn6FheJ0TkEt4Nn\\n\\nuiFDOncC+H9jMlAiFpF0qigGsAFi83cJI5mRqW8Y9WD/RDmaSC3iAxYI9l/n2rH6JlAV4UsAQFtW\\n\\nikFgAX/7xo0XKW1Aqa74ekG9oib+V3U+UTkGYyZwgRAhYK85hhfL02HGBnGEMTA7QVAoxClxMWQn\\n\\nwRBqgYTEs5tchlTllxAzs/9r8uJyQ4IBxnpOxfUSLisRZ4I509AQVQUXOcQpDgF1BsCeO4QrMzMz\\n\\nL2imAHc3caVeKWSmu2MkHVmE+tSWIFEVBOhw/mYlNppCfwk+cfVTLSUSf5ImN4ct1NcrzvoRshco\\n\\ntkUkWDcwBvB4faqBiSMlPrFejkMw8sNNlYFMRBSEhoJkxCqv0CIm2OeAA8WNRMUCcBF17vOUgEuz\\n\\ncyMomlJge0IvEIKxzYhRQziqzygSgsK5Xqk+M5NSlwMZVdUq1zIcVbEQXQQ+UiISV0G6GQpQvwWu\\n\\nFfGo+1M9Eqg8C+cS1zOhFisR+8lvJpF6XYazRFIduPgnr1JsqxOMCeAQBjD/ZIbhdHxiABSEEV30\\n\\ngt5rpucDFw4xAPsrGB94ARwQfIXEADXAAPm1A8+3A3tBAQcgARt0ERpJRNg4vSdsJXZBLGH1M0iS\\n\\nK5MBHgBgBSLCAGj7lwgsLY8CAFdQnpLREiKktAeMABewgUFIJhchu5k6PoCRrL8FPuAjOr2IwH74\\n\\nIr3ovN7nPnCLWHyEOejTYaOCo/xJLbVXVOJSJEPhLck4MLtBLd17cV/MxuZzK1OFdYrJp+hBPs8i\\n\\nAVc5LTNxgd2zP+Nnj0YDKivbYdSRXpYDQhCZEHVHUNP4cCWBxHPDGyT6jcckEo0pjLmByP8LGWOl\\n\\nGOjSTwFKtT60l1M5Va+S/wCVM2UtIi0Y8SsaIib0SRKuwWA0AML1snTYRxbogR4tQipdVL1T7CQ1\\n\\n9SSYI3Lc9J7z83AAJFfTxAZByCaHQgC7ARgQsj/CYznqhaarJscV8ZfKV0rEsno/shUvIRIKqzC5\\n\\niREKwUDMWiRKlV4wIiaDzJgw9FZddGkX1EW+GFIInAJFkgEPMH8cIQEyEE8OwAGDkQH7g0PTSnfc\\n\\nA3VhpUNsQxmnwq1vtztfS0hicoFQwTtBsQIGEyYSZQEboHqtAjkFlhnkQ0rTBBOuJxIlOicV2WEO\\n\\nrbMD4EAtzRkT4bAO+0lh1RGT8hCV8yhpIy1HIk96WFQK5L/TlYd/9HAG0/8Xb1Vc9NRF9wIVBYYp\\n\\nDBm0UncSNGESl3MRatNMnXMlMLqJAsBfZiE3bx3WU+oSvVhPZK2poosXOs0TE8VNouKLD4w4AGzV\\n\\ntWl7H/dc99ZFBkCjLTF1PcRJzsZmUIV7MKp6DuC0qeJLFoDIEMKQsCkA9uURQ2IAhSIAxGIBUBEG\\n\\n7hM/F7ETrtFFtFp1ZEJw3tQ9BQpQ2Jo8tUhRwzik2fbWM4YgpDIZlREZzkpiULJe8jwXZ2WmVqGz\\n\\naIWkYoJMePiXjcsRyYi4NlvNZMl4A5ADeqgZpiJCuVY6RRKCD5Zz02g9C0hSX8pJBsI9P4ACC+EA\\n\\nKGAAGaCUtRkANIACKED/SAKGKel2AKd9f22lKBFVe99JGPAkELTFARoR0AxRKd5tUp3DCSRbSEWy\\n\\nA+vEGwdgX96hPmCjNp0RtJZDQcrpZv8X2xXxM48hUSblLS5ekSFOoD8K08ITY0pnLRKAFI9SGJPC\\n\\ntjQrXAc5pSk+qhmk2nwyhMPBmPW0ypLCjw/xVCnhEw4EKthLs0wG0bjie0MiAUHdo0mmdCtxj8uB\\n\\nYOEL0UQpUQyFsZOCmkbYZpnDEGTVE+FdFGLCkXCFABvwAE8hA0GIwMzqPkCqYxSJXC8KKgHAAa8h\\n\\nrRaETL5VTXtinVanMAL5PHzCp3chrtYjZBCxZbpyAG79eI/3oINyqv22/xKboWHhk+JyhTnTKCbH\\n\\nYwD8NTNYqYjlGhlqs4kVLmwCG4RdWCZYR7AJ8X12wRsZh2Sg3REMsMJ+MxiTITsCmjsuriH8Nb25\\n\\nFjgCwxNaxQDFZQGdhy8jAwIWCREdnBBr4uGxswHypHoPLJulfTy8lmvhNAE8zsY9XRhpApM9MYwq\\n\\n5RL/GBXocQATGUIGzW068SI1LeYz0cJPXLkhOrTqKwF9bhQslN3YBxMPRSoaQVCC9pNBQeYYySEg\\n\\nIUES8IsIcFAwwtZ9cYMH4EAbkiA3tjpZli+vDLk3ms9T5crZY3XBo/I4OHTgVYv/NHcSRFYI8ZdF\\n\\nMRcTETzTRzkSVtPh/P83BZoSz0IAQW1dzKPaI08RzUKyEQKes8g9SMqTVSwn/Hc4H4YA/KWVgFLN\\n\\nQFUoFNRdr+HLKy725lpA+AOv8cr3+2am2xqcwmVylLEBq/caKJBSm5EA7lqjttrqIOEIJF6xG7ET\\n\\nHAiNO/BNLMACDVsY+pNuii2bH24vDbZBsWKjIJG45EJNOAsloWMtSBARbHEAN0gAjyAWqEM3AYhr\\n\\nzD5+LFHmgsJtmzJkPOtvSxUV//MpVQUSSV8R+HKzFVFcYdxhGXZOVkVvwwbREALS29ph6kahVK5t\\n\\nLzj0dJol9kMRiXw5e08UbMyTILFCzNRvXgEUqqdhtjet57Q7qlcQv/X/NxcQJgDhQICBAAYECAAA\\n\\nIACAAwsTJkTxIMAAAAMCCKCI8cGBARAUVkCwcIBBCQYUepQwIUCAEAcIAEDIAWPBlTIsenRwgALM\\n\\nAQhFJnQYgABFEklGjBhD4MBDBggZVFhYgYAACgMGvMwAwABUA1azBuBwEUGChSsV7hTw4KVPACeI\\n\\nEIGZkKxCCSfcLpSQ4OXStRR7pki4YWFWAA4evsRxkQCJFjCOjHH4MPLOiwsFVH6YeeFOACoNXOjZ\\n\\ntkWRziYtKLzA4GJTAm49LGSg8CqBSDCSkIAaoAKAlw9RkA2QwepIsgYcIFBYdsCFoSVOeEiQQMDQ\\n\\nlQQlTGSBYMDcAAiQ/yM4sDsAxwsTQSL4YfFAAgorlwJ4QNHAhgkAElSwKF4l7wCUHwBVCDAAOIjL\\n\\nIw44GRChVhCSTgAEHjDAAO0gOGADCCaiAIGpwIvPp/oA8AhEihRCKLOHMALqwgEmGFEhADBg8aKR\\n\\nurpsAPFKfC+hEkMskaDkgEKOqQQQMCnI6yQggAMCArhOJhQcyEk8HRMicCKFCHjJOB/JyusC41x8\\n\\nIIGENFypvgAsWEiigwaQiCGHsOzNIgCCBEq15HyMDUXeDmjoIcMC+O+gwghAwAEGBjhuJAQug8kh\\n\\nRuMaq6A5HVx0OYIGYiiDPquD6YAOH3hwgJaWQsgBgyYFwKYDMrAShf+uEmD1oJAskOgi6TwoINdc\\n\\nk3hvod4YeAmDhHYosSKGRgxAhr2mbPO9B2IzaSE3PADgiVw/qGgqswAAI9dEkE2oxUfBWwkChEqk\\n\\n4AK5LruICF1zbQFLMadj6KBLKerOpITeW3K8AZaSbltrC0gEDO04es/DAAY+4rKGDgoABl1VuMgA\\n\\nDCJrCL/VxNQttk1BTMiE1wYeIQAIkEzAqpXEMiDlBFgYzzsDYP5hqQsygAqAFLbLgMiEvLwoIQfk\\n\\nMxZFAVgl6D2CxqPpRORWEtZUAWID6rJF9bXXZLJAA6osCDsSCqMDMCoRIQKG1spXAtAMwIE4D4pN\\n\\ngsygUtdkJiFY66L/y3ystdje4gIZ8EcBjEyy5JhkwO22tSVgNwBOiyuBaDMz4L/renrYWKD4Woqm\\n\\nslY+IEL7Ng/JxdEBoLq3qXhzWKHO8QaqpE4Bl2Gh0wQAbaAZ/X3oALnp5a9sbdks6LQzpxT0PXXH\\n\\nLqjlIUc1Fs1wZVsJOQYkGEC7AVB4qL7QANgJi3d1JcKhEZF76UMKmkroP/DbBzxEx0ms6MOX6Cig\\n\\nfBJyPSGubQHYXwH6Bz8CeORvvDETb7o3pcJYRACTGB//JMWQRhlkJT6xAPtM17sf9Sk2AYQOTAww\\n\\ntk6J5QEBPIEADCPCgV3rAYIxW0JesgPexEY1VnJRUACABRVQC4VV/ykSn3zFgIYMIEP8WdplNvCd\\n\\nCcSGAILJjgCuYzoiKuQBEgiJ3CayqMiIh0k/0kxkaGCfCwigV1QxCYX25RIETIAgIFkJA5YGFUQ5\\n\\npFc6BGNmOLbCRgHKJcVKy0nERD/jXMRUAHJgQnjkoow85FSZKdZK1mK4qkhkA0brWok+lCMTvcQj\\n\\naZmKvsoCIBmOqSGfuZLZUGQQAyQOQAmb5OqmgrajVc1EZrrQQTbQHiOarizr09aYTJTDfs2kPWVs\\n\\nY0I+lByELE0iDLCARaA3Hb8QoD32EQr6JNCU3wFAAvHpZWaSEMFchUspDNSLscxikQi5zwGbGVFo\\n\\nJNAQk1HkJZXIlf8JAFCEXFELjwFwlwBL+RJ7NuohITJg7+KEOgCMM4IqGJwvTfSmgTbKfYP0yRj6\\n\\nqZuVEOhEJkkArgRoMuSoUKO5UkESminKcFkgLC9CnUiw9BAJUGASKigACQAg0hLICT6HmgkENnCB\\n\\nCsSNP4tSzWmesgO1lCY2Qpmp4cjGqL8FzaAT+U8AUlC47jxEXQOogQHktpcgUS0w3VnUNqGqQLOY\\n\\nZZJPGVFv/ufItEQGeIWriJW6KjgAYS1fp8Kj/95TOl/iaEoJY91mVmfVEwkLh5IJERUvlBnj6Wgh\\n\\nH2qT8QxAgA+pK4bwCwDMIAk4h0jEII3ko1zoF7S5eLRFmtMXANT/pcA8knIAMmgIBIAVUWMtlKEs\\n\\ncclD2PYisVSgIe/ZjQByQKJkzZUAuvpACT6gK50+jjcp25wivWkfqwhATIUSmmywebrNSmoEuYpB\\n\\nW/IpGYy8pAgfGAEdhlnKCFnFjdPr7WEOg9MCwMAD012vZZlEUQYe0EUckZFmiDCCD9ChK1ORE9OS\\n\\nI1ITtNcqDjhBrkjzhAuMbZAJIQjOCpI7mJTILAY5bwFYAIAS5FNQJR6IQBzwgINcYC7eVRcF1gMw\\n\\nkITLJChgV+hoDJ+VqGmQPjLRjZQz0RINIE/EalHTfNKvmlgENA/alk/KphzDXjUhSLqMWbPVr8wQ\\n\\nlC9ZZZcvuWqW/ymG0USSG+Y/DTPLEWZvTktLQOcYuTQkd+2dhFqIoZC8pJlyhrahCZrJKLjo/xAA\\n\\nzXy1Lnz6Qk8LvMQh+mJp3VIWAOn4jIRE0wrATNTkJe2LAC2r3isXUtZw1Wgm0FuITBRCg5UA4Srp\\n\\nAQ8GKjA1BwwpmgOwAJJNkCsYvOQBKT6Br8qmXUW76DRrE+GcXjJnNPekVEIxAH+96dBKEIo37msk\\n\\nIifpkEF+yCQz/TBvrAIAN1xrdCn2ALjGs91Fv5bAFOXLMIFdP6rJySIOle9Q4NaCXMkXfEsqlo4Q\\n\\n4JF6QoBGFSlRSHSVEG4zamrAmxOF2NSr97RnUQ7KwAoXVZiDLP9lzqir82rotULOWJzIzV72QyTS\\n\\nkdBMki+qnI7YViKeEDXE0ppUpgwxk+7puTV+DCQljiITovr8LSQxx/goAXRAH51bhzcMwPK0bJIc\\n\\ncfRMpQbxIPG1EnydSDIDzirHMvMvHeEL0T6ZSw4T3Sf3wZKTAHCcxc/nTUsn5IYmolpb8WIWpc2u\\n\\nqVLp3VKqPsWFtMTpdLkCC4ZW1BlJ4AfayY0ECDNb3hgiV5FYSAICeISKvDMGJnDDzxOCFoWQ4Akg\\n\\nIwAoXl8fCeT8CSToxEPimqsRJATACQEDFjQXmaEcEAtYmGRcJqDPErkPOZwUXwGoJbcAlgwoPQkB\\n\\nCVBQlpfo5fT/r5eMSQxAgkqYT7BxwRQJmK9dAPtERRUA8O/GI4DTu4G9FOGIi0hQdk3y/iUSK4CE\\n\\nMASd+hBfWT484B63SRuluKQJuAJASSbwiY0K8JEziQxAOQx9aaoVWqs5CT3amhNHahAiwRozQggK\\n\\nwChSyYmfOB18ASkqgUHawgvNEACGcx8SkSK2YKvJMZzhI6W+A7vNMpwPMTHLKo/VARHLwIy8IpuJ\\n\\noJepmYqL0RO6mhQmuYwJ6BOF+BPskgu5yQCE0xEHyKXQ0RGHaSaI+RsLyLnQ4YgaYThGeRb4wJeF\\n\\nkxvdCoAJqL2HWYr2QBeEWKaTcCBEmZoLaYrqoAiYYZTZMpNW/1IIOQIAxwMKNOETI7gA7UgBBtgA\\n\\nCckWA+gAkyOeluENChi2AkgCmJCOAriBFmCIECC4XLkBOqiBzdCVJ+AvuMACF8gVIsCAEFGCViwA\\n\\nVZy3FnsXD7iBXCEAALsB8IOAiRMAXSGAFHMBAsCApRgAYbwBLBiYRPif+AiAUWwBBviPAUDFFhAA\\n\\n/CGYgFIBLGg2IHAoUmQr9XJFN/AVAHDFsxkJkcpFmDAVXUGAmsIAAcBHYhMAC6AAX0zHqSggAijG\\n\\nAqAAXCzFO6QIX8xFnFKBAwAwFwgBiJmAdjyCCeAABOgABFANI0IAGFkJtFGIaMFDmJCjczGJNLsg\\n\\nErGIJTGe3P9IGXaxgPxbiPxTk65bGQtIgP9IgJzwLq0gi1ASE0SbrOIgm4Q4je2wDB2RjvACkHm5\\n\\nCDK0DzHpiooJnUjRis3SHqyakoIotRHJsxDEK7kBMT2xIL9DiCu4EAPgEbtZEaBiirRAltwoGt3b\\n\\nnIX4AWExHXGJMDJpPrywM0d6J60oCSfsDvfBFAp6EO8oQ8ygI/EgCAqQmyxku30JDTaxiA65uIVg\\n\\nuAmQq8pBFvf5EOhxiQ1wCQYIAQZAAOFYlLHIjg5jk1BLky/qRl15hc7AkhViAACcGCWgiAS4lhTL\\n\\nlQlYyFxxA2ERAOGEF31BznziPVzUFQ8wCXEsgA/ACGLjL/7/Eb+AyhUXGEVqgZ3DwKeCM4lGW4kA\\n\\nsk7em4B/fMbxKQH+kEhUpEZ67K+EqICAzBUSWIoDILZAI4hooM8ByIDpzJUnMA4l4T2Hwk4H8b3x\\n\\nGcUPeM8CKIHuOMbxiQQ+4QCNEcmFW6IL2MWf6RW5Aba5iqedKLu1HBH2WQ2e+CbJyEmw6RUZIhsG\\n\\ngCsmwRduqgwIgw0tuyDzYR7Oewmb4ImJajkNar6MKAtwLLJ4QoiRiws28RG3kyJOazMBG4hACiVG\\n\\nuRQb25s7aTuCiC3jsjNZ8REdDBwK+MeKQLPkq47qeKp4YjgIQJax6UwXUYnxcE7dowEykYBuki2y\\n\\nEwmrMNMc/2KXZSuUBJAAG6On0DGif/EuS2sI8FAIyOmTy0AISAyLGhgSBEiBdOmJ7PmBDXicRZkA\\n\\nTiUXDGyUYUSWnfBPeJmOdiMnBd2/AJjVAgC/5ewnciqAEUAIWx2BBLDVCPoAsjiA7+SfXKnPFnGf\\n\\nZSQfRXLCXS0AN/iPXX29URyfE5iK9CQ9lyAn0rMpb0EIDHiZI6DPC9jVUpQccwSwAgimhfBV6QNW\\n\\nGJgI8XwXJJiPH0CLlcgAFAiJBNgAggoXIrGdDfI7mdKK5CMeG1GSXtOdX/uiO5saTcwMNgTMN8VU\\n\\noSAQFBmKcKkKfzmIsxQRmdKXhviQpnOR9Zkv8+vBPHm7m/+4wMEJLunhrcIYjxWKoZGwDCurjKAZ\\n\\nG9WoxAhJ2drpKk95uPbiIC08kakoEYwyl4N4MdhhEZ5gFDxkADztjHmCuHLRHNlSDVGSAMfJmSwt\\n\\nopUoj3Mbm/DYSa3wrtqLFN0IiRXqMY4wCQn4k9nyjiF9xOByVBBIgBAgABxYogMwlQOwApOogBmz\\n\\ngJIqoztsk+iQyBHYCRRUyPEsAmEsgNgABV1xARJ4z9AFwBOAEP46gTGwTtJoC+s8Ag/gJ5Qag1Ys\\n\\ntsWQIG6VPmEsmQPIsH7i3AIwgbLUr8qlAMXhXV0pgTFYSA9wuOVVXQ0DAAAMXXUN1ooIoPoMAGEk\\n\\nT87FiFH/zNA2sooSaMURKIEQCICFDF3OJZQJCKDx7L2K6JMTcF3YfZciaEXufICFLAFcsE4P8A4O\\n\\ncCyEMIKAtRFgka3vMAsKzAkXATuzsLiBIBJW2Q6Xma2UccRIRIANwA+rgxl6uowC0oshIQDsET84\\n\\na5lFMRXj+BqgBCMNDQoHKTIXmY62eVkt8pVo6Y+VqAp101M7osoT6Yn13BcQI6UNmiyEw8QYQROI\\n\\n+Rrd2jcPfLFMPQCEnYDd4AzOcJscodpHKgwhekx2GUotJDfV0oqv5EYBQNUpsYidkyrGIoCthVuS\\n\\nTNKKUEue8GDLkCNBw6ol4dr8S7M11iKGCK4MAIKQ845T/0UAK2CBBCij7HzcFeENGXCdUrqAThif\\n\\nG8iLBIg+FQgBANgAh9IndDQYfNwmYSQBAoCgAiC9fYKXfUmx+uBc4UMA3ksIkfKAA8BHnQqAa5kO\\n\\n64SLAKDeayW+zLDkd3EBaMEA6sVXXYUXBkjPFliI2G2BgVEBqWAAZzSA3qUWAehd4ZMAXUmZgCKC\\n\\nhiCLAeCASOgnMxpFFXg9AWhFEmARfGwBCeCR7wHAC8FHE2CT8QwAW20B4pTmCtBgwziAGACrDcie\\n\\nHRCr4dk1xagBhHgA9cE7k+tk3UCXC9ra61CWBoLjRixnkDgjkH4QpxQmFxG5hUiNYdmbC0EAGTBT\\n\\no+U00v/KgIvRjofgGEflIAIYpEEqi9ozy2jBCJoLvQgpqUTDU0DRSofgovgJLBfZvhrZF7N4gDct\\n\\nO8kRlJdAVShACEFwG3+T5AHogJcIaxrWL9j6JzGhjjGZiDr16RXELhwOSoP4QoZQI5Grk4GQERJK\\n\\nmJjEsnliO6YxojLJiI5AFZMhFdNBCD5ZCgTAgRqQTCNQISOogJBEgqvIAaCyE3vrGn2t3gcQqROg\\n\\nCAYIqP4RxiMYSpGC5gMQRhMwgHfuDXdLCGdEAZEqRRB4rurFgd7dv96Fgc/kPfDQlYxo3xLpjRvU\\n\\nVWaFgZMAMA9ACDzg5dX2O2LrXWgejxZIXhDpZv+xv9j/LgAXAAAWoDAZucnVvgxhLIHf0eb1EKkb\\n\\nyE51G4ix4S8x6d0k6IlZ3s9WNIFLuu0PeBBUdY/guDy5FAqIw4jGXYoOQAgLwIAlERYLoKEBgY8H\\n\\nv6DMnBF7araz466i7A0KLAk5MQDuYQAzYVp/84lN3cnvqZumpZGVgBxHIjRSaisp6hocbKvyKMpF\\n\\nMyMZmi3B6A5f6RXgWKEjy/F6AR+IOS4VMtNaQbwvebErSIgUEOuEIIwx0pm/eYl+HByWjkkc/5wT\\n\\nucArwuu8bbQv8yxGqRitIJcyAjGy81msowu6mFOYQI5KlBGCWI6KoEDwIYujWWwz9RIAiAE+mRMK\\n\\nkGwz/wIJG9kBB6gAIwAVXRuS3TCA+qCqIQYAE2BWEgiAFHOwORnFZEsxEsiLT4eJFAMDAQAwE8AC\\n\\n9aPlpaBlAUgx1h3FVU4x800xuEAAV6DVzw3WhTAAXVeBpJHKaPkPLPBVfdbOAjDfAuK9iPlPEyAB\\n\\nXXcB6iWBRpsshUix1zOZlzCBMXCoEdCtFNOnziCRRFhQhAAwNzAUAND1W3aAFIuEwcEMCiC2niD3\\n\\nnCqMV9gVU8+VVFeFCt1ygUWUd0qBoJxS7BkEv1MII3gJARGQFfgZdJpkipAA/waK3qiRd+IoTG01\\n\\nPxwTGHoqDZqs/AvZilARhtqgl3iqA7iQR30thfgByv9BiBWrIMT6rCWJJ7MzEWRxiMQsCyTrefHY\\n\\nvuxEiA0wjMopMbbjojqer0gzjIEkYgAgjA4QGqwg6XBxOBC5lFMZAJmnk/mSk2obps7Ju/BjLjfB\\n\\noofVMV53FAWSK/85l+74kyDPnqJcGW/qDgmAHu3AAUQBACNYFErEiOgwDoR2gKzwLjtXoFWtJwII\\n\\nZg94AG17iE4PAACLAYsBMM4AQBapV+iSxtFbCQBMr0p31gkNQAAAsG4DIP6BABAqkQrteg902ulA\\n\\nzhIYIVccEWkdgcy9VetsWIhTJgBLHzxox+vsCAD8xwDAgKX5vYRYyEmOvhKoihRTR80xsehLgs26\\n\\nduv/ddYB2HyBhGPdIBXYdAAj8B2b3qSJ1goKWIvG6eSILrG9IEMZKZPuGy0JtQ/vopPU+DFSehq/\\n\\noBKAMEDAgAAAABwgAIBgAAADAwYQSCigIIAABg0KgBCAQ4UDFwkmACDhYkEDBhlWVNjQYkWWBwgA\\n\\nEMDSogCYAAgUZGmQ5sUAFClevGkRpsUJM0kSCGAxgMOKEi58vEmxQsUBD1IOQFGxAkwrBjkY9GoR\\n\\ngUwAAzyu1FnRIwOPASZgDOCRoQEEFgIkjOsTpU8JATRmRDnApEECBDziBPAyZlIEEmAyuHBgg9O7\\n\\nB1EykBnAgVIhBjnvLcjigMcECGQs7HBhgGkDAVB0/0j4I4GACyHr7qRgkEFSnxWPFCjwIUDwD2YV\\n\\njwl+AkDwAgYnqCigYoDP4DcGUGiuPTgMAlaSF/BgsPlFD8GLAPgRXcX44ItLnB8AvwB6AhBMBE+y\\n\\nE+3FBzwJAFcADADgJ2BMAQxQHHHbNQdDcCqQthRLCUpXVHQMEmHWgykdyJx0AGjEnU8YBFBEcCUM\\n\\nAAF5AhwwYVkmFkDEWQ/ClIB54XnIoHAB5KAUBAwYcIARRg0wAQMIGEmAAztYxMBBmTHAgVIZVAQW\\n\\nAJSh5VJFEAjwEE6PJWCYAyZVQJ0ACLCwWU0AZACkXEtRF4AFOyFgkV8VaVZWQwfURVhIDcUUUkGs\\n\\nNf80gF8wHYBASDZx6FFZOR0gAG0xNQTURKSddNEBDBEggUxEBUABTU52mVJNAVwlkm8x5EQRghQl\\n\\nFECZFTkJAG8ApHBTFjfZikGLskoVlE2JXYTSTi0FpZShZpkUqkE0BACTq2Y6RZtSBeGklGs5XaTb\\n\\nTj8p9SpTEwmQKgQGSABBXDIxMEFScMmqlEEXwKRuh6PNxYC+Z1aAAAMd8BabsrQOimBvMDk4gpM4\\n\\nEVCcAdyVJsB8HhwQnAuKYcCdSRIUF2JwI3zwwQggi1fBjWMAkJ1wGJ0QnCEAKMFdQRZf23IBJkAw\\n\\nnwkAPDDAjSXE9dEHKhh3E0zFEYBFcQ/ABGMLFKr/AAPIIY8w33DhXpSUggDcWJwLwZkws3AOGFSB\\n\\nUghovOnHiRp0YxFdWoxsTwbNh56HAwJgY3Ak5PiBCyGHXIIAO5hdJF4pbTpoBwbtqhigPkXLYa0o\\n\\nGWFQrkFx5ROp1w5AVa1VaW4RQxJhRNamvbH0qZ4zyTRAlwhSVy1Dan1+7FD7HTsRpU5plLJcQCWw\\n\\nVFAGoWBsYRIeiyeeDAlAkEEHXEWuBIQpZlNbzBY0QfZ/kj23UcPf3j1YB3CQkUxGZaTTS8aWlSrZ\\n\\nwcvNqG9z5w0TZwckYK3uMZ0ZkwH/O6B5rklKQ0xSp4VY5E86sU2mHncBCFDHAWYqXwBCsJigGPAs\\n\\n/66zlQNGUiYBTGAwGoGXtywWwoksaAQV4I5BrjICsLmhOAZRWgGSEBIaJgECDROObjDguKRgIAlg\\n\\nS0CBjiATAbywACEAQAwL0AIU4EGGBkniExJgM74ZJEDikYlrdhI3nSiICNxBiRhx9DG+XKQ4ayIB\\n\\nFglQRIh8rQAnYMgHggMTGh4hdq4bQMycKCoKfUAiBEgiFg7gio8hCyYEUUqASBCAJrYgIQZIRHBC\\n\\nIIClpcACBkhABQRAAQdkwAATkNJhtiWvjMQELhcJCQUGgycCGG53vYML6sIAog2waDMO0aRC5EUY\\n\\n3+Dkl0KBCqqkFTmmtLCFPDkQvC4gL4VQpSJ5Mf8WUTjEq/14JFW84lZQKNI9U4FKm0NBHgFq15PE\\n\\n8IkAfzJIrL7FqBYx4GwYGAkGJocRmCBwUDdBC/Ws9Kd4jvOaw9PTBkGkk2Elk1fEAkqHbPUmmLgy\\n\\nJnoUVovuNM2WpG6ZBfGmQeYUkxaRRiYW9EikWEIA/wCgBk4qk1s0czDkAeAGwaGBWQZAguDkcUMI\\n\\nekJzCHBTHLnxRIr5qXgAsB6DrOAEHqhETCSQRPsU6ASaqaNzAlCgSADgpycwGwAc5BwAzAdoBFBZ\\n\\nAbBQlS4a5EKRMkiBkiAxi/0piaBggExvMKgSeOAVd7vI11TwhKQFRzw7vJi6yJNV5RjlLQYBhVD/\\n\\nTfKgiQwgBs0JAAOiOjyzlCWJBtFqtCpAVYbU1SIO8MAJVHETKh1kKWRRzANGsqgEDAAqNwne/ypi\\n\\nEwSNJE6RY1IAMADE4wyFIlb6S0EogJYW+U+0GPnoOClyrkDJJSR4AQ2CvmKYU/lwXo66rAG8ZZDa\\n\\nsqROlErK7Bwnl4kiK3KZcstywSc3nyTFXlRRZfNQ9V1qteRXANgBTCijFKoQSwIJ4dMv5RWtdz7P\\n\\ndTJ5gFuaxR/ZUoQ2/2ORSbKkUd/8xSAUGEl1zSLegrToLDvhC158IhNnnnQk6gqVXJQHooQKoC2m\\n\\nNGgFMYUgFCilnM0zTVUS4gAHHMAC8Oteigzi/1UYKIEAoIhjJCBAVSzYx2YjIMDEYuK2q9yICB6h\\n\\nZAHwMIBhNOcJabVjALKcY+tYxG0IKKMHKoCBSxbgBgf5adG6pgRp5sUgVB2BmCcRRw8YIIkFAIMB\\n\\nmlgA/yTRDXK5kJ+D84QB0MGwWa7Ix5pXxgFRObCzg1zdpgo2n9xoBAaxmXg6zDPfyLQAOLFZhigd\\n\\n55ckEQ8VQEFzwEBZv8hKXz/S3Km6VwvqkW0AcxLe656XNUYx7iAkGolrApAAgiCAwL07AAqyGSF+\\n\\nwk8iaNLwTVK1UYOoi5OqpWyTWMQQCDjgMO1VCjFPghKPNBt5KFnnKmdy3pu47nD0Yx23fSfR5v/F\\n\\ndkInIQpD2VKYCSSEEdTp2SIFMA2zPBwAQBBdi7HlEwPsYC64DICnrkURvsBPtsJsyZ9yiVZF7dgg\\n\\nPDaAM1t8E+ftDiMeQYGAhYeS7BIKOwzZVEzagqCW30Uu8QSAD2uMKAMIgS8GcAAGroKAWaEmyBuI\\n\\n1gaRdJMW6Cg4SvCZxcYwnwKg7EY7C0DdqDMfEjDEZi4gQRKNU529kUDsLCmOM2/EN7EDAAceMo5N\\n\\nm3OEAAVnMM+8iM109IQAULUALjBBHPXDNYux/WMMEGIBjjCGOLbgJvN52YLC07VE3OSKs3PIAc6e\\n\\nErV7vTljUIrO+FesnuWoCCa44nNEBFaLGcL/q0WLZo4X0kk5KYsqDlkdVRwg2zsnAAwJtRdLVIkE\\n\\nq2QGUe1NQfkY3mzLCVgAU6+It5i2u2a1VwYXwaX2uepR+u4zBcFDAZVYwvLbfNcly6QXAFjAIfXa\\n\\nTy787CY7uwgpjMzOpnmfrWRKp1hTA0lU51DWbgQFhzEA2TAAZfBFrjyK8FhO8gjFUqDFTwjewjgO\\n\\npTDFUniKbVVEy6HV7XwgSbyJRczcvC3dBejORIzVQDwATRXbBi0du52FoyyTvVgQPt0FWkjXrOTA\\n\\nBrgGdTyEUHAISkxC1tnQADQhg7gAXCSas3mVKxQEVeEB2VQMg5hVezxIHLmBQagCToUJVYmZ/1dV\\n\\nQgJQQIFkXpdcyHbcwPdoE0xEkY5k3g7pCB4YCU8xiAkcQIFsxxIBABoWhKBpx3IgXnDEgL08AJB4\\n\\nFRhYCxjoyMVsRqK1BLCBoXTEGlsFRwtcio4YAkRgAAUIQAZAkFVQxwXkRZ1sBmi4W94wjw/hgCBY\\n\\nk3rpF4IkBEolhV8oGFnIC6gYBC7FUzSJBGQ0iVt4C88xi7FJwF0cYUVk3EIMgL8kgJOgUUWAF+4k\\n\\ny0nsBVqMxPDUioEdE65xSk/oxMg5z1/QhCcFwAaARqvkWUMkQAZwD0y0HEQIABXAxOIAQAfARAZ4\\n\\nBJANj7Roz0ZFUyvlzTFdRDSlCgsaGwG4S//MdWPKzMt38UxKnI0rDYZrBIlBsEBtEERBdI9/bMZa\\n\\nXBNadE+QlIuk1AUXjQkA/GBLcAW+SdScDIAEAYAFeIoOHYi9fI8QdI12vEQIFd6D7Ewh2pFCUJU6\\n\\nKaVzUMTX4VRQCNoIeFXvMFYBoMgBaFZXBQcATAAU/FQJHM5QUt4IWMtaBcVQPohupJBXfSJwseWU\\n\\nRQsiylFheFWpDCXW1dBNUBVyoc5TEYYBsKUKjB0APFVNPY+ecJmAUJVtHZIcBQkDzCUCUAABbAAE\\n\\nkcWzGR8FPABUGAYVpAyD2YQE6N0/wgQIGIRqAoBoAgDvlU1X2OS3LRKqHJP9geVzmFg4qgT/WFoE\\n\\nBKWFiwGFXIiKaUAPoFDHD0TKarhLluTGMnWjYPhkqeRXUBxXsOxEYl0mBo3Til3FSWWNc93EEmmE\\n\\n8HjUd3GmRTACcsVTeU5AmAiBSVjGBPgQfZZYYcTEm8WOtRjAikkXfp7FqxgbUwRgk9wEb4qKRCXP\\n\\nQSWYADxGi7BAUhiGQhQjAiCJkySoTLyEhOjkcdiKZnwPcmGWTC6G65QPAHBA8EgKQ/yYR2QAVGhF\\n\\nSuSAQXgGigoACcSR4sXAeXVX4akAHSiWdXiRgISQh7iAhCZF4SVBOhlEJTTHfFwMb5wMQ1iMoQgp\\n\\nrthMEUREmp2IG5rO/1iEd41BqhXACCgf/4F8DAXEkRHlT/AgwNcdwaZA0BMkngeUxWAhDl+2ACWW\\n\\nqdgMCEWYJHdA0FxQgI+aABjFWdkkC1qYwIWoXbicnWAUXgvEAHUAyUO8o4XqEZyIzvBwEqBIH3xh\\n\\nxwECpkxqY+woy2BoH6DyBzslD0FoBQFZ4/NYRFMgiFqYRJC0Ep8ohAFsABDUyaz8CX9skPuJKIgI\\n\\nBuRU4PBwivFkTSfxpk0wFLKJ2FhtSYZlRkddFgH9hWDYxBE6iW8RHe602DOxIFEIhHWKTo2oHEbK\\n\\ny7vtBBBgIENR5EeB3004yQK+a0XWSVMQoEZqDgMmErhIVJDk2/zMZLauyYRaxgOslqYmIf9+ltOB\\n\\nBRABDAMWbKFFcMARxhgJVEKznoQ4fYtIKGGLQABAkgAS2I5NGIIJEICVUIQF6EYY8OBOwEQMvCa8\\n\\nSKsHiBlKwIgHaIQGWUQNGMSMAoAhkMATnGkAaJVimAAewF5vIsAFmAANlGfUYgEotIi3wVaX5MQD\\n\\nuEEjakaqSMD6JOgiuV5NmI9ctGxMrJjRyOtB3ARYFNtQJeWLgRCo9g4bAEAMkIAblFRI+JxP+EsI\\n\\nSSRLUMaHdmpTMMDs7EBF+NAAxBOQCFSx4EnjSg6eveOP4AQDhGPcqoGr0uqbqIpiEGvlAkpv3qoR\\n\\nClibKIqxBU1F+pLyhAtMXRZ1Ju4VSJP/UFCASfQP7XrfcALAIAithY5gSsjWtwzAD9BosWQLAFgB\\n\\nTBCttwhANAGZWrSEqGyUulTvcq0VoCaUphAuWL6EKebmZeXFTDglRnhteM2FWsyj0RTLQhBEkMBg\\n\\nobhqMFaTh45UQzCAEDAFcIZQ9zAvANToAwiAahIAaoHAZXbAnYlfSBZQ3hCPTcIFA3SCRYQBbSBA\\n\\nKrbS4PFF73CCQNlEjTIfojCEEDwuvAhPfZIIVPwP2sQZvPClCeBcghnEmxGdRWTX44UHM+owsj0H\\n\\ndbhGgi6EzfqFvcTYB7YIUXiLeHHJgTxKv7nloAgACygQAcQoS+guAKAAAVlA9DRbmGAW/1rgxEu0\\n\\nCaggxkDIhUcaQeHMGkZqaABQCWYGS4btDkuswNy0GJE1lVukk/bJiRE+x1Z0QsTuRLM8wAR4VFlU\\n\\nWHu1hPRhRzkpRmRkBgJk5gIOjzPdCfhci4uhC9ag4EVE20npxiKDiG5kgFFgY0KU00skhpwslyg9\\n\\nxEG6pED8T/uhwEYF3GseCaC8ZwAMg+tsyp/0p0HIABTcbm9xnE+AhihVRKpYQK1Em1mw1+R4xA7U\\n\\nSc7VJLZwCLGgCwBAhUdEm48h01mUBcdVBQXwxgEIWJ3IhKIoBWw1BAIo0lgYWJw8W42JTpcQhOAV\\n\\nSUJAwJsljgPoCwg8BEVQAUOAwORyxf8AJN3/ZkaXLArmMoBvJWFEkMhbtOp7UVacvFxLSC49F4pF\\n\\nZIBF+NdGP8QApEB/DWgXFsCdHUCqHQDZyEXoZk0WwEQeREsepKbotU4FNK4AvJkAnKjhFAlDlAkt\\n\\nwYuR4OcSQpBiVUWrEMXObWoieYlZWIQFnBTZEMDiVMDi4M9NmE1odAm8dI5B+CNqUckpYgBD5OTZ\\n\\n6KAAoMCf2LOAvkVRqEuQOMDGIoCU5GtspUpe1E6CssRqREqKKIUqIcBpVkDlUAV/yAsKQEGRZRjk\\n\\nQFTkCK/ZdJc4H5EHlW00EStF3BavyAl1tNJHUsSxpiCyCMbAVZcqNbJaEFAik0gSXoD/NG81T3CG\\n\\nQWVKQTDNUEBESKdJCqLWgGEEDsAEb0aLg+6OTdtkbV+We+VKL2JLqiAXDzrJ53SqVGDN3KCRgQms\\n\\nvHiKXzhoiEWLgZVF/1LwhIRKApDNjzEFBdTJAeiGBKAETIAFLDXQBs1OZrAEbx6P5drOTnxTjeaC\\n\\nsJCx99mEukgAAhOABRDinWGWek13EhFNc7jAQ7SIryBTLM+Pt1QAFZGLiQG3ia2bU7oOQCmYZfcO\\n\\nRfhuNCfUPEJAzV4FfKXEtwbFcMvtAIBFkZCEQr0YpaiSV1xJRTSOKGBAQrCGTASPBMAWf1/WPhtE\\n\\nOE6obCWEBNzKiEL5bswEElKKf0VK/zV78+00Tr3mcOSsb6o8wEfGnEdkckJMXVlEye4OFA5i4HHw\\n\\n91FUym0Zz8KA5lObtkBhbx4nxQYYxsLwl1lAFH3RhJJkTWHAhPxMN+yKc44V8neB2OrExGr1Bgl6\\n\\nxDIWhL0cW7sqxrjojn4hhjXThLyQxaeoRBOHKccVd3vZy3FBDlhu1LWwhAUVelAszDaPRJA1jwyg\\n\\nEI1ephDoxnti5o9kBIlsCgb3FiOYhdEm+PnWq4RWhBDARBioG/9YBAjg8RIWRNIRwA9k1xHdBG4O\\n\\nj1Q2hwc8BJckIfV00bJkFwY8pk/C2ytFikk4k/OEI3YfiDr5xKIU1OsgEDMWq56jRP+6Fqtm6JAQ\\n\\nB4U9vyZZSzZB+FBSJAAsbymfHNjNXoSb5FtkKMUF7RN8HVgNwMWgsPng5UFO0AVJJY9NGIrouKKD\\n\\nSgtGdARnk4Vu1AtceIQF6GOOBYA/OvnER3K0hYsEFM/0THkArWCBdRhK3Hy/sq+mDE/3/Ek0fW3p\\n\\nTLpIiJ/vGAAnxHtDUMA8seLSUf0GUnAz6g5DGO2ps8iBlJQspmDRdUhCoN9O6gS9aqSGLcX6ShdC\\n\\nVFzz3DjJVjk9zjOg+LPfBxRLAFmf1MVtuLOz7WKJ/4RB9G9sqWq+bUCZyIo+UgcQpObgtQkA1AJD\\n\\nUMFlGkC/mFvmeujCoHRNCZA1IUD/rtKKh1puia2JukQ4bQv6RYS97oRQjn4igqBUa4JbfxQyCOx0\\n\\n3LCPQDFUWVuG1+IJQUgQZJ2Kt60Fr8/FOo1E81DKFIMgB7S1RJCNa7wZlYwSspYEyQmKkBgEauWK\\n\\nmr/mWBzGhBSpUfd3l7gOQBAYICSAgAABBAYAgEEAAgAKwwAgAAACAAsKKwB4qFAjAQEDNA4gQIAB\\n\\nAgkPTz6EgmBAAgAxKBhwSKAChoIAGHB6KIABgAMDDAAYQIHjSJ4eERwAsOHhAAdAHSLUGEDmQ58B\\n\\nQEpUqNAgAAMDEGAVkJJrRxQafU5FaxVt1QAJBmz1mRXDgwEtewa4ADaAA4cGqSa4/wAAgQPCGh1Q\\n\\nsBoiJIGvDOAWNCBA8Q+NVB4qDQAiZNuPAgwEOCBWAICupZUCAKIxRGjNAiauDeCwp4SDDhMgKH0S\\n\\nIWCcVh+ENSxhsEIGogUcKJ3R48HQYQFcGG3VQIK3CCIfBBAC9tSMAHIctHuhoYWgB5gecECA6ESR\\n\\ngwlkMI3BJ4a7AB5IqKGR88OKAkpDwCOQAATApdkecqA0ASIioAOO0FIKBNBKS0goAwywgDEHpiPA\\n\\nsAkeyogqAwhw6YkSPoBhBA8cOgCun8KbTCO7OptGoxw8yJEikJQCrDTRCIxLO4mE8qinhSAQT6EJ\\n\\npDpIoAf8kwiCrCYqiwALpERLNP+hjlxLqwyV8vChDkQyLUGvHhJBobsYEDELjVZgYAClOEBANwIK\\n\\nmwCo1CJ0oLWJeBIKtA3WNI4A22zTiAONmDoIK7QIOAADCmATIi7fiJSAAA4OmOBODgzi7ZGdijxA\\n\\nxgFgU8iA14rEKocEDPD0gAo2KA0kqQCQAAIMTNXKs6wg/GjNqdwzUKMrOvrxoSMVmojJkKDraVOJ\\n\\nPlsQhJEyaK6imwBgsqD70Lp1gMEA2K+ghiSybqOKKCLgXAYm8IiwoBxT1zABEjBIgAd6NK0301CF\\n\\nwCUBsMQvwtAgNDNWAr1KqDSiEDoXpNAkIiDJggoaTUAGSvOXPazC4kjEJJUzkzv/QA1IQSEODnLA\\n\\nAjsdcOAtyipKcocKJoJAgMEyyIiDHISaUrm4OCFpv9IYuMiniAI4iyP6hPIK1YP2I+DarQI4zupb\\n\\nQzIIVYtAegCKkEDCwCObqjT2oUglQCC0j2ANgL6gNCIPQ1ihnjNSQQU9qWPnNOrqAa4CqGiAwXXr\\n\\niSfYBqiIgYv1LPxrp7Sj6iPTugTRTABSmOg7Ly8HoAONUlhKXsnXyy2lVV/2CjYCYrBCoQxGk3ky\\n\\nAxTkHDWNsBsWACs0mqz34xAqOI9mB0ghh4n6gwskdY1AaNEDQuYdsQoMwIBumTVycYLdwKIwX3xN\\n\\nsxNBkC5wCQAODJCA5axjSOCA/5RiE0u2rEIjqvzRLpVRJoUeYBm2TGUrqaFARh4XF6tkhUipGQCI\\n\\nAjABDIBIACKyAEj0BJrGCQVK0vJSVuKVljLBK3DHidBVFmUVCaRkIz+SAUcUyDWhiGZ+X/nWjwyj\\n\\nFy8NqyuBy5VBlIIqkEwpAezqzmkWBKDkFEg5SwxTR6ImFD6xJjlBaxTHvGIdPmGpL5ARYki+shT6\\n\\nZCAuF6jVX1jilWZZLCgFMp1VAqCYtAxpTSOB1FoEspbUdExesdEIBAiAGQD0Z34BUIIPrQPDCYyG\\n\\nAvvpiFwsYrGJjC6KHasQlAJgnnwV5iDyOddfSmMAnZkmVOQDgHwMFEq2CIhIv/9xlxofsCCRKORB\\n\\n6FobkZK0nfU84GfEOlcKU9iUDmZlAEATCvbucpePHIACUGOKoIZULo1ozpE1EEi2UFUluBQphBrJ\\n\\niwT8QhUFMqADtJnIRGySSABUgFzRuU8etQMSkjyEKd2ZJgMmQgMEpCAuEojLAQ6QgUS1pSgPcci6\\n\\nFEg4jbCQBStMgAfRYhADZCCaz5tTs7wELdMksiFcEdLXAhCckIYGQwBgwVpYcBAHhiQlzBqgrdBC\\n\\nyTeN5iYR1AhROvasbZEueEs6iAXsyJYpToQ31KmAQmA1FYAaCKkaGZgBYkAYOyHmIRl4yh0pxpEC\\n\\nlUhV7goAdzQDgB8cpGNB0VT/H9Niw0c9YAPGdFDdANQSicZHIpzBSm7UBgAKjO6VWTmoViPigUgU\\n\\nwSq7Ed0kFVKCEhABlRlQTAaMmDzNDcM9IMlKx2Szg7hC8FlYegAF/AgATjDQkkD5yMVOE5c0gi5w\\n\\nhaMqALj3FJrupmDCUlbbYCMzCTygjavSCCVTkzAB5NACHjgBERQIqgLxlTN5xF5aNDIIE16gTpQS\\n\\nwA/kR71mnTRSsDnBcTdAn5TcZTY2iUv4FPITlxypSpTxigGUu4MwhKUCR+KV+kQQHbRAbSq1IEzj\\n\\nvusB0xDgBC0grAVi0IIRtIAEAoGAbV6FgBzQ9wQlKAJ/I8rAV65lcoMxwHce/8CAobkEJKg86UMw\\n\\nBJQBoPJN6+vVo7xEyc/cLb8BkE9YQBNH62DvOhyRgUaUNpgDFOzHsNXId9SX0VuSMjkYMlUoLSAz\\n\\nuCgrWe75VuEYgEr1TbEtiepJUIISvnWCRortu01hA+eu0diKIxyhmx0nQi4oGWgiBgjBAdwjgLxN\\n\\nRXNWQSWWNAdBS5EOaPlq2QB6gmigYRGSCuFMNn+UMN9J4AkFKEAi7GgdeJoJD5YeAVoccCRiOgRq\\n\\n9LmsS2JTrKi56yOJfgh9sPKsqezAI3l08B8V4s+Q6K8jrwwtpDK2wWLiulMwRFqyymImQBpsJmt5\\n\\nmA8nwoBJWPoDEiHv4OYkM/8HvgUkbstVHmE7koFhR30QkqcAwODpvoxEKQewTADyIJEwFPUhULJm\\n\\n944UlZCsTCm1ipAckeCR1PygY3E5pEGAYOkjUGAAnS7ACFw0AksXQAWdIQChJECoAajC0iWQ9EPk\\n\\nSEAt/QRgBpraUHwax8350VGkEoDmdrrOhAEACbv2DwYY4axc0WhK/4XSAD73nRG20GBrWaQe/2iV\\n\\nRk2mZTJ58kPMM5keEmkimzzzzzv5Same55pVdt9Ipu8APDMGKbKByrOjHR4imKcCUpPoSusMSCFYTd\\n\\nuUoBOKrB+gIrKDlkBROxgkAiRaBaTYSM8VEIEet2nw2MxF25HM1ECralv/X/tCMmsPQJMNuYcGHh\\n\\n8mtZQXIOKgHYUFIIKPkPFNOrEIarsTueDCV83XitiN4OJLaROm8BhOpyAwYCeeFOrgItErt8y3Ds\\n\\nmpJrAaMZTCpNin1xSC63xBELLJ4CHC/ACYgkIgVlgElj89cGHDcAJQTACEd/nAEYkJ+kDUACfAL6\\n\\nQSpAgo6T6wcVkUB4chKYRb1FKDKzQE8uyC8cwzRcBDtiRoEARC9QQIgY4jDExIFMjQDGoOPgwvIK\\n\\nwAMGwA0mrgBgoHyqxaoGoAYm8AIPQ+tKcCqSTG34Il/extAMbcW4xnJCQ34oRmXQpFcWwu2iyEm+\\n\\nIoyyB0i2ZXBihQEmg4HK/0QtIuVQNCKqfuNRIASSAECQSmdw8oJNbEPU6OaOZKwo/OigoGst1Edf\\n\\nvIJcMqA7voJOgogmRCIuGAPrMi6IUmN+rOLXAOQAkiQBAYTuZshRhARPoIjxEoDhKARKqkNd3qov\\n\\nCINDGmh09qpdugXIOEMARkchsMSP6kwiHsADOm8nfirpAEATr2+BDOcBJuLn4mUAmGbrMAsjMBEs\\n\\nQswwAKD0hstdBuAKSioWGUhmwC5kYFF9wC7ZZCaObOIBbGJX9ItynOIuLMA68CU0To71UOUzSE5Q\\n\\nbiWHpIJKhGISo8HSWuAhMuj4pBBICOY4LgAEQAIHFKgCZkmZMMAhGEg7Tv+CCDqOY5qpOgJgUQZg\\n\\nUbDITEIqKxYPLBKAhQoFJ0LNm7TEaQahe2ZHOohkELxKHgugBIgQIk8gAIpg4lTgCHzlIJ6pdECR\\n\\nBNAiKk6CgdToAg4iX1AMa/5JXdoOz9pJS3Llt1iLRNDES/oDpPClubYQYwIjKFAAs0IIBLhiQR4J\\n\\niiYPQralQvQqI/Bs7VyLIlormpzN7dIL5G4KLU4CzOBoI5TCOoKiiEpHAGrlHslufUDEC7uCel6r\\n\\n3BbKAJiiB7FCIfxkqYDkCWErYTjAAiCgdDrCskKtNHYg5+zOqfDJmx4kBDdCfwwCRFYsXD6IKy1y\\n\\nBD5gEmDyN9gCFLEgNhj/DqOKJIrwQjagCI4eyNoc0wkLB1fyUUsQJpcuB7PqLrRwQCN2QCJKp4+C\\n\\nSiCMwEMOT1gG4CKywkVcg1j4CE5iAEGCp5X4xSJOwNJAUm1uQjkopVZGgwOiagBCICIOoANKgwNY\\n\\nLpOGqGIEoMhqwAM+YATc4CNo0l164gI84iPaSywIQAhKIxew4qhqr0m0QilgsTv6YhjuIoTCYy06\\n\\nwScgYDkLwATswgNgAAaw4BMtbQyOLmqSZAKwhAIKlDkrYiTSSz6orCmrLiX95XYGBz8gj5JaqSk7\\n\\nBkvUJyuAyu4OwrLAY20uZkoywgB0wkNswwGySkGupCMqwCUOqXtSzdk8/yIotuI0avIk7CNrJEov\\n\\nyk0rEyYFIckoJEJEvmaOYvJeSKXoNoIv6YZQOpMKZkcjYpMwAsA2HMUong4/0Icq6IgGmjJrFGNO\\n\\n/og+cCZJEjKQ0II1d4AUl2IrUOUiisKEFiXFksqWfsCPFNFYZoaUiARA5KXeAEUjWsDS6ICAOORw\\n\\nDqI/misPCkQAICCWSK6MhI8hEqABHeQ27zA1HClw/okPj0j4UOUnzqkCQAQCiCIBzpJJKKMgKqA7\\n\\nDCM8ehMrfHNBeo4ttCPaEKMML8fu6IZgjKBbksDSXCEmuM00WKAd9Sw3ysgwDkAQSgMKJkBTJuA4\\n\\n0mgD6PQCTBLq5K1ZlP/IAVgmH4noYhIgZ+q1BuLCHH+nOfBODDPpIPYiNmYCBQTBIo4ku9RIEFgi\\n\\nAI7A0kyAQwSAA+CjYQuADkyIHwnAJgBgbCSuADaszYAHQtigRDjxRySqo471VgJAgMCTKkXioByC\\n\\nRj6jcvZwmXCC5OyCfxinYwaHjyAJf7YOTQbHtZyCgPxKIsqUTM7UTRHguepswypTfezzzzoNSHL1Gl\\n\\n7eySR/ADOsbHUdPCVJQQai3xnOTjLiAgNPxiWULi59DPXw5CD8UJtr4GA16oJ0yoJeiMSUEOES0C\\n\\nAEiABKKKzKZJPujAEKpTgTyHBDohhWhxJExgEprFTRWlMxaCBEzASz7/wNIKru0kCQBUgQQ6JXB2\\n\\nRjQs98zWBIcCgATcoOUAl4BKIwZMAA/UMVzYZTpQwxAqIXC+B2NMwwEwoBJMANagZgdI4AnsizPN\\n\\nZk+jESSOQ0/0yhXcYCca7yA6YBL7EtUwSSNgwNI0gg6acyqUxgRMwAJgwwKyMgsUYjVELAxGQ0NM\\n\\nwA3SryHkgyagFo9wpRIys5XUZ7y2YgN4owyxIgRMwBXSRyYSwCV0IzVmggBms6AC4HIHCAAytwDO\\n\\nSy4fYnsLgAbuQjcEOAQIAAcmonRcoABuwMj8UC3+EDStYibarLBmNaOiQjJCp5Um55xsmCRbqVnO\\n\\nAoXL5Fu6hSP6o2oS/zVrGoOY3MOP9shL5CU1ECbz+pZbOIJcNOVYtcMgAIUsWom1AucA5sxFtGI2\\n\\n7MpTT2llziKFYgW2MsIgYGV39kYHA+fOekRXvOIOKYBlFIN8i0gpKiC41KJjSmADk8APp40DQVEF\\n\\nGnQ6QqBSLS0RjM1AKc4EEEIpLK2EreIEVGDiPOBIbkBztaQwCcADNpkb70I9FZmEK6FFeWvinmCE\\n\\nC6AICMANWJkIbgIMSrkFgslRpiMAEmzibgAL7CJSAsDSVCAGMNgFchUMplXhQhhQJgIJQNEErkQ0\\n\\nhNmfaJmXL7U5OhYLQJUOLA0G7lZzUOCSVQAPivkJPCQQ/3jiiOCmLP/NBTqAACagAxTZA5B54jTS\\n\\nyKSmXjdj4jRi4iRggl0gBLJmttJZFeoqBIRZikpZBejAt5IzzzzytAArj54dxm4pRghJNgNhhBTgLg\\n\\nkgsAKkMZIicOBkaCYgugBSag7xTjkqsNFluIojCKQwHIJbQLYHAMFmERO6o0o8o0IxIgI+iDZCM2\\n\\nB8AlFo8DQ9YEAS6GqGfDdK0nr9BidgetPbpC9dpIIUzymTBAU9Bi+LACYmZYLaRSKLwQhz82CyOG\\n\\nSIyzS5oSLcq0tXyiJw7gSDYgKPgSTFnilb5CSKZCnmhSS+D469QCTasHz8p0NTTqJiYiEjaw4zTC\\n\\nAlm5m2EDNjp24rr/sVvSmZejyiO6WX0ye+IaFACoDaMCCie2sbFbgMwqW5jxYCogoJsn2NIOIJQt\\n\\n7QnwI7YtLQn2lFqudrUpjrLkhdoiuwCIoF4x2LJxjakqABSxL+cu8qRl4rgnDgzEAoPBVQAssATY\\n\\nIgyFewOxD0BwobELwBAuaIJHh25DGQ98uxt7WEssgNr6uQA+YLgrUijibQBOOxJoCRSTwC58uwDw\\n\\nQMR6YoKjxgKxjwCoLZlx4SAYoifgGySoDRQnriJ9OxKAB8JPetXuKGFQwF1Q6aASioZHAlhQDZVW\\n\\nsSkAYAFPaW28qvbCRVWaJK9hrKSchM6CtjPBQj1bxqA0ggYMci2e/+mtG0jrnLGHnGPmNAKxtahl\\n\\noTYLneqqO0YxJkJ9PGIwwK6HvsZigtaPCuY7zOPGueVAADtO7ZI0oTJWQEMJSuqc9Eo0CMCjG9u2\\n\\nHbmx8cBdRrCxi5PzxFu7AcAVPO2cxPvhAMACP22/So8G4HwDo0rCN1AjJ+IVAv3hGhsLDuDON9C2\\n\\nJxUtGB25NcLhxPsDAmDTa7s0zpYiMED+InIhLqBjG0zUC+CeX5viOiKdPUBzZAQAKi3QR4ApA/0I\\n\\n9pjAOccQ2tnVbbs7WhQAKsHTAEDYdd1XegLVT+BIOrYIBkCkN7AbD2qSiYS5CWCQYztIgSYAJvoI\\n\\nelMDH66UO87aJ/+OMRbP0mQZQvzoQAaQCH+t1HEqr9YDxYLp15ZlInY4irxEkKYmWNTm7l7ojlR2\\n\\ncPZmInAa4VE4Nb5DKzUnLtPvLu5laQlDcy6irG7ixHzcN/jEpXkjZNwGiAAkA3yLxNZMpfDjAiTA\\n\\nAKCkStZMS94CZ/j4CzOD/RriRyAGTi+RXb5jzdbDGTUCAzLAJSrCebAE1UfABE67AMZAADLbwjy6\\n\\nBMzDoyOBBGL5AQDaBBT5A/AE1SNBJAzUBUhAwlEA2gGgTAmFAKzvA0xAwqk9lF2gCBibex3DAjnQ\\n\\nBCLb7FnZAwIglE9AFf5+jeZCADzaBcYgs88J1d3dQDtQ8Ivg77v/ZQdEDwMuQO1BIAaE2SM8GgaI\\n\\nQMIBBr4lQpFJ4Ej2Ue8LABe+viAg0gXiXpiVWpFJQa/mOZRLYAz+vtTD6CEM3G8x0gPS+QN0UiNA\\n\\nwdKi4auFGUDovggcmQjzhdo+iwEUmbAcvwBcYAT2bwJQIHU7rjpGMEeSGQZKoBqqXvfdnTUctuTc\\n\\nTl9MRVXk4wHKECcMAlTiQl1SKWtQMsmSw3IQACAwAAhQAQAATgIEAFBoEIAFAgAgIAAAceEABgoD\\n\\nCAhAYACAAxQDBLBg8IBHAB4DINhoMEFEkCQBFCQAkmbDhQcEEqDAUeQBnwEWUhQwIOPPmwMFolxq\\n\\nsCjSgUwHDBBJ/3UqSwciGTYMYCCDAQMQgyL4GXSgyKVKKX6EKlJq26AquYY4ADLoVAMag1YICsEg\\n\\nBIhZDJLkqpEBgBMFChRBQcBDgRsmMoxIDINiicRHBoBK3AJkEc4hEhcoCEC0wcsFiAxEjcWgaAqo\\n\\nPQAw4ICmAwCox4A4/NiECdEEgh5JDOp0YhUHDKBG3iE3FswQJozhHDTBAQEGBDwvgJxoksQkDDpO\\n\\n7CpH6QIf3CROgvJzgRZSHwgeQIEzgBzujwRQ/5iCwO8FmDDAdi2U9UFidGx1EmoFuOFaATAEcABi\\n\\nBbS2gWgkoVYcBqJtd4Rh070XVEdajYeLALiIpgpKiX1AxUBIBP9XDWcYPEACZgEYctxRwwVIAQOT\\n\\nYDaBAQgc2GAADB5BgAAIEGAABiKN58EFDKBWAgEUetABf0dcAECK7w10YwFLSrARXBUFZ1BbSAxk\\n\\nxUAduOTQbFgtiQBXGyTA0W2zhYRXAAyoCcAGhh3gJEQSBBfUkAb0JQGRCAzgpFoCyImCSBm0lZxQ\\n\\nWVH0o0EZoBTqUwC8CQAOSDllZlYMZDcRShB4xJJBs44a6ANBbXqqWlBRYAAF2F2n0UAPEACRYQIY\\n\\nq1BCBkjlUlgGXBCUlwBglaxKMlFU0Q8gJcRAmwFIu5BIBswF0bJC4XVAAkVlkBAH2HWi5wQuBTCA\\n\\nnOOpUIISBHT/Ai8FRuJiUGgQVoCaCVA41CIRnA0gAZIlkEAABBSa4CUDFtARFAOJucABaoagdBsG\\n\\nJI1XwAkUxHDdAOOdYNAFUgZHYSQXGMBwAVdaQSEdLSRmAgMeJTbCQGVORaHLRLnnMgDjfeCAQC32\\n\\nHKC9HKMnwQChBtDBki3am0hiuCiXWAnWEXDzCQLoWIBsBt2Q2AouESWtAOMlURZlK1CUBR0CMBBA\\n\\nxy7dbAIA7o0gtTIQBHAhegqtzCRuPg8g9QdBoSD0QFOxEDR6JgEYXpaSSnCzBwzYmJgHGMTqdgFU\\n\\nYJnYDTVIGFNgvBVAQgATHIxk5FIbMtV5lANwowsiFRRABh0Z/zTBQH05JCkACQR3W65VNUTWRntV\\n\\na1D2ZXlJwG6lDisBAK++SBRZXopA0W4jjrtmU2uWZehsJ0mgZ0OkjYr/QkJwhatBgVLUw6CyFqEw\\n\\n5FVryoj12FWS21xLLJXSU3awcpTGQYQkBAhVBQcCEoPcJoMKqUgAYiWUioRwKgFg1wg5oJGiEIUh\\n\\ncxmfR/jUEKK0sFIb4IogKvCkmShkfCZLzAlwNxDRAEFNlAmAkUhgCBL8pgAj+FqFfhQUDhgAJZMp\\n\\nwBNOggECVKIIABpBAHr0hJs8LAA3O47LJAQDBDVlTCUQiRSJMJUshicAUozBEpn4xKEJZVxGqgRU\\n\\nnri0LMomD/+VWI8dcWGCMbkoJDlZSIsIgAQVJAYibSxAJYhISAigRjUg2REAxqeR7EixCAt54hEo\\n\\nAAEBUMABrihCjz6AAgioYmxjPJ0dScBLyrxvJUGRIhgQYEiKcOkCArjORh7gSwGI5jqZHNxHniib\\n\\nBEgpI8epgACyWCAERMpM0MtlAUJAHym6AgA9ogMKMkmCIrTzcgSYjpJG2AEAUKAkvyPKR4gIqo9k\\n\\nzZUJuaeC7mSQlbxshJLS568AwIG9SEovQIPKBDrVFAMUZC8BoMD4ICJQcXWQgNkJypkelpCQLERR\\n\\nQZHPVt6XHQaI608C3QhZPnqujZyLAihMYUFk1Te4DCYBd/L/SHIu1SyXHAAEEJkIRwTwg/GFEwBA\\n\\nCIqpMsAAkERvLSgoyVay45HsNGQACCjXKKHikb60ciQiuWe03ocUjKDkCaIRTSI4epzgSOVyq4tr\\n\\ni4yUwomsK1kCMJJBCBCDHsXVZUYKjpoOYJgY5JUzPFldDeG4JCPhIShZBEkGMnmAx8b1Ax/xCEQG\\n\\nsDplBWBMbDMSHTLACEJaUq9Cm8BJBqDSNqoAADfLDAAkC4YdCICau6uQQRKJHijgZQCJS0gWBQpH\\n\\nQQggBJGAbQn6xp9IHOC114Vti+hTuaxkMgAcMFJrhHc6PjXPAQe6AQBuWYAjtC0xtUEJajVSMUPx\\n\\n5wMCYeej/25ylkxiBwBGUkgWofda2IKWaSdDyQBIkhKoGuQH79OK8eILvZbcxKtnOYpZroiXknaV\\n\\ng7QSSKXGh8CwcMQjWQvKFQnIAfhVhINyGkByVHKdjz5vITYdUVlEu+KbKFaE8HtKFipigAdIyiQc\\n\\n2QAASSNbALI1O4nq6UoHyxSkhOrFdyIAAxIwvphQJG9L+klfGNC8viQkBMkUyvI8MhUIAG0CviUK\\n\\nrtoEgCEthIQ/SaNoQkaH7d7zbxAigHZb9LqFQAl6V3TA6wiQADAUOK6yOQ5bKCJa98TVBIA+cHtw\\n\\nOYDX2mu33DEIFV4HaO1WRkID2QhlwiKAEMlG0IlpipQGjf+ehybvI4IF0BhScB4YiJm8OBMAgMoo\\n\\ngDElwXj2ilWpAYC88RBhBbCGLdtgnYQxjcCZgx6BfMpSKQa47QZEEc1XCICaaPjNXsszQCYrILUx\\n\\nVKpFDZEAe2UzgCyGwDDGridw7DIIgzwCABc4DqAqIGlAg7vUsK0Mb8bgwY3ihFYAYAFHzJLBbv1k\\n\\nXfYSKa8cUpayyAQiHfxfGChCZ6K1CTsqFgtIarC+AMQghKR5XwqTpdK6SDDI9craQggKFpl2aoRZ\\n\\nKQpXKEDQhoyFgCM6gHxCAJVJSeUCFSDA8hai5IFMtM6p/siPsMKAgjAgUzVpCmOXhPVstRgly0tA\\n\\n4rjiVvL/xTxbS8IIUbASADR3S8sRwfEAhAC0HACKKEF9GAokwAAGCOEmJMhkYiIBgO2A1iNjasF5\\n\\nVPCBysPgAzCgEGhVWKlkJaCZQfyAC4hznhEAmcMGIYGRqLNqkVKICFwrgAtOKrQHHIDgjDvOCDBv\\n\\neQ84SSQV6ZpFUIPK88weAGGomGgsP4LLe0AIyTrA8ixQgQG/9gLLg/dEBfD6AQiWIlkiH/CVnOlX\\n\\nUYgEAmAQhEZfgJBNgAOUkRoqRQOD5td/BCUoSqBMCm8IdIygFSNQf+EQ1pcYg9EichIAzkYXfBUU\\n\\nLfMgxDMVDxMcFwBW/QdrH5B96KERy4d5I9B8JWAQiBED/3jBUC/GUEFWdBCBAQLwACyoEPVSAYUy\\n\\nGyChUh63PD6BADXSJykxcR4xPn7DYmJhLxdEAKvCEAwREyq1UnKiJ0sCF3JCZUQzLO6jFQ/VEH8y\\n\\nFDdxEivFhQZgATLGFIbhcfYkK24VALfxhX7TZBDAawFgBATUEHgHAEFoGLsCAHB4dV42VpzSPDho\\n\\nQwdAA3TRJw/RYETBZnYxEFF4TxmQCztQQ81CBKszNE3DaAooRKW3Y8kDb0FhAkVQEX0WJgLAfh5g\\n\\nEpl0AUHSXkQGYnSIEh7wWh8Aa360JFk0OKF4YJEXFK+wHpkWHBOBARvwKh2kahuYalmEBQSQigfW\\n\\nAVmEB/+XUxYcIFB26BEYwDLgsR5L0XrLU4vYdnwAlhiodBYAIB+hmAQbkQB5BADsdyVKlBhXoGAH\\n\\n8gHfdkXCRxE4eHWKAgDOWADsEYowgFFZdE7jshEDoCGYERzYdmAQcYwLYUkuMHZG4gESEIpDI1IE\\n\\nEFYSwAK7yI9BoTaJMADE5V5VE4tU9mIHolilsnHFMifVwhBEkjcAUE8AIANCQVtOJRhkqC0lmYR+\\n\\nk0wMYYc6mUB3si4skBEZ4QDIIlJ50Sc3wScKsW0CcDV8shIniHR1wRNLchJUoRGR8jjiJ45/xF+t\\n\\nNAAVMH0q9WIdNFEB8AArIQA78BMYcEUSYB4CkAPXsRb/HEF2BHQScgIBDoBCDOAAqIIrWkEVL7QR\\n\\nGRFDX5UtybFgfjMYSNYQRhAUVyBaT3AC8NEX9QEhteMCsXIAdgRqKkAtRHACg3OBo3cDdEAAauMB\\n\\nFih7V0QDrwMBcMSHYvEEHiB5BgFXUIRtBQAVSiAaiTMmSENZALAZayMAbnNbQjAhEQMXJ5EQr9UQ\\n\\nBPObAPBEkTAxISBYy7kpJVACbiBlFBB1E+AAUtMjRSAAfQEcb7Vv8AYAMSAaJAACdKFkPEGcHJdY\\n\\nB9Ax47ifiTF1BJBFOAJqN9A8HhAJgjQAFfg+tVmbCAABRmIAR/EQDjEeUkQCE4UAz7Sb7JmQBOGf\\n\\ntiMI/4Q0WAZgXAcgCAfQmg6xHSdgAXBEEJZ0A6jWAuAJoAqEAYzQcSO0PduzlnbBCQNhAUHBCRMQ\\n\\nHFNXEgohUB43LbTiVkUmKWABcH+kFcmBAfckEFE6KojpFy8DEc1zE0pHEWuHHV/RcVFIaWaRcSlE\\n\\nK4zWFArBhViIFPMTc+HyEWAoEAmAAYliPWbYF8glEm62E1bRRURoFSU0KFIHEUfqVDgwAeMzUeSH\\n\\nPFp1j1KxdgEgiN0yJ2xGW9UIARhQlDLGFVjxSgGgBKHSCa8lIAIgm1DkfaIRAwHAmwUwEUbCdNEW\\n\\nAuy3LvxRAFcUGwjweRCyEjfjNOOBSh/FgeDBoe0VAP/HqBDjMQJ/GX6XmBp+E104w6yJEQKxIhpl\\n\\nNBtZ0Y4BQhHDKh5gkxSFlkVPECivxXQTUI1BIQjW+BiXhAEgIV6486wPcmBSo0UskRLxikoDYAAC\\n\\nNwCUcUXuQTxQsa+KERxZFAMf8aokRCsUQCFFcABSQj478DpCwILNQhbLkRg8ZSTS1DQGIbDoYRD7\\n\\nukXjEYJ/QQCTGQBqgGCpYS+fFK9EIBJZBAYPmxgxQAAkUAIe8ASjBZTWQ0AuRStTcZGFVxUdVhcG\\n\\noaRNRxE32RBGRoVx6HFdBACPOBsc8AAO0DdX4UFbwRIhZHQQxyx01yQ4tlKfhhIbgQC4UkoKoS4i\\n\\nMbX/S5GTUjpWyCUVNvVfYvimVHIvd+FbDOBbgCKTMnm3agEShoF3aQU92RMS6dY8gDoVRqYQGPEw\\n\\ngkhKyWNCC6YnDjUBhWdDFwEASsEAUuMCRVAE6wgAAuoCWMB+LdBiFOICJDBLACA1STAGshsUqEEC\\n\\nMiYaHpBGI8ABFbMUsjIAAKK6vHs6jdExY2AyRGAYvxsR44F+tRMe42G7WVQZxmIVRVG7Y8AgDFc7\\n\\nxjoBq7a9JJBFQ0MAaTFYY2IfaoEaqmsyACsaRRBEeXcfA5ED51dnBHuy53Eyryg0JSIatwUR22sC\\n\\nUhQhZCdC4zE4xPcyLeJUQPZE1AFy9EsCJsNwoZQY/2NAIbEmBMdLdjVwJwXxvzJ7TtdLPurbIyPg\\n\\nERHsF2eql05xdk9RFmeqFSXbYxMnFg1hHvwrEys2ETExcjEpVTVEQAzRQS92RT5hLINlU63IlBYM\\n\\nUgB0JlDBwyuZqfuLhBQFfKI1AEbwE8aChooIKyl1EsiioAYBpONoEEY2WtpyT18qKVOHgyuQZH/K\\n\\nhYRHKX+XK1Y3EBTgJZk6PWsCVBiRQwnwFSiRAx7BExMwdZamV8VBa08ApE/waMnqCtp1Wd84Th8h\\n\\noJBWAUais8lSxxisV3igj9r1AWPYjANhWRxhWYaiXSTwKmMaAPuoV8cXAOw3CWJiHxPAyQv7eykQ\\n\\nFP/JvMoMBzSUpF0Iy0zapV4JOCjgem/XiY2hrFceYC8rYTIFYhBX4Fm2o08eRwC2HE0U8URJAFb2\\n\\n0kEHsMpF0GIIsAGh6Mtui3DcIWnElBjIuAM0wQBjEQP93CDJlEmiayRKgBIhYMwmcEVZVAMVsYRO\\n\\ndUWNmwVBCCcGYSoW0CwSUhYOkBxn8lHjklUBwAIFZWIvZkJHgXFr0iQxEXUW8RNF8TCMQi86ugHy\\n\\noaAiUbX6VGVFlxI2QYV9MQEKUWbJCxL0wYdBvBEWwBMdcE+uNDCJ+HcklnUlpScSgINCKgATpdRM\\n\\nWQEksQFgNQAOIAFCcBsTAJVVVREnIWZzSz4v8zL/g4iI3fIjQgpwfHsRgOJkZK1gABJXuLA5uxdX\\n\\nLWAACQBUQdSbH6F4Y5M9/mVPeiZFSRBeicETeYE7kmJYosF4QaFniVEJJZhYI/R9ALBuBmGtolGR\\n\\neZHKGyHCxxEyC2EkDlsBhAQ0sA1FBDQBpFrIw4DALHcA9eRJenUDr1As9RZXIVIZDqMWOCVYAuCi\\n\\nuJQBk80ZBEASxSYaeJA4cKt+BZAID5AQErEmBpBZA8B+RUoATxSCKKAQfFIBsnoDyVEv1qRXKqAx\\n\\nakLKjoQSAWYAcBgAUKAQKyAZscYkgoUAmUQRJaNXR2Adp50YTSIhR+pBEIFRxtMS5mFRqVYbAnAb\\n\\n/3fZ2qm8PTKWZgig1h5RAUY1LBohAEYAFqOSEmDxPJkCPX2BOzqMOVs4Eh4BVAqxEiSVan4VUmOR\\n\\nk89jGLPFEH66xXC6FDLgET+AYicOJf7BEWMmg9exJGCLag/zNBEhFVKxFCFEE2B13VomA22xAR2x\\n\\ng0UxADgQFFpagZibOBHhE3ORqRXQQUFBk7hjpYkmFXl9dUdRT/uqAicABiDwRB+Aq4mRCNKi4zLL\\n\\njxAGPegsGicQURoqe0KFTpyhBkKTAR1jnwGL5QEgAQrre1/FICogSDUhacQ4e7cse4zgEf4rGi3Q\\n\\nEcUyMerSZiJ8A8jYFMchCB8BJmNAALUhwp2B2f+imzokEsD86CUDkAMXWZCicQNukNcQ8AqvRQTG\\n\\n9kcd0WKLdi/jMQYLFgAAUgIEAwMxwGbxyR2xMjFTwSBJEBxj2HHGFxGkZhng6GYfnUzBi40O0GHJ\\n\\nJMIqMDhaiQWWpAIewM4AsAKkRgCoAgBZMD5n3TEC1TFg2DHcLR8inAQxMIb8aRdLfhaztRWf5hbI\\n\\ntRBXFHJ4oWwJpJcNgSqfxgAwaYc4ABFwWD8ZFz/2Qt8U0chO8rWzwRBVy0AmgXpEs3EKZhdnYZRI\\n\\nS5BnYlORudTyYzxAYBBVrz3ZQkMy1ixvSocS4hEIUFWEJx8M8CIEUPX3RJZlYQUbwQAs8BMh0BX/\\n\\nClEDOEgrd01mklIByatAAxECNlEUVVcRjTsV1Xg1QQHQASAQ9jIrAzABvlH1AwAC2+GaD2AIw3Qn\\n\\nXkURMWACT+CVc04HJFBGCYAVD9DoBrBfDGACYECWg5UpHbHjS0IbCSUpjYTZY6velfAqEvoRHVSC\\n\\nGbWYHUF+NPEKboAsdwJY0UkfB4AFt5MuhmIsMAk+QXYAqgDKRaEm7DMQYCAauCABEpAFJyZbB1AE\\n\\nbuDuRsmaV8f4SJgSiHlPPKE9jEYAbhACV2cWje6p8wMXLPEEWFBGTgEQBAgAIAhgAIEBEgAwACAQ\\n\\nAoEAAgAIiPiAQQAHASRAkFDAYxEBAy4srNCQ/4IJNwYYNgQQIEAIEgcCFETQMsEBggIeHiBAwWUF\\n\\nCQF+EHwwYECIARZaTjAw4AHEhiQ61SBooCBFllQLAshCMMPAggIFdJhpZaBTAgdouDQQwOoACAbA\\n\\nTmS5FUIFAgKUYgRgQaIADlsJIoDoAMADghVcIkDgcoAAiAl+DijoeOZlBCFbUm7JwmUABAZq0p0J\\n\\nYKRBAG0FUESQQGJmlw4oW21ZejBBuAYhX2YAwSUEBlatHhjwOWQACKsFIDkIJIDRohIByM6r0AJl\\n\\niwKIIyaYYEcACpQjPpf4mKBPhSF4tmRw4XlOgwMmYMB52O2Emb4nzpQ+0ycA/E7wqISQJkBtAP8G\\n\\n8NssKAD0k4uiAWQCb6YJxCsOAASKM4CDvAAI7Lm2XIpvoAA2mAgDgmyjAL4V0xKxrRQpCgCsg+ZK\\n\\nYSLNUAtJsvHOOkgzhXB6QKIcADiAERwFGM2AHCgzUD7CKgQgAQA88KgAKcFIIIEHMJDgAIYCSLAl\\n\\n/SDIDcCGzEzRwAAMJPEyGSHIKaGCfGNKvuIgAzDCFXFqs7gJ5mopr+dkku6qnwCQILqWrPSIvwgz\\n\\n4o4jBlacUTfzODOIgfYGSGCgDFqqYaYcAjjANyEoklJK/iwIQKmCBCmJANoookCgvgiCKlQArJhJ\\n\\n00QDkGGpiaxara/nFFxxP4lsA65BWrcaYNn/JvdL7bCtXoO1JOQiIg4rOQ9LqKj9LmiqJLpSC86A\\n\\nAyDMiYWqUoRIIYmGNEC60QK71qWblFztgMwGQOA/yARoCmCRDJLpLdwGqum5gQhorKEaPyPRioZM\\n\\nJGADQDcg4EYMCbrRPQYqYEChC21Tz08ZirsALAT8cs3TA0SrIAEKJJKzw7pKqi+BEjwyAcBEy6vP\\n\\nQNyk81NBcn3LyLWGYO0vVyMJMnM18ODDNqyWyqutIQYg0k+m6VJM1zACqIyoa4QEarG+hkoLt7YM\\n\\nqAzzoIhylKC45xpD8D0CTCjiBo+SGKADkRHAIIELdeWMMoRcnba0iNqSUjerHz8LNxi/pkyA/wQY\\n\\nNgiqrRho9zEBFMo8Isqsw5CpFFeUDwASxlCh8BPLU8zIlAuiICgRJcLVYAwEuIiAHVZjAAXj8Wt9\\n\\nJgwoY8BgAFbsbSWwBSOqtJpUB/7Hhp6qemKyMbX2OJ9kvCrepGfU87KFfpUowRld3Y87rMQsz7BX\\n\\nKSztwgiR6UcX+VpVJHMR6VDJKgiQU622Zy3f4KQpLBkIViiinMsURyGXGcl4TMW/CDGmXQTByVgk\\n\\nsoIDCMlIOLGAgSpQkgkE6mZ+Alh3cDKazITEbzJBQPnU4zAq0eVeqRENB2LQkgxxoIeg24BbDFOZ\\n\\nASiGAL4ZgUeUEB506Yo2V5vTZihWnmZVaP+K01qIUiSgFJyYhzRumlpd3BgSsNhmJm2JWEjISKJ0\\n\\naY8o8KGNbXCVk94AjiwAQEJObAMAKswIBATJxQjT8oErFWAMHViRBeSCkde48TA5u5dqfJO2z1Bp\\n\\nIIwzlb+K8y1EzSWBLTEbAFAEH9fwh2cVPNYD/hcUBjgAIl2aiIkgeaUxiOhSnJnJXKwSNom0azRn\\n\\nadNCiFKTGkyvAhy4QAN1tDnUTElaOZIjdw4AKxLyqo8GCswDQiWAUEFkNKUJk3AEo5C5jOdaLJFO\\n\\nRs5nHgTYkiERkkAQK9O1bGqKlQN1Cohs0hKrlAYrKXrPQieCq8+sLV0O1R6cSCQBPKLGJe7/mQhD\\n\\n7Kg+h7kFcQFAwmfwl82VNC6lCKIMAkyXodTIxgCIEUATdeOSEKSlQUkK1178Q6UEZOg9n6kNf55j\\n\\nP8XAwCNbmgjctMnKS4Utm/CsTEiOc5XiMC5k9kRIavL0P7P9UVDiyaiITFOVQ7YEVuH6i0ua1UeW\\n\\nmHV9vyIkZYo00II4J4p440CeAHA7j9xAKK/cAa0ipBnQSMeWh3lYwsxGHoLo8lpYmWBNEtpKshmH\\n\\nI4eB2toeI5yZ+FNGnsoWUQYig31SiXAeUUFEZSSZAzhAeMrZzxwNINur/GuIAgkAukwU1CkZgEdu\\n\\nXQxDtxcAXvFKa70STBCdCoDkdketIZpY/4gYYqycSEcny6XLabDWIDk9jK4FCcoFauInfhHkNBxV\\n\\njnb+QiXarmaIMpLQQkujuhT5iTuLpQhvmxWu0yBmhPWcCP7cei+5UiQoESMAYsQyo87paiAaSwFC\\n\\nbDk7AoAAVA0ZSrPsqRjWERWn60HAD/z2nQzJoCbXucyrUDe7ALhnvBM7iEdcAJEMEKaYBsiAmDjg\\n\\nAAkaJQAJcEBbavSYmZhLSQhQnXvOZCTt4mgiEGCyBemSKdlMialumQlMEdoSnKhyna3MI0Drszvd\\n\\nREdMchqAAThGwrAUhzIXIsDiIHKASKrCK1+GC0MM9N3n+GavyHHZAPj3RLwiFsL8adDUZP8TEQR6\\n\\nq2ymKY6abOLWhlRAYJS91kUOYpBiWoAAkSwCZzrEAFiprYRtIYx2lMku9YqGMRvscoYaM9QhA3Bi\\n\\nBSEbTuA2FxIJhErE8d1tEpOTWYEGN5KpjFbPI5NwORhGBFgJ5SzAkNDgxj2+BnNEHztUp3DNAQqh\\n\\n0mJlI4EONCZEC1uMdtzaQ/bBCH73cjes92Ww0MbLLb+TgHYMYtngLCQ84DlvnlBnrdrwmCArAEsy\\n\\n6TWTMIlpIuJpiAHIOQEZP8cxzdJTXX448csg5jHH2zSXTZWTOJZmWUhTigdKQIR7GZoi9hPCTK49\\n\\nV03jJqzYWltp7OlPgNKGNvy17BBPbtb/xcSxlQulTUEu2fF0UQ5Cx7FqTiQwU6hWb894BXYx4SOn\\n\\nEsBgBCDJaJu75JMIIUR44SHIK80jUbAIaitpZSiJjNf2Cv0pAEVhV5uzCRFZCiYiuOqQRPtLnAB4\\n\\n4AMjIAGkuSYeeZqX4oIpXwF1JROypc7rmNN5+QIoz1BNAAp6fG5GCxKoidhPoglgSGaRbLZD+T3G\\n\\nW1F640pTnwv6i6EWdAmbBs7KuSDZJSeb4Nzlitfa8pfRw1GTwf570NpAZDZBPf6h4hrW26Z+SKAT\\n\\nyBTdAoSGIK6pGRIeRmaCSoka1/K6au+xSPNxRvP6YZVBiIvbkjyjwp4+C/HUtARmprT4/5xM0a4W\\n\\n45YoM5IJUSNQ85B/gh+swgo/4T2EMzVDIaGB+I/5czq5Q7oUuSRbQo76CDf7OLmtAKfSSQ3Q+BVD\\n\\nMwoA2ACP+rQQYQ3q+8AHaAvVoIidQZoLaojYi5HzOz/4kA6w8Ik/SSEMsJ68yzmJwC/4mCKxsQ38\\n\\naKYYIQgFYSNGEzms+EBXEoCRsK+4OSQJSZENgg0ZO73HkY5l2TZXQ4BQeY+Kagiw2AiCMAKCMBEA\\n\\nKAmpURFB8Y3gyZuBUBA16ZxLqRoE7EAMQYzeopA7ZLQJWR+zgZEd7JadGhRmURjKOTpM47mdUS8q\\n\\n7MS+EA8JaBHjMT8yu68GrA8/CZlrMf+At+iyuasgl+CAT2mN1bAnCcABgiALAhi3gYAXwIOTf5qn\\n\\nFPoZ/HKL6pmJjLivmlgN7kDBOUq980iTtiC2C+o9CiGmHnQl3FCoNmO74GOTBSy8MgEoYCMNioII\\n\\n6yMz4YEiL0I59pCn/HsiqFASr9oKFNAjgxiuhwmMwiOMqmEBKjG0yEoynRuodtkNrBEAdEk/5/I2\\n\\ntmAWoaOAWGodDSlIYsI9BzQkAKCBunCJ4mkJJXyc9nFAzpiaxPoREpSoRLEWmRiSNhETNDKICiih\\n\\nz8mMKdEIswkBgtBJRUmXk2ovgkCjJ3oORFSKMfK3zZCJDRIMYjo903JENDQq2YmTx8D/iZzJGvA4\\n\\npYHArhApIHb5CzKBj5NDL3RUumTqmhkBDjDiPAnMH7obKBJclgMIiiCZia+4DOGSCwLgkIUgjjQS\\n\\nAAqoCTcpiShqCcOwCmZDG43LxxlJAHIDvI8bgA3gCamDmNeTjAS4jt4Ios7Zn9nYDBTwlOOwgE+h\\n\\nx+dAl7vjPJY7vz5LCts4napxE/Z7HDbDPQE8C6cqK+mQEgkRFKTRwf9pFixMiKobj1NRRF6TR/eT\\n\\nCNniADlxAMSAAnLyCVixJyKkgOIJib8sjuuYuNfYn6IqCFErKjH5lVSUq2HzirZwgDDxDCWRs5rB\\n\\nlrwYjcMCnaqpAGMJndsyFun5nyAq/ybS+sWQYUWKAC2EiynJIJEgagwOQAFiC50h647jY8GbDAAU\\n\\nmYDWiyyx6Jp+IzZXwomP/A3JQCy+UZu0ogy1UZQus5BWkqcFbDPQIBiD+w+NAwxsopyQMZeJAK4Y\\n\\ns5iIgI3PyaBZYaW9IUKokif+YtGZ2C+jAjyOs5rzOEOD0A9NazDK4LbvYjgAWIGFawg6dCZtBIAU\\n\\nmAmMChvi6rnNikKragqlSSGDmIDGwBUW8D8A+IGGOoAKCA1lqwp5e8evuS2B4ZWIMS6+eTvSnJHA\\n\\nOABmSwokU0CQLAgM6KH/kZOIMJGFGtSqkDGK4BGsoAAYGcBD8kKAIpoGgZRUpL+umf/TNwkALhXT\\n\\n2yAA5zANHFWQ/LCNMKKXePJBGUlN7kkRcLINSIxGbGlGQ3oVBJAtm0yXZUnNxxGRZKy8FhGwvxiI\\n\\n/Yoby5o9Q3PF+ZIIdnEnospH/Ww4CZ0pq9gL90hI40IBlwgzPeIMDpiJVi0NKiAIXJy4ghAfMlUr\\n\\nrjkUQjGAcGErOGuWokqo0gAuMrosxunUrBJDx6QNBGgZutAT4UkO+DHGqmEXt8C3L5MXfYtQhZmS\\n\\nFulO6qFEyFsSyIM4QbOgC4m4xxKNnDgaA6GAe5yAW6maAxAwyRLYLMsfGJU98iQhEuOApjOqmhAJ\\n\\nbh0IdMEP6YC13VxSYuFCDOgxbEn/iqA0xgCiNMxxi9HIw9EoCH6cQoVKDMo4DeIosswMCftZkWaZ\\n\\nGD0liA0SKI2yjX6KLAkFHQVzJVYj0CKjt6pBtNQYM4boKgyBFLoaCM/zqlxLERBaVw86QLeAqGAs\\n\\nJouNGx8cDFLSNIg7um6rGtJhpaorSAI6I7BCqUHUiKtCq4iaPK4JT5yUllzagJqYnoWwiI5yI2+7\\n\\njbXiwSCkqdIQXDThLXlLS7wpCOxhpSwzG9ljsqjr3bCtreHIWJj5GnSMP8xDOo3bm1KMqBabkr84\\n\\nlNc8pa960ulolwnq3Bbr06cKkaa4wUs7yImQLdA5OQw4i5KAAqXggCddCQZ4gJZU/x3GLQ12SaHV\\n\\nyJld3Uk3bSkglJjvvZ8NuJcGHlfPXdSa2BKNq1gP/TTLi8AuqkBK1BUwJQ1p8VOJWo9eMxKoMNOs\\n\\nK1bJJV5duUSCSCmz8iipGo/9zQ9KhACkWaIhEiU7NJEZWcyJyagwWcYL+M71/At0GYm86KNlyaba\\n\\nkg4HOVCyIkIH2IAh0Sbze5VjsVWtYUWweKK32rs9kqjFekaeOY0kMT882sqcUA17uxQEK+JuibFC\\n\\nFUK6HbJm2V57qg80BothmUT7olTPTT/ukhEwNq7cMxsAoxw5WRQ4E+NwkQGXINamUyv/cJ/KGJZE\\n\\nlFX6OiT+EQyokw50Wbmw6C80vP9ARhPOUbXBTXUJ1TlAbrVYkhKZhiikCcAB8MDfKckMA2ABmcBP\\n\\nIhINZpOACyivh8QoQoxMBmDRvxOY4RiYIEpRgkIO7apFI/HUg6SISJ1kgYHSSSwfaxNWN0IaOemv\\n\\nuQoXBQkJQWMzRCxObxrdzQuL29vYh6hErNSug7C0MhNX3EC1IBUigGpE5BOR3sEr5Q0iuJUuEqKN\\n\\n+qCcIJ22x00odTW0iyCb1lPIr5GjbAK6/+Q4FXRFe0Vkw9IVySFNtHLE4KUJ+AAYhZBUgVlRweAf\\n\\nZ6uJtDBnyiVEhQ6i5SkIv4M83JojN9WiiRAvubiWm2jepd0K1YAtVnoMvGkit7D/in4C6SG7NYcV\\n\\niAsIHVWkaWNzumZpYrojwquSKDZJZ0K0AAYhUnkhACacCaAojw7ZDQOsnhy5F1q5mrZCkzu8WqXR\\n\\nyHUNCZIRujAJAT25gCM0mHIuqYdJI8ZxzTYhoJPpXgOQIldpMIMRZoXMCAH4wAyQrRAjSpfYi3QO\\n\\nnZqJsuJaDfupE0jZDMTw1wLL2Lfjw6vJRLKh1P6YnUbTPzCyuWYlrgFoEvkgjj+sOBYeayheCKpT\\n\\nwEMSMdyzOtDYNNTZvEqeO7hsMVmGnwhJQZkgnYsgyrZY1iUpRc4I3k+1yIo9ae/VuAyBXVZEIrQy\\n\\njw2SDk+7tTyx6uNb3QJKwYbA/zzueBkJnacIy5+elF2N7ki4rIwzRWt6uawOZMSEgq//Jqb7Lg6d\\n\\nQrhX4SHJONZ85Nd5witiRVfwQOUXLiZmQ2PCNYB+E9YLqkA03SMjSXEkXWLbAIp0IZtpbItrgwuU\\n\\nfL5mypqINWD6vQhywU6mEo9dLVR53l4A0rYpzQ96CQ33qpyguhc9vUcEdGvV8Kbs6g7JQZR2CcNl\\n\\n/QsbJI42sydexhACTA2BNSSsieqHeSJP3XL7PIy/CJXQaIrxYokDWDn34U8Cxp+GxkcxbpBT6hY8\\n\\nITTkqAyTmcIRtBRma+NTVAIo21+dMQgZGIjr2GzDmzt0MVyryZtuWQkCOA39wP+PxULEFbksMBmS\\n\\nXNqy2wOTjGi4LpOMCqAIYP6WC1CjCadcVck/chmoM2II7ti1UmUdnGiP6d2acCGb4VbqThJICUjG\\n\\n4gvdUY4Ik7GUZvFvmbCUZRkkSa6eGQYKoYiIhBWy0u3CyphbDzaSZGTbEMlYLC5Nq20Xcif3qVNz\\n\\nG/SsqDayz3CPGlwgRCc2gDGYGo4x01HU1YiitiAXxGuK1pYRtjuAGPC3BBCE3dZxOImgjWoJMLAQ\\n\\ng/8vo5oejeMMDNhejfi0X7HurVAddAn0ZYubdwVWhsLRgBpxnLQNHJIuxepIf0kdQjXGEtlGxOXY\\n\\n17oM6itIO+QMm4wtg2F4iov/MOOoQNmdqCvlG1F/Kjsm3M09VQNYEQogjigMFPj5FsjiGXAuyFYq\\n\\nKDouM4WCCDTLv/AJS7gAvEJMyniuDMOuiY8kI3GpGkKuZ8WCH/parkMqx8mBC+Qk9hRJ2hTedLM5\\n\\nT7qDPHzLuxLyRICtGj2pD/E5qYLAi72jeTXqa5agDSU+1TCzPp2CDJ5BG6UZe0VBwy4qLrPKpK3w\\n\\nLrOxJ/5ZcxEpbdwr7WNBsLwkiIn/YrEUAPpoqQwpiZi7d965WkR7kGaZooaIQjYdVTT2yaXY+PFY\\n\\nR+5Cmp5kFQBlCUScFA9GzabmH1ixfcx3oz++gN6oO8/ljIBT9rkIl3anLdp4/6LFgpUS+pUMBAgA\\n\\nBwIAQAAAgIABBAccZMiAIEEAEQNQYCjAwMGDAQRoBIDRo8SDBnYAGDAAxQAECAYYIHgBQAKJCwki\\n\\niJix4YGCB3OKbNgx5E6GMCkcnCCRI0ODARQCYPDzpgAGFQI4zUjgYc0AEjxuFDogp4GaHzVyhFi1\\n\\np0QCQAU4OMjRZ0iMAWqWlBng7scKMYHeDHtQ7U2ITwUQiEhAwN2lHLdGZLn0AAEDCQhORkgwoUQE\\n\\nb//WrQv44AMAnwMD/eqWIIW7HCEcZA2gws6MAdTa7NjYqkTWGy9DHIB5dUIKEghUoO2xosyBByUQ\\n\\nfNiZYYCcdx9opqBZYAgBOf8RWGgtEWMChpMDcKCawaBAm3ctRxcdOsBUxQQNyCUagDVi37IX2oav\\n\\n+mZGRlmmVmT/IXSUbPkhxoADQk20WWIMhDaAa7ABkNpGAiGmkQMZ3ubZgAkdkNCGCRmH4AAPMBQa\\n\\nTIXdZeFe35EGGE9yteRRBghZMBBHh2mWgAAC7EUAej229FEAH8m1UQYuopcYR06lBFFZYB2W5IUc\\n\\noQcdfzeht1eSGLk4FkxpecRRkDcdMBAFMQmglGjMlUkAB5md2VmYPbn21o0S3EifaBEZcNGBBCQg\\n\\nV5khAcaQAW0lCqRbB2okmES+lbXheqJJdIB+MQUQU4wNJcmQcp4KVFhG76X/JtBeAlzQUokQSZCm\\n\\nVbWdJmpBZd0Y0lZ/sfgAQcBuBBh8B8G2G1I3jYamBIwFMAFql0nKp0AvrfnsXRBcxgB9A1SkX20x\\n\\nEAaAAxygcIBKS3Wg0JsHhAdkAhYkJKBGfg46QFsEdEiuW+Oa+VZZATjAwHhIlVWSb3JpZhNtl+6n\\n\\n4oHScSZbQ9oZoOKoGOnHwAQr8gZXcwF0hxBLRRk724YAPvCQBeu1B0AOoJ1JZEnJEgQBqfpxRXF6\\n\\nNomJkQQV+NZhS70yJ7BETd606qYHFSwRbC0xlQBs4hnACQsYScbQyB8hdlEALxkQ2XKuaYsQYM59\\n\\nmrSgQRq0JmIjzuopkkcJ//lATg5MkCa6F0C6wYItdQWAn3OpxdEDh08npl1LisSUTY5yyhqiFojn\\n\\nm3ISeYpepIVyRhCnbykkGLAGhB7d2TwR2aF/MAE5V7K5uWVQye6y3upmG46NUI8hCZnfAVtxmqF2\\n\\nkgoL0gGAQqrebQSkZBLeaRKQE2IuU49YW/dtuhGnAmktQHwyfY3qd5cx1OtBIaxZkgzs3nXBRohB\\n\\n+6xHMmzU4EcPtFS15TmlSGiSHIARCylkAAk4oNP2Nb2DGMRQPfnTbFIFqLVp5DBiqwmneAI/yYhl\\n\\nMhyRTsAIBxevfMQBHcrJZLyCM1xtYETnM4DlKGIAbwllhAu51IpSMi/nNf+IQi4bVOcOki+AcSsh\\n\\nFsqcWyQQkwJlRADDSRwAIMCAKA1qIQOYwAaehQCqbWACGEkIAsJgEgvQpYYOCwCwAMMioSGEAUwk\\n\\nSMv0xQAJ9FAtOeIXubb4LgYoZXQEYU6QdpUksFzAgDMUAkGmMiIM+K9StslIdwS2lElialLAEshO\\n\\nIsIAnIlMPylaynvmBzBbXckA+EGhRBwlrA965z53qQEeC4OvsS0lKxtqHwAs0KuPHGCDx3qVdnyj\\n\\nGIFITDUHcJRHpIORA0wFAH771EDUMpnJKGcgg2rWbtAYJLZIJGu8OxJd/EeDF1FkKSXhjlNYYJEB\\n\\nvKScYfOgRXZzobvQ4Iv/CQCWhEB5GfXlpJBvaSe0XmOShMwFAdDy1kTulR8BwY+dhSFRVHrkKAsQ\\n\\nyJkHIUpIuvSkjMrGUU6MSH5iMkUExUVauXRahkAiExkVjjl7mYxkMnAoT22gQYdj2xaFkgC1gCV2\\n\\ntSHAlXBlEucZ6orsSgBkDPUpiHgKmkCZzU5LopaqEISnYQONTYIUQQ+xxjTwQQANBIABCCjRAckD\\n\\n6g0DgAGykOk7A9ENYtRSMktmxCmKwYAks8qzwZlomfuxn6YwqpGKbGQDB8GAghjizzcdyAHE8ol6\\n\\ncNMQAqAPk5Wy2YVYAitNZas1BAKqmSjlILmSLzaWsdlGNPO1/6DRN85b/ymASqMgk6ZsZwFLKEGy\\n\\nN0OIpNEky1ETrzD6mwwhoK0WWkmmPsUAlsREIWMTUgK4lVJzVtEjsPpKkj5ImJTl9i5PQ4j6tjIA\\n\\nof0viiUzFUZT4Jvw3BBFa5jCGt4L3ynQdwqYYtRIGQAEPZgiAhGIgg4gRzGIrKcy++pdhgg0K015\\n\\nkkwTUQ5mQFvViUg1hpiJQwTm4Dw9REAPLyHZnqiH1a5UVS7ZmxjDSGZiyVjOKUCCFWVEmFGMXEdf\\n\\n7d2NpxxIloyMjncp/c0DGAsAL8qgJhDQTvQGML0LYGBkK7yAYa9CGALP+D0DCRNktOId87IlARTA\\n\\niKME1L2vScRyP1FNe//kGpE2bUB/BuhYOd1VHpgM7AJwGgtiADWpswamtgh5EgQM8ruSpMZVw3Ku\\n\\nm4aUkQ7ASSOCg6LLeFw9iHWsnYTjXkO6dRECtAwALHJeCHriIRIpRDpVPRhdJBVQqrSEY4n8yikt\\n\\nSrETNUU3ezJtRhMcF4QoaUTOXEmQJNCy6iYmky16jYaSvZcgI2wmEhhAdnqakENRpCaYWVPpstcW\\n\\nqTVIMwMAgn/DLe4ITOEC1HEAYmiQgegEQQPjjkAPfsITkn7ONJDxtK3AxRoEIIcq1StLfKpH0kuO\\n\\nxUGE6UEEiPGaNUSAFV7pmHinKhBhvuYwEHjBC7zwAqWJpgPGMIYXZiD/AmWpRQResMUfRveABPQh\\n\\n5M6C4gNmMAM54MspeU7ADJowg/DIKSMicAIIRPBzECTgJQRYgdCTLgIQKDkAVFgKBETAjSaAwAgp\\n\\neKgIdNGEFZArBAFgdABWIIUXzOCOEwYBxpnxF8bMwBbGyLjOX9CFykDqgMx4gS1EYCg3tcXkfQCB\\n\\nhCSQvIcYYAVeaMMQYvGLsOlVNDVBwaEMkIGwlOdTWywrlprYK+1ssSkYwpOoajOXShnAXq1il2YV\\n\\nggAHwHQzTrOAUwZiEOegCi+hlcs2/xzktgk+ATUxILUnzxdqAyAFlfKfcuiyq2nF1ibwGzK4Doqx\\n\\ngKJJSdGZzSV5IuKb/3x4zOnRGLSdiRl9BskiI6UfASawUbWwiF6gIQCzba2WCkT7NXyMG6Fj48Ik\\n\\nIUB/BlUIzpSfBQDDu4mbHvAOBuzNFQEAhhVgBOiAclxGTvwAwHAEEP0YAjlNQZjPUYBQ8oCNAVSe\\n\\nE5GZSCiSo3jdiCSABExBwwEABvhXKEBRQpSepEyFKTkGYgVABjRAAyhAA4ycSDSBD/agF4BOSDDA\\n\\nG/jgDIyNA8xAD/agD/gGIHUBDw7hCiDFA1BhDyqAAnRAppQEFw6hEl7SFvogF2ICQdxRBoAAF3Ch\\n\\nCDSJBHDAEIRhA3gBwZiZEw5hFE7KHA4hJXhQ2IShGQ5hA3Ddgq3AGf+YYQN8wbABQAa0ARfy4Au4\\n\\nDB8loRgqgA+IQM+BRaXUgEk4AGIZAOA8G+uwEUdQgOuFxLyBC19Eh874znekSEv8CuigUQaVBItA\\n\\nwGjM0MEkxofkUw0FAEkIgGEBQAccRBYcBNdlBBBJgD+Z02h0AE84iKjwxEOgCwOVCEcVxHh0o28h\\n\\nwLoJQHkISU8QSvmsx4aghzpJCvmwkzn9B2L0UU4cgIq0SbFgS2bhhFqsCppwkkRMSMd4ms1VBbQF\\n\\nT12wxGY4VGxUCADqm0RASxD4lx+UgQ5QpA2UQRncAQgQxCAgYwBcgbjFQRkEwRz4VxQASI/0zoFc\\n\\nFb9olZJZRddkV0r/jYdqXIQ2Mh9PvAV6GABKlOQqAMAo+NcV3NFMqdnqzZAALQXriAAP8uAv0MYA\\n\\nDKICAOHHLAIP6h0A5OETKgAZuNQKNGUVngHKpMBW9iAXQAVT0iEXroCSsQEdVuEjaEuQEQAK+MAT\\n\\nelqO+AAhciEasMQBzIBUKsAbHM4bVGEV+sBRiMAlvqUZRJHzmMEWNqUuTIBaUEJThqEITNkAQKJa\\n\\n+qAZ7I5OLEZUDAQDKEFKBKRYEcVYmQQEFGOgcMXLCMiGVJStTMo2KoTzXFmHTFVXCADEFMV0qMmy\\n\\n8MxNWMglKYHJDNld8AhTpMg/WoSEVZWm5MSsUBlQjIZN2NrjREkO/5ifQDIHQ5BPVY3IetxIabVV\\n\\nU7HGdhwaJiWPp6SgAbDAXpiGpIQFC2SUMKVUr1BP/KzUYfDTazgWAMxZ7GhKnbxJWBnAVMBfSnBK\\n\\nAkSBf8UBGv3mBQgAKhJGhxAFhEZAKjwEQZRBuAHIbGAkEBwGwFzFax7EWeTHQejAKCzXJXUGA1zk\\n\\nFbiGptzoFdiAI5DMaQGADoSCDvhXEIykf+mA2Y1MSWzNRTjHTfRBJCrADGTEC0RiD3IAUZjEUkQl\\n\\nF5rEDnJhExTDEHLLABSmAgCCE/ZgIEjEF/TgF1ChD3bBhAFmA5zBENQpGQiA5bxADy5CG1SBD1RB\\n\\nAg5od3BDFXIBBf9wgASgQSSOgzT44J22CWTWIWByIUKkQBiG3BCKwAzpaQMMAcZ5gRc0qhsqhJ76\\n\\noByQ6WcKwKQ2QBc0QQ9aQnRcQCyYIRkA3ReEITeAVkOVhATgzAFYABRcRAstl3ohhGGtnOdEVsUA\\n\\nSI2o1GDNB6NQnLZsREzsEgJMBTvVFa+IxtnElmjkBGC8BEFuBQakBAawgFh1FYm4hUX4HoB0B7F0\\n\\nD4DIZoIEEejojHpK0b1R5n2ohS5GkWXIxl7MW73eBDIhyvWVRACgwIUAxescQL9VVarBCXlKiqlc\\n\\nxuqBxF2cTwKEVU70T5ko5V0YhW8OTIegGx6hm0IcEBwUKUxwgI3/HmqQ1YkjOkK4hYJsGEBJRkAZ\\n\\nZIQEcFi4rcEdZJQf+FcP3AUBbGgQgGSGxQEi+Bcc0IABFcUBFG24EYMNaEkq+JcjAG0ExMF4qQZD\\n\\nOGC4UYMQQYGFXMR4KcSx+AsgYCIXvsBfQKZeKsAZjFJhdIBZCgkgsCli+IAZVAEbuGAYNogQNoDc\\n\\nckAYtowt+OALqA5nzoAJTYYSMQBnjlwxboCSpUAASIEitgGiJoBdsioCMMAi+CACyMCaKsApaMcQ\\n\\nBO5GCqECfMGbuGoDoIHvya7cEgD8BMCtIm6DJGEDLKEFmOGhtEEPigDrcUEPRgenKoAUGKjsNsDU\\n\\ntMebyEtMhUdS/0peRIRHBXCAzvgIuxAOfQCNp7wF6xUP1ACMKf0ORwzboZRMwqxbonjaxaBsklCY\\n\\nEo1FMt5E/94RFRBFHhyEFRzED2jObOyGsygT/Xqa+soaTGjJKM1HhrQTdXhEczZIR4yfg1jaUTiI\\n\\n12yKRViGUMBfUySHwt6QTqIfi2DGOuqEcjhF74oIYvTuMwnLAVSFAdDAvbljABTZayCXQahEhwwA\\n\\n7PnG1GZrJ4Vbr/SvphDCcpnTALAC1JZnR97BTx4IArTsuM2BGvQIC0aADWQFMfiXDQRpBDytuE0B\\n\\niwDABnCxuCECDqhIuMGxf4VAwujHzjqgDpCv/cwEQdWMdx2EXv/2oRdwRBd4KRe+QabslhxwIRkw\\n\\nQJc2wEZCmFY4gBy8wBegUan2QS5JwQx8gURMqQK8AAwdxBCuG2W+ZiS2xQSEBgHkCBlVIRfqwlRg\\n\\nwBP+AAR0wBDwIBsorhvqhOYexAwMwSJ0QXFNKeLeRxX0oBM4kgGQ8gu0jCX0IBskRCsLQA82Zkxc\\n\\nrgGcbikzkFKBcxeIxhLVDAYI0ADA0trCBwdIR8uss2igSU4cGbI50xcxCoEFcmzQzrgI3BTFo4AV\\n\\nmoG4Bry+BW8Uxhc1rFpozVFExOqZ094MGbq9zEcxY0ahh6NsNK8BClPsjAP5DFJpDpqsxI1ObW02\\n\\n31a4ycK8okv/zE4TPVZoQAANzg4SPwVuyNUG9m53CMWsjBQ17tP6tMxCIcYft+0AHI2EjcZB2Kx/\\n\\nzdctwNctrAIFIBaJEMSGsgJgGBRkgEGkhHEE+AFJSmRGhGhZ+xcAIJx/pUIP3EK4UQFDsABY60Ed\\n\\nqLEfHEAoiFsUULHLAkghBMHTwkEPROR/BUGU6eDzGcTr5IlkeAQXdkMPvgBHkIHjKmFnZEQeYgIA\\n\\nJPKcYkIVfAEI9MWeDEAbNsA1M8CVXUQiKgDTzYZi+uCsVgEIkA0IROIcDkFo3yhlN0AbQi/geK4C\\n\\nVMEGYAAVNPMPegEPcsELDAEgiABNT08OSQTzNoAUEEYVDtFB/1zzzz8BJEH/TgDASA7H4BAShmA1QB\\n\\nD/XyVK4AF5pBk8QVTctulDI1JhEAawQVu5IMReSxbdzLYWGhabWVtxKspPhihrijQG2wV/nOcslE\\n\\nUOWLszqmZRHGWtUMgIzwvGGE/TQMZjSFwGmFvEKHZTXRjd6a6+EL4TjKbPiaaBzGSlK4n2CQTNio\\n\\nVaTiwWxG4byYdsREY89JexIUupgORRCJ/vTEZwgAgPqwtvRqipg0p1TAoAhBJmnVW0BAAzqgDSw5\\n\\nAHi1RGwtz+akUEz4ADj1A1KEGoSbQtyBf5lCSKBxKgAA0M6BUzDAzgKDQXhCuOmAWpQ5WvN1BASB\\n\\nQISxMDAsfP+A2QCwICtIRJHqIOGEB5wQhIDYR0NnQNw2s9wmABd+Qd82AC0Ul1u0RB8i8612pqaO\\n\\njqN4AXqTQQ2pRR/MYQMwsqY8Lx1mAGE0qmEqABfIekp4ARd2QaTqnREkcnCDowFgJpmCpQLIgYpS\\n\\nJoVIwKoqRAcMYTyhwJr24ApASwJYpgL0cgO0gW+8dhWoaBWKwKSegnipKAI46TLTDFIYQDqzu+Ug\\n\\ngK9CwFotRWQgMUty1lo9lhuP0PNlxEBIBydFxVbE3oLxR/UME4AsiU57qxf+hSfF6BRRhTEeBBC0\\n\\nEUhJcW1MOAmDnrREPIt3CVVlTsQj8X7+plCE/IDth0aQCo//2Wak2IR9FAR6LMyg83dJQEZ4Oths\\n\\nKIWWuYmMfEYAqA9HXICj7IXpjAVBFGOdZJ7rMYBaOyANQMwBdCQB/EC4lRZ63BEA1AFZZwQX92wh\\n\\n+NcaZIRaTwEAcHEdZARfBwFBWK0e9CcX2wBht/lBxP2HjG0E4KwN+FexFUaDMIYLNQQCABWwPAIP\\n\\ngkAVKIBmozsH1G0D30RvM10zd6YCSNUMOWIVvoFMvdbXheEX7A5G9KEZ9OEiEoS2Z/sWngJNg0AP\\n\\nAoIDmOG6QcBX+mAGHIAtPCEbTL5aNsBBPJ+2sEGkFgNCpGWnWsIQYHsPfntZlCoXxsInPbsPEgQp\\n\\nT2Xis+o8//a+AJBylGIS3lzUiFQo3FAPCgz+ADyEiqitRPQK/2H/TrD4TrzFhZdjnomEwwxPrpAT\\n\\ngS2FxrwFRdnE9QBEAAADBQgAICCEwU4QBBw4OGEgGIMHBAIYcLBggIoBEiAYaCBAQYcNCQDweHCg\\n\\nwAMMDYYU+GAggAAwAUyoWFImTYMxeRLsCaCkwJ0AJACAQCCAAZkyBWwEQMHlAI0HBSKYKhPp0pQA\\n\\nHMrUSEDpwZIPJDygSJEnwgNFHQAI2xQATAEWDBiwMODCgwQPDMI0IMCAwwFrIkQIAsyGjTI2dNgA\\n\\nwMFP4cJzKkiuGLNkjoGDCxdSGYBwhFEAghTuEbN0hB4BJP872pk6yMDQhXiGtnHLdEXJAC4wvTiq\\n\\nUOFVOupEmCOsTF2ZFwVK0Aih4sWlmBQoGFRFwRsCZxS0AdBAQQOtRZFWVzBAAHjwGUA0AC8CIoYJ\\n\\nBGaYbyJ9gEM04BU0iTmAgBfIaCIAAqhT4IySdBkQvRfAO2MAB3xQYBEBRKjOhywIIOAA/tpoQr0G\\n\\nMjCjOjNECMM9BUQYqCsDJlSAiwQGesE8/twDzwcEBEjBgS/MM0+Epg4gUYEh+khRgQy4a6Ctn6oA\\n\\nb4bHkkIgAYEcSMCABDpKYIMK/urgIgiKgkBHg45C6YCmQtqAq5Mu4+kk3gQSSqMLDLrrIOmWGgC6\\n\\nACq46oD/A07666qUipJOI40u8mgARhOQ6oEBGgUAAxQQZcCqLGVEaYAHBAIrzU2VwiksGQmo0qQq\\n\\nDQIpgYJY3exPABKgyIALDiBgJwHiTMugoXzyqqFODUAvAAb6vHXOCzTqFQBjNaIgJga4iilRAnp7\\n\\nk6uunINIAgHQawqwAEJI0ySiCIDgIgvcEgBTApxlQAgGpN3hIAZaAgCRwhy56KILBmAAVz0ki2AN\\n\\nDCTDQSqLAOjhlh5CkUkyBEqFozA1AIiisDgGkoDiCOJQI2KHAijOsIskY8ABgxjo2AbJyjAI5AgQ\\n\\nWWpYkDoeeOAy1I1Q4TAxKAgDCAaCCTsFABhCgSqYCW+G/wsVIKOroQEQwb02IMDAPC+qbKK6Fy56\\n\\nAAMAMhjHPCmEGsCADDBJccWKcgUqPKMBAKEkIGRKMQEfFQABAFvCs4QiKhDYj7/wwGMg7hcE2MDv\\n\\nBmZ41KAEkFbAxDnJqA7J6oZ4wQIJ0HMCwxRAKHEAdR3EHHUAMHdOzWK/Cw9MpOzlIIADMLDA2xyK\\n\\nzWEHGiowwqDSvbXgJPQs2tSBAND2qnbltxJKWovCsinCZdF71KYNL4K2rpCW0qjFiugGIAtqNzSI\\n\\nCqD4BiCPgVZg4M8AIFhhoCy8L8gokyyYSlpv35RKKhopykCyUqxheYWAcJHRARqlowM0SQZSuRJc\\n\\nNjMUnP+cBC2XmRNVQiIVkCiFdlMBH7E88iwDSKAC1IKLQVCokbrABVq8kUlvJPAoBHhkJ48CybiU\\n\\nYpCSAGhZDFhUntxyEYcUxU+X2Q0k0AOWqRBgDgMLAgpMURhSuA0AqSjMHQ5imTnR4GQA6JgOPBID\\n\\nl8VBMkqRVBUjEAqQRIxQCJCMGQujIwDooDBTwMqyWIMznBVCRgmogI5s6IDkRahK1TsDeADwpCpg\\n\\npwEDoE4DXvAUogDAAgeYAXgsMYAcxG0FIdFF1yYggARABAAO0AV4TpFCo5TEAl4ADyBiIoDzESRF\\n\\nUkHCrQZiAfN0ITyLsMULINkGbmRAAL0BRHjMwAX3+OD/AvzJAAIgIEsF9CEANgmA3hQQiCrhakIN\\n\\ngE8CTlGdGaDrIBi4nAK6AJLJiUAgBuDaM3EUAPM0Dzq8oRp4BDAfWxrgTwiIIAIm8K0u3dAC0rJJ\\n\\nTX42kAoQoHTLMkBJbgUBaKUAhgPRJrSyuZOZ1G4nBQ0ABfTUkgcEBi7KWkntZOJKThgkVlmJiRIm\\n\\nKlJGXIQTCwUMI5SihE1NBQO1IxYBIJJEt0GLoxMYIE6kwsA0fUogzFlOAAfwqM08QIhQQQkB2gIY\\n\\noMikSQw8VUxERgCzcCQkDSHIsmSCwlaxtCnE2+AB/nJDFMwwMFgCyQHsRIAMOCQBEkgbCzwlgOQd\\n\\nQFUO/6ABh5oFFKK+BG0pCMAF/PWDYYVheRcZFlxaFgE42LFAZgLKKJATijJcAQBTKIwePNqDwsAh\\n\\nKJKxmFFW8VqgSAYnri0MAVITgbYE4AoRG4hk7jAnNHq2s6lAjWk6JRCGkKaKawhCavTQgyCwCSn4\\n\\nYV4ANyKB8FSBAEjjQnUIpDddDAQHGsnAAPymgCgxQD2JOpJ7C1QlRknBPUPgn1ecVgWZHEAEM9AF\\n\\nUMPDhQGIABPFqAgHwMMFGhnuR+GRkaI2IIUEFI1A5gFABRxQH0oqiwL1YZoFOGDLFMSNKBwZb5Ja\\n\\nkgAihU0AkBQBBUoCJhH8YAjgaUJ6wsO3GkTHEtXpBv8CUDYsC2wgAAjYQGAHkMIA3EUC/hLMWprM\\n\\nk8Cw1SFWGMimhhIdAKTAg5LSyF1c8ik1dbnMSpkTTXTCgALhpytNkpGkIJoBi7BJUi3x12YAwAKg\\n\\nCEUm6tqKkAYClZCUBFVrNUpclfcoXKEkf+TiykwGIrS4QPqrvjJJWDBdaAKiB6HFoom6WBqWJsGk\\n\\nKw/ACam08l+lCLrLAKJqBSSFJwaCBAAJuZdD1Bw8tGnEUjX0XioPwhIAHNcPe2VhVIVSEPz1Nggx\\n\\nkEBv4xAU1apGIMEtTGwAsJsAACOKngUAMSTDbYxFIAoyEMi1YyMAHORLNbqNwlfPXQhOu2UgWuyB\\n\\nBXD/ULGCMICj+zMKAw6wP111SiYJoFp2wls4vk2Ob1XgDkFyrIAOAIAK/BlIB57UABCwtwpcyEAN\\n\\ngdmdA3jhSRwY1iTfMDT+hEXEliBAinCyyQZ8YXJxK1wDCJADEeiiCQ8UgnlAgAD+ICUD70wAAfbZ\\n\\nn/8aZHQK8MFXDeCF8LxBWlqKG2D5IwIEgGAGTcAVB8xz8XV+4QEcQInVwQOCDSqMKTd0AAcelQKJ\\n\\nXakiEkOAA8ICkr17LibOAUAMBMJRWUFaAK7EzJz4nqc5+fnPk60Sp1vS5DmNz87rgiUBfjCQGvjK\\n\\nlSkzJQZYcHEAIMF7SVY9AujikLtmadQBqKHfcTit/6FsClHLYaBMpOVmq8rqkMmbVgcxPWxlDVAm\\n\\nV+4JtjjoLapQMCiPGYjwBdB5OyJACZuRPZ8cwhCWuoRaizfAuIqyKrhvIDApQKZhEfBo/KmaK30p\\n\\njQb8WBhElCS7RBlWCODtxzV0ADoGoLYKww/qAN5MISYkIwoMUDJuQYwGpg7OLQJs4CII4LgiQA8Y\\n\\nMAKUi2R6ACoI4Np0IGGmpc8KQwcwwA52i86kJQDCBu4uQ6cCQArMCQB8JL9Cgj8A0HAujhbAwwwc\\n\\nap3cjg00TABeZAYEgAIq7gh9wD3QICRigWkmjRLcI0gQgEikYADe6SCcSQFWwAtewAuawAu+4Ea8\\n\\nYP8cNkw9pontYmEAkpAKA8BpzIABioILY8F7MCBQwgE8yAAnJkAIpIkrNsAMwOPi5ABH/oQ/ZIRG\\n\\nGsC/CGA/yItNEODBFOAF/iJ5qsLQyER+MCUANkBXdARAGsv5UuKHkLAiMAAmkEkCjCAEPM0qHmOh\\n\\nUOkr4AIp0ALu/kNNeqJbRlAzACAHkEJZ+CxWTELVikIINIpdDgIBXAkics968CclHIA5hGalkDA/\\n\\n1AgA2MQi0IOu/qIl/oJQmuKE9CLh3AL8KgJLXIdFEktGEICjdi+VAiVQ/muGFMarMkIsvorYysUk\\n\\npMKqpLETM4JdOqhVLsJbvGTDFE0qEiJqBILUUqj/UZZMyd6sOSwiABzgZzyJ3Oovj9zMpJJCJi5w\\n\\nYKYgBqQxlVam/tSghMJNAbdtACRjIyWjDgiu8G5GMhDBEQggNHQgybqtMN7OWgIgFAqjyUpjCn5m\\n\\n7oLnKDaRKjajrLiGnQDgERUgHKYGPIbAzlaMC8hgECmxWQZgBhtgEYpBPc5rABaxAYqhaMwgAxjg\\n\\ndBqgCZ4ERhwCVx6MkhYpaaTlLb2AEsLDByBKssDGaYaAAOgHANaJEpbJPTpgAxhgkrhgvhTACwxr\\n\\nBnUuRfqAPnRsIDKgQMiQkixCCC6nAXxgvihJftbJB0DEPcaHAtoAc84gx1Jk6o7FufplB+ykxIql\\n\\n/wIY4AoGKVcMAAE8ZSvIRyawaxDQK21AgjkI4Dj5rLFwoCZkoqDS6YRGioCGxiB/IpuCgqr8bNUm\\n\\nrNkwDc8OgoGU5SRowFcmLHu8gtZwAgAMMwUGgnYKzXmAwtJ8RS/2biqsonaE5lzgIj8a63hk6iD2\\n\\nCiRBK2Uuo4fWRSBmhQBqCCgQQLAE4q4SkifshjgB4K4CAEO1zNnAAgGq6l7+At+SgiJMCT0dooS0\\n\\ngl8k5YacBzjDjwESyiL6r/7qgIBYClmAwgZYcg4UYYDuqlEYgGQK4xa4qCIcIdymQA3q7Q4kAwhw\\n\\nY9u2rJcOoLcIBgdKItxQawBiZg6wRSBKwxQ8B/9j9ECvTJJHPsI540k+K25FPIwL9IO80mQSzcMM\\n\\nPCUBaCyczMMH2sdblgRzPA5ADMCZkMTj1PQBCrVGSkxXFiFu4sbOLIACdEUJFtELMuACJIDpdk4B\\n\\nMGEeKeBFMIcSUElvCic8VsQ13QsoQsABCAC/YCQuDuxRnymqRsdGFEAOCsQi2KArb3UIpAo6BMPJ\\n\\nCoqgQIoB+EI+pKN4fgIm3HPD6Ep+XgKyCu3iwEBdosZbWkJN9ozTAqgncOIq3G5ufgUrQCIrhsIB\\n\\nPAICTkoA9MIBHKIGds8p6vM/eKICoMIBJtUAYqAh+MqHSLFXlKcZHYABAsNehsYFXRDSwqcn7Aj/\\n\\nhchVK7qiK+4FL1qq0viEq1AJlWrpkv5LeeInhQhgkKZvyziETvDNLeoiAULgQb/qlvLHVkJiLboi\\n\\nhgrLIiCiBgZifVhAeVjKAVjALhwqJlJIAijgChJDWhwiAyByJ3agDMoA+bzCAK5gFfYFIk4CjyJg\\n\\nCmziDoABOrOpUB50FUYB+aZigE72J2SiFkJhEAQgA9RAB9ATJKTRlIynW4plJ1zJIEikAQRCxF4A\\n\\nCgLgDdzDC6AAotbmRoagbSKkqmKBP76AAzSDAWoABJDGPc5ABFLIIxwg57igA3IoZUCACasDEAKX\\n\\nzDognG6ODQBkAjCgJDjgDUgpbO7C5hAkHNSK/wIwIOnM4xQ6IAXoCnVQRzy+AzwOwSAwQEYwYMW6\\n\\nYDNEoCsV4AusoqoAwBALjHn/jFI6wBJSRCzRwLHWVAA4AG1ULnyF6tYu4K+oRVAsqFkOIIYOD0sK\\n\\nqlU25X13QCA4IIV2YCckIESpVFaAM2pmhfkeLSaOMQCEIEQdtH8tIiguIwcuogIwQDmzSaHQ4xJR\\n\\nIlyiBgCuIIZad+AcAg+bJSOQ4k2cY8+8BVpExiCoybncDO60i2OBBT1AQtPS1jp5A4arR0MRxT0r\\n\\n4mxLwiokYAMAKM/4YjgxrSiURfUYstWYAwOUxQG8hE8M0ngo7dKi84C3YkXVrdWa4yI4k/nUzv/x\\n\\nCI0ncAIwYFgmdKsOpEOIUqIpCBgeeaI3rtMidkKDv+okbIlK8gM6gmcntOqARPh7CsRZxWYgBsEB\\n\\nyi8mRAAE1G4nugqEQIAz6WwAXDAFaOERMiBLFqpZMkAKQCB4BiI4K0IEREAqWDAmDGAFRIAzsxEo\\n\\n4jNdHwAjXxko4CcDHmFFRGBD5jA4ZUUErCBCkGmOoycFSoJEE5IDSgK7iEXN2oKrGHkUQcsCROBz\\n\\n1fUjsiRLukAEhNR7RGYpqiQkWgUw/gSxBEVV6BPg8q4k4rOHIMrJfiBEac0tyqLS5LMkXLB/VOJ7\\n\\n7u0p9MRZh61ZFCWR/FNP6HEoSqrwNmKytAL/nD1F8LaqIiSLgtJHQwcieqyl0mQPXNYqUerigQwi\\n\\neVb4iCcCWuFipPZqVgTLUAqCP8Nlq/hKVwfIFu+FIOgqTdIECTMPCTYk84ilDUdIrbAxJcYlakbC\\n\\nSjTCATJAS7TEIlDAIQ7AEy9AgkvoVlpaI0oIJiTAOaIG/vJRaGRE2piCKZyCRTZNBjyPz+oNCRwK\\n\\nKgQDW/KplpaKY7vMyqZXgg2ioDyp8KSqKfgko1GC+TCUJ1BF8WLip/p66S7tAMIAKC7Olp4MPaDC\\n\\n1KQGV5gqJmiMPNfFJ6RCAIpubmLogXcAdxxAM+biXAaoEypNZHmCInT33o5xjiGCqwbiAmRk/wJs\\n\\newMEDl06aI4FDZXMuFyiL6E4AiiU4hVTArOVwibgR4hkQCIlhUsiJfzy4000lkVkViqUIJtGQoV6\\n\\n6SmShwL8RWjkBymSR6Xd+CdKIhevmG/0ZKI6jSYwCV49JSQQ4HMJIJOcxT1z5U36aSDGhbrbUJQL\\n\\nT6zRRCNkAKL+JUYvADgduiJuZVPmeI7vhaVwBdDMkb8ttClYQFcmTLIGYgdg4qfet6yDGtEi9KH8\\n\\nBIIZnK/AKq2SIskQgCJWdi2+ZylI+CKvZ+8gKvWkQmhU7eIShWTxLQMgIgPGWwgATRuPeD6dzxYJ\\n\\nuCqSDzQVJgA6Rhh6EYEnrElyJU7eBCd0gv/T3kJhssKFpQP3+CwptGoUDxagD02Ma+fRAAScYQUo\\n\\nBqgCZe0YZ1QfjSB5NkD4tGes06K7nYdGmwUpnA+Iw8Yk27ITBUF7DECIOieoKAUBwkYjUKnzkPCr\\n\\n3KyhXJi8vUe7AMRdEMgZvefRmmdDfGICHELQloLCgcUiDoBeKMUiikJexjwt1OxTVmCPRYZ6GILu\\n\\nbrZaIABgmqShClqm0BjfPCol7EijBqIX7+ciFqqDUMnJlRW/ByKCLHI4lbjXZIV2BCBs8omkKggA\\n\\n7FcmxlvxpANcBdSFh9MgXTBAXeJuU+LeGEt9SbAhUHk5BoJNPuWIzTGA/IdWHELtWnA5hGT/TnT4\\n\\nrC8yOpj4t5biRJUnRPeu2aVjWIGCCpT50+7FCjaEfvzKOaEzJZ5IG6s4+j5ig84cLIaLKAXUHQVC\\n\\nWdyz8YzZJC6cO5tCWpBCgPFDALoFMFa4IPyMZ6/lUQBLW+sxyokTsUH6TEgeAy5C7XAFJECqOe4K\\n\\nUxqithEgBBgcVyagh5oCnWh6UNxi1dwES4CgxkoiGGSifACgFrjCTibVzuL+AH634VnghvSegfQk\\n\\nhTAKZfdMOgwTCBweI04WGucY32bFyfyH1maiAp8CKeLbLRgI7BPvICqAL1zFAFKG1yYiA+ynsWql\\n\\nKRh8G7+sfkQZKEQhqrbMI04iPiVeVVBF/83i4kTTIin6RHkAiDNxrRNlIpmlVleT+aTeTKQ19ISC\\n\\nInKExo6ynX2mz5Di6SS0EcyasvI5GlXSqikmNbRsCbBdqU94tiEWOlrBzyAgr9eMaBZpWmTsTFcp\\n\\nDao67wBylqSscU5KokINUwJaFfyc6r8AggCAAyEECBwAAEEAAgJlDAhwgQGBCQMSBGAAYCEAhAAw\\n\\nZgQAMgDIjQ8HOgAgoAZIEAAo/Bg50kInAQA6TdgoEiXNCTklwIQAsgPMjwDCrMwokuOACwIqjgwQ\\n\\nwIDIqRwBPDgwsCMACTlBDhCIQKCBj01BjgWQICTSBAjLOghAoQIAoB/H0gwglwJdCwKBCv/0iGCk\\n\\nAJYAQFSkMOBA4AAOFBIYIFUAhQACEJyliXKAgA40c4z0mfPCAwAVsL6EeFOCABQIDlRAAOHAgE4O\\n\\nhEZ1wBaHg8ojMwCYsAGAgwMGHtAFejYh5QNQQWI2YBEqVrQGBFxI23QAxQQXAkTf6DXpAZpjvWcc\\n\\nmwBBxQHqq2oWkGESTAevD1jYqXmCwk4VGPqecFICFBCV1VA5UebcRxx5dNABFKSVEQgESFDDYzwR\\n\\nIAAEBBD2w01CgGQBSAkQ0BwCHQgklADkDVBSSVMFAAELE2AYgAXvMaCiARTQFEJWA7BAHEwC+DQW\\n\\nAeWJxBRaIhGgkHoAPDaaAA901xRWO6L/hNVYUnkXFWYwDUjAaCQKl9GAAkgFwFktWhAAAkLIpiJE\\n\\nTzKHF0dpHZCABYHRdRePBwh0EwQhgsQkcxQgsMFNBEBQHUhADRCbUwJ1NaBIrTyJgWfabeSlSAZg\\n\\ngAFIoc4F0gMDSCAQVgFMp5ZVIyG0UAA/iDQrZg+IdCFdzgWgGUycgKQEBgKFyutQPn2lFVtPDjDa\\n\\nbyKxOZAEdE2HKwAYACXsVs4FNiYGCLm4EItIyZXRAEiAlAOvCcjFpgQO5UScdw9RcIFXIU13EEci\\n\\n0STAAcKKGxxaDIjEwA9SXfBQvzu4hhJl6b1E2lADBAfrACcpFRKvOS1W71wPQdBrsSV9/9SxACLJ\\n\\nMFQFlLHYZkYKCXCFAQYgoHJi7FXm00APJbCBQCDJsIGUAfCEAVSC/Hk0eABAoSEEvNI1KrIINSuV\\n\\nVFXd1NKTpWakKAA2qoUgeB08ZABG4kK1KGUmO3BSQi0xcJYBhiboGmSjGkCAZ17nNCoGWLEnElbT\\n\\nNVp1Uzk6IJVvq7b1okGMMfdWwzk1CxUCiG+kKrVv+Rya3IGZ/OefmYW77KoKoeWl0t4xYDlrld2p\\n\\nKgI09IsTrwytjBIKcwUXwAaXl1WZiiuAlALxOJ30gMlhLDQ8AMUbqTVlxQOgO3h9LWTyUGQCkEFb\\n\\nGadJokiTVafUt1hNytBXOaMFwBOqCP/kG/dBgWSICQBQgeDQRJxgAkIKQaUEEpDIZLACSQhIQAIA\\n\\nbGAq+8PCQzBiAkMIJAtDAQIAQmCIP8GoV9TDgwlCIAEEWGCBZXmCCcDQE8rsCzJDqZpa4peUVWHg\\n\\nVgEgBEpYcoBcIEACP8DABRAQqlqsxGK7qs4GPKc1kPyAJg7gHFGEEpLsNWVlquLJpryCFQSQx1EB\\n\\nYMGdcvKSA1gBJWrZgdVMRpmBNQUB6rmAldgzHir8RT1vsRhGKGi7cjEHJCI4yJMwwhCQUBAAQglT\\n\\nmiYglZuoaAD3CRvCMlMuqCSFUCABzJOmhwKBnGQxYQrMdMY2GhxBhyfVWVWx7uccAYz/qitdacup\\n\\nTEYTAuwRPAYYgFwM8JqxMMAjIDDNrohyEcxkDykBUM1WRpSmJx2omACQgU9QcCubdQQBvpHNQlRC\\n\\nACieS2NnYs5ZIPQSuK1HkjjhSgBm57PdCKBtIfJOBgQAoZlBgF97ckzACoDPfOrzBghTzb5oJyQE\\n\\nMGIhnRDIMC+QT8ywalXag0q94POqu5wEQ+sTzCkzIJIM0GEE+WxBDAhQAUXRhAT4pANNDgCUEOCT\\n\\nBvPEwGTGgE8saKlIA3EBPk2ghJNQAJ94oEgL9FmC6SSvJh/oKKewAgYY5DMSAOCAygJAh6LicwQ+\\n\\nywgagckCg1R1IGPhSVY2ODQOwBMl/xxYCoteY0sB3CQA00BMFNs0xSWBhyJKI1UyB5QxOglzhWlM\\n\\nzgH+CpIrDWgDjOAeXWa0KbiQUYtKOpN5NmiAxvxNACxoE7nMwpzTASAHWpwAz2iyAQqgYGggwZqX\\n\\ndrI175BInYFJEzxldpZ5npSMKAFpYDgS2Zz1BSUzyhAASqYirHUgeUoxWXrOhBIJpIUAnRhJAm6l\\n\\nS6woASsesWuzBqJCk5FvkaThl29G+JtSCQ4kWZqkxrh2oALBZFFJDAlQ8gcjTuGEJuT6gc8M1xyo\\n\\nVOAh5yJg1140JhoA9iLe0R15pNIB6MhgtQlY5FWbAwAs6HPCBfiAzFRo1a4cZAKC+P8WSP43gCLg\\n\\nEwZyG2ZIqoqqJAZgenNBI2ZENhUlNdF5DLHCDSZMBAA0jwMAIEI+fQarEhSgBcjNiIjxKZAxjeQI\\n\\nP2aZBwqQhI1EgsIjIJTcVDDhE5ypX1jW5wlGcwAw3FifH0AjyOACYa9METPBIUAGqsocsXRHI7Jy\\n\\nqAEuMCAgEcdbeHWoF4ljEZgMoHjXJc+oaNs23hBHVXTpM0iMsJDW9kzHjxaJBB4yPRwkJVVYkYuU\\n\\ndjUeiDAnXgRgQFVcxpDhWEsiGGCBqb9VNAyMRRAk0ldXYHIZ8l6GXxpZDEJqzbuycg9WCTDnOwMj\\n\\n7IDhjZjxe1nI7GKQSuZ3VLKE0HL/rUVerJSFOMhtbZLJG76NWHIAV6hkRgIGqxRgBAHdUUvw5Ds0\\n\\njHjaxFlRpJVgEjBXOcAnXLkXBWrJApKwDFYM2O8BTHUXVqGzIxYYy6Da+RoVvQoC6rHADkizsKYQ\\n\\nwMcUzmcJhI0AjAxsOg+F53281mcMPRnKBLwqnlvSqaxUR1U4cZt6o2iXm8QAJBwtAAyYXAAVYCUX\\n\\nAgF6he0zkBDdmATiIsBP8fmBhqEJACfQJ3sDcGMTEOAJ+RxBEvLpBpL0HAZPL4BsJAD0Dzz9Bv5c\\n\\nuQvKjoV+oamA2pIKzX8TIjB8iAJCqIh+Dxa4igzJASWBQB4Y8ojpyAYILcoJQ2iS/4GbtK1hFTBI\\n\\nONWcEb9kr5bkNMh4YNIsB4To8+cr7WhUhpLbtikBM4PhaBlgkRDySo4HgBhGilVLkLBhMpLHigNi\\n\\nc4A8gEQlM6PTAwhQITcn8SE54cjpKqoRWK2qXhS4il5cZZm0UaciCoHOSCIXIgIgASNlC98p0wsA\\n\\n4a82Iynems2VMhkWMGlVeIMKC2uAlRwIpDRuFsig8Aoh9AIVD2IWB3ErEmAqmUETWnQReHUSkyUQ\\n\\niAEjLzEBKLM1hMEXTPFiHvFXyWMBB4ACqkQBEsAAECABCJgwACBg/qcTU4dGUzFRTiJolFEdBCBk\\n\\nQ1YEJoAFqmACJKAKTyAYapEzMf/WOwiRAGaTZCZEAmDQKiMRKqfTFWhUNAhBJ8mUTFsFPYJgMoIQ\\n\\nACQVdIHxdQUgQABAAmOGT0cAKloBUyqQJl3YZfiUBAiSM5WgTzAgHAEAUzfwJFVXYSDxdB4gEF6o\\n\\nh2iHT0wniIIAAD1HAjKTT3hAAGHoAUtyaltVV8z0GKVDTAmQHq2FAKZSEQkgGx0ROdGGFK1FKBox\\n\\nEsKGNRaFEgwiRUoxFp/3FBXjM7fneARAbRmxAxjhQ5f4FJ5UL0zyQ+tUHZGVAL4xaMrUb+g1NA9B\\n\\nQxIQGQ9BBQhxElChWw1DGt8iSWOBgJ5iVQmCGVgDIVViLZgBIZNSTOl1FgdxaRf/I3oWUUt30SyN\\n\\nlhFyMTLOMSt3+BT5AxPk1BsiUVZuhhHdkxCh4jS1hRSQZC0QtiAhUX9f0yxeQgMfwRY0wR4bsQO8\\n\\n0mYKYhaV0yoLIhIb8BCMVDSwRF4jsYIJkQEyw0bU4X2a2Da2pBCMYn8CYGoAIFVjQElLYmko4ylO\\n\\nwQFsohkYMAEVYAImEAYYYoQW8RiOQ0aTQAdjRBkEQAL2kxxQBABHyXSOBhJtAyFUABKDkIj4VATF\\n\\ntnIeYAA3CFR2AgBKdQJWMWUTVgJIcVJmWABzCRJFhZdPVwIisXJv+QA9Fw0gcYMlIABSVQQnwYeR\\n\\nCAYt4AI3UIJ8aJjekRYzYzXb/1hA3mhBhXEUhCQi5FUaIKEaZ5IAIcBGcdImdTOSqyEzFzQQFjR5\\n\\n1Mhj60RyLWIWqRMCbUMYYJkRb0FAKLEurTESTlIDNLFcHSAbKzkAGLFOljEekyGcXrFsiUEDUtFg\\n\\nFoEncuM1B8AA95ECRmJBsRJZx2QQgZYWgdZEoUZb4vMRY/IjXQkSvMkhI4EnvfkVhBcVoOgpAQBF\\n\\nZnN8WbNYqsMYktQmO8Qr8PQngRE5rFeKIsGgabEc58MtldcnSIFbnQlFgxQVp9N9oJgm8Fg1YTMd\\n\\nOfIkqmaiRfYW9VIa1uFGVsEr3XFnSYICitFgxikSp2MyKeklzMEibJEUltNeI/9BiQAwZg6EEi5V\\n\\njgQQlyNAAQRAAzYVdBIWdLiQTy4QA6YGFWAnAPm0UTc1ED2HT0QwKcNAAB7whneJPTnhERdZFtOV\\n\\nTxIBAGc5lgUwAmOWQCJRAVxndr/Rc3V6U7K0HD+lAl3mASCBB/i0cxqBA0AYAD1XqDuFT801ADdI\\n\\nBJBaADEgF39JHCxiaoeJT2OAJlNBE9eYXw0VMRNRWk+yVhTRKAGgBA+BAJBmk+yxX4zUfPt2SkoD\\n\\nIU8xGhz0S82CV9MhQh0hBPtphOATHpExi+WSNXnza2Q0KdACOsWHEhTgGwnAAgPwb6uyAjsHRTuA\\n\\nRheAAa0FRW8mpFThFVWVOtf/hSUqpBpjsi/r02C5mSaz6SiskkSUmJsEgFdfAWFy41Cq4UlCAVgj\\n\\n8QBZIBCE4Xjod2sghYtNqh0BYARE8UgHyikDlBFKUFWLUl1EUR605SUHQSJa4hwI4RCkMTAbgRs7\\n\\ngIBQYBVQwDl2gW2ViKMJMhUhIDoZcHeM9LFYIiIPoBAPACHqZBD5tHPKoV8IYQhGSwBGBwReSGGJ\\n\\nQJ/5hBIdNWLC0nE6qUp8mGXI+hvlcRK9OAAcF3VYcYMnEAAq8AEmMAH5pEWlxgE/1QJjMQA3AAMm\\n\\nwAD5RHMBcJZdJh8A8FNRBhPTYwL5FAJlerXCUZhHFnWhwpdPkj0mwIcuoCtD/zEp2uMjrHIq1nIQ\\n\\nFqQUUEQx51IYU4FLIKY1Y6JZziOkrYI9MEEnoYhfOYEZmmWSt7aPVcVQ0dMjPlQnRCQBPxRyEGFq\\n\\nCJMWDHAuFIAR6UEZMnAyT/GZfiG6KrFO9aIsNYAQ+3WHTjE6Y4Ug3yQixqk9iZERtwITcgEjkHMA\\n\\niMMcaYEBIRIqDSZfadJaxYN0stKGlNRgCAExSQRLFxZZUME2A6m/2stCTgEVcZMZWMFjFkUiYtGR\\n\\nVvV44gQrpjggWNFvAcBjEBEV2PUSBBCeyJREfzJI9dIc1YFfDyEQLIADokMdMBE/WRJLzCEXWlRd\\n\\nUWEAUPsBOazDMDAGuZARPf/XAjCFTycQBitXADdABGD6BAjhhR8wAIU7YWMgA1KlAkQApS4gEKTQ\\n\\nUSUwZiqAIR7BsCPBl22hVAVwAgNwtF6oAr2SFvgkQSgBhGSITzdAQAEgpUcQAFSbEDGVr+Q1Zi0g\\n\\nEn9IGGXsAU+nZUJEyMsiAIc6xyagpqIJTGZxYtSSTPsCRVQwHmMkHCc4Y06DIYpnVXGDN6eTHKJJ\\n\\nAJPnHG2jODqxKnfRKNc1KIUkVzTHEd+mTG4DPSMhupMhLQblRoqhRQgABCEyRd3nWh0xJjlDvSDy\\n\\nEenFRF0SHOaJjaMRFcwHGmQiV3V1FopSuUojNcbDmQTQPJgEFe9FFx+LwgP/s7k3eoqpYxUGJb+4\\n\\n7LyaRgA94jAioU7KYgAXHG00V1H9SFvemyZYYRQAAAT78pzuJ7pAQUMuSHMYomQI/RlaUap7K2BY\\n\\nMTZIZy9o8jIgwhhN4RcZ0Z1G3HEkgAEVkAJCrE9HkAJC0HMqkCgEMGYeEBgrh8dqqQJadwCggE9e\\n\\n/CRdVmpHdgMxIAAhoAIwkARPsCSGIwCoR1cE0HNjAFJEWoickBYVQKUFkAheNQBP9gEPEBwUALMA\\n\\ncGQjAMAhYFMq8ARe6AI0IWJRt7pECaUqgEJtiU8e4BkI0GUmUMZEsCl2eiYgBbVjwBaacUrCNFPf\\n\\ncZI5IpRtAwGsxxekET9p/zEB70QAxSMvfmcfLQNh3LIR9ugzHXMTCdBbu8IYn1kgBvBexZpMOzMA\\n\\nnkFa5cI5QJu7iiHJVCAlC2xLp+KjW1IvIdABWIo7FZAiyAmvpzwwBxEuA1IBycsAEzABptEgNtmK\\n\\nfWJ+IzEZNYKnzRcS/9lVDOFVF3ASAhAiFBAiEIAyw1qyaVIVqkJD75UisLRaU6kmhELCidYcCDEZ\\n\\nHIA1A+BMXiMWbWEA8vdYJzGeXvONMSES5Asd2jUgg6JAt7klWDMBPFYaD3QRRiAB/rI7mgQ37MdB\\n\\n9KIiTOFPAAoSKclIiPIRiHRnaUKAvWMBAwMydGkyXNtx/8YsAmCXN/A3UP/aAjugGWd7EzfoAYxQ\\n\\ndnQgxkOsNVJlP0pAZkSwis0cbUSEARBqp9YCBvm0xCOCAYbMTAFgU5HoFRxRmCERho7IcYmAEGGe\\n\\nICCRAUc+EvnUPwOh5V22iH6TT0yYFSQQhgVQCdNhgpHEFeUhRa39JI1iFYDDfErRPC5rADhQc/Rp\\n\\nZYYde5pFACKJ4BJDEvflSk14kqvrlF4RGAPjoCJxBfhczhkxkQPxGPtcf83tWFdiPeL8UOObkDHG\\n\\nHGj0A5OBfBlhBZABKWMRTb9GhVCxV5TkE9U4ElvS5muVPEaiIrxjSwzXEeHCiyJR5a39XqYlHdGX\\n\\nkIGV39GBBM8CTCaJI4L/1lSnohoLghlYabOxlGGxIiTvkT+NQVGcZ24Y27MDoDiRs+z2cq7nDo14\\n\\nBGIXMTOGjTYCkZIWEGhak8FpYTGjahGjobxd8QBSlQQnoPEl4AEnMJcEwCYBwHH4BApcA3blwnF+\\n\\njZOFuPJQ1hVzrcNyviFQmk85zRB8EieDFBw08WMAkAVqDAD2hXw9p3WUIWFsWD2+wRBl3D94iE8u\\n\\nUAIlMHYlQAf4tBE+IxBqmWN08WMnIqVs+GO8AsVseMCxdIMtwJzPCtC5PhSDgyGZtxCjUYOZ4TPV\\n\\nCRf+4xyqbTKIgRCrhK9K0FRBCK0ztrHCtBM+UyHpVx5AET9imRETtD4B/2AF+7IYrLREALwRM46f\\n\\ndjHfSxE41XES3XPpMNZUUWF/zZyA3GZzuKEiY5XgeQ8t5CVbG/SZBAChFmmR9an0Z9E2raWwOiPJ\\n\\nnGKSLooQrJO+tFVs9rIY6eEc8NwVHVDqaRLoQNFamhw/VgAodlcVts85T5U9zUETAzJRrnu6FJRN\\n\\nbq6t4R84fOEdBxBw304ijAIAV8B6Q7Mvr6+ColONu/pbI/r9AJHAgoAKFhIEeBBAwAELNwoUMJGA\\n\\nAAABBgQYDOCgoqqHBVoIAADAREcCBkK2eOghZMcYDjoWCWAgAICONTuaQADgCQybBSbOBHAAwEQC\\n\\nHUIapfkwJIASD5OEFP+x8iGVpUk8mkQaNWkBGgICNO3ZEWWLpUMBeOhYAoDCAAQ6/ggZ6WGLBCRD\\n\\novU4oC2EAUNHFoBhdm1IoCYHS5gIwGTfmAf0CkgAsqKBBCEHVJyZIAGCATKFBpjZF4BowqVDZgjp\\n\\nYKnhyoOWKtRrQHQAoYZVGzAJkoBooaZnogjJIHXQnGWprk3wwMEAChcqJheAYKJuJwlQUzwQs8NE\\n\\nrWUlD80TMnzGB4ovGAgUMkvIBwIEqBbAAuTM6e5fA1ANoHjvmSDxJyZAoQdy8ooQkNAwCYSQLKBA\\n\\nMpAQgIA9yCALqbfi1sovPwKuE0yjhUA6wL3EoFIMAIMMsyIkECZSEID/8gCoYKniBCgpKBkJm+kA\\n\\nmWhDwD24AMhixrWACsm1oDjIqa8VQuIgpBUkAACxEVMoS8cAEDgAgQQGcKytkGg4QKgKENCSIgEu\\n\\nQyC0AWIEIEL7/FsqhI6Cmsi2kCYIqqYkvBoAl44GuGA0Fx4qYoAYOgqAgY4qSOyAjqI5wYMSIj2B\\n\\nxYlUSUKFjlQyiQAHgFoRABBikKoAFQctgI6ynmCJIjAeeiKj+gjA48+heAqrpicSE46OtO7bylMA\\n\\nUMViq6EEQLUSAFqAQYUQ1irioREC0AuDygCoLICDRuPSrJkMMylQGNnDsCyzWOurvJkUMgCB8yxq\\n\\nN8D8AKBABgApGo6C/74oyJFcEysk7NoOVOsLARFYDMkk4eg8jYAATSsxg5hgnEmGmdT1V4mZfjDg\\n\\ngM0AuOCAChay4Ke2HCtqKPrW8o9Gl4ey4LPBQoowpOlCAukBmbwyMUciKVirZpyp7c0/C/DFL+iQ\\n\\ngKZoRP8okAChEBWb74CJmJ5Ir3UJSIhIjBek6AL62Dx2KKMkQCqMoBQMAIV+CQjVKAigdIDAifFN\\n\\nAEr9cF4K7qPg9MoABxgItIIGHwhhswf6Wo7ebROQ6bLKXgRJbzAnOmi3iQnI/KehPA5BptHKIoCE\\n\\nh1ywQHStLxMAgwpGsEmoB8AqQF8CfH2IAQH++gAAUB66wbDROhpGgP8HJvHAhC9B8YAAISCIAfYC\\n\\nVCJAtwlmmgADABjBYKIPHpoEAI4K+GA+kEwHDIo2m5oWgAnUhwCK0h8KzKsiJi0h/44iYX/mW+lP\\n\\njAAWJj1DcIJ3bZIeHQTwO8CEBFVEGIr0ToAnhQALKMIhjcweNoDqBaBBErgefQIgtCiNBmM3k8CZ\\n\\nCAOnO+3maIIRjXA4EKMduG8iEaoeA4CWmBGCBgITuR4EOKEXIazMgjnw0lJ6w4AAVIBaAODAASiw\\n\\nAQjI5AF6o5H7jGAADlRmAOVBQAYalAKmmQQ0NAPADh60FgitJgMTIMAMBzABLmVONjYakgN6UyHa\\n\\neIxPgrmWhtbCnDT/BSpA2cqajiIDmfYYLzUWAA1oHhaAJfEshku5zGsIgIEASCCFoytLDgAABX3h\\n\\nRy8hoWIcj5YfBOCJATVL4mg4ERJRAsWWCVGZ8xaGAKAN4Gi0EU0FNjCUAU3tiYtrExSgdMFB9gYC\\n\\nbRFgiBhTwbWASSgX0IgDQoafKyXJc2lCQNTOOBiwfIAE5zTBOUkAikShAC81UcsApFeAE3hFeok4\\n\\nE16egpfyTQRKR3hIpQLwPY8QQFP0fIxVClAEivSFBZjcQIC2GAC8wKAFB1WezSRwgoeoZS0OIYHK\\n\\nlhJRjtJznANYGO9w4BBc6GY30QqLB2aCFxdEAqOgAYsLUPKQkAKg/6T0JKgK6AiZAUDAMWLz4NB4\\n\\nNhjDOIZGHrwY1TC5FPNF1TJeYZdmBtCXU4ZGpBWaCBhnsszsIM0/ViMdNbnFmAM8IDvC0REPzdXJ\\n\\n4IQEAQaQQJKWM4AtJeo1rcOXBO4YgGECSUt8zQkKrgVK0WzLkuvSj9ZiAhrhJQwoD2PiUGSjlwsw\\n\\nAAEv6swZ6XNKxehlW5ZVzEyY6EkiMcCfZQFKZzYDmtACAAehyVq2LNi3DWCgL5wrDicJYwACCCeO\\n\\nWcPZp6JDragNQAIvupZok0akiM7HZnDKSX9wxoD8iMsBIWCAzhLgANwUtm9cAg3P4BSAEKAVBJyx\\n\\nTmR8uVWWVaAvFv9gnS8RwADcEGCnuboBaBhYgCTAVAW7QdVcAMpTyO20BAFwsAX0xhSxLLgASjhL\\n\\nRxJxgnmSCgIg0QxIwiDi7BwgBgcVC2d+MgCCkkAoHLkBthLQAQp4TCi4GsNw+eoVsJTAdCqIAWoI\\n\\nNE+bmIBGFEDxXBKGg560IDxccohNSOCARWokJla+Vme6dSOi5Q0ykKNXAJoUFP8ggANeycAa+3MQ\\n\\nAWRAcB2oCEVU84CJ5OBe/jkIBVDDkPkgID+RwdYLISkBzTA1KgEAwVaTw1WZLQkAKPCPl0DSgXYJ\\n\\nDjQyCGcF5FPcbhGgQSG7Uns7tpDqCU4GfZnADjyVRALgoGlrKXH/ZIoigW599kz+geOrZ1KzZ7qv\\n\\nM5+KZIR82Tcz0pkAMcrIJyfGAEgGYKhn+hR3g/YYQkdtR898bl8W46XdqMaWBmCif1ZE675IYG4V\\n\\nonTYFCOvmbRoQPACgNpE1UTQVKBjFlFtQtjUMf0IIFDSCRUIJuOxKx1EJhaYgPHag4CRCaCLCYDA\\n\\ntS4QzgNohDLZ+ZhiLhcSRuGLAHypYMcus5shnamCXsFVrqYFgSijbitEcNRDCCqWrQoAV1gIAK5g\\n\\ncoBlvq4nKnFgWE6gRJaFRAj3xQCefBdleoJyMB0JgSAAALuhT0QI2qNADQ/6BKTl5wA79QDVkx4A\\n\\nDLQnyTVJzACw/8D0EzAiJM9ae0cqxReQhCDlKugpUtjk7XGyBbKDicniAnABvaQrJHpD9pD4VpaO\\n\\nA0Uon1JMTsozR5v5BgAYOBoGHFCypFWPIiZB9tGGjS8HHN2GJXO2mZbywtP6Ry812Coy+WXUNvHN\\n\\nCCCBglCoBIAVhCiKAoBLmEZILqFgACTMCYnba//GOBp9133ptVeULrT+kBZi/FLIhUrzd5mkKalh\\n\\nng/TlC4AvemuNFQSSllBwy8AZAC52y+LSQQ9yuu1SVtMwtOIhiKuoo7GIhy3IQAQguxYlzM6K6sC\\n\\ngGFyImSrOFrSnqRpmjh7gCahgDMDEaGIEDXKGZy5jCSSpLVor/+JcAzSYQwM2oDsCQpw8Q+iODub\\n\\nOAICUCiIiJKSGgElYImZq5Tg6IhdiTI8OD6z8K+ayDHLiIH/KgAVKIIdaqrLYgy9QK5JMIEYeCgV\\n\\nehgAcK0ELB1VGBEOWBhXE4yVUYjpcBgAOCcCSJPKE40UUCG0ii0AMAQTOIAHDBDCAoBJIAEM6iB8\\n\\n6QQSwAM4qh7teSKSM5fR8ApPMxcVYpkz6gyhCJAmoRZxQSvdkCQRWiaIScAVIgwxTIGZGKbZyCIK\\n\\nuJm0KgvRGMOFIQ1vWRgvAYoaiqTq6bZTwhJC1A1WNIKQqMX7G505tKWlqEUomolNxJaQSBFQyg/1\\n\\nMgkDeIDKMAz/IgEN/jANM/q7CmEaB6EmoImJ2tKLFJqROjENcbmboYHAXjQA9uMhIlkLAgiS4AiA\\n\\n3askvmmZK+E20bBGHBmMEfzAkCOKK1AMfUyjOcSZSLyXoUCB95sqUKI1YBKg0GCLCtm4BKiAEEEB\\n\\nvRiICuoR46G1KzhD7dsbzlkq0eger0AqpbNGmIKBOXIDE6i/M6Gg6zEAMKCNOzKXj0sn7Wuz6jkn\\n\\nPFgL88OXHhJAPAmDCei1DzMboIGAKmoTvRGK+RgQnLkWA1A6zwvACFnIOzqaCwDFzwCDygvKzDKM\\n\\nOMsIsAGlF4oOqlJFpeSgCtCe6BAK0WCOTOqW3/qWkAA0iqCW/5/AqgpcIf17pnXBN+ewEQI4mgkI\\n\\nzNwYMw7itRfCHLnMjBeSgaWJywNAisZEPcqhF95LCD3qiyy6prLalsZMNhk5gCapnj0KivSjy9yA\\n\\nkh+iywMQGwnIDyrxPCh5kdWoIEM0kSYkEpMprpsBiVe6k/6Yjs4AxxhhoQAQJZDRrk/xx8Xam2D8\\n\\nF/cRjoWQpF7aywDqG8CkE9FwAKIATNUgirIZCja5ougEAKMggDBYyDiTzrgcRAcAGvtgzB05K6j8\\n\\nJcm4ADAgvwYRgISjDa9opQQIE7YUjBDUjwxIk4rYkO7DlpzQiAGgMgcVTsJw0KB5xzDCltCMCQjI\\n\\nCQp4JrD4CP8MKKKiqsu0HLMNED0N9TzhCADUWNHRSAyzzzzI0L7Q+vgABcQkH7KrOlCAMOoiMB3E5k\\n\\nAgrOKA4DeCEH6B7LCKsA6ZpnmkPaSzorXAvtOQhtmQjyGiusAor58yXXqgHpohr7wCYTAdA2eybR\\n\\n+D82Ag3huCvdgIxAoYyc4JxO+haJ2ZnwhBzJEBwdgReZuBYwIxjRWwrvZNHKKAkzCkaE8Ir3SExR\\n\\nqRoiXZARyQnDgJIu9TgyCQntkZiZSBN7RIAfkACCk4DGZJ2WMYkrshFpMjaj4YCjGTOBWIt5BJjo\\n\\nO5kcGb3ECwp+6UrAo0sZmST7A5nwShTN3A0D2ID5cKI2ycz/U1oY92AaMusLpwIJDgAN43ORzyuR\\n\\noCASPOEAyOMqJoEk6zIJqPGOyQoASOK8CYhUTQUNb7vTFZwJ+4qs9sOZTOWA3FAkfwOYS12LHZgJ\\n\\na1mITI0M2TgT3BCejbOAYn2m3uQXwGQAc4tO3ZEJsXER2vhWzigPzxu2+WoiB/2yqQsoj+EXLrmv\\n\\npAyUipibGR0IKJGIQy2OJMkuqUSioNALzpiPK5iI7MrFoWjZhpFXAoDNCrjY45uIFRgtHDkTHfki\\n\\nK9SZcu0k6xyNweuRoagZyJtSspkI4LiSa+0qAbAYF9GRDEgOB6Cyohs+83AOylo32Ogag3uPFT1G\\n\\nB6U1YLMC/y6RjAQw0V9rl6Odmb64AijxQhzwHNsKCSAAuajKiMDzPjYSFobFlsDdWTNEJVEkACCo\\n\\nkMpothgxgFOjkc9CgGJ10QlzD0DZDQhgIjqqkavixMiFUp7pjQAhrg6sIGerDBUyR6waPxs5xSvZ\\n\\nIyKxL3qLNGqpACbCL2ky1l0zouLYPf8Ql8IqrHEaErGpLN4zxdk0r4/bSa+yQsgjzRVyrqUqwIQg\\n\\njeO4jnlJAH2xCNeMEieKjrsKib+1xYlAjefSnUQVWNCQ2CixJkLcjaJhoieyXI7DHtEKDdwoqrTb\\n\\nWJ2lkf5FUlQxAWejW22TjkcFgMbcG92aiSlqE/c7K/MCt/+G6hsoHQ0GQLYJKKuZiSIxixAOwJMM\\n\\nYMDLS8QnGo1jfbV3rKtbG40SnhmlU7rFYgCrIRLVRA2S+6MomQ8YplkIkQnSNR7h6ODszUMevozM\\n\\nYg4BgqSFYQi9WI7ssJZIQqkHiE59pJb56FE6CoAOSD0AyAH/EI4Y4BIlleLgCNmj2RAVSbuSi13x\\n\\nu6EEjBGi+D5tfYzLgAB+HY1e+wEyGROEIIDPmMM1XBe3pKqGzdeWqSGn20uT05cwedKy++AAeT8j\\n\\n4pVBpADhCGR91Ysw8TcMwOQypSOLYB1zLAvVZJreYJpQ9g66RC+zuAx9eb6hIIAwnWMWerUYaGRs\\n\\ntZpOcSn/NEJSw+DkA+2NGrKiXZ7ZogsQUIQRIFoKa+wUoMkS4hAdiqABz3umAzg1dTk3CqoZ/GqX\\n\\nTOohvhyc62KAYXNgDxo5ZjMWpRkXkCk6nqGznfQ2Gx497l0XOKK8TJQM2CCADVBR/5mZmciAvjCC\\n\\nvnhnZ9oqfguQU4y/9AozPDqTTxoM9eIgEKZLZ0Pb9hi+AqyZ8rASpUOicsVWGBHYOykNYL6sVyqu\\n\\nH9ALJNCdDNiAENmB6xFh0MCTBjSeE1w8eK3CrhrBTfqMrRKECeCvWwMJqcQvhBCN4sAB/whefCEu\\n\\nbrKMrna6p+3qZ6Ui4PUh4dI8YhUbnL1AAK1CZ6NAW9IN/yVS0RHSC2SCouxAE7x2ysiIONhK51db\\n\\nC9mgpt7Y3kE2iR5FACnNXN0xUmqBONDYZwoqEeN6wB2wiEl+QNJqi0pkIQZoTH8dDaUbDS/quBr4\\n\\nid2YCOOyPN8gChV15LYoj4qYa1Ck64p4LnK5xja0QtrCbUWOpFcKN21jgKuGkgLOTLqmjf5AVJau\\n\\nvciiDc7ZDVx62gfQnsWpIgaov1UupV1Tqr4TS0v8jNmUNhxBJhUyOXC8HpA4ziKKZKi82JI5gBqQ\\n\\n2gEAJ0k6tqGQmO/gZ6Bui91QT9HCKnXR4ZgmGkLEnsdgC8oLDQG45MvTUIaDHPWVSukDTqVkD8hO\\n\\nVvdQ4f+tcqKiqlcBYEUOEBuuYjjjw6/26D+6JICUXBmpJLPRwD7S7QtA24Hs+KwVWiz/TpSjCROu\\n\\nqZi2ONbZDAqh3LOSSMY/VAwWzgn8StpqjZzdcEjnGrxI2jZYs76Lji3RUWIHQL8dsYB09Zag0KO9\\n\\n8ZkhcQzJshnRkE5s6T4QMwCJ4Sv4IFaMw1792CPK9VknCYnd6zugsK6lCGKqOJnHyY/rCNLhiJJu\\n\\nQds32cXFsw+TCJHvpRrGQMbsoICc0BH/PKstoyYaJcTfLBHR2eoJaC+h2K93pi9qYY6SRQBI8jOU\\n\\nWo4v0xa+whbr2qohDTHKOL6DyKRFXprTRogmgQw3Uc//GtmR5BCe7JNLEFuIQVKMbBkzar0WkMCN\\n\\nb6mMDPgwhGUZNkuAXPh0vvLS+eB1fMtaMWPGHMmbBDSJM3MqNpPPdc2OdOarzFTGCL2AzcCv0OWT\\n\\ndSG86nFI5dYRDzkzhdCMjsEAA8Am1rSCDDiADWB4A4AAtwkUKXojKLkAwdrn3U5A6UgOCS00zvAY\\n\\niXC4OOsYLYGcicZgKgSZNX1n3i4huyL4LHJwNNqWumHNDcCN8YISTAuAHwgA+eCjzxOCbOkq3yC8\\n\\npXKYaZwscEfjoGnG6jkTUf2hH3ZkFTUuk5GZtThWHB2N7UQAe4mOthRRZosNdiFP/PrOr2QqahKb\\n\\nrDHA/8OwUxjBsyv8VNUQTIooD/aDPIV+NKpS56VQlwY5XecqkRghOKqZ0o8XgA0AjSw71e2iDTbz\\n\\nPjfrspxfCw7AgbL68jTNyQ8cnWQFta6hoDOpHlIcK6DgCxfJpN+NCd3xmW6WS7tSLgIkr5ZGDuHR\\n\\nRsu4IszrDTT3R36soRhN85Ib7QBJScYH4ZGjquWADdgwiymF4YSxq+mXgFdql8GgOxsu6TPZqtu4\\n\\nK3yfCT06JPkCT8fILGr/Fsr4vzYCIcWImdEo1s34lAFg+Fa/Am1pKwFIASZiADMOEIDYAABAgAAA\\n\\nBhA0OPCggIETBgR4MECAgAEJGkIQEMDCAAMcK+IYiP+BAAAoARACYHAAAYKBCAkYlDDQwEIAO2oK\\n\\nQCDAwA4HJy3AhMASgM4AGBywNCggAcwADFIOmEBSI0mFKGsqHKgxwIEBBAgMOGCAQUOZJw8wIPkS\\n\\nQMOIAQhoBHCAIMGGA7O6JEh2YAWEJwEkOAABYl8ABvyG1boQ4sKCc+XeRbn2bk3IJxMAwGAQ7ASl\\n\\nTwUI2tEww8G3KBk8eIoSQ2WFJFPmNbzQ7sGEdtsOYICZgIUDBRmzpAk1gNmrM9kG6GxAInIaB6pm\\n\\nBDBhoAUABB43fHDyNtuKCQ7HBeoywI+ZAywY2GgQM4AHdQEPdIDcuuL2lF2ShGt97oXXBSvwVZB2\\n\\nBbH/9ZVdB8hHgRDSDQQBWzjRV1l6Wz0HGQAVZIXAYdMlZxCAs2nk4GINVQeAFU/5RNdzBp0kVXsD\\n\\nSFCRgwO4x4ADEP2Q2AApYhZABzI9NhAF8c2n3UBV/dfRSTV2tlFYDmCw0gYYIsQAAx8mEABFF1rn\\n\\nHgEiCvDahQpZlQNBEDx10AESAUhAZ1zSRQAYWwIgHwDVJQeAiMyJ6GAMJWbwJQM7TjQYTRw8NBAD\\n\\nCPR1AG01gTnRQO7VFGRjt020XYNJatldVAEkMB2kXBEpplZzWZocQoOJJAADBjhIEQYQnIThmATc\\n\\nqJOYot7VkKkADGkhXQ3RppQFMoGgFQUEPjjAkGnq//fgbAc4St9bxDZ2Z2P6OepXngZU9KBdiRIb\\n\\npl3s0TWdAHOJuNAFKgWQHrMbOTdXo2iWNwAE6YVhgAMWMBCATxQ8ty+Dd6bpbVuKWlDQYO7tOCgE\\n\\nMKX3gKMYBgDmUzS19Zh8cVV2ZEJ3VXcegfH6RpG+mf2mF7bzhcmwQXORJhmLMdPFXLh1fYVeABg+\\n\\nVhB5E11A40E5bPdWBWRVZNcFBTECEZpfhtVRwwDUkNsDCFxQkQyaggrRsqmGG2ICmW400NMNMXpQ\\n\\nBTpxJFgAFzyQQA2G5SCpTAQNOQDGxYZn3WDdXhDfTwZRMJEArKFFkmbCWTRWbDdTkEGYhWNAaQAU\\n\\nMP9AweJCBIAAUB5JypVRFRxmnZaDpi7ABhOkl+gDkC+b1VZ1KbWaygakblhFBnEAYgIPZIcuRRlr\\n\\nKdHmC+nEt0PrGoDZAPqKfdXC0x95wEUkLdvSVHRxkJ6zQjIL2cKatVmRkTm/9lJHtRHkE6td2eWW\\n\\nnlr59aBCBxSuckItQUZ8xIsIRFiAEgR0ylX6cphXYqW+glwNZwNwjkwsMj0hQOQhAxhKep6GGgEh\\n\\npCJqWZd9AFC0g02PBTDxzchqg0COzA0hErjKaw5EmUd16kgxK1FfaIISFrGIIBChgnU6MBAiAiAk\\n\\nBHkMBbgHv4WQpk6TSsxUVhZEsIznID5RyE4WmCf/uRSkIdRigIM2tyrFYaCL0zEZV3agpVl1JXE0\\n\\negqrUqKrncFsUmEMo2aWhEDlXWAHDdsAR1SywYrE6CY+sVhebBWsgQQpU2hTHgU0s7i5/OxaQaxJ\\n\\nCgZihIP5ClUEoAJMFqJEIcoRAhsQ2EUCkIG3GUYzDlhlVwbCHoSczURsk0+1QDWzSuHvMDmkyFIc\\n\\nYACz1KkjGjEASXbDnt0UhHcCM4zlQGYYg2joLUILXW2MmczNHFM4D3qNcFoSEbUZ5jstEQt+FPMa\\n\\nmAzglAURiGsO8pnKlLIyUcQB9paZLUq9aS7rqoq2drI/Ap0Qi3ShDElakgCduAoz8NKSljSCycc8\\n\\n/+ACB5BJ18LEgYZYJEuFYxQz9SciZgZtUgNBQJauMhiEsOYwtPIiQ2hipGBhi0w1eafqaoIQ2N1l\\n\\nXwtsD00GA9K+ZSArWbsTZpAmHYREDQCcwMuHuMOY6UUvXoxZDAUOg6CltIeB1EqM6nw4F4gQQDh7\\n\\nG88FBEKAwAiAAzOFmFENkLkN1QUiRUtcZerH0AjB5ToI6F5KeLMBATjACIF5XQBQQCuBIZAoA+HA\\n\\nsgyAAu5w8TiyWQhcTpiTB93oODtp2HIIYoG4rBI+OeDAO5VQGZzaMq0GSZG8LmDAWqbVd+hBiOLO\\n\\nY1rDWdNCvywhZnPKQ5S0D5l0DCGpdKRD0Spmbv+QhBR9EEITcE33aTjZS1G46BOS+Ga4rwmSnewS\\n\\nqCN1am4NBUCMpoOdIWWHWJ0y5/0kO5udYguAWpqLBRLwHbFw5SWYiRECvzOhwJAlZUrKJ30MEAJq\\n\\ntQeA7EHBd3Yi2ZaExTFvqWVpbLnSLAHwQhoJC2a2hKDmTUxcCgWj/m6npa+Qc6HLbKJ1drKUqbRE\\n\\nQ+ZSzFqtkhewGCRNBPrKQjFp4YWAa50uJUgOSmmpES/Lb3TJTUtY0BW0OAsivrkOREBVxq3pJCwS\\n\\nKJxcYEcnZjb0Njnsldo2hhihtcQAFfjo0x7wgA2URwBKOOYBeiMACkT2MRIwyGNFmB/i2PEgNAn/\\n\\n3cwQgoAMDMkAmKxTdlRoX95GKGSsqQlrWNSUptRl0BVBQMpcRZErsYVSAojRzBSy1q8g+j6b2eZf\\n\\n0OtpB33JKrRqsTufiOSEtM8gHWEMWU5G3E4R4AGDbuGPkYMXkW2zp5vcVsCyRIBBEaADpoqiEQFA\\n\\nGlxhk8F30amY8im04yBTjIBJi0s0kiVWpzdeclmLQiIbRI1YuHxsCQEBZIIA7HkFMNK1kQNiAOIO\\n\\nMJqgRwLQRtKaovWBNUYkETJlyMQdtjgApBoh9a+wwqIsIVaPApidTo0NIYJ8yNIL5yyuFE4XhWCG\\n\\nhdHMEnzEGa96l3I7/prI3QhAARYsiiihS8+//33DAVxKkaUGsRylFZpWBErgKaDWkjEFwAIBdC1j\\n\\nMBowQQY9oTVBkC0XSYB8/DuBTv57tmzrcngFDgAOEIcjjwVdQwImxPhNb9TeKYgDYNKk2gjnblgj\\n\\nCQgeE4P84IptFQEXWQgaL0lXZKxLA5ZvJAKrxfSKQGFpWmVSttDNTZuiXBJYGB+0F7d4GshAxt2D\\n\\nxjrpBpGFOWD53WcNIum9jHtZFBFTsW5uZK1M5dVacYxXWLhQaflKOM5U1HSlZUSlsDcu4HVIl+0u\\n\\ndSKzRSXWNgilLiBO+iBgvdKyvXV8InEJVEACD9X3QOqlrb1tKfwAkMFvJbA1B8wFYhiyf8Ca5v+U\\n\\nsjACxnUErfRIBZDE5BlGjLGXZpHEFtmFT9wOQSSKA3xGDq3R1UwZReVHyLBQHSFE3rAFQnSApIBR\\n\\npzDT8qCEAXSGyqzLHOFKmiwUAJnJwTwHR/hNkiAACkwJWiAcTQSMEjyFUfTGAPTLnUDEMkmOkMDE\\n\\nwkiRtrjdQQwIhiRAXwiMG7lKbwTZAXSASjyAzxkAIQ1Kw0zTdUjLazjIY0zAlk1E4owV8SyQCkJE\\n\\narDFDnRGVOQVYJwHQiwVCMJPGp2JYbwJQ8TRT3AGPSEArbxO6ihFnd1JeogImRWLu+BPUTgNYmgP\\n\\nuLhaCf6byBjGrhHPStkFpQCQOE2EBIhOgwj/hwEMCbVoBHx11EHwlbhoCDodokw0hHDYkBSZjric\\n\\nyYToRMa9R8hBAMO5hwAAyLl8TIO8lqmwAFugxa7VIdtokUHgSUq0YE0g0Lv0im98CKVkHnJsRRi8\\n\\nEN8xgPtNF8ZcTRMNEAQMmgVcgQ7YgA3QQGEwBNgMC4ykxFmxSma9WBcuxO+VULs0hgzYgRgwASRp\\n\\niQ40wkHSQDzaQAz032QcBxkeiUMCAfQty/3kUOJo3VzAi/VYHPzASwiCVmX0h3ZExU9NCopsjgAY\\n\\nwQT8m6sEgCfAY8y5CsGoCgAoQTyShKi8iah0oXDsid3ZjzJ4QgzIwFX9BjsywHQggA7AIxAA/0AI\\n\\nsMTSRJYE0F/2SCBfUIeQ6AtJGJVSAJnDaEZpJE1YgMVgBBl9zIV/LIStNISt+OR+IY/fYA9rnE28\\n\\nfJRMcMRAuNFADBpKmAVckIk/+gqZjUdEtEVgBEDwEER6iN24SRHvHB+LNQX3rYqPlQa+hRF7ZIA0\\n\\ngaOfrVOYZAmoSAgK6NQJPmZjCFsIsiBr/oUvhk4kIcR57Y9XvEVVCEdbYoeQLdoE4BsAGQe+SQpz\\n\\nyaSlJAR7fIyREIu9aASA2N9g6R4kDdoB0MCyFQ5NIJBTHIRAdEQFYMAAFI0dLEB5igEDRI2wTYSz\\n\\nbJhT3EEhSIdmTAADIMEqOJvl1ZppkuRJVP+QA8wQpTzAFZRnHSxEgJYnHxDALpTnAjhCX3xKxkyR\\n\\nsPkKeZZnI8xI4oCLZtAK8UhAoryJUT1EmByixAQMrYBLcc6UBUTWY6LNR4AnqDAABmkdAnQARGGA\\n\\nMsDCgi6AJiwKeGIGBujAEuhoHVyBwDAAE+hoki6oIzxEAAgBAkiCjkYBGACGDf5AeCYAa1DoAvRA\\n\\n6CBADWwAo9iAHYQAB5zWnRTEBHTaYcHGQQzGmEqPsP3MZ2DA06RkxqSRBQRPXK3RTzKXpO1IRbwN\\n\\nbxUEB5Aaa8CIZ2WAMTUlqLCAhgxABsyFAxjQAKBmEfFOYKTHdbWF0jXmvKVEvLDNd0iAAcz/4pGJ\\n\\n4VAoBoJMCEmgB0VsFHvJTsVkJGRK2kV85lLQ3APYCvasB7MoE1eQ0FsRhzeFSVbthJwthASUKtGJ\\n\\nKmV62v6ECytNijGyhXiICIC4x8wwxUmsh1ZwDGDshKb+kM/MSE7IZBk1DWQahm+oIkp8x1ttqljQ\\n\\nhGcaBgpcwI0AWkT4ovshl5fEikAdxtkQUg8sqA2gjGEMWgKwClgMAJLqgGQ5hRgsQMRWl12kWPOp\\n\\n2kxci2QEQXlKpUsY7AKEQADwwILuzKaxWz0dCcWWp8XWIxkdxJswx0l8RZfd3N3VxsnkD/wgl7t8\\n\\nyZm8hVCsp1aBC2WdBJIq6RLEpEYobZLy/8CgBYAiKKmSumsAOMIeLK1hXFVLAcjT2sBFHMayGGzE\\n\\nSkBqkdWQZMW2GkTZ5oR++FPKhM/vKBqoaJR2olMCWkZCSMCWzRZYghBCUBZbZJUuRlFSsQipuRJe\\n\\noEpDyAcBmFOX+dpkEQdEKIkDTh8mPS6SPV7IwI+1LdRaZcthZBWoNOA1TZO0/B7Dfch9nYvx6U9r\\n\\nEATivs91QZ+8xcwzHUdWNFNlsEesiQkQrd9yBJhK2YdFpaq46Js5hZhTtAzvENlbJASoJJVupAfN\\n\\nfYdzcJ9sLBqNRM9FlBl9nGx5WsppUIYNjO8VCJwnjC8N+EdJldL3EKZ9fF+laC0PwMdUpv/BAkSB\\n\\nQSwoD6QNYZLgcC3E+C4Aq/nLe3ju8MWuvNWamvHdWwwaTAjfwMaHMn0iZ0EbANDA/latJPgEAuCA\\n\\nByupJGiEAVftAvAAYglADAhp1R5kcgqNV8jCgroSMyWADaxBeV7BABgqEOEhV+iHfBjAJLxwCMQJ\\n\\nVuSHX5SmUs6QA29MVpXUbBVE/whcnEnLTlXcQKxSYyKQWrDFpo2MEjQXFz9XA/dKx1lLC3krVtCE\\n\\nuK1ZDlXV3gaNGiMHTLAb1z6F1GrZuYGUBx7PVhSONlnIimXaAs/H8L0P8nUui5SXUvwqLj4ba6oF\\n\\nizBGj82L2ggIOlWQ0ETPW+3EKsJuyAT/wIORhHvgbVcY0wZkjQAs1bpoQXnuQUGU5hZtImZo7QJo\\n\\nQZZkgAR4sBZkxSbVzy2NmPfJm1wAkNLqQFIYgDIXRA/0ABPYAanlLXtQ5n148BJALnsxhXXkhzGd\\n\\nRArEC8IRQNEE2WKulIeZRVuUSHWIyVi4CgB0QIWRmXDeyADU6ABowoIugQ487QLIwFvxwf/awciS\\n\\nLwHwQBSIAw9sAQ84dCyXpydkUpSWpyQMgA7871tBRH8tBWswATQzwaOZqgzkMiwQBApcauqo6M/Q\\n\\nxRQCQI4uQBqA2l0YwNNwhX85RQa0xNbUiUogABlt0mcuj1wMSk7L20+H8Awt1GdIElC4/8mgBSKw\\n\\nuIqt/ONQldGH3AgEGB97Asv2xoh9yM39hJeo1NC0jduHwJdGGImIZCQkW+B/8GvqvsmQvEbfQWhN\\n\\nUACbEgCVsKMAvEn9SIaofIiD1EjHmJRDVKdxOMTnpYhaA5/oqYgJtgUsadSp5cA9gVT9QlJGQqFG\\n\\nlEd0IgfZ8VamlNDbYN0EVUhrZuv0XAAC3IibVPH/nvYjeQhJ0MCCboE23XZ54i8kXReR3EVV+AUy\\n\\nLZtCCOkS2M5xz6+YIMaRCDc+/W9KsNp2bjDvRM9a+MpjfZc3j0wQbUfMSC9MXM1J9B24VVyXWVAs\\n\\nx7JUCoAf6PIClEFB/PIdIIR7l+coJP+ALdoSA2B0LOsARdnAgkaBfbzwAjQul8RoVWzMBqTHHUQ3\\n\\nkC2a11E3Vzp4eQ54QbAEbEuZE25Nt/yG8xZEPo0FTRSHir4rs9YJZOaOdYjnzA4ac8LFM/qYqeXt\\n\\nY/1FJYVglJVR4jCh/pyEUJXRl8EgeAWXVsjhe2hdnVgFct7jujiAUfUlZw73X3QFTJDhnQriYeVE\\n\\nRgARQf3Q3WXQIvukQFjjHr1TuATNUJOLQAXM9wALTDAnjXCUyPlVyMTXvyYAaoSFe7TlS7XFqFVM\\n\\nPfoNDmCfflhFWZSNdWF0eSpCANgAH/CAH9gBeA3AKPSAgvK2QfYARfOvGIgBAFyBQYr/gSccABM0\\n\\ntCIAAaUPhA0wgUHSQE0E+AIowkLFuoUOAKt7+qv7ChCIgSZEwRYwgSeETKwvwEHagCLIgh9YLJHF\\n\\ngKc3gg0AwKNHgSbowFXZRQzYwS4k9Bb0QMcJAA00QkPzABPcwRzeBbgzARPYAAHYQB0wtA6wUGdU\\n\\n+AJsQYxIQCMs6H97QnTPBdjyFElcQBrE8qwTyECX56S/xSvcwW30315gQAg0AjQj7ATYQA8YPL23\\n\\nem4dQLZHwTE0whWICatf/BZ4ukHaAauEixhEPBMU24WEX2EwkxLYgSQcA7AT+vgxgBr0QENHQQ/c\\n\\nQWS9xhW0uhi4Qg77uiLQgKTYAaRL/wIQfBIDI6bI+EpbXMCySQYYs9nx1AUDSACr7IuwlWZZL3AO\\n\\ntc6XAx9WyNzxFI27RtbvSBP5tYepnJvAaYnuWog104ZdIBC6hlH8nSHIsOya1QdYbVYWEwj4gstO\\n\\nVECWvP1y8A4JVSZ4tRqOyRfH+JCWLFri56xFrQQNQP5bohwGTCEJBiAAUG2FXvzLwkQFGLSOonB0\\n\\nu+wCiAEJL8AeQHvGkMQWLOhaCYDua8HeGITvx8BERMGChgCutf6CakJlxL4YcHp5xjBJxD4T7LOO\\n\\nxrCR2ECBL6gWvHo3nn6SdjtHDAm+l+fOJ2kc4Ml0SIAywKMY2jeDukcMjIId2MCyEP/Axd+BqOyJ\\n\\nfS9BDSgFQEhYMHBBjDujBhCAEACAgIYADFQIMECIGII6IBDgQ5CgliU1AuiAxXFgDwAnN5LkyCOA\\n\\nwwATdBD0I6ClgQEPCATIcZLJHpVMTp4MkHKgloGKCAQFYHGgnZRG9xyIwYPjHiAMc54cYEDpQ4YB\\n\\nCCSFmICsgQRCAYRNe/JAUoYMAGwFEIBuXJpg0XbVq3UuggNz/wK4oDdnWIdz6dIN/ICBAAoShH4V\\n\\nIDYoQ6UBDOR0kBQFA66V09Y9CfekAcsPBziA+3VuXsun4wb9fBZA4NpC3QJgkJht0gMLAwx+q5QA\\n\\n5Mi5S89NgCA4VsgEEMzlOoAh9Yn/NCY3JPCXoYCbDDZAoD5hAIAKkgimUZlm6wCqKmWpXFAHAFH5\\n\\nSwg8KE/A5wItFNiiYaBdaAJggisGkgQACgIYyb+5BKhDvoH4oIwoo0jaY4LW0Buov6oOoOkARzBc\\n\\nL4aH7COJjw1OEkCT9FTao7EKBnCIgb8YeEAC9fyDoKGJXHoAAQfTcMghsWIaSAe4krKDoCWiIEiR\\n\\nl9KawAAGyBsAAgyImkSCCqJUaZcAmJhwAR1OCpOk+AbSr6EBliDojgEsoIs8ArwTwMkJdTDyxY44\\n\\nksQhrnYh6D2OxDiUIEkCS4wFy6iDqCXMcmIuAAQSsMml2CA86QGGDMBUK8MYUu2h/8gIG82ttt4k\\n\\n4LPYxJJg0okGSIAmhxAQ4Ma4JphIouoCkBWrIxcSjK5bJbiJLuaCSoq6AhmyIK27GMAzWPFOEmvS\\n\\nZifDiis8T2LwRwAYC2ohAhzoriUBDLirgpPqFOCA1fZC7Nlp8aIuXRYy+zSAv748trG6MHuABlZD\\n\\nq8yBGhGosa1eE1B0jx7seyWAB6I4dI8tqDo0DR54sAMANgdagglFdRhgwwAw3OJVRQaiocUBGhlo\\n\\nkrguMBSiQjjaQgyYCbIhqC040kKRDgcSmiGiCYLlaI48mZTpBfiIA+kFxHgAgCQH8lnCix5SNA1F\\n\\n7LMh0rl8PAmBqccUADJ/afpzAf8FpQXARwIcjMLu0mqekI/y4irvKwYsILkhBI5RM40ttmCC6wWO\\n\\nESMKDJc46RiPMy4RB5f2pLo2WwlIQOuXbOAoih6mXsIhpgbigWKOhJ6L5AWW6EHNkhtRkwfbTMsg\\n\\nOqUGoMCAEOeqG0gAzhJt3AJpShexceMCEC/o90qb09uavewrrc3rLigG3iX32UjxTCqjrl5LrNeW\\n\\nAFe+0wFsa4kt0bRmwPrWXkM//trkb+0htyZ1gZzYpCW+YVaOjjWXrGTvALISl11OEj5JxaWAc0Gg\\n\\nBFTDPkmFwDSCuc1XDGCBAdzEJgmAnwM4soQQgGVqNiBABgAgoNaFLoYEkYVSOCL/C7pohCBiOABD\\n\\nXsEDWchCDJ+5gE9YIpQJqGcLghsFQRpBgAF8CChpKROFxLISCbDLDwQJBWI4kgYbyKuLSQNAdAxV\\n\\nE6bIggnRMQVBmMCqHhBEE6EJY+ymhqYA0AZwB5jjQGBBgz3ShQOWuuIC0nCiGkEEAlzzhG6+Ig4z\\n\\nnQkiyFMXBg0VKgRs4A4E2UJxAAAHgvSAJgiI00BCAB0Ete4kfzxTApJyygUI8ocJqGVOUCBLMQRF\\n\\nllc4wIfssJyl0PEBP1zJYARiqANkJo3bOZZc1mIgrLAFAw7RUkKmd7bsHKZFvolgi/xXmgKhb1MM\\n\\ngYxLxvmZ3BygfeDkigAGAxER/wHoJAmgC20qUywK2Ap7hzESYEpDmZNAgJsAOKdp8tSVDvrzXw0R\\n\\nwEMvA063WYabv2sJ8VrEEB3dpTWBQadDydWiDnIFMw0JkQHaBSHa0GZ4SRHAwf5SHoiqTV5/QYBZ\\n\\n2IUDjoyinlOTGV24tssQ8awkXEGAGjiywnSFwIYz7VU9T+IkLaApKFfUQalYx4QAdI4HGQVAf2DR\\n\\nEBkO5A4P8ekIgwG7k2SgjAsIgUMSsJKrSkANiUHAIZtIGwf0ZwkM6aQXEzO1K8Tmh5Lq3AJEdlMB\\n\\nLIc6h1xAFRdpq1N2tZIN8ZgODtC3BWzhJA74pq3+ugA/hMh3XOsBAxLANR44gP85EGCCJnqgAwng\\n\\niWttBIAnRhlVgtThMDgBgAWcVbrWRcsATOBDI2xwAa6C5Uin7OsDgMCRst4WamkhhScPUydjBcU7\\n\\n8GPn6GQAOAzwJX/sKmBiioUtdg5AVpuCy2LzYtJ2MSREkIknSckJ0oe2JF32DAAKRhMpewqmXQKw\\n\\nVIsW65AKPJRBvWXLg+mCUsSAMC2mAUuy6BKpSzHkAnTxrENPShMDwPCD+D0V97zTmodSJycDni98\\n\\nD2fQ0CwLM6xFgANM85fhIa+zaQkMASdimrMFAAcHAFhWkpITHbOgAsIcAFHn9hU4EeQkE5AA63Tg\\n\\nFlfawDJc04RbaOLJEXpKKJ//iRN+uHtmV80FaAsQ2kaMQlXLHOokXFNQa+hcAQSo1i0Ro7LdAqCo\\n\\nBcCCCdUKClHQBLgBxMcoQH2S9ARwqFU9+A48WgApowmAdFVaStoi6SGpuk2O9AArfEWMS5xl2to0\\n\\nxpU6aBhR7PCvANyovFgGC1MH0oi5yFKQrbpeF42iVUhqis0X0SAApqYfrnG2zosKCjBGGZgaCQAF\\n\\n05yICd+knHllYF4NnRauUJo8qO5xeQ0RDncVqBRpBaBumqJJh2uUkwp4M8cf/rDW0hY+cTW4xwCQ\\n\\nQVd05RIIyAonAdgM/z7jHXbTZd1JMeKCBlrlcFWmsGJZyAAk8qOvCOdTDXkv/5NOExgJbrHHEOWO\\n\\niuGV0ZE6pE6T+s1uZHwpHRnowWKBqaZBuhbgDiAMZ/SsAFzJhJYrQWcTocChVhNogqCApEFvzVk8\\n\\nmZTo2DMnDhEuUNwi3F0+61A/lOVTJwAXkrXkkFUEkM6q6coeSPG3OmOnAUpXIg8xQQL2lGVONkSu\\n\\nQzHElWJon87elB1PfEgRrRHPDwOgBkvz4V0xXcspwyqUwBRlAY1xCJ0x/iwO2Eqz1LiUCBntVgRY\\n\\n4FASkBYBNiSvypCMNAA4pd4OSeq0nb5YAiDZCgkAIAHkXQCyDF/4Qh+8rBqYAJplgn7IdBF0Do8s\\n\\nQcmVj/br0tEYFDY1Eo1tpP+IAFdld1lnpG+nlJc/oSTkeq6pG6fiDaxQ2UhaEvBXbCYiFOPEH/0J\\n\\ny54ANpDhuQAuvrTyzhZJg2AKCjI0LDnEj/9oQgJ8RNaypVHwRFweIDMmIicqCC3Kg8XwQvxgA6XY\\n\\nyZpiykcW6V8OxjIq4C9ob0FUwwKMJACmhgIAB6kS5CQ4AQB4pHLAhwF4BBbiSQCmRhnqKQBkSAvy\\n\\n6p/spjyIJg3mD9n8IwS8AkNggSE8SQBpkMoGwKdC4xWcLQeqkCB88CRgkGp2w8oAwAYEbSCuAAq7\\n\\nBjd0o0TSQm5sYAKSguhicC3o60MoiyYw7iQuwEEWgAcWaIJUzcfo60n8Z2r/tAIPLwABEEBucMAv\\n\\nBGGJSoZ9KGcudERlZCxceGQPjgQAJIl2XG8gEunUBmyRcsZD9uN3fgcA0uihoiMALE0/Wig6eJAg\\n\\nQuB3pgYINoRwGAAB9CwoMuV5LMMCEKoAj4U1KqmwFnAyuMPAIiL+2GtLxqnfPiwwpA9cIK46HCyk\\n\\ncO4w6EkRZWUAGubGJCAiBEfWSmobcwUzDsMAfMQA/GV0bgWggkNS4Acz2OlfbGkiMCMV76Kw8mRd\\n\\naoM7MOWeOgg3Moy+buqMlulUEqymHGIHMYO+5EXEOugAMgVUUKrDDM46NgwIjUzTMMAF+Y9GDEAI\\n\\nPs9uZAlLmm0gquhfPAnQ/8aKs8TilLRgjCixc8QAW+ICBCdAhnZBKWJgDssjKFlJFVsnbbxjrLqK\\n\\nAu4uLShA1apJlnAgNqBtIOKAL9bCBnZB7nSNAAgiChgC+oAAQ5JIlkIAcGorKKjjAA6FB05ENw7x\\n\\nANbgSZbp/RaJKJBAW+QlAKLwME4pDYqxNr6lP4oEob7QDwCAA0qxD0MEAxiAAjYAYQBAp7omFTUr\\n\\nLSFFKQ4D8E5CViQAMgzAUFhgObhilRZAHExDlk4EQGTpLx7K95RivmgjLALgB9ZSphDgU1KDIXTP\\n\\nIjdF4yQlGSkxwvrHJZ7Ko5zHeQTAAR7KwAaKIWzFIRbSK4QEogrEogTHOv9kpS+MYxwTKgAYBDzP\\n\\n6ZwGaYvAwrMmhSvM4jI4kjqyEytf48PGaSvi8VQ67EdGpxVbAwEgI4F4wzVAA5tw4F8sbF0s4zPT\\n\\nYsz8hUbMoz/952DcghF2QwgiLkSCp8Og4ysfAAP+xZVeoUWgbOsMoLa4iSNEZm/ckAC06zAWAmhS\\n\\nieaAJgYoQ7iwpjye5FJa5JB2iS+LMi7azIUsgAGeZDBCxJV4Cnvqii5Q4JAoy1DcIiw0C9OeBKIC\\n\\ngHVGIVfaA2mWoNrAaY8MAGl4gAlbw+Hgx0H6ajDAhSv6Y7UmAtc2qyE2wCGYczkwRBwygF04gERt\\n\\nRWeW8wD8YAmOKzCC6jT/mBQUWSAuHm474EcADIUb/YAHFIHuQrNkLMwhjG83CNEu0qgzDaUeAwAC\\n\\ndoMCcgV4sNJAxuc3t8WjJE9IPsegHCBEljEheTGBHqKwgsJfSNPABkV49gYYa0XCYA7m2A1eIAUP\\n\\nDwPAeOwhVuyHrE9+2JE+26e39gMt3OZJu8kabcN/RgcCTINZ4JIupGd0xMUhIA00fkjHVFV+DsPI\\n\\ntmi2aMJZJtIlDswvEip4wA8AQoBVgMslKCAptEs/3DEAnugoaA4A6Axgtsw8hsmMTiK05kYolIEg\\n\\n9qA1YsAGbEAZUkkJ1ENvgiIE1IOyWgPLNsMKk+IOSiQGQkJKeqv0AGAD/wb2TVvjGAiCNHbhPYAg\\n\\nM2rjK0/iUE6EJtTgQ2ggAWh0C7hJTe7T0YrCE6jUSATgce5gGcdPT3ponGSRBUERhgTgkESGAWxA\\n\\nB2xAkASARhVBZhroR9WGKuYgDc6ohjxELFjHJpMiukiC1DSIBcrAE9TgClziPdJALExTba3WDL+C\\n\\nBjQnbOmoO2gU0w4AC0viHhPToDbgVVgsKMbrHzVNxNTGxVpEOPYoOlOR/HA2fIi0K+rGJQryOfDk\\n\\nnEiDAdA0IxbuYnqVngqKnsLnqXaoPteH7dgO/gRnO+3GVaTow8DpVJ6qnH6zn6aNpdCCIUSF3HRD\\n\\nV9qFXqMDOQ6jLnZXKf+YpS509VvqglnsaRxzZbEaUQAyQFbsiSvy9S8SQAhQ6+I6TBF/KwHgIvbi\\n\\nUZQQaUzVRGQSgmiMwg6kZxVIQqtGAZiSAiYIwg4EgKiuKij2JMtOgyzzzzBAAOaQl4ahT4sI4SeJQG\\n\\nLAFokiEqAMqEbS76QwuEQm54oKyAAGlMAgBcaQ1sYM9kyQ9urHMw7SQ6GC4yQ5aWgGN4gGM4izWf\\n\\nJAouZwui4IauxAHk5g7861JMgwBciQ8OQAfUQwu0AAcIoOzOqHOY4MMyYGqY4KVkQG40gQZ0YC5z\\n\\nraS8+DQYNYxYYF23BkOqyACIokKCqCjEgCZYhweCgQB04EM0gSY6R9f/GiL2ysMAaFjWBuA+C0sC\\n\\nLqBG0ktwTkWfREp6xEIyrWndWi4uvpE3ngN/5G+HMi2cKFB7QUMsrGNUc2Q44cc6+sh/AOfDaEM6\\n\\np6Uaf3GawomADAwz/GsruALHGEJmeEw09HNtce5HUApH6U8ofsfhDIAAIcJhvmKB0BMymGV69So5\\n\\nOuh9LeAsaANUTuLm7KmYUCNdLrChLMIouCwoig55BI0PAiBMMEQTAqDNJqSvcmIAzHYkKof/zgwt\\n\\nuOJQPgMBPkQllmAwDIB1ykAzJhVy6ulHxcIrB8IPuOcL5UMLTuQBrsDSVGINDiBdgoAgLCZb+FS3\\n\\nzOQYmmSSuqpGBqAG/+lCOP4NIhAAQ+TuTBiCddSAJi6zNRhAZjlCExjAYUliCRggA87idjzHhjnC\\n\\nttYMAH70M8YqRoQlBgaaJHgAbBO2IdrMYqAUpGukO81j2lriF31OxuBHOvwnOMojnuDvmbNtJyvD\\n\\nMZRiMPSz9qJzP8qx9qoJgjDuWGTRoQxAI/uHWVwCOmvjWdSxRpSzNtJlw8xiK5J5FFnjLPDE+rSD\\n\\nIZ8HGDGIwyLIQI+kboCLXABysTMO3SQjnERqVm7lgejEJtaNPILFYYJnMoCjXAIgX3OjIGtDXt7p\\n\\nMw4lVzjAcAkWoVypJASAdUoiAEzzzza1IIAVYGY6hM60aIIYSrhvmnUf/P4gCCgQ9XwhEOgyqMwhpd\\n\\nIbfiovQsg0b5YDUYYBVmuii4G0I4jaCBIDAO5VGSQmz7sVDMJAgeoALaSj6mxDtwyyh07S7+8V8e\\n\\nhyDGhDw6cQF6BQJ4AEM2wMrY7aNHDX6gLIzuQIrAwrGwhi1SB09c4i/UxCK/QrOq4g684yxMVj5O\\n\\nuLNKT6ZacDJmMWZECK1pQiVfAiyg7wJYRKC0RqAKqH2sJ3jA1SmHpxUxY754TJ3KelRTqiucbB3R\\n\\nbW8KaJy2bzUCNls4yjSaOQAyznocjnWJmTeq17LDibJtlb5Ow7cuYLb8Rcc8RfrG5YcOwzgeenq0\\n\\nxfmyhaAASFf+BQH/AMRWNKo7NiA6RvVNqgMrpxdfs8N51eIsroQAMIBZ+OovPEtrH8IBKMA++iQA\\n\\nrobLLI0ACuFDJIEJBScBJhHY3rINEakWM11uF0ATFsYmAAAI7CMN6C4wDoClqyQO4CgtfsAntGBi\\n\\n16JM+hcOPzUAbEBuuuYOeI8hQuDWxUCCAGASLUNHb4MANFoldok/JkmQD8DXm0KjpOh8SsoGloBy\\n\\nCsFZvioS48LU2ItXCgVDlGErKKAQ+DANJEEJsKIxAAC/GTZrDzgp0DMzapDLu+xDYGEX+nOBruBC\\n\\nHsvhIIKvskIAapAyarCBbKSwLCD/KKCaLsVGFnBM94JdfncuWGQh/2UKcHhRw8CTRaAK/5TDJfyL\\n\\nm5LsNRpoQUCloRbyLY7kK5zHhEiOLh7T6IbxRwoqL7aDMipIVyboedPCTTiFSgBNydXRJt7PMpKn\\n\\netGpO6btJrwDOBDVRxpMSMATIhhZOQZpvwIAhqjEpfbLnzoLpRyALCJyLt5K6nAs4W5lUDrOwCpg\\n\\nYehEw3ZsMFIDAGIgFO42U8TXBu5WNQwlAfLVBkYhBerJSKaXeLrWEfRRuj3hDqik6eBo4W5CX8rA\\n\\nBu4g6RZQelxTYApbK3TzB0RDIehLcOyHLRzhYstDPG48O9Kla9WgXQQnKVZXL1yw3Fi0yooVggCw\\n\\nYHsFpehk1sgDev8Ah14IAAcs1mHIZTKOX2D6rOMcIHJpoBB04A4eYC8rgAPUQAdC4S/u9D8B4Aos\\n\\nVmiSYsDU4mJgw21kAzZGxGLBAiACABAQQIAAAwMB2LBxB4BAhwAoACAAoKJAghUHVBxIIMCFAwAe\\n\\nJDCYQQCABA4IGtzoEGFFkwlZVoTAMsADiwgcBpCw0UFBnT4RUBQg4SEBmBtBQlxKEcAAk08dwpxw\\n\\nMWRNpxlv5ty4NYBAgUN5LtV4ciBCAwa9AjDwEGSAA18HoH2b4GgCh3fV6twYYGhFhDsxlh2s0avY\\n\\njhAJGphbsCDbh1wnSj5AkaLLBDkr9PUqcAAFr0QrUgwQQgBFBBz/HIgF4ACFg7sZLvA8aCGBAQgB\\n\\nHEy8AIAng5AITB4QwAKBEAIJLFC0oHCB8x65DSBIIFf6awF5RwKAm1SmgAGILURxvuDOhKcCNpgk\\n\\nMKFi+4h9v/uUO+DtgJGeK1oIYIAqgAp8vcdcYxnRFACAAbT3E2AmHcgfVW8B8N53eh0Q1YFSXfTW\\n\\ndxsRZFlIBILUlH0GRWXAZwbwthZZAxXk1mZsCYcdTGwBwMIBCExXQwJ9AcDAAXAVxEAGPrm2k24H\\n\\nvEagQMzx5RABFOlm1V6zBTDATU5COZFXhQ0k10uCWURZQnJZGQACEsx4QAIHuEQRCggIBCAAGXTE\\n\\nImstvTRUbk+u/9WkUxYMcF9FPBpEAE0yVbWRgswNgCiiFEkEAG4RvcSfQHCdGFWL+b2FAWRexSmA\\n\\nUgP4ZIADBgwnUI1qPRQqq925yh8CCPkUk1MCpUnoRGwpGaSKWwkGWZxrAZnrqh09hJCKj8VZWU4/\\n\\nIWArQZ11BhiuACDwVJk/AVAaRQNsEJxFQ1IHAAaYnWShZgwcx1MAPP4UgBACfTbvURQw4NO8YpDX\\n\\nSAfBCWAcRRD8ZsBv34mlXAC4NWXRBATYwcQu5GnhFFXs1UdpAhiM6igBA2Dso0OOCvQABlBqBLJm\\n\\nZB3FAEKFXVnRA5gOcAAEGIDEAAUaYcffSFZueRJUhnYYc0Y82v/GFq0V2YrrSLYdtCsAHFAg3V53\\n\\nDQYvT8kK9CNWTtXgkIUPYWcAjwPUNsAPZhohgAMbsFsDQmFIZnNvKQ2gYmVSzYQpZB36FdKVSE3K\\n\\nH7UmUbtUjHkOJtwDqT5gUgIX3OWaZCFIYEEKAjygno8UmPaehRlBVWDPo5ElpEMM7BRy61gVfkHQ\\n\\ndle0lc386RTnWxzklF+8AmUNNUhICt8guVJCy5tSKQEwu4Nn8gfSqPLCpBF3mnnZIJYDIrheRdxh\\n\\nWcH1PUfFnnu/HYBBi0oh6tTNzq9VkQRBgr1dVfBGeLfzIE2QQbb7woyVMCKYbzmFAmjC1XdG9R8R\\n\\nWWkArbOSWML/FBKUgYwt2+oYAxgwAQZogjw2YFMCGACBDQxOQXNqkrBEkxSN8IE8zqkDw37jI6hs\\n\\nZik9iopGyKIdmU1KIxBAj0XStqyBrCl4N5EA5GwCnsHUJS22QQ5kRpOqPaEmW185wAUM8BS2PECH\\n\\nUDFAR+K1L5PUaD2mSUgA7OWQ2WXEIiJhWH0msL7vUIp1CDxABTbAJiM4ACQXqI9mDKAZgzBAOQTA\\n\\n0nn0Ui/JeAUuhetWAH5TFc9cbyOMUVyPFgcvi5zmL6Oay30QwIAKkDJQMCHIIQ9AQsvU52BKCU0q\\n\\n+dIoOFokQV6hiUEwcAGTIHArtoMXCh4SFAe0rj4JMYAE5nKS/5t0ro2ysg5bZPClwmBoI56pIzYH\\n\\ntEhG7mUnalGKTLDkI6o4qmcIo6HNGDeQuwisRJ1JFoe46DHepEkxTuHQQQgiFzbl5CC5SlLWciW5\\n\\ngiTgLgzgYV94lKaRfOcmZmLNQ0oDkgcciiBN0k3ZKhI6AORAPzHJ3R8B0KT9HKUg37HAwR4wHucc\\n\\nIAP6WksOBPIDAqiqQ/oBzXZkwhwewHABNrCSbgRgAcr4zAAcIEhwQIYRHm1FNwTgokA4oBHtSAaL\\n\\nbEnXBVDQNOERb0MDiJMBLCABBHSAJU2EDIsWIy9PzqR8AurRnnimQxkIVZ1TlCRkTHpVsuxsIOOT\\n\\nzGMahISwCv9BXAAwwgQSsIEfIAADIw3UAzOiGwbwBCQuydVf/vJJFhKKImi7y/SoE73e5G4pedGL\\n\\n/PBE0op0ADSlWlm9BCI2AUAAAbLRiHRo9pYaXXUjFbiLlKw0mgViiwOVgxngEnM3BnBPKi1rEIA4\\n\\n+Le9vAS6aNkAzXzIxZAybJKJ2YhYkNkZncxFMWmMZcsewIF2mmRcNplZwKQ0XK8gRHhNsxRooEoW\\n\\naKFlLdJpzFOi1io6FWq10vVbmlDqQwh05AGtW6BOvcXAAeTgU4GK6gA6UKtcDkCJclHfYuDzG0El\\n\\nFzk8OtV9AilH8iyBahZAwJoUawAMTKBNE2oVYrJHo7qkQQv/zoGFDkASVoMU1AEalQtFMiAQJufP\\n\\nAUc5q1lsNx9T7ZQ61EJQ1iRrXB3yDAB2LciVQOOwnljKSytqEW+pdR6LZE1FiLvIUyZ5WwAwQiOS\\n\\nWo2DKrK+mfiZNetjQdpUN2ACOICqB+DAhiykRQykCAEVsMADAESAOV3gAWsyTa1EQykCLvO0p60J\\n\\nj656k5SANY190i1LQFYRhOXsXHPbQA00ssdgASAG2RoANSe1kQ2oBjBG2QhywAe+zOpWIEHJQFlb\\n\\nIiWQ5oYi3HEIhJAiEEQlriIVeDBkVuLgA6FnK6dy2M9q5MaxXfp+vUk3RCDD1p3aji/1cYCJ1vyS\\n\\np2jrK6Ox/1XQimIRixwPnf2uCc9W8pWlrOU7CMLSwQQw8Ek2CAIIodAABaWZgi8lBjZdCwf2swED\\n\\nBdGMaGGgAN6jnaOYESQQMNQDRFIBgwznAJKrAJBqQJsHyBvSNgvu29YHLyxVuG9u7osNlGGD0TTm\\n\\nIKkCAAqEM23wBLHK6ZPZzeITn7MECCJDKR9NGICRL64ObAxziAW4rp+eacjffZIAYsAGnsrEZTQT\\n\\nUdlmBPIpATg6n6pdN0XGKxBoFQZKwFy1UKYjQQCYcAB1Sk8FLtDYbF9tMHMitpYIyLej/FZwEgm7\\n\\nS95TAZ7sq2+hdlgsvbLI83hMIgPgakGACRgiZ2QDnaEVn/84opPlFm53UCrvRI7npAGabGYefpuM\\n\\nHXKTK2U9KwTzikgMklQuQvSgNXFNfShJlvtUh5mZT4BYPs1vsOSm+3PadTdp+N1DXWREP6GWUmjg\\n\\nJGz3qXrkWqJUrv3u2/IkKm7xzHCedxCQHEBSHTUc76QsFRECY+IR9nUp//MVCeRGwsMbHlEfgnIm\\n\\n+4Er0iISp9I62iIoEGQlKFAjCcVFI7Ea8TMYbiEZHVEwiVQfBRcyO3EBXPdFJNMbYOQVTKV8+iVt\\n\\n7rFaCbIDtiEh7+MUQUQy/FQw5zRD/LEDppEAEBcSRlA6XjEnmtFZCGAg4yNH4BJGcqEkC0QdqSIz\\n\\nt0FKAsP/TGMDGUoxQtIDLxV4AYoGFRphAd/RAXIBMLRibxvwWr72HRdmIbCzO3JlcIhCMxvBWxsF\\n\\nIqMBceBRM7cxZ1eSE6zGdmZ4GmtUEoxVfBSQAazEARs0Iw4RJxnAMr2BADdRHAHTFRvxGTDXfkcE\\n\\nAcPRHlPXIglheR0ScbF0F0xoEIGUSHkhcqlkGhiyRjJGFESRSEdxAONlS2+BPxmyRnI2KpWhJVcR\\n\\ncG8Edp41jdU3EZWxTOihHYUDEVkzQYnyiLeUcSwBgTYUVSahGgGQAQf1HX6HF2/UEZYni0CiFFJm\\n\\nEhKgESoiAwiXS+lEEye1FqSnZP00Z/zROlzUEdNhEvwo/zWUAofEeCVyoS00gTtlVoOttkZdhB6d\\n\\nJCGRclWztCVQ8Rn/cRFZg01OgRA5oSIngSgqRVIO9UzDkV+r5RS8AS42kgAsMDTSsxE8siaE4iwB\\n\\nsAFNIQFpUh+kYzW7YoNk0Y1r9BgCKYt3cRSCAgA7MIQDcZSD8x1XaVlBlBMMQBHrQwCfgiwDwXUm\\n\\n8R7WVhDJB3dnVH1p9B1llhd/oXtXBRdhFRMwESelUh8X8D87EAZvuAEugUCfxHkm50iCOCEoGWos\\n\\nFACBcjbBEQDIpUzPsyUv0iowEW2y8m6bBRlQlRGsVDDUghZ3wycHgjA6NDti5BAkSRmcwU/iBD6b\\n\\nJBnZk/8tZyFvZ6NolBkkI8YdvtU8W4QXZyFG0SQaf/MW0CIVOeEA4FYiM4gXqxJWXCSBCfcQ1Xct\\n\\nX+EV5nIjO2UhNFGFY4NM6DEoA5Bt5mdeUkER7cEeHSERaZFFrfNFt6EeH9ZBJAR7rJQVudQx9vMw\\n\\nriIiaVGB1nZLSgUVjNdvGZdG5sKOIANl3YIryak7ZCGIdSYAXOcVKmUArzV7NEkBD3Y/Z9M4+Yhm\\n\\nVuISLiE0nIIoJDkt3TKb4eEQFUB2iYgy1SZnZSMnO5EtB2EEv7EDSocAIUAAkAYXnMAUJlFxJ6Eb\\n\\nJkQQFRBxKUoQWYMdZjGlxKaSKSdjNtiaJJgnEaIUvDH/ADVAADujESyAATJAARugBOAEJ1jnXBBR\\n\\nlRvRXudSEbhWERdgaiFZUSH3cg6lRSnKWts5j4UjFtxxhmpBjqNnl9zxHhOQZFDhTLNEQbGSOJyR\\n\\nLYnSWqXTiakib5NDeSBiIyOyamUmGnURKtXVJaKRcbpnU2RqUbeSqNbVaq1GEa2UFv+hJx7SIAY4\\n\\nGhVITUVxICaxH2ImivdhXGJGlQWRATDzAIEkkLxlSjAnntTVOUTkgkD4XYsBNAjAAm4imkMDEz4h\\n\\nMMpXUbPzTjtlJvxEO+D1iNJSEAsjJaahcgbHHCbxamzJdeUzEc4VUWtBfjrhdcakPTNDMBNxRx7R\\n\\nFOqE/2ZspxNB1BgRiku7BBP05hjTAzlDARd34YdEmSsfto4C0QFbJLJn8kcC9SMCEFyXkiHRqUY4\\n\\ndZYi6Vm8VyJ/EjP24ZY4SaQ64zWG1xlBYkr9Nky5wwJBQxC9JElxh0DPNDurwSPPxRr1cReBOpUy\\n\\nwReUkZ44VBEcgBh2Ioj7ZCUGMjb5CBISoFFE5RQQ1SER6zCJ40vERlLeBDuwGISnSSGppraQaXEG\\n\\ntxGdJi+ZdxCyiBUIIYgHJ5fbwTdfYRAGUSNKcROWpxZLM2enAhoCcSMg4QodgAQhgAT5ggQTAARK\\n\\nQANUAAYhAAQVgATVMAE1gATT4ABg4AqhOwkVUA0VkP8BNVADB5AJP1ABhKAEQIAEv6sEVIAESmAF\\n\\n4AACkJAJg1ANpHAFIUAKSnAAQEABwisAIUAFBCADFXC6FQAGVJADStBLExACKQAEKSADP0ADFBAC\\n\\nQgoEk3AANBADi4cAQJA5NHAFOAAEOBACF4AANNAeEHMAYBADEBMDIYBrFxADMUADBLDAlkWk36GB\\n\\npWRT7JsDFBECloXBEtBBsiEBMperVaQlEEMAYNARITARascCIPMDY4ImjKY+NzkBCBAD8QEys4MB\\n\\nFJCPSlCMqTKTfZNxWrIVQtEXWroVxWGmqFIZArBVBJABCHAF0pECKpwBNIAAPxADF7B4H4FIfRFV\\n\\ntDf/Gpb3f1Y1AeN1KFtymmopKLo0dz8CO2pBgsv1X86zkvq4sQlwBYYmxUucAsYjBGEpMDJGPwiR\\n\\nAyZRoBbBCT3yFpRmMxKGlhhAK5AMFgx0P5IyAYWMTbHXibS5F9+BEBSAI2JEVv9FLSpyHCfxGwVT\\n\\nExZnXzuVoZMSYS9Bdu7mPq4CULdlRoQbx7tyFDdhAJDTb2uCl9kigMl0uH3HlBjxGNMjbFhijhyB\\n\\nWzKKbH/TcgHwA5ZFOrRjuQAgCivwCSvQCqiQAiuQDYfwB3+ACt5wCKKgzsnwB8lwDtpwCIfADqhw\\n\\nDivgDfT8CX8wCyuwAn+wAqLwB+DcCrMgCp8wC8nw/wnq/Amo8AeiAA0dsALQwM8ikAzJAA3kcM+t\\n\\n4M9QoA3erA2toNB/8AmikA3zcA7eoA2zMA/scAjaAA3QEM+zAA0NzdCHMAuocAjZoA3ZYA1/MNEr\\n\\ngA0AnQ3osA6z4A2fgA2fAA3YgA2/IAdOMA6/IALLwM8rYA4jDQ1OgA3pgApOwNC/sA4igApy8NRb\\n\\nbQ1OMANyIAeBkNZo8AtOgAaBIALj4NXjIAfY8AdQ3dZOEAhdIAdSYA6A/QtoMAPysNZyIAKFjQZO\\n\\nYAtoIAfNgAZdIAWbwNZSgAYgEAhosAkrANzzzzIAWXjQZsoNmBMNdosNkr0AyXIAKbANqbsNmbENu5\\n\\nEP8Ikf0NvXAJ29DavdAMsV0Kp63ZaCAPaOALttAMvuALvbAJ23ANqr0NMuALzbANbOALyFAK15AJ\\n\\nvbANVFAKvoAGpUALtEAIvfAI5H0JmUAIyXsJkLAJkIAGFvAIvVAKj4AMj7AKvoADaHAJV3AJ11AL\\n\\npUAIAD4I1KAGkAAJhBAMapAFoeAMzpAFwAAC6uDb6kAKzlAKpIADweAMFzAIzlALkEAKVHDhpFAL\\n\\nauAMSIAEg0AFg5AFSJAFVIADtQAEQEAFSsC9YBAMSoACp6sEORAGqzu7uQAEmVABPwAONSAEmQAE\\n\\nOZAJNVAB04AEB8ACSqAEE3ABE2AF/9cB4WsFWUz/ARVAA32ROQSgBBQgvwdwY58cAylLAFcwowwQ\\n\\nSMa4MwwQA45llD8iARO8M0SKa1jcOQQwG6uhFJQh6HtiU3BBOjzRvwTQv58BaWkCAaOmjqO2xICE\\n\\nWanVI4a6d7ekj0zzzzJEBjHdJ8Kk4BILZlE62yRvxGQ6r+mLnGJbyFKDEAJFU767Re67Z+67ie67q+\\n\\n67ze677+68Ae7MJ+qbUnK5zBGRNoJsp+7BLIgc4uKBiAAc3uFNEugdXOgtDOgdce7dx+7TvQ7dUu\\n\\n7deu7QMgCOUO7hyAARzAAUaQ7kbw7lAABSsABRuwAh2QAfg+ACkABRwgAkMyACIw7/gOAiCA7xkg\\n\\n/wL4/geHMO8rQA5/IALlPO9/kAIBnwJ/gAET/9UrMAgBPwjl3AqiEPAH/c9fnQzkAPJGYNCtcA7J\\n\\nYASoAAWiIAowz80unQ4FfdOigNNOgAr+jNgZYA0rMAs+zdB/YA2tkAyB8AhOMAhy8AfL4ARTLQJT\\n\\nXdaBANWP0AWBMAMiIAVswAyXDdpSEAggAN4WkPUz0AGtPdUr4Nci4NdiLwJsjQZUANqsDfaxzQZs\\n\\nEPCsvQlscAmUnQlsMNw1cA1S8A2PwAaE8AyHfwl3zwugfQnTLQW9UANssAm+EAaZkAmX4AtIcAmX\\n\\nUAO8QAvfwAsETwgg8Aiab96BkAvfcN5sUA3NUP8D4g0JSAACSAAJbAAEAI4AhCACMP4IM67Nwj78\\n\\nxF/8xn/8yJ/8yr/8zN/8zl+1YCETpbrrZTb9V+Uw1v/8uJ79yd8U3D/rcAf+nekqe7F2KvpN/kpc\\n\\n2FLs2D6Dyj4A0j5JECTtA/Dt0B7/8E//9F8f4o4BBggQBwAMJFjQ4EGECRUuZNjQ4UOIESVOpFjR\\n\\n4kWMGTVudEggoUePHEWOJFkSYUiJBECaZLkQ5cAQBCS0pFnT5k2cOXXutPmSZ0afFoMeHDqw6Emk\\n\\nHyke5cgUYkioCkOwEPjT6lWsWXcG0NrV61ejV486VQq2rEMaISQQ0NDW7Vu4ceXOpVvX7l28efUZ\\n\\n7uXb1+9fwIEFDyZc2PBhxIkVL2bc2LHcgAAh+QQBZAAbACy9AaAAkwBdAIQAAAD///8zADMAADMA\\n\\nMwAzZjMzZgCZmQBmZgAzMwCZmTNmZjOZmWaZZgDMmTNmMwCZZjPMmWaZMwDMZjNmAAAzAACZMzPM\\n\\nZmZmMzOZZmYzMzP///8AAAAAAAAAAAAAAAAF/yAgzzzzRpnmiqrmzrvjDrzHRt33iu73zv/8CgTiQs\\n\\nGo/IpNJGXDqf0OivKa1ar0hqxKGAeBfe7tcL6S4aEMwYAm4j2A03HMweLxZvyPv+jdf5CAsSbQ9s\\n\\ngRAPbWp8d2CJZwuFCBgLGIeUlIlqlAiak4UMFhqJCGI1VApqCgBeAA4RDwlkkbRdCAkVsgoTCb1g\\n\\nXRpnqmyxGlwQFaN0f4VfsbIOGAAJlF6TiGrECQIGCg4P082RBRAJC2IPBBVdCrzzzzZeULovC3W+Wp\\n\\nFRGyEDRU5Zve7ojh42BBBQgRwnihpmDBvjoOymnwphDRggl4yCjEkOAYPUoKEsHzEsHhMGfN3v85\\n\\n4sfxQcJzXjjqsUTmQcRe/NL8srQg4kIM3mZQmVEmgphyidDAS8DOIjylY7pEc6kg4Ts9y/KIkZWw\\n\\ny76QZOI8MGXuWCQ7aMlUYJCzEJg9Fu4kYkcBpi2HCWBBYMDlVVAH/iYeA9ClQoG4CvNErNTAEiU8\\n\\nlBqwe6DG56zLdCjSscyIDWKpCsByfnMtkAR2oRE1nYkgLk239MJYqGlMw7tUrPq5miETlixZWem0\\n\\noYOmDVQyDeFlHgkv4tFdq3dZjPMmE5hFGYXXWURTp8Y/bCCFl1cnjbdUX0JiOJjwjW4ahQpSAz72\\n\\nappexsws8+LRJ4JoOHGxRVAIvULDefaEsUX/NRWZZwpoZDBFlCk+JUfRWHv5VAg7RkWUkHNf9KIS\\n\\nBu/xlkAzrOAFwSiG4EIiBAAsxxBH51BWBl4i8UOHUXqwURVrPIoUkgb8lPRAIGNVkAgARM5Xhy5k\\n\\nTNQOMwWx4ZxI50RkUxl9UcQUIu0dVGKVVQmoxokJTITMKHwhdE85RgHgEjI9eVEBABEkZFRcDmjw\\n\\nRlUh4VlkJF0l5AqMRrmUEIyspPKKCCPpAxSXMHKJAThuIoKnPQrcqcE0W3j4ykFANSWVULvNEEFL\\n\\nBh3ixVgc5RUBAVZW8GKbP8rCFl58rbPKAvrgCVgm3owCGJc8duGKPjzCGE1PEUzTRUlV4aIX/wPS\\n\\nFAhBATEaFdJYP/7D0ASreXSmGh2iSoOltCBimwVe5eXAiRE0wNc0Or6CAAO5RQJAPg7wJVM0m5Yi\\n\\ngZV5lsQVnBG5IpU+BBBWYEm5tJUAAAh0CCOUuExDTQT8KslUe1t0GKo9HoGx2Jg2ilHNHg6tQzFf\\n\\n5+izFmCGDtvhp1wcao5vXDGwAJMhSQgAUNL0NDRFE9/Zc8AXAyvCpNEihEC3r1RaMjgagLyFBiRK\\n\\nlVNo5PIjhlckqssbRWAhZxDYN5VzZy4X4zJKMnWnefEDn05TAhi4VFBBJ9JK43FuFyMnwp3/QorM\\n\\n4kTkyejjkC/OqOO5ME7Uh3oKSFQZGPaktv9zk/ZoBt1GqXEIW0KWsdpIfL9B2YkszlJVwnm+wtcW\\n\\nu/ND80hNHdOlUeR6XjJRBzpAbqjSFRnUqRAUj9BAZIwJ+Bc7xSKAN7CpnPpTv2ikXRePSUTTVxFV\\n\\niBkbskwSCDXXHGPGpb4fA0tyRuUZFF/QFX9e2eljBxfIVbZImGFMe4BVHhwSo4JEgiY1W0yOlPKn\\n\\nz1ljXnIqmgbWAZgMhuFOedmYuLYgAFZIiEif88bFKMIRZeXmZPyYQF/4woUMiIp3BsraeXxCiDFh\\n\\nQHXfMUheUiGXV0knNIj5BbycBw8LMAAXFvpKtO6wmF50BU7lYMMWJAaGOAWMJIhCnrMM9LD/MvHl\\n\\nAjNggAy5JD8Aim1RaXhDBUTXQfiYoxrJwQVCCnEimADFMl0I3dmEF5pjkWFRAqqAgWzWpnoZIwKK\\n\\n7Mkq4DGWefEnPw7jEGGE5xc3EnIXAZtATgZ4POjEjUbWG9xZyhE1B1rgGgsRW/pWFIZlvOJDcCpZ\\n\\nsSJArpttsZIIMYhRdoSICHUtDPVAhuQoE4E3nOwvObShqvwygzKZciQgukMffaiA2ahsRTKrD5Ge\\n\\n5AW2iAEWORrktPCQv0QGRVhPvGVfCGUgs00KN1wg0Qa9mE8C5NN4BVJjUHA5QIqkr001oGExKVTH\\n\\nCc1BD7hgQHWA86dEfI4B9orGpS4FraxV/ymHCNHFS8Bxz4iwpSNlEKVVgsSKqoEKUYHc1LICVk0a\\n\\nfMgbxGunxmoIomyGIW0NdQBc6NAbPo7ibHwzi3O4kIua5U9Pk9gdTjkYLWoU5ZY5kVfAzjMnPTyS\\n\\nGpt0lk7E9I5ZdqV4xLumc6QnPBvmxCLK8KEvvArFQPopiLrwiai8t0gBpWGaodkNAxR5PBApTHhu\\n\\nkleaNhQsvygSGFYcY6gMRMNZ9uUCAy0Q2zyUGsCVZXQOmQUGCPCAXVXMDF5owEHaBCyzlbOvKJOV\\n\\nnpjpjU2Z0WwFwUDubkoYI0nsWD8izAQwRaJoKQCh/5vWDnFrNgL2j0ALaQU/RieTsyBgjv8Rsc0y\\n\\nhpOm9NlFlPujKf98JD9heQNgpQQjSsXAFvYQLDwmjBP7jGGlWNCALQEs200DuF8crvVVNQIqFVJy\\n\\nnZb2QhzHiYW2dATH4+lSlCORUx2a+QscgoSW9pCkTMYSCQfMkT0NqdNvgEXEAYYSOtNly/JGyWK9\\n\\nuo4YbbAeBPzg1ayW5w5xSEVZygAvSSpInrrcRsTMcTES+KIyscgcrQrjjhQxrptMrZzjFnen3D0v\\n\\npw9THoJwGl6a1gQrY7pRGaSxln/Iw31pCBGGGqK+seCQRw9M06WUoQm+zS5NCHHwU3M3vatSaLrU\\n\\nHBCneGnQaspwhyg7648sK2b+jE4jQrX/TUQQoIzt7mEb/OFPcRF2k1jF6gF2HoVtHlAAvu0jS95Q\\n\\naE11xDRRQceGYst0X/yCxvEOUI3NcfFaQ4NZQFJiTK+cRS4S4ulHLDAWv5gAfss0r0r0onTIGZC7\\n\\nJtHHfXg0hlxW9ucWxbYBRUSaodqdRw2tKucZ78pvXeoYKPOfR+PFs83U7hwpIwhH1OlUuWOAVUQi\\n\\nPy7xL95O4sgfCytVGdoUyqZaI3M361p2+E8hoDyitnFrUN+xkkjtDmpjrLoQI90nTZO4w6W2kGwG\\n\\nDLTTOOWU+GK3CNBxxRtlMyhCuYTqFPflZNOU5zQ7h/PlzRrmChW0R9wFaCqoTDoO0Qcp/+bTrv90\\n\\nRQJ9ybNfmsHsMcRqFGgyEFB0mUM9325R3HY0xMcWwF7zT3lnx6nZLkB28E73ra6jTJjPdh9YEMkk\\n\\nJ+KJm6qydWpyKRjO41EnyOeWX1fl6DKceQCRR3dAI3SyfJmA0NOnvHQp+9Bk9LLnvkigptDR6GBp\\n\\nSAbrzT6+XcegIelonQLGWCAXBVD1tCa8OklTmm7Bhsfrc3Owmen/yY8LbOOSLPmjbAhFbxe4mo2V\\n\\nRudNOqQJFnwwtTLGBifd0rRMepkY9h2M/UWiPr81NTESAVWkNFbTZKpituS7DtvnsbH2zPbPpDJu\\n\\n9FctpCNxQcN8LNocIoGlZCTHETQkbv80BIC6Q1l+YYAlMzHa8goNwClsI3m70CGLdlCz9FyWNXzV\\n\\nk1Kh4VYZgUKgRR86FmKZMB/kpw8dEWJZIyJ55WC3BCgumHsTsninkmprA0eAtTkHp20JKGg4ND1o\\n\\nhEu5hzLHsAifFVR0MmMwQl8K5mwv4haNsSjz8WzwMz3682YI2INkNFn5I0O8Y3AgQ3Mc2GJv9RfN\\n\\nBT2gxEaI9jxRxzQ+8gBiMjrFUAlnsA4wAhSgNgrSNmY+UW008jHsF4MHKHRppWg9hWI+wRYPyGX+\\n\\nhX55ViAJuIXywQoc0TBgACkeFUgqEmY9Ihnl01TswxBw0g72gGfzESsPo1M4JG67lT//vhduNcA5\\n\\nLqYyxSM9YuM/55eGyWVw4dNADsOBHtIYCmE9i1EJR6I3VcgRYDMJhsIjemEQs1MZ+AaDsCVei1QU\\n\\nfKFGmehfWlRGgZZDtpc+pcSFAQNJVXEnbFBlLdWG4fEF1sNuX3AmArBBhsAi31QW1VIGyBg2YbB+\\n\\nCthOcfQYhTBZ5sd101SGEUdAXJIBBNIhzpU+sJY+5oUcFgAYx6BsOmJURZcqleIjFBAvvhAJRzUo\\n\\ncscjK8h/pjIxkcg7sdASt5ETFChrMUcVjieJ00WBDmBDvaNXveYsnUIYd5IZxfM5cpEbIWgIFkAA\\n\\n3URao8YGLVQU1EZivKMPrXUUzaFT/+GYGvSGczDXdV6zgGzBgQREQzYYPZnXhl0CSgIVdTk4hsUU\\n\\nWj4EK3CQjrYhE3rQDK8gEtBwPBuCHLmmSy6ob/LhWgX1fcljJdGWQwTEX6Y0blvAg96GMtPjIfBw\\n\\nRXq5kTRwBlk0P72QD+YBEjT1SHpVMpmxSIVSjt7ngiSib3sWifrWfX12b693fciDSCgGGm7nWoR5\\n\\nc7FIDD3CicswFnBoG/qYRSRRRcNQYlKIR5GYNVS0NSgEXV1SGdLWBbhiCGyUe79ARj/GHE2hFQ50\\n\\nk1u4Gm2AmUSpHBJhRfOSCbHSTLPACoiAC1miGsNmmgWRh6W1CiIgL8HCZ0sSUnmxLP+M4jT7VQaZ\\n\\ng1uNhQ540WkGcQfTUGVkg1PrwmMXNDpxwBmslAxcYAEnwg4H4SdS0VuvcDEmNSoJwIpm1EyscCQG\\n\\ncSgF8YtlYkVJFVbYFZk3aSsO1yt4Ui2TshZ4dh98YycKEIRw11n59HmpwlFi8AZ1mTEkZCFq0DqC\\n\\nFRICYFkckW99RTC3AyC9M1Ml8zHUYJFx8k1jUzx3tJ19olUc4xvFMjv6uENsqDwoYZ6LUTERIgCT\\n\\nwA778C8EYBJK0VuPwxSoYS3dlzoAQABb5zFhAwvm5RuNwkpHY1cM4Tm7o0f49i/5kyPrIBMKoAyK\\n\\nmmh7sXesVA3v2AYNQTfJ9iz1JZL/MLEsueKX3XU8rNgAeHI1xECaNwMdkOQSrzABjzpp62hi+jBO\\n\\nQ4SClXojeGKXVMgRDkOE1QSrdKoH3BYLA1CaGOUUwYBsreAR18AHrISFySINBMMTeblCfTZJUrUb\\n\\n4ZEtYqOVKTgbCYEpsEINsRAvEMCU+8BBYTB0A5EcnIiYiNo+kBgeoEYMLBISAoOPBZt6pmkPdhaj\\n\\niQAu9BofqWBRAVQ61GZ9tpdh/BEQLMoSh1CR8RhHkTJZF8B1ZXAwjoaEbHAa8SkLf/RFCrIm/OZ1\\n\\nK7IMYdkl/giYuNOKrYiApOlRALRGpCRACVNwfAZKoSJ1OrtcKWV1dOoHO7ENDgEG/8RaFC3JECXD\\n\\nipZhDlqBHKFBEShbmP0Wc4dGLvBCLZLIeMhgDiOAKT+Hc+J2Q34VmWbAYfTHkRPRDLbRMVE6ZmYz\\n\\nHwchoSupifTWLkeRY7tXqH21pU9VEMgDIqgxTyIADnJCnAyXGg7VbwvnXN4BDY92EAaUhOvFVHyn\\n\\nN5kBgIXlHRGrDMDxHT6yr8+FW2w5EopoclsQhA5wslf4jbhTjd2njX7nZU3hFnGIhO9wJkQWI9jA\\n\\nMPhxJPBgTQkoNoHQEnVJZAIXchbFS4KobC4oNj2BeaaEYiRQKmfodq5GeaZAUNQHBhUTZmjWDkSS\\n\\nDo4BOGgjZ4OUMFtIVAkkai1pAP92FiCpETwCZDbskLb7OrcpNwO5IADuwH27RSDUJJhryz+ihAcE\\n\\n8WhjoH86IU/Samp8IxnVYzLSOxJWdSKl5id/qFu501fr16swVzKloG5allZmZVP5hYhaxlaiZFIA\\n\\nJGuBhE2PphnRxRUCUgntIHAcNy1AdksqV7XRSDt2VlDkglmwR3ZbRS5dxWxiWxU+9yBlUz+MmEYG\\n\\nR5YCMpRq5xnu6G45Eg/QAEoiBj+YiyyFO3QxgXcCp2DStmriiFPOVRKZ0sXqeyAJkY3UhMOBZ34e\\n\\nNVmLlhjORqedsgzUAJdcMq/KGKQjvH0e/J20EDui9ka6hnq7ByLiubuFuwWKtA//RIZZhMY8D/kg\\n\\nZIAr0rMiIUErYUZRdZBU+QYvAYwBBpAAS5RlhNh42BAJciwrw4M7qVF+rpgT39QlHvKQbjsqFAdz\\n\\n3mB2NxRxMzCWs3TC0Wp/d7t6OnJ/1vsn5bc7+nN+RAEIxugkbFlT3YQ0tFtM5vRmheW4/OAK97Ip\\n\\nQNvEs9ZOsOcXX/AGoMuyfAAWW9d9SHOKomi033jO3VS9iUANAAwt+lsmrDSYldCeeuV+6jy+iLA7\\n\\n7UZ2OLk8E9iVzeUTCtdyY2KV5gFMwlMJ8iFqX3JIQOaM9XQdEzVnkwp8okSc5uEu+JFuXgyAEwhb\\n\\nGuEohYV+6Meb2FdIYQs6a8yy/2JzR7DlsGTgKuXhu452UhaxdBxBaWUhVX3kOv5ZiS9hgQgKPa7Y\\n\\nx/xlbjkpjn2GPP7IGQf0aOByt5QCp0bRGAlEPnQM0DIbBzr9Q4CDAf5bCdPXI9FLD30d0FypKpHX\\n\\nV2dEuAMigeoszzzz7NYlvxzQ8xWu3Uqw27TNt5TkC7gDxGaRB1KXm3WB1KLvsxTUQCyPFBKQmxfn/x\\n\\neItn2ya9Yp5j0rf2rP8QP6PjFZTRNhXiZR0bNxVhQN9LTZBxFueiIkQ0yWFwOw2hnrixLFZWTbXW\\n\\nfjicQ0HhhdOEi6LydovyDCrzaNmAb/4Me76xDEdRmqq7HVhBCb7wCdZgCaNmZ/+szQmh2iOb1Mfe\\n\\nRi4Vt40/oidXDBofolCpBmiSDMliBhqtFteqgr1stK/Aw1xZJBc48UDwQD+XQg4i6SrM5BOy6HvI\\n\\nd1lrOANolDyUN02TnYZsqQAM6Y6/psF5IGvNcR43zzzzfLHLtfaymlYL2Y3BAijAfmcNhQ4psSst4I\\n\\npbuQqLtZiHtDKqEdkgFLS01oFBrsOzYC29ItV0hy+8IR6yJjBx4xoQnFRCkL4U3EEBmxMhILFMgF\\n\\nBXw/J3y1C83pV1ADonaLJ7zQ4YaYEK3CuRzvR8T0gBfZuxxh6+dmUdaAQCNP8jLyoE3SZg8GODE+\\n\\nu5Lpp+lcaIBbZnABtc3kQ9D/kCwARnTTxxUNxYFaWe0YLTk7lGEAmQBLAz2XMIYVIXwHS+RmD3LZ\\n\\nbCh8/dO05SfBZ0eY3EdIXR5dC2DLjwYc2eA/l4JsiasQ4WMGB2AhqcXtgSC1zJAjpqY6Ep0gdx5Q\\n\\n3Ksqda1G6Zxov+2IklmbbJtdckOn80IK54EU6JnUftnv30HMaTbQs9EQQaqXjpHV+V4kZkOE4TXG\\n\\ncm0ypR4UvZYuhuyQ/3YMgfC+o3NSDKIeJkcGB1ARtuA6UAHwy2HOCsFuGFcNdhY+rXVVx0PeDkbe\\n\\nYAiOdS1D5K3uiqk8WrbN0UMGltDTQZU1sxCmZ0E9qLUf5RnwWo0WnewnkPEQdEMiisMwF2E76Ffv\\n\\nOsB39ajhOlwf1V+PGl/v9VENS6eQKtxZsYFU6ABGGRGbCb4pHqllb2JhEZbgTfAI4p3wQO4Bu2vg\\n\\n9/vh94I/+IRP+PE39FiQ+Iq/+GPC+I7/+FEwFJA/+ZRfBDFw+Zif+Zq/+ZyPAiEAACH5BAAKAAAA\\n\\nLN4BLQCCAG0Ah//+/0A/UEA+TVBPYPD6/0hGU1BIT0FBTjw5RvD2/5+doP/78L+9wPD08NDT38/J\\n\\nz6+ssFtZYO/z/+Dl71NTXe/p79DT0MDDz7C/4ODj4PD48L/Q7y8wP7Czv6Cuz8DCwMnY8TUyPr/V\\n\\n8B4bIGJkbMDR76+63+/s8L+7v9/b4Ht7hFBOWbCwsJCgv9/b35CdvzAuPeDq8M/O0NDj/09QT6Ck\\n\\nr6ChoJCQj4uUqt/q/8DQ3+Dx/9/l8N/h78DL34qLkz9BUHBob6Cz0NDh8HR0e5umxX+AiYSFiuDo\\n\\n75aWm+Ds/2BeZYyWsz9ATG9xfO/4/+/x8K+pr5CYoI2Qn4B/gxYVHXyIou/w78/T4F9harC7zyAf\\n\\nImppcy8rNs/IwNDb76CqwJCcsK+20LjG5bC938DIwJ+kv4GNpj9HYPDw77++z7C80KCrv5CXsN/g\\n\\n4JCZr5CVoG+An7/AwNDX73+Qr6+0wNDa4N/p8K+50K/H4K+zz5+ov8DR4MDP8LDA36CeoGt4kiQi\\n\\nKsDIz6Cwz//2/9/m/+/u/09ZcZ+hsODn8B8gL4CPsLC5wNDY39Dg77CvsL/C0KCosH+SsF9wkMDJ\\n\\n0GlzjN/g36+uv8DN58/Q0K+338/P33B7mK2ws8/a75+fr3iCmltogRAPEL/Bz7/E34+iwE9gf9/f\\n\\n75+gn9DY0M/U756gqLC2wA8NEM/Qz6Cor8/V36Cv0K+5z9Lf9aCnwFBdeZCfwL+3v7DA0NDX4E9R\\n\\nWqCwwMDH30pOY7/I38/c4O/n7/Dv8K+lr5OPk1lje5CisJCXr+Dg36+4wM/Hz9Do/9/V37C4v/Dt\\n\\n75+wz8/h8+/o4ODf4KC40MDEv2Bvg4+gv6Cfn7DAz7/I0NDQz0dQZ6+vz3Bve9DP07C3z7+/37+/\\n\\n0K+wr5+v0J+z0K+vwODo4J+fsK/A38/HwMDY4N/Y0KCjsL/Av6Cgnzc/V6+nsKCnv+Dw8MW/xcC/\\n\\nv+Df39DPz9/X4N/Q0N/o7+Dn/6C336C4z6C/36/Az6+/4L+3wAj/AAEIHEiwoMGDCBMqXMiwocOH\\n\\nECNKnEixosWLGDM+XKCxo8ePIEOKHEmypMmTKFOqXMkSgIaWBxfIRDiTY0WbKV82gClzpkGfBW32\\n\\nlPjy5EsLD5IqfeClqVMvS5V6KUOVatSrS50q/fBBUFJBglw9KPOhDFSz0z54mdb0atWqXD/sZOni\\n\\nit27ePGm2cs3zd0KdhsIHjy4AuEGew8LTsA4ARQoDQg0PpFAIGIAgjVoFtyzp+ZpQlUWhUmQgGkA\\n\\npk1L+ILFB6VNdiYQwPwQxWiUmq+QFpiagAR8dmBBWqMHDC1aZuCZM8fGTkR2GdI0wHlyrsCX1CNK\\n\\nbjCBQQ04RrgM/4iQpUMuHz60yFqDywcfPphK8NGB6cweM3EAAQKlp7gxSLMRlB1BKHwggwtIWGfS\\n\\nXLc1pGAKH9xABQkUGDBAAQZYOAAQQBiBHhZDDAECCCWUMOIcJeqgBzWAcFKJFbX0BwYYYSghUGcJ\\n\\nocDABQ5MoGBJaRj040EZWNCBAhNWaAAQGRqwggEFBBBAhuM5EEMMd/AwRCEzdAnCDCCI0AYTkwAS\\n\\nRxGmtOAHGXiA8QIpN3I04EAosMCADCmcEKBJQR5U2UAJpPBAFDcEQQENTSYK5aIYUmmhAZTEs8MO\\n\\nSuSQwxAz5ADmiJj4gckcOpDhwRhi4FGqB2/EIGCOEHRwgQsVNP84Uhp7CkQIAIRMIEOhEVBwKA0r\\n\\n+DrAACs8CWUBGCYLpZQD6KLLKqY9MWkOO8yw5aYg6FCCDhtggAEZY2AghhhFhDGKgHMCgEINrjqg\\n\\nJ0pB/pnACX+oIF6GFAyQYbErENsvlMNeiGwAGE6pLwVoDOCEBErwMOkT1FZr7YhhirBBtxiYIIYm\\n\\nHIPxhgSo3YjQuu2ekFIzAFTmwg0UrBBBv/zyGzCxwyI7LLPD/jsAGkCggUYoViASBg5En7ELHznc\\n\\nobSIM8xhsQgiCJFHHyaYIEQRUmzSEAM2tFtBrSShPAEJBuTr78z61oxsATXXHMAAAfTSC89onKHH\\n\\nuB4U4YEtL7z/wAQTOACOAyA4ID2LlxuUsEG431rtgRnGNIRC1zzGilIFACiA7L5oz3wszmgHgIYA\\n\\nPROzxppi7N1330yw3sbrdFgBSDFKkFiCCH1soIO3ZDhuBg57puudq41YflIFH1BwAAJsD9sL2o2u\\n\\nPeXayAJxRB116PFCCXOY4IEHL0jStxkt7AFGEegXsQgTdCyyyBmh4GG77uH6YcIgHuzxwhcMDV+5\\n\\nrCKpQBIoUADmdU5fBiDYAQVWADQgQgtaIMULrCAu8K2uDeWTBS6IQwu9tW4RkgCcKWYgAsVdbHf3\\n\\ny9sL6gA2g3CtAx9wgPFMUgGWHUAAb0PbshS4wJu9ARxrWEMR/6ygMfAxoQ0vMMMaPPEEhhUCE+Ty\\n\\nmyTocAYc0EEHTitB7rrluCK0IFUL4RoL5GCBGZakAgpQ3gECAISAJexzPXRjFsCBCTIwwQN9yJsZ\\n\\n2hCGNcxiBzmQBRjWQIovSIAPZhiaFRaJg0NADXcXGwMZhPC9IuDAB2GsAQtiaEaSVMAGEQgAAkDX\\n\\nqAWC7mYBcEId1jCGOYwBDx5oQRv8UIgh4IATVeTEJOJghkLooRhvOMMZrLCIOJDQYpGsYN5wwAaQ\\n\\nJWR4nARgSCrQAeUJQABs6xfbcpjDgLHNZhcaAAe04JuGqQIXg9gDHnJgAit4YBDaaEG2PGCmQuyi\\n\\nGJwABSgqgf+DFpSoBBjYHQYoucwz8IAmAPiADVhQuZRUgAEUECU2vQnO5nkTbhd6WxMMEIPZSOAO\\n\\njuADKQYBAgzQ4WK1mAQapPFISZRgBkR70SHaUIs56C4PKBRCLGLZhjP4IEADkoMCIMCAMjrUAjSQ\\n\\naA4zhCFv8rBmK3ibAKYAgQvYITUx+AIuSNiCDZBQG4cIRRxE0KU8WOGcZwAFIM6wiEq0AaA6yEPG\\n\\nNBELccSSmc4c0AdQ0YkPWAAJLQzgBAiIABwiMG0Bk1I3oxQwJ8TgqpmghG+ayIMcDGIQIsBpJSZh\\n\\nCjqQtUtW2MMQFgkIK4BiEaEQgQ4EmrHvtaAFOPBpYBO60Bj/+uhyDYiAAQrbzUW5jVkDg5uU1BCD\\n\\nE5xAAgoYiGly4E9JmMIUYjjEJPxwTBGY4AyzMIMV4gAKK9ChFmTQnbcyttO89RQRqjoIA1BB1Ezc\\n\\n9niEIBtvA3aA+iaWYFFilmJZ0YMeGIIADNhJb8KwLWdgAAQkfWQeTDAHK+hgD3TApRWYwAlJXAxj\\n\\nJtCEEMTxWmPAIb0urK0FJiBNkGCOCLsVwAEChkMBtC1K1NMvIAwhgQQggQEFIYAsPPGMHMg1Ds4o\\n\\nRSkkIYlJgKAFYhgEMePQOjKZMFxV22nf2iCFHiBEDpTr0WxNnLkUM29ZhoVbjN/GLCCw0QkTGAh1\\n\\nJKCFHCij/wRxkIYkxkGHcVQjDxsohf08ADg0MKEIh7gdBrpFhknGUpZhCAMBcDKTDyhgjD0aUgAB\\n\\nEIXdIuDLO0SlYgmm2Py2MWUAqAlv7OCDIShjHy2gAx3icI5H+lMHfshfKP4c6D5gIFyFpuRrX0A0\\n\\nNWMnoQroRFHfS8OEGmB5mF6WpjfN7AA0AQgyMEyOTQOLX5gaBKaYxCQwQFY84KFpOoAlEgE9hz7o\\n\\nYAySxABdS/Hanq6KI44W9l8lPU0AOODYIcBhfpt9TRw2O4edcIMLXFCQykjAEekYgi90EKYNPOMZ\\n\\ng7BUIXTQgm+AAXymKPcWveW4WPL6NGoGtryRUOKPYG6wBv/IN8FuuEZmX/PfATjAVQXyAd0sQEEE\\n\\n6AE2EDEET3hiCHzoRw6eoIRC4EEPa1DFGnBQCY0nU93f20MLarSnRQPbTvO+nECCYOkDRKnly4Z5\\n\\nAIgQMgIgwRIBKopNJMMb1DzBNz2QQCFUQY1erOEQfijhhcfrOHYX4Q1tH4ijsU7skpRDIH8wgABG\\n\\nOSVmC1exo3P8AD6xCTwFBSEgRwJjDNEwT/DhEPJL0Xg5Tkm/06GFjiaqDCbwJ5MgQSC3oMHypJTA\\n\\nfTcbDfwWswAgkIDZVABzobYOTjQwGygcgQQ+eAIPPGGFHIzIhKO3mjPyZsng0Xyod2K91u0tew6o\\n\\n+Fj+1vf/vznELAGUzQBRSIEDUlCkDAxkNDgxu68WJgE2VBZMeo8rFzU8/XJJAGyppwY90npnJBAn\\n\\nEFHedwA7JCXi929N0ASbJgAUEAEWgCuYYQHSEXIuIWAAcAQGkAS+QQISAEhgokUbkAdylTF4QElS\\n\\nlwgGcQHYN4Ao8XoCQQIF9H1iFwD+plgvxwHHdmxEoCAV4H4aqFwpAwUEAAWRcFWUUgjPdzF4ljEd\\n\\nZwZY8IIxqH0nQYMAoAKiVFj5tU05KAAJuEYDsGIkQBuWQXBBMRoBkgJUcAT/N4KXEiYmxEVWw4Ja\\n\\nEDIDAYNEJYNZOBCaI4Y7CIYwd02FdU03pIMUcAGgBgA8/4JQApEBhSIHvReHRSciUBNJ9iMNQiAE\\n\\ne4AIzrSHV0iAJEGEAOACx8YBowQla2R7DKiDDNhvMYczvqIkGXIAFBAEN3ADSKICQcACpjhtJDgi\\n\\nesdxJgBLb5ALtcKHDOCHJmGKExABN+h1X8hDEfiKiTiLirKNNQAAQ1gB6VIaToR/WgRlVTMIbyBZ\\n\\nBMGMzlgSppgAXNB1jcdpUpJfN6RiMXdDYzgl28hUBtAB2iEtcwgCKHKCUigEb8AKtfIAo4gSweiB\\n\\nl7aDilVfUnKPL1dfBxACCFBfitIoTRIBjAgRpgFIA1mQ3uIPYhAGkbCQCtABzYiFz0gQNWAAqoiP\\n\\nzZZA/f+GjxS5j/y4QxYSABTQDUWoEKpRKSHyhCloAmYAigQhCA15EsF4ATSpii3Hg+F3iC2GQxs5\\n\\nizC2bxoyAGm2KjERam5HkkepdydIBmAAinvilH0Ik+5IEClAARwQAt7ncvpmkVnJclVZjzCGQAHw\\n\\nJ1smMhyhGoCkDF6Sid1SB2bQUQPBkB0ggHBZiryRhCoghneZg5t2j3qJTdRDPQMgEb0xKXeQA074\\n\\nJVCDAenEA3sCmc34NXpIlrLZEUSoGlLQBBzgfa7Ig/mIkYJolZ+5OcNCEb4BBSNolF6SLXpgf283\\n\\nGxYwVCjQjiJzHbRZmU/AAAeQm/q2JHipk4bYcokYnPv/YgBDmRBFkRoScJxaMgsg4Hl1sAs9AHIX\\n\\nIAWb5C6kKCuD+RC1mZ52AAS56YVm5nIb2XKIGHMvdyzUM54T0RvGKQFXwgNawhpawAg90HsCwZCq\\n\\nB5dDchv01hC16Rsx4J/aCTe8ZZWbiZEUiV/imSEWkQIMMApywAAvOgrXwAgdwAwQIAdccQFywAw2\\n\\nUANR0AEoIAcXwAA6+gAo8AAfUCBksaQFggIVYYoE8ARQoIPaiZP6tpu9iZFcGZwYEgESUZgE4AYW\\n\\nkJ9GWBAZcAFRYAPhgAIVGCAA2KEL4X6zUZxmxgEwwAFs1Gl+eaIoWl9e2iQqYBFFEhEJkAGdoAKI\\n\\nooA0/4AoFEAEHQB8BJEAchClypWeJAAEYggD2FSIAZCbOqhifamAX9gotyCnc1qBP2EQCSADGbIE\\n\\nNeACgZUAF6ACEUAFGbAnKJABkgoRUpqEP2Cl3reAm6mDWCmqncaKa1Q2FOAAhKqqQcERO5EAE3AD\\n\\nB6ACH6AQFqouJLAEBPIAbjARvwoFWgAE+riVu7lGncmlfumPE0iKEVGoC4ECS2AAg+oQO5EBKiCp\\n\\nMgqtvqpccJcFVrp4XtdsrfhyiPinBKMhGUJ2ZBmOCSGvCJEAaRQBEICGCiGEPzAQMvoA4gqwDnqb\\n\\nXeiFWhol/YaiL/d1zWMAyfWwEiGxrHoDNBAE0FoUHf8KFAbgrOriKh9bmQQQA5swADhUkyq6mSar\\n\\ng755aQW7sBmSDBcBswVxBDRABcC3E3LyEG84GyzAUD2LGqYRAz1gBENLtAMzkQSDQ39aoI1iML0q\\n\\nrv5KEBVAA0fQtu+nEDjRCBGQAgDAAjwrEccAsASgBFnlBDoYAhoZfot3ojnpb2xDjRaCChhRAW9r\\n\\nKwZgMhhLERICALfAtX6bYx/FA7kACMsTAjAAA8d6snqJogVgfo1CAVCAEUhQgbeRPGpYcg4RBSRw\\n\\nAh3AuRHxtyDbMFigBYZIuvnmmX/ambLodQrosBcRuyFXAUsApmI5EQ1QA1xQASxQVV3rtSPIA1+Q\\n\\nC03/oJWlq5Ert7iXdrrIwpEXixHQUIE+UWksMB1xYhE3wAUnkL0hGa+l4RuUMgtY4AT9hgCly6ko\\n\\na4gRKZE/SAN6y77+2gAzK3wY4YvBcAt9q78A20RKwBrkkAUGXLoRabJZubgxVwDLC69hCg3ZQBAf\\n\\n0ATdyCAXUQEkoAIJgAIVDBGWsL++IQFasglrcASLd00h0AUaWVjIm7wkrMAWYbMV4LGWQQIcea8h\\n\\n1wDwB4kCcQMR4LEM8Aj5a8PTJi0Qih5s4AQFcLhdML6HGKrIOsLHFgQWQR0ZwMSZs1HL8whphjw2\\n\\nIAW8eANHgAofkAYvURQ6URBcEAQNQAgdoL0SccP7/5ueMaAE6AEJ6wDAqki6ZXy4vpmym3MA62sR\\n\\nAUKmoBYBy2MAEcAFw/ADNyAHbqAbc1EB7CAh2WodL0EAc7EEwnArDIDIEaHI4hi4StAaWuANbxAK\\n\\nAsCppGvGoiqLykIBGWDCDxEgUJABmSAQCbA8B/AOJxABQSAIJ/Aje3IFNlC3aJq3ArG7W/wQugy4\\n\\nOswakFAHbCAFHHxphmvG9YXMAbACBQDFxBkZs5EJMiAQCvCAXaAIm5C7Z1oQc/HNBGGzUdCyAEDO\\n\\nE3HOv8sa6bGWVkACqogA8QwDh4uPiHhsAMnJs3ECKXAEMjAbuhUCIzACBRANBX0QDXADqeAS08kA\\n\\nhP8Mardczg4B0T67Gq2xzmbwCUaAbBhdzEPM0SQcAcBAndpRp1AgB1TQBIIAACnQBRg9AoEQCAVR\\n\\ncoMCzi5gq43YAY+AYxIRrgehGt6LBT79BlOQBRk5xANsuERckYPKzAuRGoEiBeIE1ZmzBQjQBSm9\\n\\nBQtspi5gA7VSAT8QAS1bGQxgJ9s7bTFwCljgC2tQB4gAB0Rgg01wvng6vvlGkUmAJ5RhppMqAd1B\\n\\nNqKqBtFwACOQ2Sk9AmR3KwyRAcnlzApwqwqCAsJ2ebFNlIaQCF+ACaSgBWwA1NyQBSsg1HU5wFQZ\\n\\nAY1ArRPgAG7QCCT3uqZBfCFTGapRA0EQVbh4aTL/IANdUAUYXQUp3QXSXBpCYgE2MBcJwAKPWnh1\\n\\noga6PacLMS/eC9x6gAhG4AROkAWEhQCZjdEaPUoRUAOUEHcAEIdImIR1OqkirQIB0zIUgABbgA4W\\n\\ngNIaOQJVIApbEAwCMQFLPDkKMOJR8Aj3AAzCkL+dQAIkEM0FUSc47aEJUacOygNzgAlrwAZTsN9c\\n\\nQAKgHL4Bfr4IwAFAQAI/EAmMYAdu0ANukAKN0AOhLQEn0APeYavjMQC/IsoIsKt+rQgIEAhVQN63\\n\\noABEUK8P+ICXtlGivAQoMBfdyohgQ8Mxvtt17Rv5ANm8wAZqbQREEAQRoFsGEOBTAgcJYAgxAAus\\n\\n/xAJU+AERhAJJxADlFADoVQhE/jnf04CWRABS7DpE/gBwHAEgdAKGrnhI0AD8iAMhRIES6ACN8AC\\n\\nFuDhzYACQRAECjA2ScDMct7YM84wkC3ce+4E0bsCNLC62LQCDpAIhmAIjJEIs5EIm1AZ1PoDw5Lp\\n\\nE0gDmh4E3EAETkAERMAF5SEDThDqIxDef60IovDXI7AF6t4FBnADy7AMwVAZClC5CU0gvIuvp9jM\\n\\nSRgDv+ADsjDcUuAE3PDnxrIoFuIyJEAERjAFakAZIn0EvVLpEcDiXLDwqxAJyAAJPqAGb0AOPjAK\\n\\nWRAII4AAI6AII9AKpC4K5w7m6Z7SimDeAAABBv/AxjlSwxm7J2roEFN6cJ7gA7jAmDvu7cPCVJvj\\n\\nJMBSIREgBRAA8b1y6duu7UdQDHVwDTqABb/gCHZwDT4gAT0gBXVJ8kF88q2A8orQ3X6t7uneDYRQ\\n\\nrwx9EDCuHQBA1vq+A3fwBXwACVpQ2fvt41juL8LeqI1K6ZrO4iQQBFyg8AsPBw+kA1ffAzGwAxJg\\n\\nB5TwBDEwCvmCAFVA1Rt+1RqZXAngACqA0oGwBT+wDDRAAXDs9vfOEEWR83brE/wLUq3BCjr+A07Q\\n\\n45beMoDvMqf/50tAAoevAj+QBDWwCpfgDZDwBTwQAxLwBM7/s1GdALAgThoeCAawBSUvxAJwBDT/\\n\\nRgApwAhEEAiKQAQeSAIzlB0MYPMNQQA6nRDxl8Pemx6XsApw8ANHwO3dPsjdaul/HgTcDhAqfiSp\\n\\nEYmVGl5YviiR8ITAQwIAKjwAQKDHEQMcAo1A0OXAxwMBSEiIIUFCD0YkAhGhQIEKAJgwF8SEyQDC\\n\\nBZo5ddJstFPnTJ0EEhjiYWfTKEbMINRQkOTHjxtHqKigWpXKDwUKakCgtMnOqUSGDEGMCJMQvXow\\n\\nCYxSoCJLAQMIEKygYGCArh49TO44oWBEBAMRGPiMaRMnYcIsWISL0rixDciQ29mwVnkyZK0KpMCZ\\n\\n0vmHkSNHVEi1SmWqCtNUbvw4MnBzkiRZs6KS/21D2B90hCKeSHEBwpQCKwYMHx5Kwo47OmAZgoAg\\n\\ncBBgiAEYlo4YSgoZH1B06ATB+3cIUcCPJw/h0vny6c2fR++9OwsIj+DXoKgzgYMjEQIcAJJFCiVG\\n\\nAmTkhwgoCCKKBqqzabDqfEoAiRQckOECCtVg4EIGLsCQAVY29PBDEDFUw0IRR1TjghEp/OCCDzBk\\n\\noT773PDNKdB+mEKKKWz8oQYXTgAgQcQY6ICBshrMiYAGKpjAjUYccPJJJ2WQUsoop5QBSiyfvDJL\\n\\nLrNsshELLHDhgTIQSwCKE2I4YYK88kokkQlOOaHIICH4wEjCEkggyQr6RGICQAMVdFBA//xz0NZD\\n\\nB63ghEUXncBQRk+QtE9GH3UABRcssSQDTjlNIQU33ADUjbxOKXWCRFIA1IUUOnX1UxcsgKCDw/Ak\\n\\n7CE9c02gIlx19TVXiBKISKhfyTJ2V4gqUnbPClxJ5QIUbJDihhuSqHa1qHScIokcn3rKWtjCFRe2\\n\\nrBgQxFZ001UX3QYamMAFFFhoDIJXarD3FXpficRee9ex1wbH4ntk4EfGG1KGdRNWeGHEjBUKSLOS\\n\\nRUyDhxi2+GKMM9Z4Y4479vhjkEMWeWSSSzb5ZJRTVvmnBVpe+WWYpQsIACH5BAFkAEgALL4BogCT\\n\\nAFwAhgAAAP///2YAMzMAM2YzZplmmcyZzP/M/wAAMzMzZpmZzMzM/wBmZgAzM2aZmZnMzMz//wCZ\\n\\nZgBmMzOZZmbMmQCZMzPMZgCZAABmAAAzADOZM2bMZjNmM2aZZpnMmcz/zMz/ZpmZAGZmADMzAP//\\n\\nM8zMM5mZM///ZszMZmZmM5mZZszMmf//zP/MAMyZAP/MM5lmAMyZM//MZv+ZAMxmAGYzAP+ZM5lm\\n\\nM8yZZv9mAJkzAMxmM/+ZZjMAAJkzM8xmZmYzM5lmZsyZmf/MzMzMzJmZmWZmZjMzM////wAAAAAA\\n\\nAAAAAAAAAAAAAAAAAAAAAAAAAAAAAAAAAAAAAAAAAAAAAAAAAAAAAAAAAAAAAAAAAAAAAAAAAAAA\\n\\nAAAAAAAAAAAAAAAAAAAAAAAAAAAAAAAAAAAAAAAAAAAAAAAAAAAAAAAAAAAAAAAAAAAAAAAAAAAA\\n\\nAAAAAAAAAAAAAAAAAAAAAAAAAAAAAAAAAAAAAAAAAAAAAAAAAAAAAAAAAAAAAAf/gACCg4SFhoeI\\n\\niYqLjI2Oj5CRkpOUlZaXmJmam5ydnp+goaKjpKWmp6ipqqusra6vsLGys4YjNSO4NT01AAiHu7eF\\n\\nuLYjiyNAI0e4iz1HNco9tcjFh8PU1iMDyT0j0Q3c3N3Lg7hHnTUwNOrq6TDBhTcuMTADgzcwMfkx\\n\\nNyL1hTUp8uHQZ4KXIYAmTAg0caObPX1ADPW4EcPFjRpAXITYEYJGu3S80Hn8SEMHNSA1avjaVIPG\\n\\njBwvZ8h86UJHBkIwXthwUaxHiBgvggp9YSKaoAwBX8ggsVTGCaU3CB2hKOPFiaVXScQoKOiG0KKF\\n\\nMtp40TDFDBsy0cbMAQNBjbVw/90BcEaNpcu7LnLQgKm37SAYaF3UAzzWRoyxQWOsBODVqVUZKJ6e\\n\\nOGGCWo8YTpkGrarUaokUAEaUqBrD3KAeOV/MiAh4RowZNFzEzgs6Bcy9eXPInkFvrqeWL2HoEA4D\\n\\nRkwaBgcAbnHD3OsX+zAGNEwtBeKqOBTGwCFDhol6I3CcYFq1e2fO0IvdGDuP0AgTZ2MUs34WRgqM\\n\\nKWFEy3gXxr0ctxn0G27PDCJScNS0tkMyNOgEQ13HNAfAZU/JYENl0ShjAgomCBLDaEpVSMILKGzW\\n\\n2XcjAOUdIUAA9QIMgrTmgoCFwHCbCBOOkE5woABXkjA2wmYQDC7spEyRRBlliP8JnX12SIEpOFVe\\n\\nCRWWp1QJV94wQAiJRRSjTjYYFA9aXhoChEs5CHgmbDB+4iONguiAJowItFbUETSMNUNlh5jAWVSJ\\n\\n9OAneZqhZ6VQMWQARGJtphgUDT3RF4MIi/UiCHAzCDjCXpn2SGAtxrEVzXI7OMeeYQ0RUsNY3pmG\\n\\nSIpXmWiloSRCdwQQTKbHmA2GpWDUDS2gdZEIKKVkzzzz168TJqgKBsKuQhO7pgDmEuRCPCDDoFhapR\\n\\nAT3VoSJRNnXeuN1hKRSlOVk4Qp3aCrieC67BpluyALwFG3LF4dabm2jCGWdeyAFApGu/YsurUCHM\\n\\nhxigiUTJlGRPgdiZiVCFhhj/DECEMBYNOKGllkwwdQqEXvLSxFtdAz5rSKgzCsxrwoJM9ByiUd0A\\n\\nIsOIRFnlZk81WRWWWEY1VWLyQNemIPTJtoNH6xSzpjqwvRRwKG8aggCnchn3Ag3+CILrYdm+gJGK\\n\\nfDZcYs/mzUpxUDgyli3YpZ2WU5EiiOOMUSLwBcMROuQ1g0lU39W2e6H2Ri3Kl1IUFA4NYQZdmb/E\\n\\ncBUInVU48c9V2WBaDS7qeYOSANBnA6WH3HAXLyPoQJMOgcPGOiGozenLwAtOaIjNL5TwXa7egX4a\\n\\nABnc4FisVZVIrlJgCcIkYqPDbhxa/l5Kk0Gb3tb1OaeHhWbLGVA7rUosAmUD/4wpBFVi2eTc8N0R\\n\\nISo1Imcl/hyUkwZqSxTi1sELOYshgy9wf54SklF6IIIgiaoXzwtBPfLxoBzFIyiguYxjYqCChtyK\\n\\nIieQD2PENbxDlQdncwGbDUDImLPMoCHaUMYRolEDgAmoJTDRD7/YNJx08IU3ApLRADJQpHwwJB9K\\n\\niQFoQue4iEFHBlR6AQ6KcQQ/iet4pEEcY7A0qZVBZwayScc6HrSmlgniCIW7nl1iAhfdTE0QeYJO\\n\\nNFyiExfND2cBkZJkHkOZ0ziReLLSnatYxB7f7SotM+ELct4CExoZ8GicQIds1rHI4iCOSOMzxwgo\\n\\n0gL7zcN3NTABq7qDAhlsZf9/KVAI8UizDz8OQiGDO008YkADVspmN3triWwgp0iPmPIS3EiJLVJy\\n\\nC1Pu0iFeu4EwGbI/QqRAfQxhSDZ+cUz1ORMZzIBmLXhJTV5mIwO69N0vb0mLSOyxm+AMpzjHSc5y\\n\\nmvOc6EynOtfJzna6853wjKc850nPetrznvjMpz73yc9++vOfAA2oQAdK0IIa9KAITaglelCpSSBO\\n\\nm5EApiAkOiHQaUMR3agUyrixmB5c9BPNEIYw6xazW51mhYkAgjC9dAQf8CMaE7mBD8wR01RJpJk0\\n\\nTcEObiAAQYggCBdJ3A2K6bWd1uAmKt2Br0IjzM8xdR/f1EQNhqrKgcQACNH/SBHDdDrEWtxgp/KR\\n\\nGUUikgIc7CAGugiIWZ0Kj30oNXQ7YMjnphqDndZrB2ZdoiGOsJ24CmCSjNsBVily1s8FZKds5QRX\\n\\n03cDAgjTHLi6wU0AAAQbELVej1XqVJsj06mqQKUXESYB8PHNSXJ2qMLEiAlAC4RQqrY5dq2RUvmK\\n\\njMcOdSrNIab6plIqT4D2optljFNVitVL4QCRLLpBCgawWpWCRpimDR1qb9AAlX5zAMJ0y1CB0I+p\\n\\nHOGYKzxtRK4qxkwCAbv3SQEQgseP7K5UmAMQwQ+idwnO8QCq2L0BAh7LVIYdIbYHUS56cVVb9R4z\\n\\npqCNEJwm4qtjBrdFNXDp/wCca90RvLUQx0RGc5U7kSAQdwQeNu0x4tYJ0ArzPkGFL1O7CmICICKT\\n\\nPgieDzLMGB9MtTbK3ekAMllamWbApSlwab1wwF0LDhW8gvJBAwqhg+ZMBCVUVe6MI6LbiKzUE6G0\\n\\nchCO2eBUjeAHDGsRCb12VQaDFgC6/RwMPAzdGghWpJ97b0NaNBUaQLm1Q7VwVweRYT07F8H+QfBj\\n\\nfaDXcwjTB1AFAmKDEN58RGSSFyLqJMEKBJWagNDNQTRFGP1VYaogqhQRJqObudNbmWAHMCCyiXGw\\n\\n3H981QRE5m2ob7WPEca3rniNKiYmgoNek3UgOAgCZbfDOFP3mrqlE8gR3P+SHRwYoRk36LURtBHt\\n\\nGARBjHOhiAqCUN1oOxuy6mP0sIOta2HioAiQhbW4p4KDT2e73XvmxHdvYIQlN8MI4p7LrWiaACAc\\n\\nwcWIuJURBiHwlQjcNAcPeKURDgQjlOlWCbiGv1NKAMgdYY/7Jvi0RcFNhXr84yAnBTguHpqLe7Qb\\n\\nR7hJCpWBgGzoOuSPwK1LWTtjNiNDpY4FamtnCnNK4BbPyj3xzi/u3JWqV0KtGEAzUBpPZYAHADtE\\n\\nQEh7cc2or0uKp0CATk9N1Z6LHAZ43c5VJxGEIhQhCA4wu9rXzvYCsL0IBXg5LlE22ZjZzhVf+0EM\\n\\nfmCDeDfiCEUgggcGT/j/whde8IYfPBEgIGxNTNwZeZ5QpZHRUqS3Qqdm3Y7lY24AD0xgAhr4vOhD\\n\\nP3rQi/70HXhAETQxAvBKx6UNwIgwjcBum7ICV73eTnG96QEKSOD3FcCABCoA/N8Lv/gXqMDnle+B\\n\\n1Tuesym4eGOJxV/K6tcV+wXqpX0uBA8MvwIVYADxx/995VcgAh2gQBECQAQLTMADQWhoJVQ6ANwq\\n\\nV+vHNIGLW5/vVhzzzzzj73AB4AfsU3fuA3ARFAAYO3AR7wACwQAJ43AapXd5YQXw2BAK0FVFMBBC51\\n\\nfcold+kEeN5XfspHAeo3eA7gAURQBCkogERABA7wfo13CSP2A4/3WCoV/wSflW39904ieH6f5wAM\\n\\nWAQH8AEPQAQfoIKGRwQQ+H7OhwlGQG/RJwgEwAHNkAJbZhoN13HoJIIWMHgC6AFFyH4qKHgKeAAC\\n\\nqIAR2Hya0ANLdj2uAoI+iIIvWIcLEABD8ADqB4PvJ3gTUAEdMAES4IReF3NFYIJlSAQrAAFDAIGh\\n\\n53kHKIjEJwEXIIEzWIiLIIIUUIdEQAFCIIB/OHy/V4Ci+H4qIH+YuFdF4AEp2HsdoHx/SH7gR4Cz\\n\\nOHwS+ISZQHKww3RflCEZ0Azc4G/DoHS3gnWy8IOSOInHR36j2IywCH8UeAnqhXH3x2fH5AOTZ3Sg\\n\\nNW/QJU5HIIAGSIK0ONaL5AiLKVgAm9ADx1QITQQ5LhUE+5ACx7RlJjZdPUgLRyAEnegAFMCPh+gA\\n\\n/MiP/WiCKdiPvad4DqBYINQDQcAB7tFUOqc+/tZMQHePszACgbcCD7ACSqiRGqmICrACBqCRn/iJ\\n\\nRSAERbACA+d41pVcFmdt7HYEQaBU9TiTX+V3s4AAF0cA/wZx++ZvFxeUQBmUupiL0daDtWcaIMZZ\\n\\nn3YDQbBlN/AD2/aUKlAEl+V16jiFGBYEPDkIQDkCLvZd0ddw0SeWE5eKVoMILccI2AZ1aPmWlxAI\\n\\nACH5BAAyABMALN4BLgCCAG0Ah//9/8/Ev8/BsMC5r7+sn7+rkMC0oMC9sM++sLCij7CkkLCej8+9\\n\\nr8C1r8Cyn+C/oMDBsKqahb+xoP/78N/JsK+Qb7+pj7+lj+C7jOHJptq6lbSIXsDCvw8QD5+Qf6CP\\n\\ngLCpn9CvkLCXgLCdgNGsg7+mkKOMde3QrrSNZM+4kKuUe7ChgL6toAsEAcC4oNGrffDPn9/Aj7+n\\n\\nn8CXb7+wn7+zr+C+k7+QX+XEmSMaFb+jgCAMAs/Ar8GultHQzdDKwuDe0rWYeJ6LgL+dgN3DpBwV\\n\\nEI+Ab7CokMCxkKB/YKaHZd+wf4x8cP/28Nm1is/JwK+hkJ+Rgs+6oH9wX8+5n2hYSq+dkKB9T8/E\\n\\nwNDCv7+ogBkRDodxXLCkn5+DX4BvYL+5r5J9aKeEXXBfUBoPENDIv8ekfvLo3JB+ciIUCq+hj3di\\n\\nTF9MQM/IvxQKB7eRapBvUDAfE5iHd93An8+2oE8/MC8fIIBYQINsWO/dz39wYc/PzwAAAM+/v2pG\\n\\nK+ri1eXMssGee3trYO/awOfRuc+zn7Cpj7+wkPD5/+DYz7+8sN/DsP/178DAr2tbUPD18MCegJBn\\n\\nP/D58EIsH4l3aJqEaaN6W8DEwF9QP8eph2xTP7+4oLihf5p2UpFrSdi9o8C9v7KekPDu4M+zkHVd\\n\\nRP/57+/TwODPwMiwjYBbMotkRDAdCNDCsHdWOXdnWI+BcfDy7y8lIN/Mv8+2r8Cvo9zY0VhHOV1B\\n\\nLzklFF8/MODTwPD3/+DAir+XgPDs78C4n1AvGmA/IGA/G7C2kP/14E8zF+/s5D80JTYqJFM7KHBP\\n\\nNycgHb+fj//t4K+igPDf0IljP29gU3lVL7CxoLCwn5d0TU9DMvDXr3ZNKTIiD//3//vjx2dgT0k0\\n\\nJ9C/uNDIsN/Sv8/IsF9SRbOPcP/w3+/gz0AvJ1U1GfDayeDSz/Dz4PDWueDYwLCwr2BAH8/Hz//g\\n\\nv2VLN3BIH7CogMC4kL+/v7+3sK+ogP/v78DIv8C3sMDIsAAAAAAAAAAAAAAAAAj/AAEIHEiQICJE\\n\\nACZMGNjE1yVQWJ5wgNDmCQQIHCZCOMDxgCIwIEG6+OWipAsJEmioVIlSpYGUK2MOm0kTpc2bKDdt\\n\\ncjGg56yeAxjw4CGgKEYOWAIozdImAIR84S7uCxeuaNGCWLMuZPgOFCinEAJYRQAUgQCcKAkUWMu2\\n\\nrVu2CeJaKGAogaG7d+85c3bkbQEah1Q6GDzYgGEHBkoyAAqGo9LHATRevCgAQqMBAbJqJqiwM6N0\\n\\nCAywvTCktI7SqEsHCSJCRIXX417LRkG7du0NuHPrts27N+83b2S/DsKJkw4LPQrRmcW8QQMJNWoc\\n\\nwKhoMoSibSBs1jpwQhN8zZ7J/1pEx4KOC1rMBAo0ZL0Z9UNmyJcfv9f8GTdubECRPzdt3QAGuIF+\\n\\n+gkooG3AoVCBCEOEQMcii7DCCgIUBhBRPYpkyNFk22mlECPhoTOIKSec8MAL6s3wxgaWdHLFFZbk\\n\\nJsZ+8kECSYryEdgfbv8NCGB+BeYG5JBEFllbfirK1gskIRRyCiG66HLKD3v4sMceTzwR2UWZdZiQ\\n\\nZ6KckYcp4xUSghaQVPBiJJ5EckcqqUgjpzvuCGPnncH4ocwdkUTy4oD5oYCbbG/M0OORRO5X5KJB\\n\\n/ngDbRXM0MsQhfBwii7pnHLlplhm+cMTHXamEDFiEkLBImam2WIk0ECTyh2qVP/z4qwbiCGGJbNe\\n\\n4QkccHiiSpzYyIONNNj4YayxrSSrTLF+YAMnnND0GcluKKg4X6GFAkmtovcFdwEVp8iSRRlYXGKu\\n\\nuZ7u4eUEjIi5CBFUhJDmFapcIcYMZpBgwwM4aIADDg/w2++/AQf8rwY2aOAECQyTEEIIDxSiAh5s\\n\\n1FFHHHHssEM3awiBaiEFIwwwEQUX/HAIQ1SQRK9vwqnKBvJVACCkpY0gQx5bFaRQqBOU0kweFBCh\\n\\nQQovVNDnBks4YQMOMACsQQwwwBDD1DHYQPXUNmSNAQZLdJ20Ew9DwsUkGmNshx0Za9xNJSFcAHEI\\n\\nSidc8CclP/AJESQHHIIZStz/IYwfqqiiYCBmGLpfpJCIoAIdzeTspUC7fBieLhQ8AIMGM1wRyQw2\\n\\nbI2B3P9CHbXUV1Pd+dZeew32A0NoUnYRRZCxBdpp7BAHHmY+rHS/AefdO954B0wFFQFTMEQrxQQT\\n\\nzB2eRHqftUOoIAIDfzDShDa7PJ79BKI8Ey4gc+BgBqszYBDD1lb/+6/Uo49e+umpL/HCEm+bwEYc\\n\\nsSCTQw5FdFDE/jtYxRi+9YCHpcAJTtDA7+YQsDkw8AHDI14IUvAAHdwheca6wx3gsIFCyUdBQ9DB\\n\\nCAhQBkY4DgAI2c4EznAKViwCEA8wg+ZQYL4lYIAXU1Mf00TXvqtpjWu84EXX/5ygNy4kI2P+60AH\\n\\nctCCDshOY5NYwwjo9gANhAAHc8hbBh6ANwpskQgOzCIVUkCEDOgADn4oxi38ACs4iMF5SapAECKw\\n\\ngDMw4nEDgcUZ0qELQpAIDih4ged4wbT2GXJ0OIiB+jTAyEbaEAMksGISbqGx/zVRiUpsYgtasIUt\\n\\n7KAFO9CECh5WsAyYkgIUKBEqU3kCVJrylQErkRbQuCdewSwESwuYFAZRjlIUJHtaKcUf2EEBQGxj\\n\\nEIUSJC88x8NCHjKRCcsaIxOmAa4tgQSoGIUJLpaG2rnBDZvc5DcxicktuCENbLjAJ15QMFVmgJWr\\n\\njOcrTSmwy1UgT7yyxAwgdv+Na6yDl3mw4wmxMip2DIICg4AHJ5JAAvPFYJlTO6QhE1m1rFn0h1wj\\n\\nQQpGUIWMdZMMGvumSMGpyU1i0g5fcFs7SwSDErn0pa304jwzAIMtKkEZrVgDHMahhQeUyBSDGEQe\\n\\nnqGOnW1GIeQAx0G3kYFqoMBqU2NkRJ+ZgdL5EKPy02gYcKGxbnazk2DtJOzIkEklFmEHdRDBA3IJ\\n\\n02vA9K00fSUOMnCNB6ARDlyoQINYaQpT5OEPojChCifwB0IEdRBa6EQKPMfMHCKydI1l7Nac0LUX\\n\\nYHMNXfVqN/fH2RycjX9lzQEZ4sAFUlruBC1961tlKlfLXaMCyoBDEpIwjhD/fEKVhPhrYAfKmVIk\\n\\nYqkP8MIMcNCwxTYWahR1qGSXGT8SyO8FRcuF7dKwhW4WwWyf7SxoO9CC2O0gF714gQIB9gBTnmCm\\n\\nr2RtBtRnOQ2Y6A5+kG0FIFEIVho2oLDgbXdKIYtinkBNREvBAZ0gYI16rpGS9VzqGAZd6M4ARXdY\\n\\nxQ62QFYypOG6cTibHfanYTssYxk58J8d0mCOJJwsBAp8IHrnWTAszuGKseQCMNbQiSToNQREOIEp\\n\\ndJEIwOpXID2TBQ/WQYUroIBolm0YwwTshAQnmGFda1iD5WMGTUh4B0Vwg+z+11mxwo6z/fPfDiYR\\n\\nhgYZ8AHhK++KXdniOWzR/24USAIwNljjCuAYEDvusSgcZ1Qgi0IWgCBCCCwhBhRBV8kaFfDWEMxI\\n\\nzyFwYVJu8AtmoIU74KIIWwixE7m8jFjEgrPctQMylvE//5EBF6WdYAMZmF5XzrRuKx3COZjXiQ3Y\\n\\nmQiAAERu/3AGPvP5zzAc9AZIcGiNLpnJGGikshEMtxQ8TMnQDcQFSBGHNJChf27oQKY5vOH9cbfU\\n\\nSYzd7XrwMAWiWc3vdDWLYf2AVMqa1raGWCt33WvO/BrQFBi0JUJwaAH7G4GLXvaydUfgZzNY2tTe\\n\\nQhI3uW1Qw+7bTCxrB+Kwhh6MAsUNnOsp1f3ON7P7BLJuhSdqbWefUoDevv8WiCQScgb/hsBexT0g\\n\\nspV9UYEzksDOZjCKIHEBNlg729xt4v5g9z9kxIK7nSRpOdlQgounIMXoXmWrK1e3vIEcGJpQhScs\\n\\ngYJAUAGVKLe3ylmOyhPB/Nj+PiDNpSlwBBZY5y8IBCSYwQaNYdKkRP+y0c2aA3Ne0ol1SIDToT71\\n\\nqVO9YESg29WzPvINNIgIiwh7d7ay8hUConIvgHm/075YmyN4sm6PdNznXneyBr2JCt8C7LYQCzvw\\n\\nPQdu4MPdj7EAp6PZzTVNN2vjWfXi9QIYrdB6rQMBsZP/td6cEQhCJkCOsmdeDPyGrr8TnWyBS/bR\\n\\nlBW93Jlhix2Yng/g//v/6mOxDHCSU/ZBn4QILp7iuZ5X91OvehcpIALgw6EaMQpEu3V9/B8npBmn\\n\\ngHmEdk3HpmSLZjUW5WQYQFkE2GBmED25kAbmB3588HeYlAPL0ALoF3SnNwkKgHEl837ypHtS905E\\n\\nQAF3UwHFwDyztQFa8Al45ldnIApNoELEcCoZgArV0AkP8wKc92/TlIBOhkBRNmVDMAK2QAYaqIHh\\n\\n5z+xQ1b50wGyF2bht0mTYAXkFgJUADzx1IVeuEqtlGMjUAwi1wmWUAFaYFu6Ngi8BgvbUQrEYCr5\\n\\nFgnV0IMvgArY9AIT9HQioz5C6GhEyGAkIG09FwdKSAbh5wadRAaM6AbI/2AOW9BEYRZOm2QOofAw\\n\\nw9M7X+hKwNOJMPgupnABt0BnNqYFo0AEQFUObfhjE0AM4EABUqAD0AAH6IEKzsZ5jCQwfnhRFhWI\\n\\n0PYCQyBdn0SJbjBhIPVJsTAJadACskNSm6QxdSAEWoh4J6ham3gqrfRCI3ALrbBBshUESCAFqHQK\\n\\niQAEe3ZUjFAG38ADPVAJJoAyIZBNKYAKqBCPT1c3n+doUkZsU3ZPEgZK4aQxAqkxq3BlGhOQk5AM\\n\\nyZALeKCFw0M3Wzh/rraJVLAIVCAFVDACpIAHeBAGlaACDkAB4EAIPXYGxuCG28EIokAM5LANeYAO\\n\\n6EAHQSBHwvEawSEcwP+RIL1RK7YiBrMiBnegDJqgCaRQlEa5Bki5BqSAlEuZlEjJBR+pAmGQBCYg\\n\\nGyowHFZ5la9hAlVpAirwlSowAiuQABdQlkIwAgtAAARgALpADKVQCoxQCk1Qg1ihDQTxCO1yCqHB\\n\\nAl2wACvACSuwGoLpGq5RkwriG/+hBErgk7niBY75mI+ZBIo5mYpJlVx5mSbgBcIBlpzZGp7ZGhEQ\\n\\nmiMwAnGRAHS0AHGhACWgAAZAAF0ABV3AAgcQAD9wBnS5C8AkEHY5EL7wAwKwCTSglgRQAitQnIK5\\n\\nGlpZkxVwmBXgBSigmV6wAZTpkxvwIj0pBpDpBWJAmZNpmVypnBXAmZz/GZrkWZ7kiZqlqQDqKQPC\\n\\nyQIsYBNg0BMc4ANA4As6kxAEcQZgMA3DcATqqQAJIJYjcJwzCZ6ZmZmSWZlewJ3XuZ1K4JizpZjZ\\n\\naWOz5Z1CAJayoTidCZrmWZ4L8KHp+Z/sKZxraRIoAQYQ8AS1wGf4CWRAAJw0cAR1EaARMEeeiaHC\\n\\ngZmXOZkmwJ1KkASP+aOVmaCzxZUVWqRcKQRCYAJKepmvIZ6e6QFSKqWg+aEfqgapuQBW8J/q2QXC\\n\\nCQIEwBLxCQE+gJJAZm+JQA2AcQhrUZbk2RriiaMVoKN0agIReqRJUAl6uqd7aqRHeplKGqhL+p1T\\n\\n6gFfGZoi4AHk+QGh/6kGC6AGUAAF/6mlVhCpkqoABPCfR0AANjEAZOoLrOgDYCABbNqmC3ABpVma\\n\\naLkAo9mqI1CY4KmcJjClVfmVSVqoUrqZX8mhnrkaIlCeqRqsdsGlCgACXQCm7emeLEALNeAczhod\\n\\ninAAPvAIHeIDNRCcBDAYMlACbVGW3lqWcdGqvsoaYKmhX/mkuBqnn4mjuzoCEfCriCoCoxma6JkA\\n\\n6lmaWJqaXAoC/IqsaqmsLPCszjoAHKEIe0CtKKQVQFADEnAYDiADMuAXa2EBFvCtZTkCqBoBYxmg\\n\\n82qeIrACopkAHrAA70qypomoK9AaK+Cu+mqv67maJcCtbkGiJAqw7v9pE4YxsD1xAEDREQGwB3Sp\\n\\nGROQCM5hGAagrRH7FhS7tBWLqgVgmqUZAalKnsUZmioQmgmwACXwoQqAmiT7rsU5liubtf8ZCl0A\\n\\nsTErswVAszVrs+/ZsDnrrA2wszxLsD4LtCpEtA1gtIQBsT3gFky7tKjqAFL7tAkgAqUJshqbACAL\\n\\nr6epAB9gpajZsXFBnmS7mmYLsW3Btm17szhrAHIrtx0xuncbtFqRCD3Bt0jbA6zLFoG7tGsRAU/r\\n\\nAQWQsm+KtaB5snSUAB+gAHQktVjrAfNKti+rAOyJqWzBuWpJC7TAAi/RsKErtz1LuhsSFnh7VIlQ\\n\\nty7gsIQxGD2ABEj/UACvawEJQAkmkABhEAYbG7VUS55cYAILoABcYAQLwAWMep6RG78LIATxKwQf\\n\\nUAIjqgCby7nMSwtGe8ChCxQ9gQAHQCFWIQBKgQU+YLoElb09sb1H272EAb4TG7gRwAVSGgYjS6/s\\n\\nC7ymqQlh0LWYwAVCoAmKeppWEMNGgAaUMAaRSwlhoLVrq7bJy7ky4LwHHLfOocAD4MAPDMEWMsF5\\n\\nq710kMEa7AAc3MFLuwBf8AEeYASZugAewKiS+7VbywZMoABW4AhCEAqaYAWSqwBdYAVfMAVVgAkL\\n\\n8AFrgAeyu8MSq7xBbLTSWxZHXBkRrMRHBQRM7MTd27ptAbsLMAWU/7DFXcsEVRC5XavFAHqaazAF\\n\\ns2AEjiADjoAGRqAJYWy8ekAJBjDGHkAAVpoAPOwXJAqxRosSeXzA0zsdlEERAfAEgCy0gnzBTfzE\\n\\nDsC6f+u6FFsACjAFguABBtAFRjAFWMwEXyAETGDDjKqeeDAFLCAIbBAKX6AHjuAIpUwAglAHY6AA\\n\\naGALcmDK9YqqCXDHwsnKhuHKr2wY0zsZlUHLtkzBOpPLDOACUkAH/PzESPDLUlwAHsAEaDAFUeAB\\n\\nBW0EejAGX+DIBI24H8oEmEAJlDAFX4AGBf0BYVAFVSAEYzAFYTAFXFC/EUCacXEBEjvAEFsY7vzO\\n\\nQcEAsmwd9HzLCv/LswzAAFKwz3Tgz+ELzHNhBEagAF8QBvRrBF+wAEbABB8wBvYLvBFgArkwBiKg\\n\\nCY/8AZqAB1/AlVNQB3RsBGsA1IuLqhcwF8GsygSw0ojR0nnMEzc9zzLdBhxgyysXyGRx0zndzxoc\\n\\nxVJsAVLqAFZMuyRrACXgASbABAtQABr7sRGwkQlgBCMtA0ZgAhFQCIXABVyQAA5gAmtgAoY71uic\\n\\nAGX9FmqJ1g6g1olhtD3R1m49z3At1yoEBBRy0zi9zzx9yEtrmg7AuOmcqh6ABybgAMWpsisQBpI9\\n\\n2B6g2yLAlaX5q4pdmmNNvqANuzN71jJAGC5xwCahGG0t09fR2j7/MNe4HNt2fdf+7NMU2wMX0ANy\\n\\nwbgjgAQRANQXMKA68LGsIQIFID0FMJryGrYfm7JPuwI9ELagLb6GwLSqrMFwi90m8dJEIdMQ7N3g\\n\\nrbBzK9uEPBjge+H/HLjfqgMcfhwXwJUjoANBwOGoseEdzuFhm+IpbgGGMA9hexfRPRdv8b1IUBhB\\n\\nvLdE3BONYBRh8RgS4dqBbNPjndP6/Au/sMHhq+EWewErMNavWpbyuhqtCqfiSqCCqeKN6wx2sRZk\\n\\nWZZt4cusW+M2HsQ5PgA7Ps+Q8ePf/drifdNDgZFUcOT/XADgu7RawOGeXZYojrEry+TyahqnURrx\\n\\n7arHKa+jGbYj/zCxn93lZSnjBQDm3/vEsJzjZ84lPh7Xa07XCCDbOT08AoYEhxDqoZ4JpJ4JWlAc\\n\\nWnDnJy7iKK4DgSlCQTCgroqeWL6+qUqa3sro38oWkN4DvFwYJUHE14Hmlw7kuJzaQ0EHT5vqqV7q\\n\\nzm7q6WEGxrHqp1Ec1j7teF4C6D3o7lqjrRoXXnvSur7kz40ckH7hvJwYwQ4Uw27pSqHmEU5QQCAW\\n\\nbj4UEZQCo1CP/PYeWpAJ0BXt7xHwKPI8wDGneHALuFCQ2ZANuIAL2aDwDI8LxTAJFD8J3dANCjkJ\\n\\nwBAPXCAC3noc47u0SDAKGC7miJHddMvjaY7p8X7PRSHbs80Di//wt8ND2RZQCDcfAjqg80OAJlqg\\n\\nIqleGq8xKb2wIFzp2FwQBkzABFzABNO8BmPAkWOACXWQC2yQC8lwC1qfPFwwAg2Chkt7CBEEL1SQ\\n\\nAfdOD0Z+5GPO1n0MGRlxCdP62i/P6TltAAvABB6wrWEw2GMQBtue3oMeBptNGqNZM0NwAecxFxew\\n\\ntR+qlgXgAsgrzMOJygWA0hi77T0g4lpgHptvAYegBYeQAp4/CocwCilg8t2L2kHR9o/x9nEfyHNv\\n\\n1zftAkfA0Dc9BUewAHhgBLltvCWQqSXABWwgBzH7oSUgAnIgAjLQ3xFA2FXABpSAxgsABZSw9Hgf\\n\\nmsJLo2TpAFL/qQLorQN3vgLgbwF3fgjkL/Lpbhg8sfpH7PYcAPcIi8uxj9P5vAlQMAVTAAXfoAdQ\\n\\nQANbDBAuCBz5oIBAFwJMxigwIEMBCwVMvnwgEGFEhAgJImCqU2UBFCto2NjChCnjggglCqBMoBEP\\n\\npjAXLiSw0OOQBQtILIhAUgBJz58OhAo1UNSFiwFJGQhg2jTA0wAcOFzy8QjAVaxZJwBhysArAykM\\n\\nBvAAEWXBGChyjigYE8aAwgV6qjChxkTclCnc9FiJUkUcEzkYI6yIsKDOmDpTukARVMVWlSofSiwI\\n\\ngwfyFIoKjHyJQmDBAiMSPdCIANmDGgIGUqcu2tpAA7FKGfBo/8oUatSpVbPuBrC169ewDWixEMLi\\n\\nCxomCKcYofNlCoMomA1QimZEQTQ9CkBMGVPQ2YqWhdkYcSUuShRBr2yxYbNAxocxVZyzyd6FiaNX\\n\\nLLp8+SLxFYgFqujOIBZAcK2oBmD7SjbaartNKqqs4g0r3wRA4CuvEGhgFjQ4dGWKGmSYokMhpvDg\\n\\niyoUkIA7DyQYY4yP4vuABo0yiuCDOuTQ45hXXpliAVvqqEMyLur4AgECqqhDiAaE0KsLIRyRo4Eu\\n\\nogDBiimYAEGCBgo8YIDXElRwAK+UGsu226DKTcIJewMiAKYQuLDMLEKSgAVBHCmqCjRoQUMIQZiw\\n\\n4s4pHIECBP9XPGLBkSrMUmAyijzARA4cIaMESGusWUCBKdhAw4AFmKgDDeKejMIR7IToAoEuXHGF\\n\\nGn34isIKDcVM6tYBDoAAAafSVBMLH5rgbYLe3HzKQjnlXMoKOQwYwIgprMATDSvGCJSJKLpgQS4r\\n\\nGhAkGmkT7WwBZiaTQQ5MPlgAE2sw8QAEbjJ994tjXJEABFGLE0kPKpnIswpBuuhCED1qQCCKP6Og\\n\\nRswEcc31gF6x8DUqYIXdjViM34QzWWUF8MwAARSQgwECsgyFkiqmgIyJiNxlIT5VBWHDlUvJLZcL\\n\\nNuQggF421FCjimOOMYKAD9jwCAo96ojiYEfQaMAsBPCMpov/Ggim2gohZmWB4QYcPgBiNCX2lYOK\\n\\nhy12q2M5XooHVlgZwAUeSDaAgbk/wIwALr5gSAGHHDLIM/cWkGmEEi5QtyUPPihAjR5f8WABGgrw\\n\\nQCK9PVMouwWmcPULIQhgIS4mPgChi4/CZBjXryOemOxgzc447WQZ+OYoHsB0YW7VCJAiATzC8P0D\\n\\nOmRYoATPSihBAQU2NUCmC0ZIQIYCWkrgiAR8TqCAxSNQ4wjsCfCeAIOQV02CBQqSQIKitjwQQa5v\\n\\nTT3s1cu++GyNm+rYBQfAcsAFGljL34DrJWB4BTAeAVNCgON9JgEzmUlGLiAC6TlDe2owhCGwxxLk\\n\\nIa8lDgCf/2oYMgDwgYAANHCWAWiAPtWY7nQPU93Y5KcV+h0rThfiQQ15IAUaHEUKUhiIA1RTABkE\\n\\n0XgOEJ5KJnO9wiVgBAXowQiWmABnaEQN2KueGiJARekVIIMc/NtatDNC9H1vbmACE9caxkL4ubB1\\n\\n83td2roygG/skHb9k0IBGCAUAjigB8aD3gWwVzg/HlElC7yeBaTXEkO0hHoJWEH0sKjFLXZwIJP0\\n\\nHgn5V5QcqvCM7gObAAIgtgexzmIwzBgHngKBpgxgAQI5Qu6KQjIOFmUBCVAJ9iBJQFsqoCUlCOAh\\n\\nA3hFAWJxJkbMiAZV8rdJmtCVObwkAczotU5+cmyidJ2bTP8ZAFQyZQBygEIG1dW/7xXEACZQQAHA\\n\\nZ87rEdB4xytgS3AZAXISMIAfEEoBgPnHTf2ReN8DHwEkMMIjpEYCtxPoM1EXTVCqiZpsdNMBZKjN\\n\\nKBSEAFD4gOgaMDcCCOEDDOicOQ3igHJmUIAJCClKkqcAD3ChnASg5QeMcEEjLEAE0VspPwkgg9WA\\n\\n4ItgHIAEaJA8KCzAoJx0SkKfIpUXUoh+BzBlbQYAoL8lbwFf0YwHGBAKoqlhAWpA6WeQVz51SfVx\\n\\nRvhASss6SwV8IAzhCQM8F2ACD5B0AViVQQlwCr57belvYCKfWaAw1KS8z5NGxU1Sr4KxhjY1lSDo\\n\\nZhdkGYX/h2TUA2gIhRUWwM3yTa6iBlmABzwQ0cyCpnxf0KxBQmEEEYjgsiUwQkrbugCNJk9doVhA\\n\\nFAygACgQwAMU9acEkpcawKJxsNM0LG+AIJWvvQ8BuGoAY73XWc9ENK2JA+umvIdSJmzGABW1gnU4\\n\\nJTIhyCAUduUCF5hTAiYIQb0yEIIVmCC8T3XOUZCd0gK21ty/ssKMCfrS1xBwADn1YWIQgEAA1tgm\\n\\nABwXuQC2X+zGZwDfsjKg5RteWq0DPtlC1wpWSGvy0NBZyfAto0LQWajUKwcQc0GmYWCtArKGNSiQ\\n\\nykp3wtqsalCD/TYguXI6gIA9eRsCG3iUbVKwVORkvwEc/1ks53PBQElogKG0BsMnNedtEWgQWmbQ\\n\\nq48CnALoQDRIfeatnxFCCYSggCh0074LANWWJEA6K0Dhxjfe7457DCc4/TjIByayVKDSlC917VbO\\n\\n6i0ItjQQc2J4Nf30npW9V9cg3vV4yNvnTSVZTgIuQIzmBAEL9APCBvjTNUmWwJzpzLXkOjTPtdnz\\n\\nkCek4Nto02HnG8ARDgUFGgyABjhMNPYcUAAHBJSlIyWpQzg4S3MSEHm2lB4HCWDOXwPx2Yn23qEF\\n\\nCmEUQtjUc7ZVqh9KYHALGcFXgfWfO/k1XJHvsueJQmsLQBozzzzKCiEXgcB4WSgLJiz6UVjWlaE4Dh\\n\\nAnyA3v9GaK0RXuHFX7PmXqnZUv8MZACk9G/bcw5sqlVtIQJ/rdXjTrCfzS0AdLvvfFCAglkWcARN\\n\\ngyXgngWfByIQbYYcwQNHoIEJjOCCApBVs8Gm3mnKOiM1jOYIXK3oB/6pHQO0MofoO9/4Jo5jiyc3\\n\\nbRBI7sZ3gwgKldtXFkp1Ugz9ETGrwcmdPc1E/UkAunVVNZ4NKIo7q4Ane5UB0DULCWkQ9IqeT+96\\n\\ndxgno84xjv1ZAOGGAAd+4GoAYP2wWo91bZgCsRoMYBp5FeEABADCDPbzXj39gFmcVfKKQjYKOrtt\\n\\n8vReUQK8giFFSZ76XvP6i/a94lF3fK/yTHjDI17x1vT/+J8HzJQyyFosvBKAWMQigLnR7fIE2JLl\\n\\nn0pyEAwgqEkhORQufy8JCGABErhVWawQfdnrSvxU76TjJ9Z4cBM497zZPQDOAApQMPXHR/UVgQd/\\n\\n/x/LKQBZCID+edV/ADwWiHmKA6gBVQuAAyiDMiDAAPiB1IGKUwgAEDDA86tACzw/pki/r3kCxNsN\\n\\nY4A/+bvANgiANoCAEhzBLEjBLCiDHygDBNi/PkjB/UPAAFjAPjjAA3yKFPyBH3iKBXwKHmzAMkjA\\n\\nHrxAI7zADMy4DezAwwKAD9wxNEkTqTjBAzhBIGxBFuxBHsxCFiwDLAhCiXkCHvyBPXiCBhQbMdyD\\n\\nH/hC/x8YQ1A4qiI8QzzzzcmCSkOjA4AA7kOF+IP/+aP4UCN4eqQhP0wR/cQhaUQagoAzMMADGMwyAM\\n\\nQkY0PBqEiidwqDG8pjnMRBkCREXAQya8il3wBXvoxAc8Kg5QP6lAxd67DQX8QU18RVZ0xfPrA1o8\\n\\nwsGjuiNDN4fqxFogFgTThkcABVL0tlMEt1RURcHzQzqsPVhMxij8sSiEClpEgF2pRmpsPB7zL40j\\n\\nMDBQhF7kOAB4AkXgPpDTRouzRj+sPXVcR/PbOnVctccrPwdJE1qMOv8CPHz8kgEAAzCAgG8ERQSr\\n\\nhTYAg4exRygkPnZMSIVcSHWEgKTQQHW8wXvER4r8r/+u20c8NAZwvApYAII2mL1kATAAw0cLYUiT\\n\\nfMaTTD8lfJ+/q0iKbJhUg4BEMIYJmAA2GTd1SISk8KSRdMkj45UjO8mFhEehjJOCtMc5wRAMAbyL\\n\\n3EcgKIXekBCsaz8KKQUgGIAaaMCN8Um1wZVkKUrzA8vaWK7+iroByLGlTBb+sxCslIBp+AGanBCq\\n\\n3Io2mAZq0LsuYQFa2BCKbJu2WUel/AobGswGUcfADEx2ZIB8TC7jO0sxYR+GMbW9awd/hAX22w1Y\\n\\nGEg3O5+89DQW0DvTIZPDFEzCLE0MSczRTE2ldMz9Korz8bRq+x7P/ExT48dpAIMnAAJfxAqq9AUO\\n\\n4Mf/pHCByCuTBrgTfprNvUvObDuQo1gf5jqj9XENvaMBcLKpajM0Q/McFrhO7Ow0TwNNbbuxWwGD\\n\\nG1OERNjNNjEGDmiEAWDPwJK9njof65zPDKpPg7ClI8hPYZtP/jQ0L8og/dRPQ+smBRAY7+xOEfIe\\n\\n0ESKWxG08eTHdtgDSeA4IDgAMNiEW0ElXMEQXJFO5fyn+QxQ/dQOBC1RBLXPzJvP7PzMMNk7Z0kK\\n\\niGPQW8nG8fwaRdgDq6BKrGiCWsCmRmiEVBJKwlTN2aghIl0Q2YO4t8GVo5DRDImdW3GBTZhSKt2E\\n\\nH71S9zRIpgIFH0BP9LyKHn1HojxJFeS/h+KYGZohQa70yQZLlj4APFmDzwGwvzo0P6bqUhjajTBl\\n\\nxjQxSR3MAm/wBl8RsDItVBVsRj8MVFp8U+ID0sJMSAt0KDzFioAAACH5BAFkAGcALL0BogCTAF0A\\n\\nhgAAAP///5kAM2YAM5kzZv+ZzDMAM2YzZplmmcyZzP/M/zMAZmYzmcyZ/1wulDMAmQAAmQAAZgAA\\n\\nMwgIZgkJZg8PZhQUehMTZhgYfhQUZiIiiBsbZjMzmWZmzDMzZlxclGZmmZmZzMzM/wACZgAGZgAJ\\n\\nZgARdwAUegAUZhQpehgwfgAzmRs2Zi5clAAzZjNmmWaZzABmmQBmZgAzMzOZmTNmZmaZmZnMzMz/\\n\\n/wCZZgBmMzOZZgCZMwBmAAAzADNmM2aZZpnMmcz/zDMzAJmZM2ZmM5mZZszMmf//zMyZAJlmAMyZ\\n\\nM/+ZAMxmAGYzAP+ZM5lmM8yZZv9mAJkzAMxmM/+ZZswzAP9mM8wAAJkAAGYAADMAAMwzM5kzM8xm\\n\\nZmYzM5lmZsyZmf/MzMzMzJmZmWZmZjMzM////wAAAAAAAAAAAAAAAAAAAAAAAAAAAAAAAAAAAAAA\\n\\nAAAAAAAAAAAAAAAAAAAAAAAAAAAAAAAAAAAAAAAAAAAAAAAAAAAAAAAAAAf/gACCg4SFhoeIiYqL\\n\\njI2Oj5CMEZOUlZaXmJmam5ydnp+goZqCoqWmp6ipqpakq66vsLGfrbK1treotLi7vL2Vur7BwrDA\\n\\nw8bHosXIy8yYys3QzM/R1MPT1bwLtRwcNckA2MEYHB8OLRwuLrBkN2Mh36dkIfJh75QhNwk38qoa\\n\\nHDYgVr3AN+aGiDHuAr5CiMQGPFNjAggRgmMMJQ9jkCCJeCOVhnZiXqSSwC6jRDFCkARwuFCIAoWg\\n\\nrmkCIUTMGJv2ItgQglDEylQgMnYEOqamEDIgQJSRxwHWxjEeHoqiIeZGiAQ8vWEUI68miHQv5JGB\\n\\nAUKbiwUu/pFZC0LGvxBI/6qSsaFO59oQdCe5sGEjRFp2IFYEiBhG5Ay9aCW8QMBubVN1fW148CDP\\n\\nhgQQYulyECLiSN2Y4EqFEYEExA3OK3QOthFm8AsJHGwO3njjcYiICnAECMBhjAIhCSoO9lDjJo6U\\n\\nIm6I9AA3AQgcNzzzzQ4RkyE8YAYgYjDOii6BgbEcUoFUE64ryaMErJzDTmCI4XNqou6D1mbpCNTW2I\\n\\nWEsGYQAyEcAw2Dx3lUEQQrfZ0Btp89yGBIAv3HRaXEK4kIAYOCTwmSW9IQXeQUJE4IIYNmWUnGli\\n\\nIHHUDSXiABNopdQAF1S34bACCPjRpMAN6URw2CTT1UdZUQDqpY6OY7xgQP8ERYnBEmWDPRBURGSI\\n\\n9AJGPLGUiQQXmTjZGDggEUINCzB30xjcIZQROlKBwoF2EcBFBgdw+RUCSkVyAEII+CQgoQsgaIfX\\n\\nJDJE0J+Y6kQYEQgclNEXQvBx1BQlgmpSgw03hJGpmi4gwNMYHHDJwREBuOiCBxLchpAp611y6Dv9\\n\\nfVdUQEeIoIBI/c2GEGdhRPDCDbqG8Fh/QrwDqHe7BaBARKCSgZMlDL1YiQ0NDFZVUYNJAAOGZJwa\\n\\nwWY2iaTOnWKyGhooLtwmhENkVKRmBEGp6MELKI3BgDoM0SCiTqo+KKJ3Rb5AG2aOImADA5RNVMaG\\n\\naorxI7ScfRUnQukhJN7/vuANxgFaEQTBWZFterLAEQjlZ5NLCwd1kAu5vuYrQgpMqhdcOLxznRhR\\n\\nnWoTEitwGYHPpuEQsyXxVRSCSCIufGjAYaT0FZhHNIWqovWlE2tp5ooyEE9R0YRgajs96AHJ2xFb\\n\\n0LEAkYGVEAhE4IGfPDHqQjtjJIAXCPu9vOolLFKn5hgIUEUxn59OZlNt+2JUUD5/Q5V1KGoPBplE\\n\\n/0kgg29CBGTDYDwFQPJ/3Q0WbDosQydEAAFhtFFNAWBNhko5VVLCnTgcwZMI79Gn0n/MuiAgEkdw\\n\\n6UINsCHkZwggJOD5hjCG8uvRIkqHfGqG8umyaX6KNI9Ie7ZjFQjCi5g8/wwaqgNoCEFs74IEaXuT\\n\\nCQU2JJAAW+owt89XHCTAPUDiUuJCWGs5VQ1AQAPmzeJc4UigL1qlwAaqgoEOjKB6ECjBCq4CghbM\\n\\n4CgoqMEONs+DIDxgCJdRJg/o6QUofAEDUsgBFIKAhTW4kgF/wcER+gKFCJOaiDxwKnXUIB1RWcED\\n\\nJkMDabGihjbcxQvNlw4OeGABNVhBDSAwRXT0kIeTmBejnIHEJG6DBguQwLwm84IY1mCMUnzBAVbg\\n\\ngRWo8QWPcZsRI4BBL54Chdq4khXPQjrSocUFZpCACwDQxBqwCVBI0wYdu2hHV6ygbR54IQ95KAEA\\n\\nCHKSNSiUBHxgSR9EwP8MMxieFXVyARo28haRTMfCXCCDBfhAApWMpfBeaUlBbGEQEmAjFj1QBlOe\\n\\nshYSY5QMDDCDSgLADF9wwgCcMARBSGAIMwDAFiq5hQEMwZpuweILVECJOv6yE5H81gtksD4naKGY\\n\\nW3CCE7pAhSlIYAa3rKUA2EmFLjChC4IEgTbr4s1vbmIy8EJHNKlQTy0YQJrsnMI0JbAFdnahCQRt\\n\\nghWywFBW/hBQUVmkP2HxFUDJQAa33MIUltAEdwJgCEo4qBkA8FCIUoEILlXCLWfgFnUsQCH93Cgm\\n\\nUreDdLySoVRgwhWcMIWDPhMAX4DoE5qgVCpYoQtOqGQMeeiCXmpUp6v/aMoLizmIhjaBC1Z4whek\\n\\n+UwuPJSgS6ACRBVqzAjI4AAiQlpOsVoJkdiAnDMgJgBm0IUnwLQLx6ykE5YwhYcuQQoEfSohaPrD\\n\\nm05irnSdhJU+akxBDGEKTrglQy25BC+klQtccEIyMzsIA+hABuKaFGQjyz1ySiCQtZSANWPpA5Gq\\n\\nNa0HFYQBojqIUGJRtYyMbCe4xwEdVLaWAABrSmcq2q+u1JhaMOYMdFBG8T02uML9J7wy2YPAcpKh\\n\\nWXAoLAVhhi5YAZeCeOUWZlCDKALxutm9o692UKhOVnIGnORCFgQRTcE+l78i/YIgUes2X8E3vqVg\\n\\nkw1iIAMd8Deax4wC/xgWtknGwKAMgigDKBHghCyEMgcX/daBO3HCpOzQwFn8VjogsBemzDACViFD\\n\\n1zaWF0NZpW7qABkmHuWOSdjgKe77MZqOlBGbvUAdLRweAPpjTBm9DgSWXMrrDgAAEZThC2M45mmv\\n\\n5Lb/jZgTCInVqQLApPRMIihxXMsYRKDISyDPHSyzwQoQNwM06QkdC7CIJk4Yn0l8h0lBgFdIQBAz\\n\\nD6AuUF95gDrMcFdyggBn4BhEGcbAVUHIAwA3KANJAJBJ+oooUV/eBJq4JCoyo0kvz+EOJSQQAKte\\n\\nApYcQAKgAlIbddwAVUbScyf0DKrq8WsySCAOqEjSrSObj7462AFULP+ZziKAIAweaDAIzBACI2xh\\n\\nDGEAwhgyGUO0UBW4nxCBgh6D5hsEOos3UPW3yhAA913iBZghAwQQUJ+qxcluc4pKjEMlaj9/RwGW\\n\\n4YBVsMINx83FhF32VQ1AnIAa+GAGYCjAQUBw2sspIADJJEMQ1hyEHRg7ZyhmYH9uA6Aa2A0JIpiE\\n\\nGR6Q7n3hYx4ZvUT89qOYTCUnKjRYSzvcVpV2yAwTvK6PCBRyqf5cCXrI8/Kn3bYDZddgBjwoCBCQ\\n\\nLQP2GsEqp012AmTgjR7tC6fYpYQTwVOJfYgdcGe2Myci6TjYBCGjpI4AErzhuPpsIkRMChU79jWJ\\n\\nqGEkKkco9nt7FBT/GuigBkfh+g9ykAMakFMeOdjBDzCVs8o3MdSeEEPZtdQdy1QPi4XCRBv70yU2\\n\\nzUtPSGhKfRAgAqRlQvMwRpPde/S2p/FJDE6M4wrOEhaU0CUEAQiCn0DwgyCVJoZ6CoEg1bECA7A4\\n\\n5GH3FRkQcAMFVKLHvgpDRV4TKD6dGuiaAt9ZmKNgu536f+3QMSaGInDs/+hSTTlAOxzC5bpABiAK\\n\\nisAAXyiZtIBAMv7jK+ZDVd4Cdp9QAwYDgJRgSJPwD0uBNP/nKD9XV1vEd13XRCb0MFjkM5nwGRlV\\n\\nP5+RDlyyS0cWAbtXFxAgInm1JPanF1lkAB5gBgZgPrtXYEiGeQjG/wklWBcg12FZkAVWMAVZ8AWH\\n\\nAUQLMAVTIFFcUFgzKCKpIYJyFX05mEXisj4usAJmAIRYMAVWgAVdOFFO4DZTgFhSwFRliFhTUHlf\\n\\nh4NTmAkG0D88pAVA2IVYUIcTRYdZMIZNUIZ72IdSIAVWYAY7dINX1YbDxUNosQJf4IVYMIdAqIV3\\n\\nqFZ+yFR9qASIxTGgVoiG+E+PsT6QuIV2eId1KFFnSIl/aIZJIAVTMIiKtFpYNS+fNgB3mIde+IiM\\n\\naAVWwAVYUIp8WIp76ARPGIWbCE7984W3WIdeOFFJiAUSNYmUOIlQsIaaOIyYMDwisgBAuARZwAVU\\n\\nsIVaiAVghYu4qP9WTxAGfTiJT9AFXQZum8CD+zKA7xhzriBI72gWXSMuL5AAdCGI8sAyoNIbwBIK\\n\\nTrRoVhAGYUAFR3AEXhAF3BgFCOkFB0kFaRUGRxAGT3AETEAFYcAERmCQVGAGhCgTnhIQAwF7t6EQ\\n\\ndTOBqaAnMNBCR4Nk3eENMtIXTbECIRBJHUB2bqNrnmBC6WAGWECRBhkFXWCQY+AFGnkEURAGUTAG\\n\\nSzAGZUgFTRkG7VEFCckETSiMm4AXIsAcmKFPY7AAQkAZY8KTqgBvNgBvcvNHg+IBBhA/UbEWM8AB\\n\\nVDkGpGOWaycuQOmQCYCQGmkEGmmOYeAFTWCQXDAGEHUE5ciUTxD/BVFQBVawQ1qpCQAyJ2EAKHOR\\n\\nAEwSSd2ima+QFojUQ96CPHFllyKiHDu0NxgRCv+TUQUplYHJlI7pkQcZBbhIkU+QABQZBY2JbU+Q\\n\\nBE1ogFvJAUGQLgARAitgl2QWP9IBC53CDngRFVi0D7DBFV+BAEcwSSTBHekiCh3lAdsojuKIBU6F\\n\\nBeb1VeHYBEu1BE9gBWaoVlLQBfUjnJQJZ5hxa4Zid5TRcq9AVT/TUd4iQ4BCFhFAAzqkJ/EoCiyQ\\n\\nM4s4UbXIiFy4hbnYjL54imbYBF8ARJNJjZmwAdwBlKIoisiYi7g4iXy4h5ZYUtIJE65IV/okIlrg\\n\\noFoohCH6Vbxo/6JlKIiKYQHdFFxzciT58EN8EjtAwieuUi7+iC98Ekkk8xX6cwNowRUAAgMO4QIM\\n\\nUCyVCRCqBwMplwo2kIIR4AR2OKKN2IhdmITPmAR7mIpMlaFy5Eua0GupUiVoMWR88x+XAColuCoC\\n\\nhxcQkBRhsQCPAi8WMQaXETBkEAPvgAB+0Xf8iQoVQANY1GF3OAXJWItmUAZMtVQVOgVFkA4LkAIZ\\n\\nAKeZMCZnlml9R6STQHJ5WgnZgRbBQQaXISzIqXOEKnA6oRBlEAYcAAOR1Khmon6lMAK+Qj1ZaKmN\\n\\nCIQGFUoRMARfkIS9WFhYpBM8GgETwIaU8H14sQLaACoGRKWqet8/L0OdyJMA87IP7MIcPMSqQcEo\\n\\nvTEP/IIA6ZCdnnkKJECF02oAZoBM+gqSPdIzZuABRUAAXwBK1FNG1dpmMjFyOqEpdAevlsB/7xYG\\n\\nDgF/lVmgZSIPUaEgACgdPfN/SGEocyJGNiBjBuZ6qIAC+idJNRiAlDADz2cJ9ZMCDDCql9CiCHYB\\n\\nL9QoLYQO3GBCK6AnJnQlRJsUrjYJJtCjHGoKZEQcZfACZfC0vHQAhlS1K+Sfk3ACNyuFS9sLONu1\\n\\nF8S1YIsLXzu2uSC2ZlsLZZu2ExQJbvu2cBu3cju3hhAIACH5BAAyAD8ALOABLgCCAG0Ah/Dy8N/Z\\n\\n0ODe3+Dh39XTzO/v8PDw7s/KwOzp5d/W0N/c39HNyby5seDo37m0q+/p37Ccjc/Jv9/N0K+/sJyX\\n\\nkMDDv+Dd0KCPfvDt69DV0LKom4uIgM/FwMCvn1V2W+7w7kprUJ+qoLSrpbe2mR9OMDNXPeHTvc/E\\n\\nvy9cQH54cJB/cLGeoL+wj6GSf83TzDxsUMDGwJWKhZB4gKWalO/j38DIwDpaQaqlmo+YkH+NgNPD\\n\\nls/Nz6eXhl9vYERnTJuUikBkP9Da0M3DmtC+kMCrr8O6uNvKp6upodXUr8i4k4yDd1tVTPDp3297\\n\\ncClKMJSGeJ+PkNbUu1l6YNC5v8DMsEp0VrrEuWiLcDplSEt/YIKUb0BfUDpPQNzh3L+vsC9wT2Be\\n\\nUq/Aj8/CsGSFaA9EI9XLueDPn3BnXzBDLylWOYZ7dsDBsFBPR0FbRN/gy5CBb5WmfsPJpsq1js/K\\n\\nsIh7bx9gPxhGJw8/IMK5qpB9bz+AX3l0bJmzfWR5ZXaJdyRFLFZqVbWmhqu2lNC7j2BYT0pyTXCH\\n\\nX6WmiVeAX2hmXJqmmFiEZlCPcIyolHJsZs/f0ODj0G5oYB8vIBk6IGqcgLDAj8zTuC9wUB9nQKa1\\n\\ni+/y8LCan/Dv8GBoT6/Dp8DLv/Dw36CNkF+gfzRLNgk0GhY3HnqYgXaTbzh0UhdAH3B4XHqVeH+g\\n\\nf+DXyh9TL7jDmr/PwGqQasrSrpywnChmRIiWho+nb0yDYVt1T6q1p19bUpaYfODPoODT0J+yin+o\\n\\nkIuDbNe/wCM8KZy0oGWFXxxZOFyWdO/f0Iuhe+/h0J/Fq0NbO2umheDo0ODMz+/w3+Diz2mWemJ0\\n\\nV5/PsJenhSJQL4O1nxAvHwwsFqCMiIaYdmB4T0dIN+/f3zljPavVv6/fwLzTwsvj0HSkhrjEpc/H\\n\\nz7rQr29fYMCssODM0ND34DA/IODX31ZnTGBXT+/o0HaHZ+Df4Iugh0+Qb6jJsN/f4CdgP8Dw0C84\\n\\nH8+/wN/X33BfYFCQb8CvjzdwT7Dgzwj/ACsIHDgQxoEdGQIoWMiwocOHCgZIlKhAwEIBAhRi3Jgx\\n\\ngcePCQgQAJkgQICPJlOm5IhxosuXExG8RECzpk0ETHLmtAlDYE+fMAwSUNCggAEASJMeTcqUqYGl\\n\\nSp8ihToVA4YHAkKKFEmy5EmVKlkKGNCgAc2yDSaaLXvzAdubCB48oCmXSU0MNIMGLRj0QAYFBZoK\\n\\nHkx4qlQAVA1jaHBy60iSJ72CDSB2AIICmOFe1mwTcwHNcufSxPtAr+mgNfwOCIw4ceHCBjAYfXr4\\n\\nKG0DjD1u7RpZcliJLVcHNuDZ8wcDH2bTtlrAKnPMzvHalJ33NIwa1xEWNfy6e9Tbgmk3//i4G3Lk\\n\\nyZSBjxVuuPhx5LfjP30eXXpzzwgq6K2A/UD/DKtxN5V3sB1H2FMF5AZSbx6Z5BtlHL3EGlPGPfVB\\n\\na/FVhcF89W1oFYLYnebfQRk0sNRhiBF4IHIfXNgUiwio1FWD5002UXCYNVUcgt5BF51nsgWGWQ1E\\n\\nopbaASRuN+CSKjrV4pPhtRjjjCXR+GBGEA6Ao2A7olgYa5yECUCQOvpH5JFIkhggk66pyCKUL0rJ\\n\\noFdV0vmgSS21VJRtSe2YYp9c5siJVZwUB2YBaSaa5gIZCDBca041ydSTbbZWgAJzNmjllRtpOdae\\n\\nTnWJQVSQIuXZfEYZZyBxiiK5A5IE/P/1qJeVdgfnYEdd2tVIDvYagAUWVKZnc7fRN9+JJ05VXJDu\\n\\nGQgAohxEu+hBjDr6LIYp1lpYiwTqShKvMpoEbKd5rkfscs4ttaGA8hmamXGIFRCttEgucFCs1o5K\\n\\nHG1/Sgpfjwqg5OCDNK60nqcSrfudVLFtyG+/C7/b4omtprnDAgkIgICXAjZ5KsemEtcApgSjByyE\\n\\nYx08lluMZbDAAgS8/PJWGSQEFqYKKVBzzQuRhdmJiFZMbaMIYCifpE5pawACCnAVUsFgnUzujQO4\\n\\nlZXMMcu8QASuuuAYzTrvPFRCRBllWMX2HgCzAPq+mKzIA2Bac6wB1DzAcbMNVtzI4aL/J64FKGtJ\\n\\n9QMJXkTZQgPTXHNKPDv011B+PoX2yxk3IFenc80F1dJxB0DAq/W+WiLIz2JWltyOwexbR78CztLg\\n\\npldUEXoPUQTRQjAARpxyBlR8caNpWbR1BLwm0MCoScmEacyuirRAABvX+llamM5sLwFgYdk6ysEJ\\n\\nTnjhLOFcEkNonU7+yAtlkLtyTFXMwQ6VD2DSVhLotiZSymdAwAFBva/2AHzSW1k6lwG1MQ97fpNa\\n\\nhIBTtftYBFOIQ0lDzPeQuhXwANvxkqKcdzHgnEQCMHMQAUz0JwSkpW5pO0AE7BWAvE2IKSYkYNZi\\n\\nhkBfpWRcC5wI4Z7VkIGlZIIPIZvO/whgEN4xhXlqs5fMgteYEJIsQMNJUNxCwrUkHqCFZpuQFk1I\\n\\nMq2psCSAy9hXWreelCHsAaMqXNjsZBKG/BBxAQiC/ghQgwoQAEEvBAAStfYyJiZgZgoxSYBsI8WA\\n\\n7a9eW2uhbHTUJy6eZGb7i4AEfoWnMY6LgeppIGYekL66heV2OAuCBQlQASsEYHc5SooX+TjAjNAw\\n\\nZwCaVYIsEpIDcGCFLwOMmCjUSL79EWYEWCEYK+kVHAouk8cTEkYSYDPagWVucyNlBbqAyhc6T4la\\n\\nc4uW6ka39A2ydOir5S1lpgAMcMJUgDKVI395zWFSxpLBMiPViuKZhYRkfilhZjNTIv9KkRRwB1ao\\n\\nQAOSs7sjpo2PBJDLNj8nxIUE5kKme2ABx5nL5qRRbyZMiQoTJZmM0ahTLxnWs06IqQOEgAITqAAD\\n\\nBsKACbh0Ai1tqRX215MDJAeiqQQANtW2AxpiBFggFEnOFDJQU5WlCyKMgFK5loGi5bFPaGlGFKJg\\n\\nCUskKlYN8UpEPJVDn+0OZwo4gCI2cAQrHOGlEzhCCEJgVkWEYAJp6kkNUlVQVcrsYhdbgARo8IAB\\n\\nWGCGk8zInjShicLN0V4nSKwtFzCAReLKhM2AhBuigAQkTNWqQVhIPQyXgIiIJWWfSlUB5Oe5HbT0\\n\\nii641w5SW4MgHPIAIjlAKeeKHM//MIWPC8hrAuYikb8By3XRG2kGXAC6ExCEA01lyjkBsFwDDICU\\n\\naxjBEQQhiBFYdw1XzGxFstLZyiDTKLIhrUmGmwHX0s1mLkjISGI7kBrsy7aqxOXLDAizBQgksQzI\\n\\nb2JPoDHErAtIpOmr/DKwW9skpgDaO0AU4hCHVwjiEIKgQgAgEcevdPd1yESAcxhjEhd4jQByjGas\\n\\n9DfHrMmWAS54b051Kt/cMooAAujrA/jaDaAGMwE0WA5VSEODjXgkHkVbklX6SoO4SJaySJjDKyox\\n\\nAnJEgcIq2W4O9bSxDXFYZ0Ew74e/Fqut7GAHPWFABp6Fx9sSj4Yvw8hwrMKEumDl/54PQBDyBlWA\\n\\nvnKkN2Y7CifcIhpQgOIBk60sEmQRh0ocYgRPpsz4Pgtarz4Ffa71cJe3Isf6imTLAmHAKVXMFKVm\\n\\nDWMxHlV94qGnuBHlMteqM1qW6VF/NpU2fW0zXx/QjMnK4ta3brChR2CJw13Eu8MyW0TSV7MapDcD\\n\\nPfUIo7QC4gO4wAotVYCF4IuUrWVtBwFAI1KcE5eNoEUi9Cyd1TDiw18iCYBLg4QFHiBZN7ibslS4\\n\\nNS940eAwhOEIEkaclF8X7KN0oQth6zKBO9vEmCUEti6oY37RLdojrtB5bItOt1lSPkM1ACPiI0D9\\n\\nPAJCJEEPFKSl8GThzeA4UKHkr/+wd3Xll5XDMfpTl/E3wAf8OZdiLAEgxDkHvFAzZ1sB2hXYGEFX\\n\\nrFRAEo4udlaIR7ZLFrOo+uJY0grMJEB1CRwyAAMABeACMHIknDwOnnhFyRmccpVTuOUv1xOo/i23\\n\\nnR2BAtECIQckwIEFyEDMBEi4Sg+AILy9ELZKrJpCw1h1q9fvt4LXEs6CiSQOnGCpXDNBFQMAiqlW\\n\\n9uSeCAMfNu+LMHiiEqCvRBjgwAdBRPmz84yec7swgL94hB0MoMAmQkGEUGQjFKGYQiigAHfZqjTF\\n\\n8KE2AGBbL5UFwOrBhHzVg8VXclOda/t9/FKRpNQDBKHylCV0oTfP/TCA3vuiJ33/GE6PeioDoEVx\\n\\nM3VeGSACdGyCCJuYQu1tT4QVrDDMd2SR8GEGW+xtxAI4JwFKJX2StHzqoRXQt18bBXlcEwTPYHkM\\n\\nJnrcZwtwkAn2doF8QHqZ4AZhkXZNd34fEDcA90fssABesAJEQARTsALosAIQsAlQsAI/IFtFoFL5\\n\\nlxzCtxUvgzK98HzR93gmEISTNAA9ZhGeYy8DcQJIUgYmIIBc8wkEAAoREAWEtmSaZwt8QIGZ0HkX\\n\\nmAlwAAeCEAVbV34HE26XIjeeQwAcUARzNwUcUAFvWA4ckF8o9lbQlgG1JSS8Yz3PMxbAgnMRkFgq\\n\\nBYSSFAFYpxFKhyR1JBBKJYAi/7FUCUVVSKBrmUANcIAMyHBo1kUOI+AJXghhE/YVwlKGrGEAODNe\\n\\nubVWRBAMVSeH6SABDBABODAB9lUBp3QqP0MbqYN1Lec5abIGDPB4TnhFtnOE/FNHdQRbVBcAByB9\\n\\nEoAAChYFVDCN5OAJ1kgP01hVVEVV0zgHlFQSo6gWygFHvpgATSACU7AJm0ABK0B7m7ACInADR8AB\\n\\nU1AERSBtCDB0uWgAX0MU4JaGpBRQSnh8+wM9aaEP3OQCmQZtW3MAVreEZSABTMB1I2cJ0/hSVPAJ\\n\\nVqVCU7UGc2AJEvCH3FMu4vge1JMQf5QA51B7EEAEMjB7MkABFOAFFMAAB1CPFf+AjxPzMfwYM17j\\n\\nj/82XEgCbfmlQvsjEg3QBQRQBPkFUyGgCDiAAzXpACLgAPkVAWUQkUwAOAewBhEwB2tABRNQAxOQ\\n\\nkVcUTBLQlVyzceDIb6RokujzFxnAATKwAheggjKADro3BV6AAzkgWxHAlPiYhx9zaXkXBF3wcxPg\\n\\nVhNAATnwmGRFAWv1Vl2QAQxgXy7lAmhlk7ZURQNoAkyQlgzwAxpAARvwmI3QBDmAA0dQBBMwAzeg\\n\\nASKAXWwJIfHUaDBHGw8UR/uDcyroDOVAdRxAABOQAz1wBRNgBQewcAAgdO5SAIaJPS7AVhMQlRPw\\n\\nlDhQCzUZAmd1BAIVN1hSAc//9nPQBkJ6dUiNGCOwWJMMkAuTGQL5BYccQH3Shz0eESw45F3vgQES\\n\\nsAOk5TwckA0pUATswAEhUZxN0AOmcJ0wxQDUxCPu4hguoABBAAPlNVxEcgApVQFIYnU9JRMCwBj7\\n\\nwx8wZY9bkwBn1oywxQQloZbAuJkMwBUNCYmRYQFaMi63GRw0YRQDwKEN4AJZpoYyEJNT4ADzSQE9\\n\\n0AMeMIuMOQHSVluloxyG6QJdkJRp8Soxs1IMYI8r5Iuc1HpHEI9zmF9T4IYrwADPRzy5hQCPuAZe\\n\\nWQEjkAu5AFMcenMCqEKSZBISYBk08Fs5inG5KIVHMAuwAAsnlgJQkAJqcAIb/5CkgAACPaAIsiUC\\n\\nUvmkKnYbItFTE4o+MEAB87hCW1oEUOAFOPdHCGYRR0AEDLABMikDMSgGK7AJHdCDVXQACKA/gcgA\\n\\nDjADFDADLmWTdeeGDDhJxzcAbeanYlE2TwEKkLAGjSAPw1ADVMAAjrACKRADFZACPdAGbQAIPRAC\\n\\njhd7G4BueLSPmSoSCtAFCCAAOxACTEkEDnAEqboBITAFvcA1i5EVIRADU1CXGyAD+5AC8jcFUNAK\\n\\nrZBYIsGmwXQCYtABagAFP3AEXnCZU5APZxoBJlAGjainNAAKCKBu+RkcDTAmV/EMVNAIhqAFjQBT\\n\\nOTCqDoADPQAIQOADY5AD8v/JqDlArtWki3mXd1ulAAsQAy5pmzzzzQAhuwAVAQA0XwMljRNOgYASsw\\n\\nBSkge6GgjlNwAc7QCpKXsH8UAVbJAEYrA9cqkxRABOxIBBJQBokVkpO0MUzgV7+1QCNrFaDQDFTg\\n\\nC8QAAgv6CXCYliHQB4VQCD4AAzzzzwlMalmiaykzwpobwoLz8gAPAZAyEgtmqwr0dAR0k5AAmAgnM4\\n\\nBQzgBSkYDKIrBlSHpxHwAPtzAmuAB0SwByGwAWcgA6CbtLlHAa0QAWKwBmwbAB0rE7+VPT6zIUzg\\n\\nBkhgDlpgCEBgCrUwA3jQlTlgAyDgAx7QBylwBBqKAzaQA9wyG8yCGcCEriP/IwALcAQnMAMM8LpD\\n\\nCgU34Kv+kZRAa7ZRu4Z0GAzOEAy0+loxokL5JQKyKwNncFIyGQpRuwIcoLEnEJIT9gB2MWMu0T1m\\n\\nQReTdbenAAS40Ak1eQha0AM2YANbAKmRQAFUUAs9kAo4sJMNYyhUtxVYZxkSMLEHbI/5FS09eBBV\\n\\nGgBFsIrBwAC8J5MrgILvOAUWcEtI8gBBEIhW6QCSK5VpVYN0lw5TIICJZRkIUGQ3UWSiERdyURPJ\\n\\nYALSGAbIuwyjkAIakAKd0AYb7ANcAAJNcFIaLAk4oAktAl7M8gGagHx5h3WAUQQicKZFwJfyR49r\\n\\nmEsXd4JTwL8yEAOJkAIp/3ABF5ANPfyQXPMAUIwHVfkDMSADZ8UA0eIM6dALzpC2a3ACliEdNWEX\\n\\noIHFNLDFU+UJhkAMQGADnbALnYALNlACWLAFNsAFa9wEbYAGfxACTwJe7qEJjFs1AkAEC7ACSBsD\\n\\nZxC7rsoB84hBA9ANEqCqTQAFaqUGDBC1RHCXFCABiRWINBAAuOsAHaAEe1CdkQAGahADFNABKyCT\\n\\nRBABa1ABOYYTVlHKpnwTskYDkNCwlIW3hWAHHrAKNvAHJVACKIAFWKCgE9AGk5AKJTABhIU3soGD\\n\\ndOwYOxAEISoA+WWa8azIMUCTRQCuB1A9x7wCSTsDHHDJRAAB8IyCsPh4ov8MzmsgAjOQAnuQ09Wr\\n\\nBjKwASvQAWW7AidwBAwACaBAAzqBxThxxTUhFzRAA9CAB4dABUjgCcRQCNXgASDgBE4ABAudBVIw\\n\\nBjgwDDZgB3dQAjVQ0UhRKDeV0ZfmAliXMducqOzYBDGQA5Z8nW94MUUgACjohnpMh/Yqf70wBWIg\\n\\nSSdAAzZ9AzcgA3vwAymwxkILBSlYtjdQ0icQAEwQ1Z792aCdOTMm1R3QAr5gDp5QCN5AAq7gAXZg\\n\\nByTwAlmQBR7gAVJwBVXgBGRQAuFAWFr01sR8adimuVhxpvlVBGc1k6FKABNrpGNKBGpVvSFwprFK\\n\\nBF5g2WfqABYAix3g2DP/MKRNMLVA3QGqys034AAYewwW0Aq/pd7AAtpR/QDdkMrQEAdaQA2eYA7E\\n\\ngAKu4Ao+MAmw/QJX4AE+UOAgAARAQAI2AAuFlRTn9CQt8jUJsXMEzIYMYNTsSMDbfLSdywCumgOy\\n\\nCwUOcAZlCwFecAEQAAVPsAGOvT+96gAaAJuKHAIzsAJ5sAkwDbo3EIwQYAFB+ONADuR+6uM/Lgjb\\n\\nsA2noAyUwN9kQAIlsNsvgAIo4AMlUMtU/gIe4AKGERuG8gFb5gIZAwMk/bo5EAPKTAGHvAEpcA53\\n\\nh4IuGQNHkAMU8AMrELszEIOIegM/8AO96pUxsAG82qt7MLUUwL9I2wEd/xADMaAB62sCSBCEghbk\\n\\nku4GkI4EYbANQFAIrHAKKEAGpGAHXw0ECp3QVZ7QTvACIKDlz+Ic74IZEjoS40sBRUABTXAGKXAD\\n\\nrLoHTQAGu34GRDDdvCe2OeAFIC4DiTADeZ0IMgCbkRkCB0ABZ6AGPq3TbMAGM3kDaoDiUBDtMqAG\\n\\nGiAGP15ZRmAEkS7pjj7uc5AJuAAE3nAFV1ACJNDkTlAFPgAEL/AC9l7vf+AEWJDqzTEXmXEThjlH\\n\\nXhCTXnCaeV20ZxDeYKALu14ECeAAz6MAaziHXuAAKeWXMaBCJ5BSG6ABDDACagAGF+AIS/ADYpsC\\n\\nVvkEKp4CYBADkr0BHf+ABEIw7jZv85EuaHOABOMuBJcO1gKe4HeADWhQAk4g5TOLArV8B05gAx4Q\\n\\nBGjk1Cb0wI5xRQ9QAV4wnGqzcy0VAsaJBluwxlQaBDnwVo2pBkdLAbWQoGtsXS5FAZGgCBVAASmQ\\n\\nCNxwBo4ABrZu7WqFAynQzKwaAoLQAuPOCz0vBDWP8+OeZDUvBGYgBK9gCFJeDS+QBpMgCWjQBkZf\\n\\nAqKO4BvsBAjdA6yHFTKmTYLnPGmJPUHg9UiSXzggA1HZBz2wBWPwVgfQDF3QBzngVzzzzwB4ccArXQ\\n\\nCT0QCblwVhFQAzjQCW+l9jgQCbMf3myQAxpwnTlwBaqwCwdgCZ8wAYH/YARmwAtmEP5mcPOLL+5G\\n\\ngPhDAPlasAwoUA1OXgKSAAiGYANHz/lYMLM+sAWpMAqiDxMCBhAPEAxYsEBCggUEgnSB0STEBBw4\\n\\ncqTIAYbLFi49cCiaEESdH4cTGIxkMKFJjx451hxgOcEPoBAUasnsAYJQpyZNcEwIYWpMnz44Pn2i\\n\\nMquFETNJlZpBasTpU6dChiQR0gHZshLVSKSxIYlLGztkSqBAUcKGjRJcvDYZ0NbtgAdxESB4QCBh\\n\\nQSsdYeU4GaIiDrVcuKDxk8NviCAhaubAcYQCjh5tQAC6UivXgQm/gIBolKPNyT6AbKDRqKhnDw9S\\n\\npOCwhNkPHCFJdczW/5FUyFNevKIKScKChSA4QNCQIOEERAlAbSbZQQEESJuzaCel6hHA+vXrAqwP\\n\\nIND9AAErOGAFwdGnzcQNOdBIQiO4iWE/lMBNuLLFQ44JExRh3AIoR65PDghhjM1YAQyQPnroAwTB\\n\\nNMJhDBA8SM2XA6jAAQTYaqOtNjNiY8opXoQQcZB+AoFAC1ycCIsED7A4i7g0gPABI7RKmKSUHg4o\\n\\naMcdWdKxOwJ2IKAG/B5xCZAmFKmBgva4AIGzEEKgZAxlwmlkjC1YyS+H40BIqQZYqFjFBh+kYGWW\\n\\nNtroQ4pTetgCjTZYWeXJLFJr5ABPpCgBtiE2nM0MDpkKUcTeAjFUFf9cSkiFjDtQeCEVUu4go7gS\\n\\n2ihhFCecmISUMWo4gANQQ+WgApJcIMBUF1zwo5FwgjDlJAogwogLD3oYxsJo9PhFnBCiscGPYZTB\\n\\nkoQqzITlEwp6cMKHMUwZBoRRtpDCFClsEMyPMXzw4Ukp5DlgFh+c4FMIP2cT0TYRh/DN0EA6aQeI\\n\\nsCRFoQo7IiWhBCeiKyGNev0IAkiAvaugiFNTJeARHDyY5ZsxPGgDkB64IOGaZQHxYxUnrtDjFnEa\\n\\nyeIFD67wgAsnSECkME9yuaKNUZ7sg77RgIjlFCf+MG44G6SIxQ8tJGrDCVtE1KHPcs0lN4neWDBR\\n\\nEFXwAQEIMqKe9IX/F1DYKjoU0iCBjDQaaaCtBr5+K4AFvkP14EY8oIQeSkDwAZDBhHGihNQULIES\\n\\nRvSARZksUMACy5JJuMIPP3bBQYsebHD7ZS1YpvuUEkoRpg00/vDhCkQyb0ILD4AIus8hQi+aNnWV\\n\\nNlSQM9ZpGQVJJSXhC1SqNqsELKwmA4tZxA77rQHI/g5IFx5pBIQrvlEGixIi5EIYEF7A4kkPbBhH\\n\\nlEummWaMskDAgjgsVENkc8IjtOHlHN5Eg3ggSmFvlD9AGGORK/ow5AopQNCC3NAH0X/0odeFAALU\\n\\nrSMVNvAACUhBhgO64gu3yELz/FbAOqTBFLoTm1t8F7BHDMMDY7AG/ziykIY0vGAL2qLaC55UgnH8\\n\\n4hLWmAYlXhCjqtUBZLjowRW0sArMeWAUfagBDgCBBjuUoH5/kEQqgJCz1GTOEFKoQhXgEZsh6E9/\\n\\nRCtX0kwUCEGkYD2loBoJ7iCpqGFBQh6IECPIUAcSUKKCvOvdDnQkgYQopAYf04M1GEELEqDAbWlA\\n\\nwRe+gII/kCIa09CDHpghihdsxVF6mJcUatKDRSzCAz5AQxNqoIgcjMIOqXDCC0rwh0m0zAceqMIi\\n\\n6geCeRkCf6GL4iBY+UqkrSsQLRjBG3owik2RgGqkIAU2SEGcfLlIa3fAxioagIDd8S4AbjRIQRQS\\n\\nhCtQTRSMeIErSP8AhH3VAXZ1+EMprgAORlxiHsaoGglk+Mdt9aB+HlhEFsJlyVnMwgZ/+EMe8XWN\\n\\nNsiIlKYkpaOeOAQ5BFQOrWQl0qZiRRN1QAts2AJa7qDLEpQARqPcYx0iVQocHHONFmSmXbrzCHH8\\n\\nQg+o2FgiUfBBFNACFaggAT2vcA/qlZR1WMhCHlOTmkW8bwzb69QwJgCIVNjBDi2d2NNAUIVCSBIE\\n\\ni/ABEFQJUIHCEmlTHYRvWADAOWyAG+3xAb5IgIUqjLF+NUpDKe7ghBxstILLPIALMrADg7hAHMPI\\n\\ngh9j94ec8dEefiTO3dShwktc4gtozEIWnBBCsZrCA9QsQRMg4gn/Q2wSmFwoRSFKAIRCIEJCpfRA\\n\\nCVSZhCgGVKoHTcIg5LAuQVBhF1tFgzBcK4lSzC2iZxGMttKyBRz0rncCEMAAets7F9QgVUI6VTj+\\n\\nwQg/6qGAJahCHuvgDzyyaAzfAAcmvnAJ5OoSLYg14RhYAQgfiDAHybohvOxwhxJsoRRdxWwhCtHE\\n\\nj5VAFR0ArWkHWtCpIk1/Vu3AHNaggSgFOD9WIHANDPyJGgyFwB1pywPgAra2KCAAGUiVqQ6mjGkw\\n\\nI7nG8FvVUKDN6Hqgjt+w7heMwdLORRRkPqgCIr6rrS0YZgvtQMQWhDqp7eGrvSAoxAuyUAXPsgC0\\n\\ncrCvaPM7Vauy/6C/ZdCABo6Qi/xEWSRUsEIFrMwAUo0kAL59wG8HQJcKGuyjs7iCKAb7BUagAgtV\\n\\no4U2P4wCPSyQGZewLiMY4ShshrAKL6hCH0wBgjR1IgUM6MQozuKEO5yXLFkBAlLfy9kSaMM3SRCo\\n\\naEmb3ySLoQxRuAEFKBDgEBwhyiQpQhEYYGoGnODLA2iAAtwSF4HMxWBCesQv0qAHUWCiDii4xYnr\\n\\ngEayEIcWxcAEJqiHiWLowRgfSwPtTAiCaeFifKvIQRBysFVJjMWLZ3XOC7RVheZVoTnI8I1pk2xV\\n\\npIlIRPydgwkkQJIKENjK84ZBvVkyKitzgNX7rqBc4gKwBAgvpf+i0EOxUYCKW1gtjwovhivozAxG\\n\\nFLsYXyis1Z53VCnMCQSUWIW/cMAGNFxjEiDQ1CQmIUYPvEBGLO5sFQwhCPqe9ty+6UBVqtIBJXdA\\n\\nDBGQQH6wPG8DG/gAbnTjAWAQbxh8uQEFiDUbG/zgBkwgDXXA9RcwQQuV9s0JWbMmGYpBZ0YQvBi/\\n\\n/oKPa7etKuyMeG0bQxcU0YMtkgAjpZjEV7NwBUl6IBbE4LM0RtABnM+c5oEHfOE1/W4HjCTeiw86\\n\\nSzzlKRhYoQZKR0ABwNxgWGOALkxgwjMm4IFfG4Mf0T1pA932gi94nXqXmKbVXfHrOv14g1eIBfxa\\n\\n1IdHhKAJW0j/BTb+0FASmFWXd48FJfbuHFz8vfBJLnzzC48HPESA5wxIPLzpXQM3Br0G8+7CXOby\\n\\ngK/JhS6wZsIDaPAMhEWjb2rr28IVN0kSuMIV82AGKupwC2bEeStb2eAYpLBZssiZBggBENiCLbCU\\n\\netoCVMqeRcicKvABb/AGRKCCAygDE7hAEyiDTdNADtRA6fvA77C+kRi1Chi6A6gBGBgVLAsAWMM8\\n\\nWHtB8msAWHAfSoiGNRuHK8gCLCiT+rEdEsCuX7gFaRKZ2qGbNRmjKgArummAXCi0IlKcEnCtCJEC\\n\\nUwIBxXEvIFCFT5AAd2sFCfhCCQgAE/ARd/vCA4iAM4wAAsgy/wZYAysrtVIrwR0ougMYmApgwRf8\\n\\nvrgQG39DpkeInr+pmgiREG3xAdshAzgzMUqIJg8orDrZoJqAnv8bGUDwPFVgg3WQBDvIFBJAAyfY\\n\\nDA8ABFzInFhABKeKgAAAQ1VMRVUEwzNkCZ5bA5JwwxMogjeUQzo8Og5gQe/zvgoKG7mAiwZ4BFag\\n\\nH1LyJDKpiTYYJec5uGkCmUmKqORRwAPcgh4Yg1jIQUBTBUgYgRSQhmUIRxuomUlAAxuooVPQAi1g\\n\\nBVYwBBBYhQP4QlaUR+ywjgRIgC9UQ+kzATxIPCs7gToElXrzFKOrN1IpggwYABpYSN8SAPBjtT08\\n\\nprn4miMIAf9FiAiMzAHG+LQQmAWMDIFG+AVsQQmS7IFIYIyI2IVdqAWMnABQcIMRaAFbUEctOIWZ\\n\\n0QJkgAOd9IVMCINDQIZGOIQDsMd7LMoEuI6iTMXukIAPpL7EOwE19A6jA5UKCJVS44AIsIBWuEAu\\n\\nLEMwNIFe9L6xCYDuCIJ6lACWCIIGCAJYgIUasAIYkLL8oII1+ATp8xGWeAeY1EmaPAW/xEmd5INM\\n\\n6MlMoIYWOARLcAMwrMfrsADHDAALQMsIYADoW4EbEIGn/EA0PEMOOIHOpD7MxAMxEAPoI00vaL4V\\n\\nWIFebLq36ALGbMUA+JoueIQuUIcgeIRmCALd3E2ztA67kD7/aIiCmJxJmqxJLbAFOBDMMAiDwaQG\\n\\najgEJHAD6XRM6rQAaLAAN7jAMhADynQAByg8DYAAKLiAC6CAFQC87+yA7xSBDlgBCJgBKICC/5nP\\n\\n/+EB8rzPCwhLWKOBAaDOtqDOVnhMCyBLsAmbLlAABA2AfzHLIAhDpVwA6XsHExiBQ2iBXbAFbdCG\\n\\n4kTO5MwEPtDJXWiBDqACMSBRPHA+FC1NMZiDdsvADBSD03S+1KRPGqVP+7TP+4QCDGCC8YsLzqML\\n\\nhhSAbjgGInVMMCQAGjA/3pKwxqxOVSSACDiBNXAD4XwDQ1AFVZAGaegELpUGLFUFQ3gDbQhREdW5\\n\\n0WRRJEAC/wxMUySYAxFpPquq0RYgzxb4nzm9gBbIUzzNUxu9U/y8AAzY0V4UAAtAiAgAFaicgpHw\\n\\nTgeYABGYgAVwyBf8z+r0QjAkCdGcgw4YAUGAgEP41E9VhEM4gr+jAhadgyg4AAy8wDadg9Gsiqua\\n\\nTx7IU1q1U/KcVRytUx6YzzqFAD610xaY1ftUAWJVAmONNQQI1EBFABqIzEP1zBOIVqiUgAGVABrA\\n\\nx3uEzADARyiVvmgFTREIVwawQBNgUQuUTjdgzAuswDKIgPbsABrlAXn901711XqtVV6lUT99gidQ\\n\\ngTfw1zd4AzqgAxWggxRIgTzIAzVIASAJgN4Ky7kI1PIzP//xo4G5SFIa4DyN1VgaSIaFTIZjiEwJ\\n\\naIVW2E7SxIMYbbLwvIEmc08okFceeNkLuNEardn6nNcLINY/JVZi5Vd+3QCgNVZjLdZiVQI1ONqj\\n\\nZVgC+A6yJICj/DLLc7Dv874fvdiM7diQdcwLFIMOCE/xlM8ZsNn/oYCxvVGYhVlgFVthvc9+JdaE\\n\\nHdg8UAF+ldsnkAG7BdoNkIG6lQGjXVglyIMUMFa7jQHCJdwN+J3eTFDrcDWBeAADEIhmNdIzPAEx\\n\\nOIHT1AD3LNsL2IBbxVHylE8IuM+YhQKyndlgrdM8ndXTTV3PvYB/VQFgiF1goAOhVYK9fYINMFyg\\n\\nLVze5V3/vI2B+/wBT5sB4i1eCtiAEGCA3yGADGjee8yA7oDMaMUDEXBZeeVcsoUAmKXVs+3eXRVb\\n\\nYJXXO+3XgCXWgK1doY1dJQjYN1ACYt3dwuVc/MRbHPgB+xVe+/U0Cihe/iXe/S3ePUiBPXCESEiB\\n\\nDRC1IliAo7QOCxCDmLXPfk3YN7iAGv1ee6VVDL5Tnt1gYqUDYHBfuSVP3N3czcVd4CXc+4xfvCVP\\n\\n/NVfTwsBlVXZcJ3hcNUAEYhhHMbhFdCARHCEJtgDNWiCMwCDAkbeCeAAApAAPJhZ8nTbN3gC06XV\\n\\nP70An2VfKx5YLMbiuAWGJ95g3MVbn30C3r2A+3Xh/c3e/xd2siNQ2SMI1xF44zfe1BGgYRpushu4\\n\\nYzzWAJZlAzYgBF0Ag4MVYAKOhPfYAPuNTxJWASqG4g3OAzrIg9flYH/tYBVw3zwwVkeOWxW4ZCU4\\n\\nWEc4g4OVgdzl3B/oX/+9Yz3OYxtuMhFoYzp+VEb1zvyA41fOYT1WWT7m4yUAAzD44RRY2CZIhEQ4\\n\\ngz0w5Bhw5KAd2IN15IEFYUl2202W2w0IY2PlV8Fd2EQ4h0TYgxgY3hkIMFS24VeeYTgeASmT5QmI\\n\\nZXWeZVquYRzO4yMgBHleAl0mBHpegj9OhEiIhAEO4LvdAMEVXL3V22kG2i++T7z9XeDNUSi4X4B2\\n\\nBDBwBP81uIE5HgF1RmeRuGhzzo+L7uiOnoBynuF3vuMjOAJeBgN7zuVcXgKW9uMANuCEVgK7VYO7\\n\\nFWX4DV79Rej7FV4zpgD7fWhCkOgbcACL9mjvdEqPXlSj1uhyfuM6zuGSPoNE4GVdYOl7tmqr9mNh\\n\\n7uEzkOquLuadzt//Jd6xpYD79OlSNuUZ8LQLkIEUWAJHSIEbcEqkXuqOVurqu2i5bOpaHukb2IMm\\n\\n2OchBgNdqGqVXgJCYINdRmmU/mN55mYX5umwnc87Luvy5Ons/Z87Jt4f2IC3Pti5JgnRxuvRxuvE\\n\\ni2XTZlSQNme+FukYvuFOiwmgnYgUyIlImGpetud5xmqH3nYHNfiBG6BRlo3hru3aGtXj1NxhDYDX\\n\\nGbgAJTgDuJbr0hbto2YAi05nj46yRiVqkJblN2bn1rZjCrjjM97pGLDbg7VtqWZse+ZtrPbtH6jZ\\n\\nGIaArm0yCHBPzF2B6k1uzBWB93Ru6I7r0J5uurbu7c5un0vnRy3q1QbvkL5hPR7vTltr+w0IACH5\\n\\nBAFkABcALL4BoACTAF0AhAAAAP///8yZzP/M/2YzmQAAZgAAMzMzmTMzZmZmmZmZzMzM/wAzZmaZ\\n\\nmcz//8z/zP//zEIxEMyZM+/evf/MzMzMzJmZmf///wAAAAAAAAAAAAAAAAAAAAAAAAAAAAAAAAX/\\n\\nICCOZGmeaKqubOu+MGvMdG3feK7vfO//wKBOJCwaj8ik0kZcOp/Q6K8prVqvSCp2y+3WtN6wGAoe\\n\\nm8/CMnrNxqnbcPY7Th/P63juPc+v7vuATn+BhEeDhYhAh4mMO4uNkEwAkZRBj5WQl5iMmpuInZ6E\\n\\noKGAo6R8pqd4qap0rK1wr7Byk7ObIgG5uru8vb6/wMHCw8TFxsfAuMjLzM3Oz9C7ytHU1dbXxNPY\\n\\n28YVCQcHBeII4BYKxBUBFRAL7Oy7ENja0Ani9vf358AHBvgWAQjwiTvAq4K4fggL9FMoLsECYAYF\\n\\nFiDobaK+avOeeavHsOPCi70s2FuIYIGChQcV/ybQtYAjynsv+/3zxQ+mQoIKCgQsaS2jswEBHFQI\\n\\nJ9EAyF0RYZ5ziU/fgoAoX44cSbBX0o7jAnwrkCBBOowAuEVciPKoLpFkJ+YKmNJeuqcSU0Z12wuu\\n\\nVIYBRB5IgCAeWG5ai5oNkFNgurFTqyZI2JbcN7b2VoYU+FLdtwODnfmktniquIt+A9RM6TBv0X9X\\n\\nsc7cFc4Agq+74LZtC3vb5mhMR5o92VgXVM/pctP9hdkXWpv3assLy42jZ7OQ7TmNWzU6w6rHkkpF\\n\\nudo2822dbR7l3RHBWbkMUXtWyPPY6KKfAQe4TW92fF2pxT1cGzddzrs67UeMSPcgUE9MmVFD3/8z\\n\\nzjHUD0i5GbAaYh1VlRpjB4QmTGsHWdDgQpJxs6Azwt2njkDmnUfZTHZRZiIw/0VG2GwGhOgdYOF5\\n\\ndFGOD7K2XQEXEWgfQqX9MlRU55B3j43L4RiXPoV1ZGMFbL2UoY/rUaWcLg1y5cCMUxmA3Y3NYYXQ\\n\\nOU9JJSCY6HV3Ij5pMWQWYv18FSM+Gl4zYjMlAmmaarzkmJxVHMYlTm0tvRSidh2tqed32Hx40DkC\\n\\nMUnhdbyEFiF6KeYipD27DICVPXn2BOk1BwqkAI8FKBclVkzyogBRhsL2Xo27PPAkYHsy0+V1cbqp\\n\\nFWMHbVmQkHEa5els5iiggABRJqSsiKdak+r/XALt5xcFDMApTjEKWCfnm96ipyqv1VYjKXKt9vIq\\n\\nWbHCmOVS2NpHY4LQ9LqMoEPGy+99FThqVX+XjhqnlOg6aS9KW8omFZdcCQzxwRUhR2xR8SqYLmdm\\n\\nwqmAwJ86yOJvXvXyb40xLoSZsyw765GM1Crs4kSlBnaxPp/209XO5YoT8qG/FHUlmeC1JZWxDogr\\n\\n5le/hRnTVAnkzNU+HY/5KI53gfiLAPameOHM+HhFo7G5jIZSp02WOeQBZDdQLpRD0pjSP85pDYzS\\n\\nVpvqZL0JEpBse5bZu15xdw73S5VtJcyNBeQ0fgACBkL0+OSNx7oqrQWWAxtflEceDOeOk6O45Hyk\\n\\nq9POAodJXLrGq7fuOukARGDNBLTXTjsvtueu++689+7778Drbk0EEUhg/PHIJ6/88sw37/zz0Ecv\\n\\n/fTUN0989dhnr/323Hef/PXehy/++ORLD3756Kev/vbnr+/++/Aj33789Nc//vz2569/9fjv7///\\n\\ny+sfAAf4PwES8ID2MyACF/g+BTLwgehzIAQnGD4JUvCC2rMgBjc4PQ1y8IPO8yAIR/i94pHwhB00\\n\\nIQpXGEIVsvCFJYShDOXnwhm+UIQ2pCAOcwjBHfKQgcQLohCHSMQiGvGISEyiEpfIxCY6cYkhAAAh\\n\\n+QQAZAAFACzgAS0AggBtAIeRkJCfoZuvrq1/gH1yb28eHCBTTk8PFhVaWGKYmqI8N0BrZlfItbAN\\n\\nCxETCQRPP1CppptnVFIKBwWJc3HNxbq/wLl4d4KJhXmplJRfYFssHTD29PSeoqkrKTEjGRnRzckz\\n\\nGyMnMC8nJCd+g4dSSDQ1KBo+QlFUOkJDOEMkFgeokBIjHCNpUjA5Myy5vMVdZGVFKCnvz82weIQf\\n\\nDyAvL0A8K0C+wMcXFxg3NDlpW2Y/QDtUSBKpcXU1KTbry7mKeYYPEAzLmKIfMC9sZz7b49vMkJUx\\n\\nGwapkXWIelqnm6TqucVUKULKq5mSiVAmIxvv6NpvOULEeYg0KCitkyuXMC8lDBE6NwaoWmAdIyOD\\n\\nY1uFSFEfIAAzJwTrsrG0pjJKHjYwHTOKV1hUJzgvMztuUQuBKTOMXGXgo59VGR3OsBVZGyJnKCiB\\n\\nNCqHIx1EODo8Mxjf4O9XJSqakjocIh5VNyW0ohgXFAjIvcRsNjZ2ZyiolE3JtUexLDOTR0puGSZ0\\n\\nZA9MLxBlNyfb2+ZXO1CObw+KHDA0CRCdhhF5ODhEGiaCWkWjR0eoOER/dSZFNiexqHO0N0KKOERl\\n\\nJzqDSUjKsC+2q0x6KTF5czmZJimLSzTx2uOIWBQUDRTUxZRVOTlIGhVsKhTFnCprZy+Qf0A8CwqW\\n\\nKkCgeRmViD2HeUmQZ1emKS1sFhuHNTOUR1QtMkWXGyLAPz+oKjB1NingwD+WNkPAWlVGDxavQDuJ\\n\\ndDGTd1PAZWpPGwCKakp3JyrLlUsnCQqKgi+rSVA4GRj/9L+gW0fjlJPQp2AqJQb3mJ+PKECQaUrr\\n\\nmaOidCeQkC9THDaZJjS1Ni+sMyyIGyXHd3d3ajq/wH+wT1e1NTjAQDCpNTgwDyVfFw9GJjfAuG+X\\n\\nNDjgl4/QhXSlKkWbV0eVhy+wQkq3Ky/gvFSqZlKMFBnQwGfAr29AKkWEJSnHeWPQb3AlDyCAiD/A\\n\\nb1fgx1/awjrVxVTHSUfnh4e2WVhHDQeWV1jAt3Dgj2/vz2+PkC+mVFnvj5AI/wBXrNDQAYuQOU5g\\n\\ngDAopICDMtCiQaNC5VWbWrVi8eEDrVysUoiWgBDSQYjJECE69AiBQwEOHCw7vFTg0gRNEzZpKkCR\\n\\nc6eCGjqD0nxA88QMTjMOFChwQOmNG02jHmjAtClTCU6sSACSQoIDURIOzJlzYMaMpQUEahAhwmQJ\\n\\nEDAMeoAxaVE9bBEhWWPkjspGvHxuRVKTSIrMDgpCJGb5cqbLxy0V0BDKE+cDFJhNoNiJWSeKEyeW\\n\\nAD2xogBbtE/RNvXg4UBDETNApHBSwkE1VFscOADWzQEQ3VtYp0BrWuDpDiWMfCrDCNIre5ggxcK0\\n\\nqFC2erCwYeNDBY0wGC1UKv9A3INmeZeNW06OrCCnicuaaWLuLFTnEppL7itYcVa16uFOOLGUBymk\\n\\nsAUL6jSSByCzhLIHJZTUkcYUe8hjzA470AGDBysoxdYKImgghAZV2FJGNpBgUssVurTBCDL3uKNK\\n\\nLLBEc8staJSgYwjltcTYGOzR1NKQLp3X2XyezUefffnp95MCaIGIxVKrcbgChwSW4MEvdFRCD4Rp\\n\\nODhFKGnUUccsXlixiyws0OFACUs5wZYGGkxJShnk8PEKFd9coYQlqyBjTxd8wBIRFawYUQJKHaCE\\n\\nA2IdjAFkfZTKh1N78SmJwgOXdQZaaPlxqsADZpm2lAhosWbWcB6UwAUXDqT/QAYlZdbxByGEkEFI\\n\\nmWnkuskmgQBiRApsyUmnBgWk4OI1qjDyzSRnyHAGD2vwUMsr2wn2CUohAJlSD41JKtNMRBK52bmd\\n\\n4qSZpuduBmqTCohGqkAFQEUcCE54AAIIjXqwBRc73MorIX/skMcms6ah8CyzyEMGIDC8s5ZpIhYA\\n\\nwi9+YSLNP13IwMMkQXShRBFtwAILJGx8AgNKi3I7hmKKJSYUkUkGZZO683WqZH361UBqWiCiypYI\\n\\nwpXQgQZXckFNOg/WQckfVhxiCi6nTGFOGiqkMQslhOwACBgFSJGCiEJUIQwbt2DShhJdnHEFD26z\\n\\n0gUj2fBRiziBkGDA3gss/7B3BoD3bcACOSxAwOGHD6D4AAS8gDgBGSDwwgsISF45pwZwyqlmoj5Q\\n\\nQw1IotDBDPqK0AFsprGm474i6OhICirQqoLVe+TqCy6b3GrKFGRYQYeOOnpQAImk+OFXMP70MW0R\\n\\nUfTBNjo03nNF3wRMgIABJxhw/QMRRAA4AgQYXv3hC0Su/fUZWEBA5ewnwIEALgiQAAADqE+ABfY/\\n\\nnsH6CIgKQmkWIxBrnLAvEJSgBToqkArmQQZTVCJXf0AYM271hz84aBbNoEMLPDADLWlgBoYowy2i\\n\\ngYli8CAIRWgFCiNRC7+Ugw9QgIEBvDeABAggCQAYweIsMIARjAAA8wOAEP+HyLjIga9yFhDABz6w\\n\\nATjAYYnxA2IOe1g//KnPAo6DHKdCIIJ9EVBf+wKjFErwBjKyQB/mqN0O+PEHMiDsD7sLxTy84IXZ\\n\\nyWEHJOjAClpArOKp4hp7ukIcosADQnZhGdJQBSyusYi3gO4FA5BiDn14OPxFMohDBEAA6Ic4HqqP\\n\\nciZ4gRUt4EMfKq6UI8Df/dSnuMMhIAT70lG+CtiBMYLHEW/gAi+aQIgpnMIKe9gEIVSQNYWlgRJe\\n\\nEJai3lBGD+iAQJZgBCxeQQ53dCGFa1CCFnhAhVvEQhW1gAKmCPC++LkvfgLIJBAxGUkgbnKKpxQi\\n\\n/n44P1Sisn4+HGURt4f/wBLQBgRjNGAPYFACGHiCBHQgAReMYAQyVAKOZJqFMRUGoT8A4gS4RCAQ\\n\\nxuCAXkCiDa8oRCmKEYYyBKMIZ9AFFSABiWBMAgZjMAEBAMABHvrtPXuDpOIAwIAKMCAAAgiqADiQ\\n\\nAAQ0gCqDK0ADOuC4FwxxfglAJSntaYEcBuAFBxCBDlqw1RZ4FXglkMIYSwAIOjiCDp6AwRvykA5T\\n\\nQC1rpjiEwkJhBCuQ4WG/MEIVEigGNZCDCmwAhzUKEQxLFKIQVEBGG7oZDETAwA1jsAAHOAAAHZhA\\n\\nAhJIQQTe4JUGIGAARziCTwXQ054SwQYAaEAXSRABENxgBQA4XADcR9QE/wSxlDmcJCVN8MwWbIAI\\n\\nHwAuERggARg4IQYx+AAFlusDBJ5guUyoxhEe8YhK7MEYxvDCHvRwBCtYYQdZmMACJjCBDSIiEqrw\\n\\nwxm6UIY2LKIIyJAGFTBBwsaK4QTtmd8mweeAsCFhCCnwACcg2YlqALcCS1wiEVxgAap4gAVIcC0I\\n\\n6AdU+A21trO1bVQ1nIAAEKAKIDACDJ6Q3A8g+AMtAAEJgMuA5VKguUZYgA9c/GIfXOgIPuiEHJgQ\\n\\nA0BwgQExYG4FWNOKXjzDhOCYhiWu8IllWMMvfIAEHsTAVZkCUX7gk4DFJgDg1mRgAo84QicoINSg\\n\\nfoADWF1BCUgAAdeGYP8AFyjzhQNAZw4EYLIdDmIABgADLcQhDkWQQRCWe4cYTMADEwhyi5nbAiNg\\n\\nwAcVqICLc2wEFuS4GkzwQXIowIBOU8AAmdUCIryhi170ohhROEMUpuEXWFBhEYnInkyh2mHHNUAD\\n\\nIOAysQ6QgQU8Qg+dqAAE6EznCly1AbIhwRFAUIAQTAAAQnUBOgVwZztP9s4aTqcYtJBqj1mC0B9g\\n\\nAAggoNwWtzgGLXiDD2a86Bb7gAQlyPSYGbA3MncaAg7w6hWiUAblBSEIeFgGJl6BIkYgQgw6UMAA\\n\\nKpAAHA5xcqptARJY4IEOHCACC2gCEpgwbGIDtag3EEELPCFu02SAcZr/tO1Tr51n99mWAxfAQx/W\\n\\nkOgUxkDSFCBCC4hAgTsserkxVjQFJuCDRU+grC1mQqdHKwAKOICgHmhFGbwRiSuEQQZ+0EWUn9GH\\n\\nGLrBACYIQBIIMICgCpFyDfDAG5BAAg7NgAQDQMIRmCCAjg+bAQIwaghKcAIGcDEEMyUAUGsrxGrb\\n\\nefBEfd8F2NAHPCAXCn3wQbgpEIMFBNnnPp2xoyHdYhKwm9MpKIGMKcD0SFMAeCBYhB9ocYUYpPob\\n\\n6DjZIqDwBhLoQIeMI8ADCEDt2Bo1BW9oAsVFkAIDAEDuEOg4sYP6gNKUIAIkCMEKAB/bwXPY5R1e\\n\\n52QnOwA2sOIMMejC/xUQUeLlYiDcCaY8BYzAgKIvtwTtrsBWS0B6n0Y60hhAIBg8YI0yrOIKvdAF\\n\\nLXINkNB1LWAAOjAGOZA/BtACPIUBBGAADUAbE+cBH2QASIB8ybd8EJAAD6AvJQABC5ASCrA/9TNU\\n\\nQaRyekZTGsYBBDAJrdcFXRADfRBkNEYBJtZid8BpJWCDDIBvGEB6LbYAIMAFSEB6pCUAkfYWUlAa\\n\\n1rAKkaALfVAMi6AKBQgFJ+AGOrA3SeRU9EMCF0ABHoYANzAHb8ALC4Aqb3cBcod3ygcBmoQCIEgB\\n\\nTyAFzYYAEzAACOA+KMgBSYBnLZeCBJAKV5AKinAFZsADMYABTediH/8wbMpFARCgA0HmUwMgAREQ\\n\\nAwywgwDgKjrAaaTVaQvgAB4QAjMgAldQBqVwBYvwCnygCpHgPZtCAB2WSgiwPz+wAD3lYQZwAwcU\\n\\nASfQATcQAiRAAG1IbRUmABkQARPwA93DAE+QAxFAADkwAXvGAS5gA/LzcrXFYT6UABaQBQsAABHw\\n\\nBKRHARewYi5GBMY3eT+4XPfGAJnWUxUQA6wBAZIYjxTQAlIgAiFQAIvADoyACd6UDZEwCZ+FAgaA\\n\\nAe+UTgAwATkgWh5GACZQAE4QAgEgBSJCjBfQkdDmcRAQPp9iAAyQBdiTAwt4AQ8wAi2XBEmAfZtE\\n\\nVLkFABiQBCzQAk//IHmLWAI8t1zoBgExsIPxt1yS1mmetmZImHz0yABaklXBwA6YwAex8AyLEAaK\\n\\nsIcPYAAOqUkc8FMY8IOCJwBjwAlOEAEbYAAH0AES0AIYcAETIHgB0HHUNgDZszeGtgAtcAI5AAA/\\n\\ngADvM1sZZkOJx4JRNUQBsGY5WY8Q4AE4V3QloEQ0VlpFaZTnmAEYEGmlRZkSgC8g0AdlQAXlcA20\\n\\noAXrkwNJcAIR0Hua5JKRFgAVIHivWT0DQAEbsAEfYAEBgAEAcAFkl4R1JwAY4AknkAVZgFwLABoR\\n\\nAABVVQEo2IIXJj+Et04JoAMRoAk5FwOLiQFBtpM/x2n3h2A+WFrk/8acdddpQcUAseIBdtAHrOAX\\n\\njIAGdBCBBHCaGUBnGkaTSgRUA4ABglABC3ABC1ebG1ABGwAAyYeZ1BZUFZAEP0ACqDkBmmAAE3AE\\n\\nP8CbAmAD8bN9tMWHgJiCABAC5ThjMZAEHjAAmmho8AePPuWdFZCHExCGSfiI50kCX1meBmAHrRIM\\n\\nLgIFhuAAJwA5tPgACJBOdDZsRhqX9KM+C8BaPTUC/bN7FwABuJl8ZcaXUGAGMtAFGzABGHAEBKCb\\n\\n8DNZQvWSQZWNQfU+6WRDlRUBTFAERxAEqYAGUIABRXB0gIABGMAEX1kEeap0MEAHhgAIPsAESmeU\\n\\nm6gbnjaEDpB6bf9AC6RQBcVXPguAAQaQAWkal5g6bGZXVYX3BERgW5u0ARgQSWQGAWWGARNAAopQ\\n\\nBEqwpW35bNCmjWIqVLKaAC/gQwiAP8qZA44QCMTABoEwCZPQB2yQCZlQBqywCKzABmzgB5bArKvg\\n\\nB2iABmsQCWygBmuwBp+gBmowrdTarZZgC59ACoYQYotQBpFQBQ5QBQaQewEgOURapEbqm5oEhwHg\\n\\nqdAmRBSwn5EmZ8DpjFnAqk9wAboJq0kwbfEDARUgCACAEzTwAhsAJSbxADlAB4owDcQwDOtFDMbK\\n\\nnoyAKMuKCIjACuhKBUXQBWEACqyAB3iwBmqACFdwrdnqB9yarUX/cAWGYARFtgZ2cAAp8AAAugDv\\n\\nWp9FGpfJZ6pCNQC5qbS2WXhDVI/2Zp4V8JARkAVB4AOGVpPPdgHSNlRlFgBwkAAmYABCMAKCQAM0\\n\\nMAYFsHuq2g7i4AM49g1nkGM8wARdULesKmhFMA2tlwVwEwY8gAFBgAEyEANHwAJFsAZFgKWpwAOW\\n\\ngAhG4ACtEAeGMAdY4AARwDgIEADl05CZuoHJp7QBgAQY8AQf8E5CdAQBYJ6kdX+oGgGKEAQx8AQT\\n\\nkARDRz8VkKFyVqC5SgMCAAcPQAMTW7HK4LaDGgOd0AlHwGnrpnRF137hhwjyGAFKEARKkHSJdgFF\\n\\nVwSaqAQ8Vga9/1ACB/AAwyEWmvWW9UkAEfBORnu0ptppBoqqAfBburlJARClH+Cv6JgFqCloMWAG\\n\\nPxAEP8AACSBtGFqm8LMBFmACFiAEAhCxQuAKY/AACzAJ57APtYAMxnoOM8iqDFAEPsADPDAyMXAF\\n\\n7qUEMZAKn9AFPtB3SsADgxoETCADLxzCMVAGkDu+VAIbmas+ezakmvS5SIt3FxCXAwABT/AE9jtE\\n\\n+Eie4dZiWSADfIqnhPsDMvADd1CgNqCNWyxtgqDAJuAKNAAHG2ACafseC6AM8WAM8UAM59AOHNsH\\n\\nxDAJzNp4eIAIa4AHk0ARiAAFgSADTxAFMofHkwAFd6zHiAwFZf9gCYaQAmPgITx8PzN1AQvgkO3b\\n\\nvnO5tBhQm7N1AZqkSUuEtBWApwwAB5qgBEqgCaeMyroZAzPVxTbwAS7wxRSJE2RsAGNAA65gAguQ\\n\\nC7mgDMogDpnABnggC7KAB4HQsngQB2jAzNTqBzQbBzDAAgsAA5+ABt3qrXGwrdwsBn/WyEJwAKVB\\n\\nfNM4ALA6Acj4uUL1g6K7n7VZmHRGk0iYhM5ovYFmxR4jA3egCQzwkpKFoQZcmwSwyyZQmw9gxq5Q\\n\\nORHoCW8BF/nCUFXAUItaBRTtACKWCEYAApDqFer6CynwC7qhruqqGyTtFeHcAVSSuZGkm2VHbEZ6\\n\\ntJEGAUor0/P/uwEuUHibNJ49lU7dMwEizAMyENQ8YAZQoM9KcAfgCD9bzEQb8ALqUptgt8sG8AIP\\n\\nYAE2lD+Nk9ULYDmQUwINqBAg4AFkYZFNAQR2sBRJIQIN0BR2AARAUABz0BAeIAJzkAKfpbRDZGcd\\n\\n9tJU+lNlJwBHXJs3DW0CMAH4SGYuQAQEYAYTIAMMUL0bgMqBJsKMnQAKDAAGbAPv/NRlHMYypXss\\n\\nWZgsqU75ZNUBwGssAHUEEmAEAqkp4AC54QBIQSUpwBUHMCUgQiB4KHj0I0XEhgFHe55wiHcDwAC1\\n\\n+QEd5gIfYNjwKABEwKUiHANwIN21icLWzc8bkE5bvMW1KQhO/0UDTEQDOOEK62MAI/BOP7RT6pNK\\n\\nPUSLAuAACwAFwsBsW9LIDvAGjsACQ4AhVrAFmCUBDfDfR6UUIHIAQIAAvMlwQoSMQUylQgWHkQYA\\n\\nTA0HmvTFXNqvAUAEWCzCZ1AExh3Z/1YERWC9TMSwsCygFuACYyAAgiAE6kI57cqQRDREPMQ4jAM/\\n\\n8K0FYrAE4CEGYlACdDAE1CAKosACGMICVqBXYQ0GBaQBHsIUC2DOJlZVMhmXDOngPwUACAYAT1Cb\\n\\nRKBJtYnOJqagPBUGV/BvHx4DKMQ8/8ZEk5WN3L0BNkBONDBZ4i3GlZO5czlEAFpFPPTKNlAAOaAF\\n\\nUCAJS+DjYv/AAnlQ5BiCIWSQB03AC4ogDDvu45KABVZRAEAQ5RPAnJFkye1LpR23RABABLX5BJpk\\n\\nugSAj3inRBDAAFBwBV0wuLUZAyIu4v+2yS9QwFv8xQVqAiPgCna+y2PwApLmybPFATvVTvBkAXBg\\n\\nAzMwCIQuCX8GBYqQB3nQ6Dug6BWEC6OQC1CABs4gCeReL6ZyAJwuRJ/OvsAN3AkKXEsU2LVZdgVa\\n\\nxKPlAgxKAWGgBbMuA0yEAUAtA6l2BrqJACNAxjbAASzJAQeNAEy0wDiBABEwOBGAAPV7v25pSVVF\\n\\nALZ5AASAhYMgCVDAAiS/7YreCKOQB3ogB3IADHKgB0VgC1//IAaSYO6okgLVk4e51XsuTaWra2wf\\n\\nIAhMW5vQ9uVFHG5BlQC6aAZaEAQykAVM8AS+rAipgKUykAQCMFPfiGY5tHuWvQGp1DiOIzgIgNO6\\n\\neQGkhE8WYJsNkAODcAKDEAiKQPKXwAK8QPKKbvJ1Tw2EmghLIAligAWCXwAzAARk95a9zfN0BtwK\\n\\ni3ceFlT0bptA5ekBkL/YKAADPAFaIAPKcIQ+sANHoAhQoAVhEAZZ7DiTRQBwgEWW8QBDJaSbsz/W\\n\\n86UGmpvqrjieBFwH4PZwHwhGvu1DMAQlr98sQAIKNXfixg1fUAPEwRRkh3Lr7nHySlp7FlvQtgGo\\n\\nvlMfwHvh/2aqEFCNEaAFqdD5kvYG1KAIimAGZhAGD7z2AioII+DUU636NqA9k0MDDyBeGEeTwE2T\\n\\nuwkQFgYMsGDBRoACCAYtgRFox44hLFhEZEENFcQFBIZUYMDkBAwYNbAcwLIixQECBCYQADAAgIAA\\n\\nAAAECAABAwScAi60HBjgyQaXAzdkgFAhZ4AFWSIE4pGLVwUiJJAgCaQljJkfSQBs4ArnA4cEJkxY\\n\\nIMCVwIsXDxQgmLAgwgQMFwJolblzIEEBADSYAAGiCgsSLBYgGXJhwZAmR1i0vUCAxIJqjiQ4WHGg\\n\\nwIEVBRpMGNC2JYAKMWcGuIlBAAMIF1IPIBBA0JPPFpJUeP+JWmeOHD+WENhJZAOSNwN+5MBqIcEH\\n\\nGywFJRiRAO0LEy4AiEWAgOyEDAh2YsAAgDuAC0ELbjCApQUYEClGkcGwwAeGChFOUBhQhUCKCB8G\\n\\nQGjCYgsQO0YqYECUOlsgvBFCG40mmwSgTbWgAiDig50AYIm0AELLi6wKTmCAAQHggAOCBShIYpAI\\n\\nsHpJEEEqGIEDmV4giwAb8hrhBQRGUGkB7bjrzjvwBggPAAsA0AELNzpYwQE5/shlCKQAWIAE8GCY\\n\\ngAsCjuCCl0dYcODLArAoIDMJVFrpLgUXpEkAASZQzU2XiKCvJQJcism2lQBwwY0YEkjigwRAq4CA\\n\\nE3D7gYD/EVxg0wWwbkSLxgQCxVFHAtya6TuZZBooPAugEwIBGjqwQw5gmkBlsAuOgEDVVS9AZQiI\\n\\n1GEhBQ88KOCGAmZIoQEEOuNtoArykommmnCaoKaBeHsCAjjrHCAmNitgTQAOaERgqxEeEGCAGlKM\\n\\n4FACqA2AWuZeSAkBDgQYwYLqKLU0pgt+rCuoOk0I4YEOBtRDD2B2AKzOC3gJYAIW/N2Bi1EeAcQB\\n\\nCRqwbMwCJGCLMc6CzZQmDGoamKYJPCOCgAzCW4AzmSBIYtvWiqzgBw7gAOABG0ZQwFsLciAgAUYB\\n\\ngLFTc3MQYAMLcRwAgUqvFS3TunZqbQQhNEBAAxEOuOSU/1H0gICJIwabUqImTgEGl1HySAGIBma4\\n\\n9QazgchgRzSFTYDYcQdq04AFQCMhgwUyGMCACcArWacsJogANRhygIOICh6IgYFBwnjrLAASYNM4\\n\\nAh4AmYAkEsggh7QGsJzHAeStMNMRtnpBCCwMSGELIaqAoCOsHYH1IUd2sGKHP3DJ4xIHOGkA9QKi\\n\\nPsCOtRc4MDw2kSZWgAsNwBsCAYzPQO8MImANvNMmOAEKLbRIJQ4oGMAgB0mugiIMLYZ7QWc2R0gC\\n\\nRwQyMKC7B3JA4AHPc1iA7wAqxFRTONgABx04gA5AkCsHEOADHGkCF7jwhmNwIQUOZEETcMECRzAs\\n\\nBTC41f+APACEtxgvPANI3sVG05oLkCAC4YpeW+pEALodi4QQIEAWeBAFPEShCEUIQhB4UIQomGEN\\n\\nWoDCSjKQAA6kKwGsIcD9IkABIjxAigbYGwLcQoDudGcno9PTCDRwAxE8QAS1SgEIEFABJjyiCbm4\\n\\nxCVYcIkh5KEJbmQBECQAAhiI4QC4msEHi3cgudHmYjRB3gR0MLJg7ahjEzCA9fr3oSycQAtZGOJV\\n\\nzCADLVyhFVAY4gptpjOwCCA7UkTAEyFASsudIAI8WkAWjyCTV7YkLx84wAx6cIIV9DEFk0FC107h\\n\\nyzzobo4FM0IVqsCNJXzhAJY5wNhWibcRKgppw1oATVT/mBIKQKAzbbFeIyslF5vIZ3tR4EEYgiCD\\n\\nMPDgClfggQx4YAYDsGRyA1hLdXJgAAYs4AH3M8AD3HAC4yEAXn4DT0ySuAEwFkABIqiMA2o1GS7E\\n\\n8RJ5kAgL6FAFCTSsCl8QgzMksccBaYZueLuLNKdJQ23erU5E0CZn3MLIeJIMRCgiog9loAQZmGGd\\n\\n65TBSpw3Ew6QBQX2rBQF7ledCBjADS2wYgS8w0WXAEABLthAA0SgAR0MyGENsIMT7LgFB7wBEGPl\\n\\nggMacNYGbLSjH31YARwQT+PdpYRI0yZSYgiAJwRgIG0x3pTq1LcPSTIMYehCEWQQhChMo50ykAE5\\n\\nJ1C//xclwQIPQIEBEIAb91i2OicwAApAsMoIyIWgw9rbzTpoAhHcymEZlcABGPZahrG2YWDQxhc8\\n\\nuszLpOCtfS2pdKYpmkYuYABHeMIR9oqE6k1AheCxwOskaRXERkGH5ORBOw1rhgdk4CVL7ME+ifaC\\n\\nEkUAAQZopBse4IEV1q1/mQpPTOKZAc0oIAQz4IQIymShtSjABjqAYWPCs74BJKEGS1iCM3B7GQnQ\\n\\nLW8lFdbFQjeAvAEACRgorpBSsr/9UYlIAbgDHSLgvTNIl7HSbSeJJ4Cil7RmLfUjgAWy4APLRuAB\\n\\n5F2qG8wEAb9dQMfuBVnUdICDh4UgJp0Z0ghgkiECMP9gALRhQA5su4RlNtO1qzQeZ0jo22FtDABr\\n\\nQ0K8noCBvYIsAkm1bAAKEgAD2DAISuhCEM7AACWc4QxunvMPnIeBM5MyBwVBAgVOoJCkSvEEHbhW\\n\\nBLgjJB2LlmgIuIx8b4DbBoiGAjRxggNIEIIVgOQEYjjBCb7waWXusZkNGGmvOCMALNeFAMzCWwSQ\\n\\nMIFlEXQnNamAXAYwAghk4ZI73OGc4VDdK4QhFWZgQHUCkIE2JdVmP7DABSig2UY+4AQK6MAJCGA9\\n\\n8NjlWZ7LmwgaIN/LaEYCGTiBkAxwAR2IwAA6GNoEavYDMySCG1+A8h5TsCu6rbIzJMxLoDS16um5\\n\\npZX/G4DAmirAkQp8AMdgVkmKirCMZRSjGGcoQgwa686eJmHG2zLqIEjZYmd7t58mQAEKOtACDMel\\n\\nJTsewGMioJkQhOAADpt5AxrmO7TavAQgmIE2fF6D2n46yn2UgMuFKzfp+JtOGHCe9AQAm+WxyUHO\\n\\nI8APOiZJ6UZBFyL2wRVSEQYZdIcACmjNS2QsxUFUHQM+2PMPDlUQC6BACuPNQFx03JMUltK+IYja\\n\\nZVbbAB1koCAhsADd6pQDAPygBp9+wBJqMHQPFD1vIRuISYdVp/1FIOBPV5ODBPABcncMABD4gSdO\\n\\nMAHGVhcDOI0CYxl7ggfwZACdroEUWcIEH1Q9Acy2/8C6EFDtO2s7KCp8eQNC4ITWunWZCX5AC0oA\\n\\nhHtL4QERsN8JQFAD7HMDDCCdueRX2ZiX9HsmnUKzwOn2gQ3EhFgJT7gAvKveggvgf0DiYkz0Vtlp\\n\\nw57ZH2ox3GuGGyfSgQnjjBF4FgBQIRKImDEQHgmImLMSN4YpmxqgARgAAzCAgU9rAQysgcuIMiAw\\n\\nOvCbqyRIifKLAKWYACIggpd4iYOrABIwDaSKp+0SjUCpQbiZCQAYAesouSVQAAUwgcRjAB+wDrKw\\n\\nn8sywgXQAQPQqxyMKhIgr4jBAeHxuxtAqy8BghWggRrogA4Ag09bPA38gsfDle4DQXlqMACQkQAY\\n\\ns/9VoiLfCJQFOAIkaIRGgIgheMLq6BUNWZNIiZxhcbCU+AgUqIHuSgAL8AEKyA0CaAEDeAMVIq8H\\n\\nmBIdyJSBaAkVegCY87YosznLuIGGaQANoIEeAAEurAEwKEUx5MBHQ7BD+j6XgAmkuZYtG7P9uYAU\\n\\nDAAGGAJUIANS0QNR2IEMuJv9QTbRuEGaQJoR0KuheYAeQAFqu5YciAEIAIEToIMh0EUr4AIjkAIb\\n\\ni4DHCJJtMwDOmrkQiBgHbMCMOqsZ6IAa0AAPkALs0wBTDIkaWIcvuBXL8ADAcwvtcAnLa6IAqBTQ\\n\\nmp8UdBUyaIZueAg5qARReIMWaAsSECj5A5JpUh7/nlALBTgPMEAAZouBTjCC9ZADPZADinJIN6ie\\n\\nJ3ylgeCA2RPHyyjHmbOD7lM+y8ABGigAKfAADQCDdoQBKeiATwOBZcKVyEO5MRsSF1A6vTESWhwz\\n\\nBoiBDTgCUWiEZjgF27ECKwCMvoEwvlEQ0ngbpfvDlsgAZ3SDEOiBGiiIHBgGOWiGPciDrJSIIXiD\\n\\nErAxBDgBHdjKAViiJ2wBmNOMA2iYmjursxyjEkgBKZAC9OiAHlgBC8SjhxkeB/izo3xFP7yeveGR\\n\\n7MiPDxCAEhiCRrACMtiBRhiF/mCBc8MOgJpIHAyABJi/lpgsFAgBHOiBDlAAZlvLU/iDccCFS7Cd\\n\\n/4jagRZogelbN5ZwiUAhARLwS+OzjNZqra3CDBFwgi3YghLYuVNkTHmEASMAhA5cpsmkRYLookhJ\\n\\niaFZAICangiYkFpDAhYgg0aohEooFRaYirbQngiAiYyBm/1UOtZAgR7wQUwzAWYzgGHohkYomBQg\\n\\nTT04GA9ogR4oJZRTRr0irxaYOQWowgMAAnFrgAJgzA+CiDuSghUgxFAEASPgAj2IsuU7AfnRG5Zw\\n\\ngZjQHJVQKrd4gMAjrZS4BHjoBzmwnbthN84wAA3bT7g5Gk0hSxAQgRmYLwUwlwgYBlGwAlEQhX1p\\n\\nhCYgAScIAQXoATeIAEbkiYFRzgv9tircqiqEmP8V8ABHeIRLIAAPgAEuxCMNMIIUGAcvYFHXuhvL\\n\\nCsEcHAEq0h4S+AACCIEB+ICakAmpe4RHkAsSeBbO6BgEcAME4I4jJY1p+oEHAIMlHIAb6ABSooEn\\n\\neBUWgIdTaAQjcIASuBeFIjs3cIO7C0gyDUwcSFO0GhCG8gAHsIImGIISmAESZcy+cIBG2IND0NMG\\n\\nKM5+XME07AzyuoDQwAJFyRBE3RYXcAEdCA1iyYCVGBlxJJYkSALXvNQLiACQUDwBOIAkEgAbCIEN\\n\\nABQQURsBuBYXMAANUAApWKUSuBZIJdJybAAgi07LiJoW2IEjsAJecCif9LYG2KVKUAGIRVbis57/\\n\\nVyydtSGAHDA0ELEAajkNhQsAmBEAE2AhGvoVzpAP/bzUY2yJjziBH1gBkWWUdMGCDeCAB1AUA2gA\\n\\ndZGJGdCA5iOBCWiBE2gvRiIBKdAMIEPHyxCCZioBR9iCIXAAWukLIPCAA6g0L6gDFThWFrU0NqxE\\n\\nYVmfUjqBQRgXcsFFCoCJMagRJSw4kL0LIYkAHRCAGswyYpmJyoEBa6sB5kkiRZkDoBGBRJIAsCQA\\n\\nhXqAmCMAHXhISA3GEogYmbM5DxWB1HIALkgMB6iCbjECGqhCBwArL4BYFfhO3XpEAyASnbFYAGik\\n\\nE8CADOAA6SCAg/MBHHsBNgm8jrUAvUGC0NEn/2FRP4y5GDC9wDrZLvYZgw0ggAOwGJ2dCQXYC7lD\\n\\nOQNogTphFiJ9XAkAMnGrDBFIASNogmz8jwfVyQZwKNAV3QPbJc4iLwtBIpkoEvIigQCYWxcwFwcJ\\n\\nFhewgRpBAKkDi4mhiWBcwUDB1GlqvnKUHNvVERtwjuTFgo7V2UBBgAOgAfmqLAIogXMLSPJyAofB\\n\\nAZurlRXgBN1iAStABYZBghZwACdwAt1SYQdoBtH1tkerwulLKoJAogJEgCc0HghoAQB4NgaoAAqI\\n\\nAQxQpfm4gw8xgARggHgJuCYSqD9cWQDQiuGUgrkVgKkqAFBKgA2gliTiACOzANd8GhqoLAUYgP8Q\\n\\neNSABFOZk4AQAIJl8oBdGgIriAggcADwdYAFsBXBBAEHCF2I7QCaC8wZE6/xjJxz6wwmMNcI8ITp\\n\\nPYEseASmowPldItqHARPGAQQ0FYcfIBjHOBiTAJuUQDiBYAZEIAV4DABSIKhCIHwYxMhi4mSo6we\\n\\nYJcS2I8B8EY/fqvnvGNdjAiw4oIK8pICAAHJ1VVAVgEpkACrDcwnbKTOyJQH+IAPaAlPEANyUgSl\\n\\nuIAm8AhFYMMscJwgyAoYqNYP+BgF8MMarMG8wFhxLIGMrQLujAAoyAJFGAYWKIEI6CkeyAIjIAHa\\n\\na7wasLYLAAFIlVspOIAWGAO08gAreARgdgD/FmjQJhgbIFgAs5oBO/hjiD0EGHAo8DTd6xnLDXiB\\n\\nRvIEOtCCLugCJmjpJsCAIPABH5iAD/mQLCqBg6PmvDpjsPBDmYiU3kMAeoMBAJABAAiDCciCQAgE\\n\\nFhgGHggEGIACNcCDSVgMcwWBQcjDIgGBYxGcFgijMfjEBmAALriAIfgPCaigU5iMLTiGS8ioGbCj\\n\\nZIYBTpgBy+CE+iEvHQkUlfiAeCJSGEADKKjnBVAEPQiEpA4DYSDSEyABvXW+nzjnDagA/vrdLEuA\\n\\nm1EAvbUSLBKfD8Ga4qrpIGjpIPCOHEiE6lgC6yAAN3iWG8UPsQ68LeCCEmAYHZAK3aoCB8iD/x0g\\n\\nmwbQ1T3YWhUIAQmYA8twgsfIm/BggDWUXb6ynyzIgaRGAgjgCuu+7uv+Ca4QAOdRwtG4mEDZJ2l7\\n\\ngAGDgcPsixqgg0DwgSXoiy9IBENYghZYgkLJgUiJFCkagAxYQ3E8gU/MAEJlACKIPNsmgcmQgB2g\\n\\nB0pwADuqFR2ohNA9hO+cOQ/oi3cEgRZY3BYAaMsyHkLxBE9YGwp4Aq/wjSf4AEFYIN9gKSnJiAlA\\n\\nALJD0pnIAJNmRwXAvhuHAVISwg3IHJgOOwZwvdfMnB/oQhSAoS17whI4K6IxgITLKA/IgC+RALCy\\n\\ngkqoAy+Q2owqgB7YAS+YAkKYA+MugDmoFf+rHRBaSfMSsIMSqJUQ2BwqGwBE/AAMYIBqtouLDTi8\\n\\nMU/iPBpi8WQDEMUesM0OwLTawz4WiAEL+IEeYqwgl4FIGY4amIEaAAHcDAFGGgBdBVhBMADkC4DJ\\n\\nOAIDdygHOIasxXIJkMnAlOOFPASmdStDSARZF4NEEAOGEAMxQANSgAFhMAIYAIEQsCzyygAKcIt8\\n\\nU8JnftGkIrMajb2KNIA7oLZB58IO0IAC0AB5rAESwOJ1yA1a39R1wL532ElrX4HPCgEEiLkIlCZu\\n\\nzSgWuFwksCMmCW4vIIMZ8FCHAQKs/HLLAIFkWARaeIZSKISBL4UyKIVkKAVaKIMyiAQ1QAP/JxAC\\n\\n54HkTjCMamIivJm8jJieRmoM8rrbmdBvAaD2HgiBQr8qDah2EHgDAegBDQABDDACEKABIciVXMH2\\n\\nlB+QmEMAHWAYOyjUah4YB2gBxIjayWiEWVCBPWgEs/K7AgCCN9iCP/ACEagCWygEaagFZAAHcFgG\\n\\niuuCKOiCKzgDJdAFWggHWhAGJxgDIkWCTlgA5g4WJjqL+HkAc+HYalbcspuJ+0YAE6A2HVBMEPhJ\\n\\nZ4RHN8CnfRKDLgAEHRcLkluoFaDcMXIChj0rvaLmELA540FrO5CApA8FLxgHhmmmyXAYy2WSL0ED\\n\\nS/ADPLgC7nEnsMsCGYCCsJeBVSiEcEgE/xBIHed5hFrTm8fqJ6pT1BZcXSWUnJ9mn6MyL8qt8BWI\\n\\n3pAwgA3Yp0HoAjqAgUEwARrQgMbE9jHRAfnKuRswitZoYfA48F3VWhWYAjkwKylwhOs0AClYAiMA\\n\\nyRSogjiw6aeyOhk4FB4AiDjSLF3RcoUWiBAhEERYgOEDAAADBHx4QuTDByIXBQS4MCCCAQQWBABI\\n\\nEDFigAAIFIToEaKDlBUdPICQAqYFDDgwHhg40aJEhx4FNMyQqeDBCQUaaDRo4OBGA04xMgCR4GAB\\n\\nCw8NrB6rpOLrFDkOHISBkkqGjCwgjDjQ46GKpBhKPlSg8IFCDAZKYmjKtyqKJk0xCpWY4/8BpIEB\\n\\nG55g1IgRYwUIAQgQWGBgzIMRAAJoLpkyAUkCL1/26KGgAxgQMFCAqNFgRo0aGjrA6FHDhIEHCBCg\\n\\ngCFC6Y0DY52UQEJi7JAhLBxU3aJnz1cVU/RIKMHDjBYtgQIlYqtnjgQ1McZTcGHjjiYZGNCHWaXk\\n\\nzgcZbWAcEDFgQAYDJEgsWCARwAUSWaZfCyHogAABmpkUUQIBoBRAAi+wJEIBM/ymQA0KIPCDBRbk\\n\\nQEAOCDyAQkgIGOAGChpoYNoBEjQlARCoPDKWVZY9IoFVckAXXR1eAKEAHWw5kkUgJxhhhB4HAIGG\\n\\nN+zEEUQFH6hRiB9QaCKADWEIYoMScVD/IYaFOoTQghshPaCDbgbokEEGL2RAQEpxBiAAnQJUEKUA\\n\\n5tngggsV2MARRwC8sNsDCtBgqIqJdkADDSa4QYICBhBwQFNOSYCEBCk4AkMG/DkggRMSiOKVCnVE\\n\\n9xUQDRDwAAEIAGDAEWPp4dQajFDJwJ1llBKOGgzY8MEPv8rgRyyJ3BBpCyRQNkCrbRogKQEvoMkm\\n\\nAgtkgOCy9w0wwgCg0emgBZSF++ZuJprAkwkKmGACDkfxtNsLNLjYQItDNPGpBFIQaJUDVqgzxVde\\n\\nTDFwj58GMAAHJXmywFhNzFCFGlRQ4UcQfa4SDjlt8BDDBxjYAEcr6BS7ggkI8EfCBQdH/3RBtpZF\\n\\nQNkErSY2QLjLRhvttbjpsLMJaJ5rYokP6CZibkLroCFT8zbAAheiPALEDlss8IZVOO5hqgo7kOEL\\n\\n16FMMRYDSTAQBABJWCArJ4ZETEWvd64CCSZttBJDBXnesYoqqsBwAwoE6KfsBAPETEDMgjN737KC\\n\\nnrTZ4hHRTMC11+5mwLUl5tcqApKH9Gyhlb7IwhCibNEvCUPQCIQDXpg6hS+7gLIIM6H4MlYWEWQR\\n\\nhrI/SLBFEwWAYIvEakBZgRqMSEwxBQJQIMMqmLzyCxYFiDCHE07QVIAHIoTgREIhiFCgQu2aEMJR\\n\\nhFYbrYkPZDC00JOjuVLRKAidm4hCC//dIr1jlWDvp8kdV/Ux5AAwFXjBGGxoQxu2AQpQwMABMEiN\\n\\nB0ogQQfw7mGkYMQzkhGFLnShEM+QWCHKMB4lFKIQmCiFIVYgEwp1AAtC0MALO9ABIbxwDDSUoRBe\\n\\ngoMQaMB7IcBBUHqwgtP0oAM8VJEMl9IBDSigADRQEaOUgqEaMKoHL5KAI1DBhS1IYAAwKMERUjWW\\n\\nP+xoYGQABQLTyAZLrGEGGpCAB1LggQPYoYIzMIQlaFGIZKjBD4UoBSNUUQo/9KEVkSgEI7xhCSN0\\n\\nYAUaEAGFhDAGGM6GkkqhIQ4K0AEcaEAmGtihDDugySUGhQY9WFFQEsWoJ9JANoxiIiv/adCBGTTF\\n\\nAU1ognIkUAVJIWEHW5EAC64mnSlsAhRsoAIaD+iHMqhBAnYAAhBGNxbe3aAADjCEGOIgCS1AoQ/J\\n\\nKEMZktGHOMRBDZGIRC/Q4AQhuFBFc5RAASo0gwoVgFJQiecNqqkBfN5gnyqqUCPzzzzShFPVEDYBjK\\n\\nKlsJBtnIJgWV2oK9uCBGB5QgAg5okRWEKZ1N7CITslgDHhCxBj+AogzbGAsFUdovYMyhACtIQQqq\\n\\nYIiZ2sIWaLgpOb9QU1IYAgRz+Gn0ChACNqEAAQNAQAgGcCYClOwB59JNAX6GAwTg4AbseoAmcfBE\\n\\nQ+Eghq9MlFJeScVD0XJeVhkCpn7p/wF8HUOjxNzFLgDxi0+QIg6k2MUyQdGEUYyiEXngqxwCO4cD\\n\\nBGcFMwCBBzwwg8UatgogsNAcQACCFYggevuUHgI+wCc4EIBOFnABAD6wp9D+qQMmcUECXGCCGXyA\\n\\nAzYILQAEMQKS2KC2NiBAbUfggmoWNIpLbEoKnumAF9Hrly5KXR1MJTCOyiIQn0hEXUmBDzSCohJT\\n\\naIYXBHaIgZkiOPF06Xe/C0MRrMCFQxEoFv55Xnw24AYiCA5h78mJatI3vD1cQT4XG8+irECe85SJ\\n\\nCk9ZxCXSQASec4Ad7ECppmBvKyhNB8C2awpCMOOMoJDFR9mwjW3sYmvjGOAhTnWIarGGN579FWh4\\n\\no0ehR6JYBI9MFBaSSEqFLLElMp6N9l4ym1AWsTShlE1QZMioUi6KjplqQAGK26IWSUBJY9lBiMFi\\n\\nClMwYxOZyAQb2IDhbQCCDKEIBSGmEOIBfoUQ0rusiSlUYiyo2bJthqSKTkziAgSVshRyJHj96cjJ\\n\\nurSTAF6BZCebxCJCcQU+lpdWUjUDSjEayQXg1xC6IZ3oHILKzCDGlbGs5U34IhQq2O6nRUyIgAAA\\n\\nIfkEAGQAAAAs3wEuAIIAbQCH/Pz84eft8PLv0dndK3Ws3OLn7fHy1N3gHG2nMH/AOojAwsjLr8C/\\n\\n4OHfRoOrwcG/LmmWrba0sLStrLKtu8TF1NHP8O/wLkxxH4CvS5C9sK+vKF2gT5XD5+zw8O/vHViQ\\n\\nHDZoMUlXNoW4HWSYy9Xbsbm2RYi4oaWfnKaldHyCv9HVV4WqR3WcbJGvkJKPK1WJHUhu093zr8HG\\n\\nV5S8QmuWSVdv3/L/HzuAaJnFGDBUh42laqjSHENfw8zTT2txdX+fytjixNDPSXqnjbHOgJ/AucnV\\n\\ntb3CSlqKpq3CdIeSWaHRNmlzUHJPhImIb3V3Hyc0Jz+AlJqmsK+wVou2JTlpc41rKDRScaO8mJqV\\n\\nVGmIZqPMSk5Qq7nEhZQ9ipGZmrS8cotP7/DuZnqWprvTR2aHcoc0ZWiHVniWankucLDPi7zgNWVR\\n\\n2efzp6qnm6KbZ3JPSSYWkqRQP4CQu9fmLSsvj5ePHyAft8vjk5qzv9fwb7DfdbbiV3SJho2USTdV\\n\\nU20yc6zSWoNutsC+j7C/VoVWoJ+fSzEtr83jys7hUoaSz3ANOWM/0MnJq08RU2yTUJOnEB9Pb4Af\\n\\nZ3eHxri37asxhZaoMyYXhZdvi6KrqbJNl6m5iaS1eabJmVUa4H8gnMDZ7ZQxyW0qxuT2jnJv2a03\\n\\nv7zQqKy28rFFel9lj6luRXSMqMLWzFkMr2ov1octUxsHzODlVWgMqrZtgDsXqk8qk6E3kIiPMFAx\\n\\ncKCAkKKKs2sTdrLYP2Afj0gqX6/gRFEtkHBQoFdHh5pLi8Trf6dP2uDdiJi2HBYXb2ifSUsJf2+H\\n\\noJ+g49HPGxktgDo0ai8vKh8q55BAai0WwF8/c0szwJhAbXIR0sYyb0gX0MnT6NE7xd/wq25HsMhf\\n\\nkHgPqq8qlVZN16tPwL9vOUoPgK+Qq5crj7CPj6KK0ocUe6Vv8OBAwLfA55Ubv+D/tMxvj3cv59/n\\n\\n39dQz7gfr41K96Ng4K8QbX2mKRsXn7ePn8CAoL+Pn7eQd1NPfz9P5dJKz9h/CP8AAQgcSLCgwYMI\\n\\nEyosKGChw4cQI0qcSPFhQwAXFWZkuLGix48gHQoY2bAkSZICTwowoHKlgZcZS4ac+bEjx5UWPOjU\\n\\nmTOAz59Agwb1ECAnUaFICyj16cECy5E0o94k6PKlBQtIs2r1qXQp0AZgs3ZtMGAA2LNnd0KVevCi\\n\\ngDAewjyt+tLA1a1484otELYB3wYBCgj9C5avz7MDKiheoBjw07Ye33owIHdk3Z16M2sGqhStX8OC\\n\\nA3cmfDbAZ76dE1d4sGBAAQ8ya660bHez7Q4BOuDOnVu33tGFAZ/uSrx457PFD1RYwHxAAJsQT+bE\\n\\navs2b6G786Iea7x7WaUHDhT/7hredQDlFChUKGAguksBR0WHxu67etDsWXXvPo4WdeHwAAJY1gAC\\n\\nCjjggeEFMAAJBKInRQU+WaARfEwRBRhXPtUHFH728VYfbvjhRxxXwR1QQIMBpghEgwe2eACCL75Y\\n\\nwYNgwcbQQIk555OO8XWYH4f2/SUYXymW12JZMRqJ5ItLAgELEFAG2ABjPsEHnQcPMKCjBfMBBmSG\\n\\nPoYpn5AFlMekgS4ymWaUMR5ZVgUN6GTZQRWgcIIUPfTw04XXIQXibl9WN2RQSyWpppuIJrpkgAQi\\n\\n+NlzV1kggKQd1XkCClJIQcIB5+n1J5hiBibqT2UqqaSiqB7I4IBmDuhXAJNJ/6qWSik9UAgKuOIa\\n\\ngREUMFhAoB1u151xRbKY6oAkJIvggqsyy2yzJhbF0lywnWQjQYycoIEGuG6LQgQRUBCEiaF5Zdhm\\n\\n3AlbXANFAgjlge+Gt2lZDCarLLLNKttuhE7N1RJtBVWg7bYaTDCBBBNEkPAEUjBAAWMN8olXV2MC\\n\\nRqZxZLkIRHhQsikvo6mS+xOlVan0lF1X0UqQwARrgLDCEkRQArgRZOowcxWsKt58Yg2nlFnDltru\\n\\n0IaqGR5yXnXwkg11Ne10XSRB/V7AA28rwdUIzxzz1Qx03TVrzDHXg2IwIi1YWEGTeWZ4Qf+0E0+R\\n\\nTnvR01Y5dRLddsGUd6VVa/8gxdUlXE3z4BF4/cDh6S0wdgWI3DsgapzhdZV+eeNdF1WRUgoTbU2P\\n\\nFOmk1dLd73t8Wy2By1gX7DLNBoO79dUNP/Cw2IrVXtZnFgNl+e50p4TRpJnH7bTdwFMqKe8rhbHW\\n\\nQBW4UbDBWCtM89UGH4z19VjPXLjXRvAqe3qJK55ns6z6BRbbMYJnrn1Ny7WTXE+nTDxlyw/UgBsT\\n\\nPB94wgovXD301Kte9MDltQJ+LUsMkF3YFki7nNmLfItyjcUklhenwWUn07qKVfw1EuXZRAAPOEEE\\n\\nrqaBEfbvf+DSWgAFKDjC0cxrggAfBRTIwLDlaWz1cpyLiqMV/BigA3GzzAX/rTQSOWlwc9CpQCFa\\n\\nNsL8Wc+FJYji/w4WxSqm0IAOk+EMFwA25szuhnlSDASRRS7I6WWDT/sXT3CiQehgZAASOMEJ8oc6\\n\\nJ9JMe63b3/8kUMU+ziyKXgPf92bHwB48MGfGQpFrljIknoEqQnWxm1XUIieU/K5+bWlA1wpxgjgi\\n\\nTANRJBz09hhFPkKva6EkYCBnKLtWdlFsQQgCDpVlLyTxsIdAcQp1hCKnakkKAFi5ZEQaIAEsyJFg\\n\\n4BJgKa+3Rz76sQRdE0QMBTnI8CkulmF04AOhdcuJ3ccokhQIUcoENMgsxFbHRObpCna9ZwYuelUU\\n\\nRDS1eDjEFTKWQdDmgpa1/6idlYtnGupXv5BIFHoRiCu/o0pCoNIADXASCxCtQzqfhzBnttCPXtve\\n\\n19KDOGsqrgg1XI4YbeeosPArc3ZhWiS5opoFHtQnAIgBCqLgxoV4QANugKhOI4oFNxyzDQnLXuCq\\n\\nWMDCyTOLHLWnDXtQhB7EcgH5dCCMAOQn3VhgN7XhS0spwKvEwalMMeiADdjwhRSgwJwKaYALXGDM\\n\\nKBQCC2ztaU6NiYU61CEXdq2DMeXYBjnKEWuHg2EWxZanIsgSpAsoAkhjqU8VqCZnUFJMnihgMyls\\n\\na2BGZQ0JGkfV3NjABu0gwhnEQAQjDOCSmEyIWtfqgii41qdYyIVf5egG1//mVad5PUcu8OpTb6HA\\n\\nYL9NGAO6R9zids+AXOCCEbomuAkgQQpyxNWl7IQCl2kggQ4LwgDGlaAAsMEG3s0DER4hByEMogiH\\n\\n+6BD1NqEtaagBlvIghm8kMwJADVX6WwDCvo6W5/69a271Wkh3EDgQhiYwAjOFa6ioOBjTsAUSDDF\\n\\nCKEpzRiyBp9BAEIMYvDdz+bhE5+4QgtWAAEHZCADU1jBAiYxCWZURAANaIIT+uCFJJjhBS+4wBH4\\n\\n8INNbAIJXwgyAxSWq+qls28ty28b9LvfJfMXV0tuMpMnUALhyoCLNLxhBTjl3bGKQhR5OMQQcCAE\\n\\nCEBADo+YgolnkIEW/ED/BSxmRE3TKmMa6yALZnbACghgZgh84AMvgAANzrCCFmxiEIMI8hewmMIq\\n\\nQq9mBnThcCmQQI6GTQUqyMMcNj0HMOfh04f4xBCI0IJEyIEFLCAACxzgAAUowAQmODGrHTADLeDg\\n\\nETGowCQYMZDUqrYJKeiDDu7sZxaYegnIfgEN+hxoM6tCFYRuQSV8rIlqJ5oBMsh2crPNbRlwodsy\\n\\nUKxi7yBuxargDncINYjVMAgR4+AKOCCzHAhAb3pjwAEmYLUQFJAAV7961hngwA6uUAQJTKIClhxm\\n\\nE3xghiTogA84roEV7HCMitvh4k/QMQ0+gICOj2AEGwj5Bvy8gT+b3ORm//5An/38AkDjGMcnj/mf\\n\\nR/ABmpsZAQRIQL3p7eoE9NsB/VYAqzmgBCWYoN+wVgAHZvAIFTCDxXNWrQuckAKH86EGF3hCM56w\\n\\nha533RB0aIYVjvCCj5v94yE3e8lPLvK2o9zMfEZ1vU0+AgRsAOchh0DIP3B3n/udAELgAL8T0GoT\\n\\n/JsDiE8ArPd94hm0YACMaIOcK9KAFDjBCcMWgw+swPUtWOLzcLAE2A3hh61foM9pV3vbVw/ytW+A\\n\\nAHpQwhSmMAPHryABOPc3AUK++xfkABJHgAIIbqByenccARjAgAiUngFYxzoDCUh+81kd8Da3QAa7\\n\\nnjxFYkz1YUuiBk+wA/8dDGEJOJg/9HawwhYm/oRmp171q4//6zPgAFTPABBpWIGaEVB3egth9xeQ\\n\\nAyGQBUgwBhcAAnxHAMfXccmXfAmAeLE2a7DmAARgAjigBzuwAzhgDEAAD4ygfRNReSngA33QB07w\\n\\nC6IHB68gDbMwC72ADYZwCzLIdX4ACafHdxtwdiJXbwv4ccfXf66WATPAarhXcjBwhGTwA1+wZatR\\n\\nAzlwA3engDi3cyKgc0G3b/9mYlqgB8MACDgwA1dABKuwDrvmEcUAbDOmAymAgoawgp3QCq3QCY3w\\n\\nguMgg1tgCOn3AiHHf2jng0HHhz5Ib3WHc0HHamYGAzzAAyAAAkdwCED/0AMDMAcDIAV+AAKvhwA6\\n\\nV286N4U852+uRn07sAvDsAuIhwNEIAPZwAgP4AEUAWNo6AVe4ARbYAf38Aqz0Aqu4Aqe0AiNQAvY\\n\\nUId0UHHNcHp394M+OIU9iIm4V3cjQG8ssHE8AAk18AM1sIg5kARAgGkqEAOUaInHZ2ZCoG86p3wi\\n\\nUIUE8ImwlgE4EIpakAGPgAODoALwAHW+gxEPwQyWF2xquAV0YAdwMAudoAsCqQu0MIezcH7PAA1W\\n\\nsGzFOIgLyH8e14w+92fE9wI8MI2m8AA9EANHAAlH+AJWgAfZuI0PEAJUoHIOoAQZqAcYGHCIpwA5\\n\\npwD7Fo4nNnszwAE4/zAFLdACmrBiD+BilCdjweYFKcCPfvCPAakLjSCHvdgJ0gAHdmAI0PAERwAB\\n\\nDvmQD1lyfQYDICCAOWAFfKACFcAAC8AFVjB8N/ACIPBmJOBYFVCNN+AAO6AFGTgMe/CFrKZ0/LZv\\n\\n+XZizfd8KNYCRIAEi/MAYdBrw+QCKdAEwpYENRACRykNvUALBcmLvNgJB4lxGQcBC8hnKVdzEHAD\\n\\niTiNSIAEiLUAZvAENaAC2bYAW/CEOAYBPJAFKnAADFIBKQAJcekAU6AFdNmOeemJ/mYCiMcBSad0\\n\\nHJABnPAJMbAAdTABblGPCxEGU5cCsPheITB+cOAMndAJlXmZrxB6T/8wnhdQcx3nZzeAiCBwhKP5\\n\\nA0VwCNrWNRSAAluQBKxJAihAB8PHezBAm0EwL0nwhCVGa7V3YrCWAMsneJ5YnMcpAiagBJwwBkXQ\\n\\nB1GAcIhpEWq1mC5QY2SQdXQAenAgmd05C+FpCXaAClYwjIcIA5DgCHiABKVQmlwgBVswniGABJj2\\n\\nBTLAAD3ASvXkB094jkIHAxdgWCQAIXggoK7mfAoqeA+oBP7WfOr4hQZqgWnwCWMAiQ3wACcRETCm\\n\\nmGtVYzhmBYbgeebXhq+QpnCAh7/wBk/gB0dwBCCQiJtQBEYgBaaQKRJAAVyweU9wo6bJAKWAZQ9Q\\n\\nAgsQBSGAgBxAbx//QKQykCyIEABJCgUQIJw953Mi8JKIF3BaAAiempO0lwZqMARIIB7plXAP4QFY\\n\\nkAJh+gOBdgRUwHW/8At4CA3QYKIXR3F0EKfXGGQGwwA6QARcMAGCAE0LgAchkKwhgAmtKUNSkKgX\\n\\nkINmh4hIAAQMcgBIkANQ8HpB52rLx28QeGI44JvruAN6kJMzoAajOgYoYAQakF4pEXW9FgaFwKob\\n\\n+gOhSQNQwHle5wf8SAf+2o+qeQEwUAN4AC6XsnkhcIpUJgHD9ZjJygfweWVeFAVWcAE3oIAfBwE5\\n\\nhgQxcK0yQAWUmnOzJnT4RnTiigMpW3Q7MAOhOqpD8AVHeqq+tlD1/+oESeAFroqDEHAByUoHTwCw\\n\\nAksHNaADLXAEMGAMpkAwIWAFMKCWfPBcD7CnExACiahjEnozjGEKifoBgccBWkADF2AMH1sWQZCo\\n\\nEFCl+HZiKDsDLABof7ZvxSmuMDsIY4AEfZCRqPoQYXACwOYDPvADGydyLuezVkAHdJCsZMACLXAF\\n\\nPEAGDLBOJ5ADw0cDOYYJhsMAVvu4F9ACKuAwD5ANitEETwCF9UYDIKADA7AiZZGoL9B8xWmc8aaT\\n\\nZBACOmAMIFCpCzoFgKCuQ5BoRvAAH+gW8joQfbtWwJYEWUADyzZzI7ByN4dzZZYDRBAB7/oALkC5\\n\\nIyebYvBtUgBNPv+wiBfAAzoABGQZBAtAliSABFSAgBxHADDQAjGAaeGxDDnwAgRgnLGWnG57AT8Q\\n\\nAxZwAJKQAyugB2rGalMgqjBLBD25Dg+AcDWbEB7gt2slbFlAaGVWc1eJfAxoZzzzzAuRrAYlEACbk7\\n\\ncv2ZXFwgOz6QA5R7AYdAAgwQBIcTNjGgDFZwA8QHvz/ABisCBGwQAGYAhfj2fEowAx9ABndgAGRx\\n\\nBASsBucab4CwB0MwxVM8CD0gvFz6YhLAWi5wZzQgBivwjDiWgz8YkR/AA4uGOihgkoR7AVxQCiP0\\n\\nAJtnBQvbA4zBAJjGHHcwNsuQrCBgkURwHlygA3IKAlCAY1ebBSH/AAUrQAN8cABhUAFmQAVEMKrq\\n\\nugecQMVTTATnVV0QXLwE4QETgLzC5gg0sAKo7ADM62eD2MoIcMaLhjVci4B39wEX8AWxQwF+MJ5H\\n\\nAFIz4gOVMAdNVQQqwAgVAItWkAONuABJUIMeGXzjKwZiUAQDYAY5gGpLMAc+gQxUsAKWDLNDkAZp\\n\\nQMVjIAMR0ACfPBECoAFrFQVNoANiQAY0wAIzEMao5mf5KwIMyH8wUAlGUGUT8ABNkAMwkHI1MFxk\\n\\niQI5cAEXMAirYAQLMMA54LmJNQeIUAGYhgeFbMjKhrrIcAgxYANHoxNIEAJEqs0d8AMg4M170NJ6\\n\\ngH/irK7DMAYx/zAAAa1Q0aEBTdBeLpAEP0AGi7sCFFhv/ceAyTcC5GsE9tUGErAM1ShoFzlkzJEC\\n\\nVNmIMsCnZgCtSBCJRYAEP8DQlIvDG0B9U/ACZFAEP7wnHtAAARoCKtABbKADK70HetDSe+Cp4rwD\\n\\nvTsEd0BlFtqKEiBjTuACffADZxBoyJd8ZfyQBPABR9A1d4QCTqiaAY0KhvAM1OAHrrUAgUMBF0AF\\n\\nOcaVJAwDUFDaUECwLxB4LIsDZOADBxADPmEDgDIBW8AAV4EHICAELs2SngoIGqgFV3AFonAAEpDF\\n\\nCZXTLiBj72zYLcfBPfi8dudxEAADmyADrTMB85kESYACFDAK2//pDMFgCLZgC6vBGnJ6A8uWntC8\\n\\niAOYBQioACx7BXKwBNsY22yQHSkgBQFgA3hABSyw23qdBr7dmzjQAquAAhKQzhIhAFtcCMmtA2G8\\n\\nbJzpcQiglz1IeDcQApWQbQzwq1Nb3C5gCNv5DMrwAz8gfItI2hDwbo7AA0eABK1RFgGwAE7oCFrA\\n\\nCZyQfzVwCIDiG5Fy3x1Q0jQQihlY5GmggerYAnlwAJEbE14q0KylA2cwz1bJ2D63gP2WASxwkUHG\\n\\nBV0jBYdT3CdgCNTwDM9AB1TQvjdQ2kewAkQwao/AA/+LCG9SFragrYI5zi1wAasgGr5RH+AV5CFA\\n\\nA1qwCxlIl1f/AAhKgAM4eQWH8AUo0ADC9OQ83cViMM/G54dYiQE4p8+NytCD4G0ysFwMkAJk3gvO\\n\\n0A9+wNBQEHxH4AgrkOMidgGrOSA5w+QmLQQ4PgQtsARfANvnwSmfAhsLEAIQQJcsqYEayGZF3ALs\\n\\nWgFxEa8Sgb3tJWwkNuFTiHvIeHycvoAmd7Xty8J+MO50MJURW93ufQErYGuPULCOhQicRQKSashX\\n\\noAZXoAo8MATgFQAPUAOYsO9FURSIEAIvoAeGfuhaoJJKIIRKbgMW0ABOHhHUvlYQbmbM6HMEcIyM\\n\\n3YDfyLFrftoB+JU14ARRkG3mZga6aWL5BgN8EAOsuzGu0QMh/6Due5AGYnABRODwFsAINbDjIh0A\\n\\nBvBZA2DsGciyvqmSsed4ecA0EO8RE9/FLSDheVZ/qbaAGLBzfLZz4cgCRNoCeLAAiECo4NMaKp2x\\n\\nSkcAObAJ87tpUQIWXHsBWjCqSQgra+0E61kJ+73f4OUDN5ABRcxmtVZ0ArcDLSAKDi/pL1YByb2h\\n\\nRvuMfYbAQ0gA3Y4AEOCZFIlyqKwKDa0CEL2jhIS+FSDXN4CFZ0zTA4BpTnIi6FyNDjAEauAIYgD0\\n\\nBlAAKcDQZPAFDq80HsD3fhlwOFB0SoCTLfAIogAAHfDX6qz4rBoFRmtmDygEzEsDHcoDT6uWIeAD\\n\\n262jZ3CEMP9A6ERABB0K41zFmo4Qp11ZtFBwAyXGAhfgAxoWA9qNCS8CJQ2wDgw9A2lwBlnQYQeg\\n\\nA9sKEEJe8IlhwwKQLDAcEJgyZY8SDhFnzMBBRBSABSgEAODY0eNHjwIquEjhIoqOHywgECAAAQaM\\n\\nECFq+MhygccFTUYEMWAwocbLFzS0XCHi6MIgBg8oFDGWgwoVECByQIFy4wMLGiGSAEF0x4cPMwcO\\n\\nxIjRIJsZKiwAnSFT0EYHPCA2zFjBI9EYJGZ43MjAQYmSHRFxUJzR4koeGxQeeADZuPHIklG8/Dgj\\n\\nhAUMHpgwCZoQIQKDJCEuHEHyQEqpZSFu3ICgQIGDRywuVFr/kNR0iK+2Sv3I8eLDhgQQeKAgEUMF\\n\\nEiQLAsCKwSZAgFIhoAihkWXA8wADfoBgsWPHiq9HWMx4NCNDX8HDdu3AcRhAgQVhHM/vyKxOiiaS\\n\\ndfCR84JHEkE4+4wBGZKwgowXNJGBC9RUuwE4Ahxw4DIdFqCAJwZQWGCBHiqIIocHNyDghQu4IEEF\\n\\nFcgKQCw2mmtgALRoOCILtwIAII8jPiBghkQu0aeORFp4ZAoTTOgLBz2GSWOHoS4KYgIPBNiIvsaK\\n\\nKQQ/F7zQQQzZxOBCAw1O8CGHECTRIQQSMZFhggx/gmElIVpoAYcjJFnAiAceWKAIGWR4IBtTrADh\\n\\ntxdgyAKR/wHmmAMW5mIAooACVISRihrGyIMIImoA4aZE6sgFjVpkucQHIYk0ISIOBptBCbry6OCB\\n\\nCqikrxgsUihJSzHkuECHCMBMggcQLrCiBulgaEEGniLw4SkRFZiihTTI4EMFPEvRE0VEKnjADype\\n\\nIPECMRDpgVFFV9FBkwAKAOKAAiwo5QIzhsiCBx7IXCKJKlKRpYsuyngDF3ISceC88yaaaAdOWnC1\\n\\ngQqmlBWkBtywNUsifsiihijCPGELuVbwmAaYkviCCyMY8CGqDTJIgAATHHghiyJqY2CBFGJ6IoeL\\n\\nqbDnCCouQEIFEnrwARJIYKDCDBWui2EBPNCiAooQzjhDkv999o0jDl6YuCSVbq52QgywfxDbHiLU\\n\\n+KTibTpggAKHH/bISlu9iKISizGeAAUUQqBCiGfpouECSSKQwLQxc6BhhpWDu6EGZGcmIYknnpAu\\n\\nhCckGUPTC8ZQIYgKnLjgAiioaCGGDkrBI4scQIDhgiWquOSSN/SVBYw/ykiljDLiqAKsFJRRBhhg\\n\\nRhnFlkGGIKKFbWyoIFa3IUbB1j6isOUHSXzAG+8QQPDY4wlp8IEBKaR4IIkcQPSbhhtgWkWGCxeI\\n\\ngg46rDADD0TxCMGKH+5ABBFmlvkcBCgYBVjBSkQV4iCMOGRCFrJ4gw/eUAUwEKMb3agCE4Q3CnDQ\\n\\nYhrTCEX/B1sRPDm1oB0GsZGU3GZCAEQsBU5ogtx+YAbrnQB7FzCMShZCgxogwTbkm8p4QHaEGuAk\\n\\nZhRYgClshQL9lQIReLBCCJAwgDvEoAAyOMIRosKDl8DgDIkwhyzigLsyxCIWTKgCLiAIhlT8YQ2S\\n\\nQAU4gtGKUIACFNGYYzSmAYwU/KAFF7FAANrWPAB44AQrbOH0xOCDE3QmAppqwRRmoJIVyAgJRojA\\n\\nA7wQk5eAwIk/sIIVKoEsmW1oTwuoAAV8YIVBIMFiwOoZ6MigikCkIxXCyF0X0PAHQhCCHOQgxh/i\\n\\nAAYm8EEIiRBDG1sBCkokM5mnOIUnFBGKaojDDSoAgAGi/wRIj4ShDU1wQhJwdbETtMEzPgiBA+S0\\n\\nghYk4nNEkIIGHhCFyN1EDMlBhhVyoIM73EmUC5CBCnoQhAWcTDYggMoNXlCDGgRiDVXIRCZqUQsw\\n\\nEIIJb+hCHCLBr1RUIRBLkIMQhPADVLwxGqdIpidM6glQKEIRpIjHPy7RMAEwBoWAbEAbVpgCHRAh\\n\\nki+oRAnAdMkXbC8EZLhACPCgmAeUgCdBkEHJFrAFMmGiB/tEzg+MEhWD3oAMS/BBFYghjIZ2Q6Jv\\n\\nGAcvCBEIJhAiH+LQHROYwFEHtMwBZzBDMKbBClZ4QhcqVQQrFFEPbajjG5FIRRNUYAGGdWSmD2vA\\n\\nIJ2QAv8vEOEMLHhBEnqlARQQCxl8INYgiFUhQTwgtEq5EwOQ4IcnmOEOC9LED47wP0gAEApHoMEP\\n\\n6mCOKqAhEg+tRReYsAgyMgEXuEhrFd7AhDWoQhVxNUECMrACZISUFnhVBCVSqtJ6qEMb34gFGvCR\\n\\ngjkcQHx//ON8wiCxx/ahEpFkQQ0wYQRKMiAKSegDCooQhZhsoghcaCp8ZXCH1VbiKUXFIkE/97lE\\n\\npOCB5+BFFXDXrz9kLa3pAENF/xCICsqBua5RgAlckwEH+IAarXAFM+Uhj8BeQ8XcTcY7xCGLKkji\\n\\nELBqQEho6gZuvqEJOoikA8iQBC5wgQHufACGIGfUpvL/Ezl4cG32ILEaEBiUdSkIRCDeAIarlQGY\\n\\nEl0DcNFQ0Th0oaGZEMZbOZqABChABHL1cId7lIlraMMfmRDjN6phDTwnIxbVOEU1RtEEMcwhAAyz\\n\\nAEjK2xgPoNcH0UNJC8SwhSQkgScTKMHgKBCCHDgCGTaBylOibFAgSqLKfAjBJboQCVRfDQxZA24V\\n\\ndrcEXKSCGGhAAyGWsARVLGEhCkBzAkSQgDa/xgSPIIQ7UG2NZCQjEuWIRzm84Y1ykAIUnnAFN2yR\\n\\nBIVRQAOxktJiZeUBm6bgK0lAiRhakIWYpAAJ/JVBFMwQlSyu7sBBIUMiugqGB95iDZegJa1jEWGJ\\n\\nXgKC/7nYaCAIsYg1rGEJLEAzAUTg8DS7RgQcLlIG5EAMYycbG/MIBynQQQqQUwIdigAFPfBYCSLk\\n\\nYQGMWAA2s6kBW4lbEknY3grIQAZ5XhVEq3nQDW5d5UCkQGtf/iIYKujWRSSdEFcWRm+7EAuj8wAC\\n\\ncuCoHAiwMhFgQAQIEAEH9PAQiU9cQksgRiaeTYpwRMMTfm3m2vN6CnpwowmYysMASrAYEx56Ph6Y\\n\\nwMRO8gMaxMkB24MA6BDqgyoL/Lh/uCi/wHAJfC/iFn/4wxLWkFYw4O6itPytwpcwghFgAAO9Fn3p\\n\\ne62A83A4Ir7YAwceEet3wJHt7OgrX9FxinAErxKFGf8DJipQY5dzJAwSiLkO8CAGRzxrBR6Vgyok\\n\\nAcMHpuPLaDBuGWhNa8rz4hdufcM5fHD5N3yZX2hIq8JXggEElB4BaEa/6NPv64g7gAOn8ssOhp0I\\n\\nJvCjF3BEJiXYwQ45ooRTIIV5GAVs04IV+AQgCIAFcBi9cwwBKAEncIKvqIFKcAQWGCY+4INAAINU\\n\\n+yLK+4NbQrhbWwIrM64/oB0t47ISXIKVSACtQz9fYwm/4ADX8AWIwEEY1DoOU7MePI+BYQEzCKlQ\\n\\ncAVKIIUjlLZqQ4UkuIIhuALkWYBte0AqEQCYWyEKTILKYAGs8B4IeoOkS7jLYwKjO7iku4Q46K1b\\n\\nIoT/KiAELIIAOJQQlmAJ9Fu/rFMAv/A1EfAFX5C4HRQBQIQ/1ZMQCRGCLGgju+ogV1jEUOAGYHCC\\n\\nR0iDNDCMVRAyCTCA4AOACBwFJ3gDJ+gDyrA6CLg1MqQdMEAD66O1MsiESCiDKhDDNQgBHlgC31gJ\\n\\nlmi4XmOJ9Pu1h2MZAii90TM9NEu/OYS4P+zBQjwDPnACVEAF35GEH7iCGWiIGeCEIWiHQ8AEBsDE\\n\\nTHwAbnqskzgDURwucwADMPiFKuAXW3owf1mEmHDBEbBF9kMABCjGq7s6PFSAYmy/XtvBHeQ6G9RH\\n\\nhwPE0ns410CzlvEYMfgB7uEAJikYLbDGFhiEILCx/+YRiTpwAQqsAT4Qgwk5gypjAvJLuDC8AFWw\\n\\nugSgR3rcQdFjSa7Dw1+LOFyUQwKoxzQjSGC8OjQLxH7sMA/jAD5UggQgRPPIgIYgmIg4D0lcgTEg\\n\\nnUzkiAo4AReoAyfYAjPYnjO4tYRzQQgYATmwxZrEAALgtZUBRhisx/XjMIT0sJiMyVvUyRl0P5sE\\n\\nxIcbPUBss7jqCx/MABzYgx0AMQeYggxYlVTBgSFoAU0oiA54SgEIgweoAzeIgnCkARZYiHu8xZWZ\\n\\nQ3oUS50cSLq8TGPsx19zODzMTHvsSV7DTF4ERF47SDRzDRusuAzwjoeYiDgZAzawgZhiDMYUiRMo\\n\\nBP8UkAIdyAIyoEyWUAAhmMNeQ0t6LEY9HEh7PE2W6MWxNM2He01eGz3207pAHMjW1EPXxMOB4Usc\\n\\nYA+PGYRDsAGO8IBrCr62KYYSwIITkKEv2IQVcARHoIEzCLwZsMz0Y845nLiGu8fMxE4/rMdeBMRf\\n\\nbD/thD9fE71fjDgOg0sCvUcWkINEuIIrSE8bMIBC00RuZEyOmJIGeIDfBE4U+AIVxYQf4IMt1Mx6\\n\\nxMw04wCahEEH6DVCdACyHFA85AAYHFCdFMteLE3vdI2rk5AZAARAmIILXQEi+ARRsAH1DABMNIBu\\n\\no0JsapsS1YA20ADP8FIGKBlN2ARjkJMZoA445EL/LpSQ1EO9G41OXYRQrZvBiTvI6KzH5CQANeVC\\n\\nIfAYIhiDOYiBAJBSK71SAOjQDugA9XzKh5GSAqCA6xEczwjTPhkDS8WUFqgM6qBMB5gICalMNLvR\\n\\nHM3FWyREIyEYObRFCKjMDAwSDf3TPIhS9VxUTaxVKWEMC6BVLGXUEeUISKmNCJiACZCAEqi0PEmq\\n\\nu6MAZQ0CFCkCPpGBVbDUMRgCajUeIuAETNHQV8WU4rHUVfiEVbiDOdiG5pBS50hUdO0AAzAAdZXS\\n\\nbjOAAOgAC2DPKNlVXv2ImQqDYggCBvCMYJ0A0VJWQVDWC1HWfUIRhEURAFvYOzgEZy0CcUURsmAD\\n\\npYoli4ml2ACIgQPAjnRd13XtAOx4jlzV1Y2w13uVlcZsgALg1361DX5FqiCI2QWIWZqN2YRN2DkY\\n\\nACDY2UaxWJ/FDovd2Z3dWOxoz5M9WpTtiBUZgJgl2GM91n3ikH9KWJrN2QG4WqzV2QGABaEVC7Gw\\n\\n2OdIVItEWrJFWgMIAw9ogAZ4jgJQWUh5W0hRWw8IA48t1F31trLNW0Ay2UZVLPesVb0NCAAh+QQA\\n\\nyAAAACH/CwAAAAAAAAAAAAAACEFsY2hlbXkACmVjcHNwMTBvZmYEYW1leAVqeDEwMAhkaXNjb3Zl\\n\\ncgUxMDExNgptYXN0ZXJjYXJkBTAyMjk4BHZpc2EIYXV6bWF4LTYGaHdvYzY0Bmh3b2NrNgAs4AEr\\n\\nAIIAbQCH/v797vHv6ZEP5msj7K4I1NLO49zk5ejqznAlwr2141cj0VMb78oKz3EXsm4Y1akQs7nG\\n\\n6Ion6OzxkJGRopyj2eHb3OTp5m0X41kaytfijk8UTjImk2kXazQj5NbK7fL0rFMX0Y0Sx8zSr1Mn\\n\\nLBkSDAkHqrW0sW8o08zGuI0RsIgv1dzhajIVdEsV7uTZ8u/yy40qXx8gMSUYLywoTywWqaq0AAAA\\n\\ncU8rb3JtuMS6NIa4kVMpHHCrqTYaaF9gdomPjIlzw7msu8bKrTUlSxoIjXFMbHWJjDMXMhwl+fbr\\n\\nycW6UHGPtbi21aoo5qwrp6ioUVFMkpink2wsq7OszNLVFyMfaldMgHuPkIlRs6unMGqQiXNsznZO\\n\\npZmUG1uPx8nHN0ozcm8y01Mkz49tyDghkTQmbYyt5NvY63lFq6aUNGd/uaVTUJbESXqqtG9KwFdA\\n\\nc4p1bmxQ69KQUUsvzolS1sYM9trUl6aosJBu8dCxHSYo1byw4JuAlo4yKnSscXAbV2tQdI0yIFug\\n\\nua22U0YT+NnJ78gqTFiG7bGRLk5yM4zF6ZVq7I5Rs9HiH4i/S1VvXIdvy8rjQF+gUWpyzrBz1tfy\\n\\nVYaX9OiXs6dx6LFQtndk1LGOsI1PT4u0FRoj1ceU8urn2benn8PP18Bn5czFF1J09emtLVWI18zQ\\n\\n19jWSztDf6e/0axQMjlOtbSr981TLzptGmqWVm0z7cpxtK0Kr1tHj44RibXhcY1Sf6iPaZjJlqSY\\n\\ni09DV6LUytLK5bmry5WAubXg6KpyraolxTUVdogWH1+vL3rFV2cXjacv78jQZXqqbqfON4CHZz9H\\n\\nz39qQKe/7+hgoJ/PdbHgUodPcHenchcUkrPRX6vgP1AXL0ZPcKBH1ZqQOXVKb2ig0KunX6Bwz9D/\\n\\ny73HN2s3z5uXL49Pi5nAj6QX9zsfHzNXEEcv7z8v9+RPsMcAD09fGoDK14uA0Oe/b2+wb3e/UIcw\\n\\n1paEaK9vIGcQAJdQj1d/EHcwT3vIAAAAAAAAAAAAAAAACP8AAQgcSLCgwYMIEypcyLChw4cQI0qc\\n\\nSLGixYsYM2rcyLGjx48gFwYYSbJkyJMoIyYwkWClCZYvExRISbNmwQAAEkxJIKRABgMGSNqsJq/S\\n\\nwxd2SAEbo+nZIj55CtlkGIRlAQMHXnyYCuCDt0PBGL74xW0MlzcIEGAYwJZtEq4IX0zZiQqrBJxT\\n\\nLVTzBqFgklBj3JxAi6AthgsKFLQdkHgAn7dwCyYYJBPrSIGXaUaKJKEgnhELMIi+sHZxYsVsE1+I\\n\\nkCcyQVBpBgWpXMGFCw8JZuM9WdsFwSRueixYbHit6NJsD18Q5lqgCyVAumQZlGU65UFputTYHfJM\\n\\nhTME7QT/J6ZYLWPDxJNfGPDLdYEpQVB4KFAARcuWHgxU8FAh5YegBxhUCAcgkDHEAo2lNsBaqA1w\\n\\nwRi+uWZAELMV4MGF9yUA1H79oRRAUAYYlIQmIPRwYGKjLShaghe01lwA9J0RQAUF5HYfUPWF6OFI\\n\\nOhZUSHBkhKbAaMeJ1tYFkDUHgAsGzFfjfQWMVONMIH0I1JVCETQGaKJx8cxZCKK4mJIDzegkCmjK\\n\\nJGVL3HFkJVAHBHBAnAUh8sZwA3DBhyYjDEEMgsgNQOZATRagBAr0qRkAbkG0udGbcUogaZt5jPBn\\n\\nnnzUYmKQCbI1KAAv0FijfB4gOlKpJkTokQFXZTBnnJkJ/5SEMkMEOQACwmhKRpALhJZcQS9E5kIC\\n\\n9qFJXwH9rYmCRzPSl1+cW3XF3S+1ijEAInnUSgY6Q452AZKDejAbscciC8CpLX1kwBdXWSbBBx8E\\n\\nEO9AiNS6wAWFZEvMrqcd5mCSzSnhymxKlFsBSQbkpq6zFQRF0l27bVIrW4VIvG+vQy4GcGQeZDGw\\n\\nTMfmR5ILNTqK0aL0XRnUXdEKNMau6+2Bx1JfcmEzGowssogLJtcUgBLTtRSyyC+sqSpHrKasXwB3\\n\\nFeRGkGvtkUYQ3+xBytWk2MEz0z3TFEACWQShhBIXXggUTkUb2iPS9P0EVLzcJVELGaihkAZLX/hS\\n\\nQCr5Sf8wpwVKJpxFS0DNl0oqByNcX9cVJf0TrCMFK1Aeb0C9iN1B7FEww7bxnJC8H9I3NqL0UeHT\\n\\nwRMZgMIUmzfZ5BlnBCU5AAlTyZGTcF4mr6ybWIqBMG+J2xK7zhoA++wDFUBBFxQ07zwFWdRQwxNP\\n\\nvGQCE9cnwPhNHigxyKEoVCD+d+JvjdPXSiCf0bFndyZQy3bwQQcddgiEwuBCWwgUkwcFMUHzNaBA\\n\\nDaInvQKaAAIQSMAXUrG0h5CsJSgo2PgOsCHIveAF9umQRmCkNK5hZjcvSEKSJpOAguUncbEiiP+c\\n\\nV4OY3CcHCRBBuyC3vYE8B2yoQIUdkmAHUNihEC4oBBD/XRCsC94mAeDZIPschpcUvoYyxHpWZky2\\n\\nQugN8AkthEAOciACEVChAizLEkMKUJ0s7OETlFiDGte4RkrsgWcVAMUZXJE+g0ipXPRxIkE42K4s\\n\\nvYsgs7PDuFDAwCxR8X9WlN4UDqjFLmagAgeAl5y29xYXxCYNn8DDGjihgk56spOc4AQmUHEbF+QB\\n\\nE5hYGygqEYQpZBGBCExADtZGkKT55FXn06NAhMeuR8IKMwcxASIBKL0DytKLj4vXnGqYhE9gghya\\n\\nDCUMpjnNFKSAmirAxB4C4AI7eCAUmEgDQYAGAZZkKAdCkGUGHHWAcj1uipMyCApm00tITtFRwmQe\\n\\nMV/J/0URZMBVyqSTQgKARlY4oQkPaAJCH/AAJziBoRBVKCv2YIc8eKCio3ACKM6VBeY9AWSPO4Ck\\n\\n3DcQGhHvKpCclO4kNa+BZGiG9zRIPp8nwCzKUghUeORIlrmQT4yCEplggFAhStSiMrQJa5CDHC5h\\n\\nClNcggGzeAsFJkDVGvAkp1jBZZl8kQC9zVCkoCPJByDWspYUjIGW0R0+J6DP50kvgVv0omUoyDg7\\n\\nUGIUozCEUPfK170aQq9C1Ss7LkFYprKjDnIAQBaoqp0EFoAKBrCASAUKgFSwKxUpg+QyxbjT3dwH\\n\\nUXCioRNdAQS20lSAjOTiLeWEOoQEoAmzzzzEUdGADYvv/a1rbRKCxTTfEAVlDgB2ytgWOpsALNRhIz\\n\\nBfAF6a400pHES5ImccEXBmEsBjaMiR9qUw2uQFW2mpYCWGSkDF01o6AcBCejyMQranvb9vLVELnN\\n\\ng1NNIYdrbuJ/ruBiBiRrASa1DADzEcEKDFYBC0TWAgiOpN9ORaESFg9LRSuabWZXAyBwt7uIxKJw\\n\\nFcgukVZgBQFCSHr/6l73EuDED4ABKygRik/IIQ9yYAUrMAGE0p4WCGkIH16ahAKvCjgDOc3AClZw\\n\\nJQQ3rAANPpTSriTSuxygczj5wgTgAFwMP696EBBCDqgwpwFX4A4aHIgpMvHXB5RYqCdO8wMEwGYB\\n\\nhED/xZTYxB7OuEkshCEMN8iznm9QhC1sIQ5bAEI4w6aEL2RgvKbzyT//uQIL7CcBroAgovKjMjiB\\n\\nyAVncEEFfOADHFwBDjW2MniFK4Qsr0ACKxCBCaCQg4LkIa9pjrWsZ53mNrtZBVK4cxH2nOcwSOGT\\n\\nfZBCB4a9ARrQYAPZoAEhOuCDLO+hi11UtE8qQWRIm3W5sau0pfXjAlAMYgMbkMEGVAEFTncaB+hG\\n\\ntxGMgG4gbMEHRfhEQeyQ0QfQ+t6yhigBnMCBG1iBF7y4QQuG3QEWHBvc4Da2wmMQbiSQoNga4EAY\\n\\nBhEJnghBCCK4eAEiUYlK9MQ+JTShB2J3XZXByjZn/7DDHngRgxjQAAkwn4HMZS7ucavCClhIIyce\\n\\nMIvfyCETTqA1mvFdawHs+wbOsILAWcD0Ybe8Awo39gaczvANJB0QRVABDKRwBWl4kQpgR7AFghEM\\n\\naURBBEow6+YozaSSX+YDT075HoZQhrrX/QjDboHeNaCBHTjAASlwgiFOzAB2EEQOQSd6mhmAYsIz\\n\\n3tYRkAESdsCBft9gDgRvObhj0IGnMx3c4u6AKjYwB2fcIAj/jAQEImGOYHxgv1MNBwSC8IkEaA5N\\n\\nPfaq/q5EPvF5YO5270EPdjCCEbzhDQ5ogK2NPvgTR+Pwicf30GM9VAJAvtgt0ADBi51wqbf8+52X\\n\\nOv/Cmz6HLmSAAgmYgDe84foaXTAcNcjBF9IZctyTrlwjz/aFSBF84fcABHeyAAjQAA0QAW1GAH/l\\n\\nfNDHULPGeCe2fPY2dAIQARGwGi0QA0eAd52ned+3eU/ndCxQcB3QAiDgABrAAmHgAxRAcRBwCIcQ\\n\\nDk+QA0/QFWaXAygAAeIgDqNjf/TBNxcCOwaQAReCChpwBMJXBsJRfH/XAN9igGxGAA5IAM83EIhH\\n\\nAPYma2wWAWyBBk54hUVngBFwAxmogUzHAjHQdJ1XhmPIdw6AADAQAhTYABpQBD5gBGVXCZFQA4Nw\\n\\nBRX3AhZgDiLwe3twHzuIe/SRQ6jgE02SB6SgDDv/UAZHwAJTBwK9MgLJNwAVCIcHFX1TKBCXkHhG\\n\\nJwDJsRYV+C0X4GYcQAiEIAMyQAMtoHwCoAIskIER1wADOAAEmBaCURirgYkgMHAbAAUd4AAG6AA3\\n\\nUIcAVABXAAFPQAU1cAAZAAGgMAYnwAVjAAyhMGfGciyJVgCksAehsAiMIAx5UAtlIAMzIHmtEAMg\\n\\nMIAO4AZ4wAcekAfk8A01wAcRIIUEcQlX6AQCQBqngQCEkRYO0AIkAAU40Aqt4AMbwAIcgABu0AEZ\\n\\nWILJ54YI4ElFIAUI0IQNkGdW4ANg4APCqAIXAAI74AMTUGhwUAATIAEQMFWM5AJ8wAVuIAZiYI1j\\n\\n/0AJfBAKPNmTm7AJT0EHDrIIlRIDJIAEREAEeuAJROAAC+AGaVAdP9AFVjAHJlAIjKCPA8GPRucE\\n\\nC5IgIJCUSWlsYDAJMUAEJJANYAAGc7ABR8B5TLcDJyAFRVCXYRAHOOADcVAEbuAgAwACYBAHUKBs\\n\\ngfAHJKABEQACYTABGTAbFBAErhAFPxAFQuACIgABZ4AJdPAMCNArCyAGnbIYGJAzaHCKi1AII8AC\\n\\nJNABQ9ADVeAJJLADtdAFjWAGkwAFgLAFfVEIdEAAr3B4ayYAChAmGaMBJWADyEkCJUACTRkBDZAC\\n\\nffAHaMmcCVeCUkCXJ0BNEcCXG3kBGoAEG9ACMP/gBBEQAqvIAnJ4ej4BARPwAwlkAJfZEkJgB2NA\\n\\nB2PQmYnxmYmBAFyABnyACNyACAK6CBSICKDwBlDXAcJnDQ7XAm+QBUIwBUYABWAABVDgAYMgDrPQ\\n\\nc1QYnBgjJsaJnDZAAjJABCNAgWwWAmHpcERQnQgwAm7QBzKKBUUQB3u5kQNwBEnpAA/FZkfQCq+o\\n\\nmMwDAe6ZAQkAARJgAU9QFRDgAfWpCWfhJWMwBjPJB6TACL9gB7+QB3ygM4wQAbPgAm9QBsUmkUQA\\n\\nBhuwAzsABEyQBgj5A1PQpjgwCHLAoQIhB8EpBgjymWsRojawnEiJBmx2igMwAkRQBeHGijTQzzzzH/\\n\\n8JE2em6/tpEngJY0cAK2FgM+sAN/eQNAgANTlXEZMAFX8QQT8AQQUADAMD9mMTPcsAnf8AyboAyL\\n\\nIAyIID+1+p/CIAcGMAJkSgLMWQV6IAM7wAVYsAXAgAlBQAFXAAiAMAEBIAx2CgB4ymZ6Opxi0KfH\\n\\n+adIAAYmOqhsoQEkgKbhNgNpigA7EAZ82Ul0AAMq0AdYcAII0AKTIAOIGYc3dwKJSQilJUymKgRP\\n\\nMFXNU2oJUJ90wAUIMAbwQKXcsAjXOKVoIAx8UAjKsAn/mQcuMAI9cAMbsJZQIAMOqgn1OAFg8Gc4\\n\\n8AOuUgFOkAnAyWYfihoaIKJ/qgqqUKIheJbi/+arJCBzh7kAf2AFNhoHPgAJPuCuWKACAuAAVrAF\\n\\nG0AEUhcHxCgAHDAH/2MEQjABVwBeWWZgCOQBdNCZT/mTdLAJ3DAAi2AHoVAPi+ABAaAMymAHAloI\\n\\noKApQzAEaup3aXECJ4AFmLAJSkAKMJYJafabHcpmGECc34qc2VoF2lAFM5CU4YqmMVACJaCzO2Cu\\n\\nvKCXWQcDTWCA68FmSDsDFuoMPhAGThi1ymoEVwteFycEqodApEAHBNgAz6AJBYsI8EC2BlCffPAL\\n\\nyoAIvwAK8pMHL2COPbArFPl3A2iLWRgBTQCFJya4AsFbbNYAxLkWR5CtyAlz4aoKcwAFqoAEMv9A\\n\\nAn86A8GqAQtwAnLphjDgrk0wgQeYAi1gBYBgBS1ga/1GZV0QBcwIAQZwcQBgAdIgBHugAgO4AMBg\\n\\nsFyACPVAtoWgFIigDBbwDUS5CANQCMM7tyCghMibfA0QAgKwZrMGvQAgvQJAvcM5JApwvYibnODL\\n\\niqzocMdJAlVQBYeJAH8QB3cGCLIACJCwZk5odEIVAm2IAFjQlak4mQmUAUKgxJGUBAcAASJACngA\\n\\nrydgFnmyCalqpeQAD76rDHvACIzgIBYstxlsiQ6At8nrwQfIAFcowqbQvv+4p3hyBJ6AbltQBSJr\\n\\nAz6wBSWAbt6LA1AgczTMAQ1wxvDqwUXHZob/UAd1MAxrAATNCgj29gBRCwfcJQI1EAX/JEldESeg\\n\\nIEJJMFYv8C4Qw03d9guhwAVkKwxoUAgBEBxDUHwLsIRtCIch4MEpEEoegAWz5cZwfAFybL0zkAUk\\n\\nsGp3AAae8JglcAUJQAEoOQNWoLMncMspQMCIrGYMxQrJgAtAQAE4AAQSGnhNoAE3oB0WMFakDHev\\n\\n8jcIFllxcgAIhmoTZDxB8AuIEMZS4QZzOwRlfAIE+JAOgGt1CQRhEAlYwFC+PKgIoqcLwgJVoKwT\\n\\nMANdAAhQMAEJEJI+kAAVPQFAwLgkMM23HAII4MEMVQe0sAa2QAtBIARpkJJAkABAIKMccAKc/xAK\\n\\nD/MuTTZZ/CVSkgXPc5JV4nMAK7BfFZABqYAKiCAMhfAB+ky3fccLOwACdImu4fQDFIAHafAERfsA\\n\\nbuyP1KqnvsICx1kFONAFXeADyvmnkvunyMm4g3zLTdAHQIAFnjoBtrAGwZAAgTAB1JAGgZDSfaAE\\n\\nxSAKnXEA4SApc+I3frPOrxLUjtZoBgZJHVcJQLFfj2QBQuABXREcO8ALSctuNLAFUTABc7AFVgAE\\n\\nHFDNmNAHWZACIuwCmdBmeqqna8ECSDABQDEBOeAKJQAFLYEDJeAJNuAJojoDgwwDDyDXyBAEOGAO\\n\\nTxAImIADaVAEfTAMtFBaxbAGLoAFQiApxv/F2K+C2OvsN2KHYEN23kNWYEOdAVdxLpogfH2GA4Dg\\n\\nA1ZQlWGADC2QAn8AB3HwBxIAB0/g2gRRCLHNssO5pzdAAQHgCqoguTPQxzACBmNNAQCQBjNwlH9w\\n\\ny5xAAXuNA7uAA1gQCIFQDIGABbYwDMjyB1iQMBAARn8zWa8idiM145Iiduh940MmZA3TGa+8K0nH\\n\\nloSQZ1AwB4AQBxxQBKmQBoQAAK4wAQI+EHZQ4ALwmb2CASeAB+0EBStcAs5KAcFdAj/A5IJ8mB2s\\n\\nAnjQqbJQmLSQDBOwegWADH0gBB+AC4AQCSJAATmALInN2AlW3uWN4+ud44sGSc91LsFRBj7/4G71\\n\\nnWdAIFwTQAhYsAI5MAe10doinARSjgBgvQCa4AGVANwkgAMGsGpAIeEl4AMfUABVMLkXvgMwwAG6\\n\\nyUVw4AORUAztQAEiwJZ/0AVQPAVQYAKtNBcHpF/FxV9GNj4fNtSCzmgTJFLwci5wMxJuIAVbAAdT\\n\\ndwVGQAPUfgdQsAF/MAG7sALrRgU5MAKM8BtSPgBUvgBjcAYrAAgOfgATgAMSEATi6wlXIAEV8ODG\\n\\nTQJ/kAJFEATcXpVQkAHnUAcU4As5AAR/kAUmIEOTkAN4MBdMUPGxhHE5VWBiB94an9jv8lwtE+0k\\n\\nwQU78G4tcAJwgAMtAOtfwASAkA3MuAK5/+ADaZAAIHDuA4HpHyyKZADWeHAhE6CcYGAAj2ACEpAA\\n\\nV9AFJvCMAfAFQGDcVfAHtkABaTAHf9AEtFDQttAOz7jw2fAFjVYBcBAPeGACi3Q92IM9WrRlGV9g\\n\\nHv/x8BL3LIXOEFPKI8EFUgAEcaABDrAFOBBxV/AEVrCWBfAFB2ACW8ALmkAGOC8rsxCcAgACoNkr\\n\\nvKDbj5QKOKAHmq8HwKoHww2bniADnB8GgZB+yMDIddAHqPAHbF4JuDAd8TAOkDABVtABXPASg2D2\\n\\nZ489LxFLa/8F0IZMxY5gnTXjowwxAoH3RXAFN4AAW3AFFmoEzNjMXTADPuAMZLAOiYEGBf8xC6E4\\n\\n5bSNAJHLuMZ9nJKbrWtt/jJAw+g6CHeADLTAyHG+BVgQBam+Ak8AB3OAhD2AAE0AEJjSTIFgwgQT\\n\\nE1MOMoHQMMdDERGpUMmQYYWBChYsZDzwIUCADx4/SPAIIAAdKUUmWLlxZcouOHB2XfEBZkOHHkNG\\n\\nLECHjssLAEEBzHpAQECEBUkxDIhRAgkJEiVslKhSQgaJqUhsQLWqh8SNMDWeIEthaBigRhkg7KJA\\n\\nk8aRHggaNDHEoMmaLDUaGlzIhCGEhzkiipi4wrBGjRIOLF78EeSHCgUCANA0YseEJ7ke+bBCg0aM\\n\\nGNaODBkCggMIYujWMRIaVE7Ro0nFYFj/wGLGCA0tWOzWQGRHC+A7WLTgRWSG1xa2JmSYUCQQlisQ\\n\\n4EDZwAKuGAQRBDyo010ADDwU7iiE4Nc8w8BCBlO0eNiCBPgkQwbIUKlSBsmUh/Tg5QMHEmvKEFDA\\n\\nHkDYLwQHFiBGgXW4mEwoOZoQYELZFEAghq1KkGpDEjyxoaqpNtTjqiPIKIOXCaIwAgoieojACSea\\n\\ngI2WBx44aoAeCJnjCgommKCLNKIQcpcnppgCvRy++GIwJoXIIYggXDEBAhEyOCCDa1apwYWgNMkp\\n\\nJ50IIUQ3KTTQAAEzOVABhDeIAYGV1gC4RMIJEVhADDEWwPAGIoigwc8ObuhgUBYApaGD/xGRiKGH\\n\\nHo7oYDgOsnMihBq7k7GJCBR44wYwuhkHhwl++CEKI4184o4uKOhi1TtadZWCJ4o0iAnBKtGokUbM\\n\\nsOSOApLokjRGS+sAOBZ+0+CEMlvQYAgNOIggkzgvcWJCAS64UwE9beDziB1AGAEEMzU4wswWdtAA\\n\\nBD2qICEGBxCQK4QmZCTAibJsDCGEAUDowbZxyimnGxx+WEKLNpoZVSEmgkjgPIZpXdKXAipqRJRV\\n\\ndOmkDTbYEMUDX/UDtgwOiLhBCkF1I0RcMoZQkxEBWGutkEyobWABBbBlIaoSuNJwZw2hgso4JBSd\\n\\nq8YHUrg3hAVGYPSIDdRRB5I7dsklF/84wAFYYHfA0GOGVhLxQhAvvhYEbC20kEQSgsP24hQv/OBB\\n\\nB7jhZkMRNmpAQahnyiBtvw6OOMIawP0+goMUmmDlByxUaBkooewYxahqaa45aRBASMqBBhowOoQU\\n\\nMnfAgRMWmIEEJDo44YEQGnBghDfeGOIIZVNIwRZk8CkHnFyIBMeebnyAw4hWPNuA60SMMSYW440R\\n\\n5G02dFGEB0FKWeIQL3iwXgdF4u5FFwhQEQqIGFgAzZoNaNitBQ5OUEEFPICABAdOVIBh8daSeNxG\\n\\npGrGQIEBBrjgAmoRQICQm9AFIjAAqJSOdftpVBnGNYzuMIABw6CHPsoBB6ph0B7UCJj/EfRAhCPM\\n\\nQWuwMJ4gtOC2WMTCD51ggw4EsYQoCGEJy7Pe2+KGjV5AwANCoYQUOMABH6pAfSroAxawsAX/FKEI\\n\\nKlgDFjhBv9aMQgCQuxYGrNg/DGhnQgOkVgEHMIMZeOItj2oBCByQghpJkAFOoJ06xpGLO+QiVJCQ\\n\\nhSxwcIVJVKEFCNjBDWaAhLEtTwexqKEJEwFDF3jgEYLwA/aO0Ui4YYN7OwwKJU5wAiUWIQ5KjIMV\\n\\nPAmWEMCAFWvYghv8xwjGCWUW8sqfApaygHOBAAGfSwG1DNi//ikAjHqUHRpDcJQJ1YEAD4hXHWhx\\n\\nj2zIAhKACAMyiImFXPygFXNAzQhY/1AFSXghFpIoxSlgWAMfUAAFj9BCWg7hh170IntwUwQ0dMAM\\n\\nCCiBhydIgRTCIIX1rY8DRQSEf+KgOO38Dw2pdI28BLC/milADPpbCrWmBcD/DcCVMggaITZ3rwaE\\n\\nIAI1GsYagLAGVqSgGKFEBiFgwIGjYOEHwNvAESxDgxlQbwlm+IE2fiCCLzwBAk+AhSTwswRj6MCd\\n\\n2BPq3KYhBHEIBROgK4IP4oBEH/gAClYoAj7lp50DXgADaIgTAPLgBMjNLKFj5R8Aj6IdXC5FASMi\\n\\ngUkF0AAEnMABKuAEJ36Uho9CUIDDIFznjgKEH1zhFK3Ihgz61LVd5EAICaBAK8yB0/8CGKEUXhAB\\n\\nKoxwCuw5whHQYEMvpsGMW4gABYyjhAocYM8wWOEP6TuBXCKgxRvlkqtxcgFY52UtbCWUZhj4Xxch\\n\\nOgArYmAGV9lAXFUChC0YkROyU0FuWiCFotioARoYQQtOEBMjCOIUidBGd71Rgwmk4xRRKMAPYGEG\\n\\nnFIgEVoQxQHMUIp2sqET1SibDm5xixokQKmE+5znOnev//U2AlqVqAJmW79MDJNCY8XlAAJIQC8O\\n\\nQA9B28DqdlALN1zyjBroY7nWB1ZinhYE5gKsEfxgNjVUrw1MkKwXfpCDKMDiBxnIQQGWcIprHGAV\\n\\np6BbJ5YRCSNk7L4QuFslbeGAH7b/1gEwMJpcMjdgLCYUDR0Tiv0EuOCENvjBED5rFSi6gRE4ADjK\\n\\nagEhbsCB1YUZySkYZhNS0ALLaAAIEzBCG9qgBes5QhBfEKwgLJGDO8ACAkLwBSogkAgIRMIMsFDD\\n\\nEtRghgNM4hr3vQaReWhaDpDrh+fiwAhY178LFLhmU+7q4658LeBm7slT5OKE0CphGcR6Jxp41G52\\n\\nUIS5jrgFN9gBDAggIwEQIQZSQEB4riCJTmjBGNYTRBAoAAsvGMEDQPCBCK7AqwM8YgmJSMchpAGB\\n\\nSUzCAkZYxS2mcQsqXRoBPpSCD81FLmU1IJeiJnWc5MBF2gTX06xzl9GakDq42mkB/whIlAxmHShl\\n\\nmfZMDnhDmLPDAUJIQQYdmAEL0ICHK0wAbTW03hQSMIElUMAKc0gABB6RCG4fAmNssEQAXPCBJxjg\\n\\nB534rC6uIQIeEi7JmT5WuMwEAixakWb1bo0L1EiABiD0AvseAQKMViOAu0suBKfwTkbgKGUt+QQc\\n\\nMFZ2fpkCGlQBDCTQQATw4CNlq/AYPNDCnz8hgi50wBlGQLkuJGEEITzCDMyohgVGIoEAVIMNOLQ5\\n\\nzoOyCSFmulzH+uHn/jfgiEq5qwAwugSRLjlcuitzlEIdRjPXv+HKAMyfA+LWT5CbWDa9AQaMwB+g\\n\\nQoMTmD1UWlg7DxxBSC+YIQp3wP+BM1TRikdIYhqWiEIF6ryKJVigACN5wQ/awIxeaMwAQvkEpn/4\\n\\nB583CwFoOCAupUzl1jCgDgwwilb5h8vNc75zmXMX6JEgetbtIFA7UBNcP5/RX75WAE2gw5PxMCq3\\n\\nsTMeOAZBQJs2WII7gIBGsIBD0wH2qoAVUANmgLQJeIRKAIAo0ILO0oVGeBAA+ATCUZ+t4wDrIsFz\\n\\nORcHwCXzO7A4GT/LqxYMQAD0wz+owyhQ+6KqO4HKaa1eUjVVkzrOSQEYcADt+L8oaAM/WAJH8yY1\\n\\nKAVmWAJRaIQaMIIrOAQeUANRoAL3sgQzyIAaSARIWwVJiD4ONIAHAcEUOKO40rz/zGE9FQw1iWLB\\n\\n1qAFNTIEJzig1TOgLiI/BeuiCBiu9wuzyjEjcEmQz5GLdmmte5Gd7BAAI0QbI9iFH0gEFTkFNlCD\\n\\nOxCBmnoEWPADNWgELWyERiuAYJCEeVgGLdCBXsAGZkiLM1SBHpwlJ8Oq7ouoApNDoVABSjEaVwuB\\n\\n3uqi6KoRP5wBGtiA0asc+nMAWdq3dmkXJ8uoFBiAIoSDKFDCIomCR5iASZAEHTAYERi0Z3uhA1iB\\n\\nA7CA6amEYDgES4gmFmLFRqgAodgDejoj+2vDUHOXdlmAXBq1yQOAAoABgAxIgRxIggTIUWIBY2QB\\n\\nNEOyhfyc/vo8AIqAUAJIeWuA/zH4ATOAISBIhGW4O7pzQEhoBJN7BCOABQqohOSDADM4hUPAhXPY\\n\\nApfcgjaIgmkQBQt4kFCARQ4oAtaSCwBqgEHct6QYNYISigBIgiR4AaVcSqZsSqYMiiSwgxjogA0g\\n\\nBId0xql7xtd6rR9EAI1qgDWAg1UwgigAgjYwA0mIgip0oSWgghpQhVGBgkYogEPYtknAgmSABFxI\\n\\nhm2YhHxAAE0wg0b4AOrTuU37IVmKAB3sls9JigVYCjTwwH6cTMoUimK8iaabJayUOnz8nLfKKP3j\\n\\nnD4osSgAuU5QA0v4gXSQBJL8gobIAGkwApVkSbwMBEjAAlywhDaohRBwggEAgv9GaI1PmMcRRDNZ\\n\\nspMRq5ydeExXwsXKfM44YYEOoIEyckjOzErOvCSuMxMWIAQaiIOMMwIzmIJDaLRHSIAv8IVJ+AET\\n\\nyMhHqEs42IY4wAFcoAZ6gIQ2UAR5qAXWG4ZtkAY7EAqeZDIH0IDVwk6mG7go24EsgE4H7SrpNDNO\\n\\n+6HTUM7Kgbfd2I1BMUYisAIjALllMIFdCJVJgIBBqMBD2K5E0MtAKAZZCIS8bINjcARF2AcsSAFa\\n\\naAda6ANcEIXpC4oJuAENWJ/PkaWKRIDKUQo4XICUgMcHfdIAIAISUJc+kQEaiLViDB/pHJSpHJQb\\n\\nEJThmQEruIKAWYazfIgfeE//WHjPJZiEbSiGQKAGSFiCbaCGZnCEYyAqS0gGFz0HW1ABIBAFw0sC\\n\\nCdiCDRgZJWPDAWg/XOICOtCENCiAJ51UANgAT7hURRmUDgANLt3U8hE9Y/xUEoCCCXCBM3AfM+iE\\n\\nJaiGJYCF8pwESIBTQFgmHGhRSFAD23OEXnAnNgCHZFABBDgKRoiCYCgyX3mBLACEOYCCIrikS4qr\\n\\nBGkdNxgDFKgIyaRUB1UCIIgDKKDKoIk1cAXVZbUCIMgCFACFOPEAHDCCZbCEZgiEQPgDWZhVXAiD\\n\\nOJ2EZnCbd8CeuXGEuMmeJfABOniRH8CGLJzMAPCAAigAFEgAFECBAkgFM7xW/2ytWFNV2IWlggJA\\n\\nBQ/wgDMAhaKMkzNY12VohmaYBB940TqShW7AVR5oJD94pGNQBEeoIbjB0yXYgqoavFuIhIr9WaAN\\n\\n2qK7AiOwBHf9g0AIA2pwWUd4h3eoWbhxGx3QLBrVAdtrJ0tYhmWYh4xZBSEQWrAN2yf9OFbFVaqN\\n\\nBS1QA0IShDbQBTNoAx1wm5f1A7RNWy9QAzXwg3ZahcEUW7/9236sgCCIAl3xA7ktBXcohSZ0By+4\\n\\nGG3ygskKm8nSAsjFW0vQhWmQAKEIWcDtXKF1gQQwgTt4glXoBAfUpjaAXC1ItkRQ3BRTG9pb3VsQ\\n\\nBSvxXNu9XQNIAPKAgDtYhUHeTVXd7ISLwRgzMINVuAZRiIQMIImg+Ijbfd7bDYCJwKmIaIT1aI8V\\n\\n0IjFADzo7V7vNYkAUAztPQDFEInvbY2AAAA7\\n\\n------=_NextPart_000_01BC2B74.89D1CCC0--\\n\\n\\n\\n\\n'"
      ]
     },
     "execution_count": 33,
     "metadata": {},
     "output_type": "execute_result"
    }
   ],
   "source": [
    "df[df['length'] == 234358]['message'].iloc[0]"
   ]
  },
  {
   "cell_type": "code",
   "execution_count": 37,
   "metadata": {},
   "outputs": [
    {
     "data": {
      "text/plain": [
       "array([<matplotlib.axes._subplots.AxesSubplot object at 0x000000000D3994A8>,\n",
       "       <matplotlib.axes._subplots.AxesSubplot object at 0x000000000D6AD278>],\n",
       "      dtype=object)"
      ]
     },
     "execution_count": 37,
     "metadata": {},
     "output_type": "execute_result"
    },
    {
     "data": {
      "image/png": "[encoded data removed]",
      "text/plain": [
       "<Figure size 864x288 with 2 Axes>"
      ]
     },
     "metadata": {
      "needs_background": "light"
     },
     "output_type": "display_data"
    }
   ],
   "source": [
    "df.hist(column='length', by='class', bins=100,figsize=(12,4))\n"
   ]
  },
  {
   "cell_type": "code",
   "execution_count": 44,
   "metadata": {},
   "outputs": [],
   "source": [
    "import string\n",
    "from nltk.corpus import stopwords\n",
    "def text_process(mess):\n",
    "    \"\"\"\n",
    "    Takes in a string of text, then performs the following:\n",
    "    1. Remove all punctuation\n",
    "    2. Remove all stopwords\n",
    "    3. Returns a list of the cleaned text\n",
    "    \"\"\"\n",
    "    # Check characters to see if they are in punctuation\n",
    "    nopunc = [char for char in mess if char not in string.punctuation]\n",
    "\n",
    "    # Join the characters again to form the string.\n",
    "    nopunc = ''.join(nopunc)\n",
    "    \n",
    "    # Now just remove any stopwords\n",
    "    return [word for word in nopunc.split() if word.lower() not in stopwords.words('english')]"
   ]
  },
  {
   "cell_type": "code",
   "execution_count": 45,
   "metadata": {},
   "outputs": [
    {
     "data": {
      "text/html": [
       "<div>\n",
       "<style scoped>\n",
       "    .dataframe tbody tr th:only-of-type {\n",
       "        vertical-align: middle;\n",
       "    }\n",
       "\n",
       "    .dataframe tbody tr th {\n",
       "        vertical-align: top;\n",
       "    }\n",
       "\n",
       "    .dataframe thead th {\n",
       "        text-align: right;\n",
       "    }\n",
       "</style>\n",
       "<table border=\"1\" class=\"dataframe\">\n",
       "  <thead>\n",
       "    <tr style=\"text-align: right;\">\n",
       "      <th></th>\n",
       "      <th>class</th>\n",
       "      <th>message</th>\n",
       "      <th>length</th>\n",
       "    </tr>\n",
       "  </thead>\n",
       "  <tbody>\n",
       "    <tr>\n",
       "      <th>C:/Users/krina/emails/spam\\00001.7848dde101aa985090474a91ec93fcf0</th>\n",
       "      <td>spam</td>\n",
       "      <td>&lt;!DOCTYPE HTML PUBLIC \"-//W3C//DTD HTML 4.0 Tr...</td>\n",
       "      <td>3966</td>\n",
       "    </tr>\n",
       "    <tr>\n",
       "      <th>C:/Users/krina/emails/spam\\00002.d94f1b97e48ed3b553b3508d116e6a09</th>\n",
       "      <td>spam</td>\n",
       "      <td>1) Fight The Risk of Cancer!\\n\\nhttp://www.adc...</td>\n",
       "      <td>820</td>\n",
       "    </tr>\n",
       "    <tr>\n",
       "      <th>C:/Users/krina/emails/spam\\00003.2ee33bc6eacdb11f38d052c44819ba6c</th>\n",
       "      <td>spam</td>\n",
       "      <td>1) Fight The Risk of Cancer!\\n\\nhttp://www.adc...</td>\n",
       "      <td>669</td>\n",
       "    </tr>\n",
       "    <tr>\n",
       "      <th>C:/Users/krina/emails/spam\\00004.eac8de8d759b7e74154f142194282724</th>\n",
       "      <td>spam</td>\n",
       "      <td>##############################################...</td>\n",
       "      <td>3004</td>\n",
       "    </tr>\n",
       "    <tr>\n",
       "      <th>C:/Users/krina/emails/spam\\00005.57696a39d7d84318ce497886896bf90d</th>\n",
       "      <td>spam</td>\n",
       "      <td>I thought you might like these:\\n\\n1) Slim Dow...</td>\n",
       "      <td>687</td>\n",
       "    </tr>\n",
       "  </tbody>\n",
       "</table>\n",
       "</div>"
      ],
      "text/plain": [
       "                                                   class  \\\n",
       "C:/Users/krina/emails/spam\\00001.7848dde101aa98...  spam   \n",
       "C:/Users/krina/emails/spam\\00002.d94f1b97e48ed3...  spam   \n",
       "C:/Users/krina/emails/spam\\00003.2ee33bc6eacdb1...  spam   \n",
       "C:/Users/krina/emails/spam\\00004.eac8de8d759b7e...  spam   \n",
       "C:/Users/krina/emails/spam\\00005.57696a39d7d843...  spam   \n",
       "\n",
       "                                                                                              message  \\\n",
       "C:/Users/krina/emails/spam\\00001.7848dde101aa98...  <!DOCTYPE HTML PUBLIC \"-//W3C//DTD HTML 4.0 Tr...   \n",
       "C:/Users/krina/emails/spam\\00002.d94f1b97e48ed3...  1) Fight The Risk of Cancer!\\n\\nhttp://www.adc...   \n",
       "C:/Users/krina/emails/spam\\00003.2ee33bc6eacdb1...  1) Fight The Risk of Cancer!\\n\\nhttp://www.adc...   \n",
       "C:/Users/krina/emails/spam\\00004.eac8de8d759b7e...  ##############################################...   \n",
       "C:/Users/krina/emails/spam\\00005.57696a39d7d843...  I thought you might like these:\\n\\n1) Slim Dow...   \n",
       "\n",
       "                                                    length  \n",
       "C:/Users/krina/emails/spam\\00001.7848dde101aa98...    3966  \n",
       "C:/Users/krina/emails/spam\\00002.d94f1b97e48ed3...     820  \n",
       "C:/Users/krina/emails/spam\\00003.2ee33bc6eacdb1...     669  \n",
       "C:/Users/krina/emails/spam\\00004.eac8de8d759b7e...    3004  \n",
       "C:/Users/krina/emails/spam\\00005.57696a39d7d843...     687  "
      ]
     },
     "execution_count": 45,
     "metadata": {},
     "output_type": "execute_result"
    }
   ],
   "source": [
    "df.head()"
   ]
  },
  {
   "cell_type": "code",
   "execution_count": 46,
   "metadata": {},
   "outputs": [
    {
     "data": {
      "text/plain": [
       "C:/Users/krina/emails/spam\\00001.7848dde101aa985090474a91ec93fcf0    [DOCTYPE, HTML, PUBLIC, W3CDTD, HTML, 40, Tran...\n",
       "C:/Users/krina/emails/spam\\00002.d94f1b97e48ed3b553b3508d116e6a09    [1, Fight, Risk, Cancer, httpwwwadclickwspcfmo...\n",
       "C:/Users/krina/emails/spam\\00003.2ee33bc6eacdb11f38d052c44819ba6c    [1, Fight, Risk, Cancer, httpwwwadclickwspcfmo...\n",
       "C:/Users/krina/emails/spam\\00004.eac8de8d759b7e74154f142194282724    [Adult, Club, Offers, FREE, Membership, INSTAN...\n",
       "C:/Users/krina/emails/spam\\00005.57696a39d7d84318ce497886896bf90d    [thought, might, like, 1, Slim, Guaranteed, lo...\n",
       "Name: message, dtype: object"
      ]
     },
     "execution_count": 46,
     "metadata": {},
     "output_type": "execute_result"
    }
   ],
   "source": [
    "df['message'].head(5).apply(text_process)"
   ]
  },
  {
   "cell_type": "code",
   "execution_count": 49,
   "metadata": {},
   "outputs": [],
   "source": [
    "from sklearn.feature_extraction.text import CountVectorizer"
   ]
  },
  {
   "cell_type": "code",
   "execution_count": 50,
   "metadata": {},
   "outputs": [
    {
     "name": "stdout",
     "output_type": "stream",
     "text": [
      "70393\n"
     ]
    }
   ],
   "source": [
    "bow_transformer = CountVectorizer(analyzer=text_process).fit(df['message'])\n",
    "\n",
    "# Print total number of vocab words\n",
    "print(len(bow_transformer.vocabulary_))"
   ]
  },
  {
   "cell_type": "code",
   "execution_count": 60,
   "metadata": {},
   "outputs": [
    {
     "name": "stdout",
     "output_type": "stream",
     "text": [
      "On 9/8/02 3:16 PM, \"Gary Lawrence Murphy\" <garym@canada.com> wrote:\n",
      "\n",
      ">>>>>> \"J\" == James Rogers <jamesr@best.com> writes:\n",
      "\n",
      "> \n",
      "\n",
      ">   J> An example: Being able to model RF propagation in three\n",
      "\n",
      ">   J> dimensions for a metro area when deploying wireless networks.\n",
      "\n",
      ">   J> By having every single tree and building detail and similar,\n",
      "\n",
      ">   J> you can \"see\" even tiny dead spots due to physical blockage and\n",
      "\n",
      ">   J> signal attenuation.\n",
      "\n",
      "> \n",
      "\n",
      "> Hmmm, just as I thought.  In other words, it has no practical uses\n",
      "\n",
      "> whatsoever ;) ... do the biz guys in your office /really/ think WISPs\n",
      "\n",
      "> are really going to shell out /their/ money to find a house or two\n",
      "\n",
      "> they can't reach?  Experience suggests (a) they won't care and (b)\n",
      "\n",
      "> they will even sign up that errant house and then give them a\n",
      "\n",
      "> run-around blaming the dead-spot on \"unsupported vendor equipment\".\n",
      "\n",
      "\n",
      "\n",
      "\n",
      "\n",
      "Errrr....the biz guys in my office don't care what the \"WISPs\" want to do\n",
      "\n",
      "with their little WiFi networks.  And the bandwidth shadows in most cities\n",
      "\n",
      "are surprisingly large and common.  They aren't selling the software, which\n",
      "\n",
      "is pretty pricy as it happens.  They are using it to optimize next\n",
      "\n",
      "generation wireless canopies over metro areas and fiber networks on a large\n",
      "\n",
      "scale.  There are an essentially infinite number of metro wireless\n",
      "\n",
      "configurations, some of which generate far more dead or marginal spots and\n",
      "\n",
      "others which are very expensive to operate (due to backhaul transit\n",
      "\n",
      "considerations) or both.  This software can be used as a tool to optimize\n",
      "\n",
      "the canopy coverage and minimize the actual transit costs since the wireless\n",
      "\n",
      "is tied into fiber at multiple points.\n",
      "\n",
      "\n",
      "\n",
      "The canopies we are talking about aren't short-range wifi technologies, but\n",
      "\n",
      "a mixture of long-range high-performance wireless networking, with bandwidth\n",
      "\n",
      "measured in tens to hundreds of mbits and ranges measured in miles (up to\n",
      "\n",
      "well over a hundred miles on the extreme end).  At those ranges and\n",
      "\n",
      "bandwidth levels, the cost of providing the network can easily vary by an\n",
      "\n",
      "order of magnitude or more depending on how you manage RF shadows and\n",
      "\n",
      "proximity to fiber access points.  The idea ultimately is to optimize the\n",
      "\n",
      "cost and performance such that no existing network infrastructure providers\n",
      "\n",
      "can remotely compete and maintain profitability.  This is a surprisingly low\n",
      "\n",
      "bar, and it is about time networks were designed with this level of\n",
      "\n",
      "large-scale optimization (cost per mbit, maximizing coverage, and effective\n",
      "\n",
      "bandwidth available per unit area) in any case.  And for this company's\n",
      "\n",
      "long-term plans, this type of capability will be absolutely necessary to\n",
      "\n",
      "keep things sane.\n",
      "\n",
      "\n",
      "\n",
      "Or at least investors find this capability very sexy and compelling,\n",
      "\n",
      "especially since we have this lovely visualization engine tied into the\n",
      "\n",
      "system (CLI batches never have the same effect, even if it is more\n",
      "\n",
      "efficient).\n",
      "\n",
      "\n",
      "\n",
      "-James Rogers\n",
      "\n",
      " jamesr@best.com\n",
      "\n",
      "\n",
      "\n",
      "\n",
      "\n"
     ]
    }
   ],
   "source": [
    "message4 = df['message'][1000]\n",
    "print(message4)"
   ]
  },
  {
   "cell_type": "code",
   "execution_count": 61,
   "metadata": {},
   "outputs": [
    {
     "name": "stdout",
     "output_type": "stream",
     "text": [
      "  (0, 3622)\t1\n",
      "  (0, 5974)\t1\n",
      "  (0, 9058)\t1\n",
      "  (0, 12113)\t1\n",
      "  (0, 12302)\t1\n",
      "  (0, 13591)\t1\n",
      "  (0, 14756)\t1\n",
      "  (0, 16143)\t6\n",
      "  (0, 16308)\t2\n",
      "  (0, 17363)\t1\n",
      "  (0, 19113)\t1\n",
      "  (0, 20801)\t1\n",
      "  (0, 22354)\t2\n",
      "  (0, 23006)\t2\n",
      "  (0, 27223)\t2\n",
      "  (0, 27528)\t1\n",
      "  (0, 29010)\t1\n",
      "  (0, 29047)\t1\n",
      "  (0, 29094)\t1\n",
      "  (0, 29256)\t1\n",
      "  (0, 30632)\t2\n",
      "  (0, 30633)\t1\n",
      "  (0, 30638)\t2\n",
      "  (0, 30932)\t1\n",
      "  (0, 31062)\t1\n",
      "  :\t:\n",
      "  (0, 64111)\t1\n",
      "  (0, 64165)\t1\n",
      "  (0, 64413)\t1\n",
      "  (0, 64632)\t2\n",
      "  (0, 64711)\t1\n",
      "  (0, 64935)\t1\n",
      "  (0, 64962)\t1\n",
      "  (0, 65179)\t1\n",
      "  (0, 65433)\t1\n",
      "  (0, 65575)\t1\n",
      "  (0, 65726)\t1\n",
      "  (0, 65761)\t1\n",
      "  (0, 65767)\t1\n",
      "  (0, 66942)\t1\n",
      "  (0, 66983)\t1\n",
      "  (0, 67176)\t1\n",
      "  (0, 67514)\t1\n",
      "  (0, 67711)\t1\n",
      "  (0, 67772)\t1\n",
      "  (0, 68576)\t1\n",
      "  (0, 68652)\t5\n",
      "  (0, 68757)\t1\n",
      "  (0, 68774)\t1\n",
      "  (0, 68891)\t1\n",
      "  (0, 68905)\t1\n",
      "(1, 70393)\n"
     ]
    }
   ],
   "source": [
    "bow4 = bow_transformer.transform([message4])\n",
    "print(bow4)\n",
    "print(bow4.shape)"
   ]
  },
  {
   "cell_type": "code",
   "execution_count": 62,
   "metadata": {},
   "outputs": [
    {
     "name": "stdout",
     "output_type": "stream",
     "text": [
      "RF\n",
      "Rogers\n"
     ]
    }
   ],
   "source": [
    "print(bow_transformer.get_feature_names()[22354])\n",
    "print(bow_transformer.get_feature_names()[23006])"
   ]
  },
  {
   "cell_type": "code",
   "execution_count": 63,
   "metadata": {},
   "outputs": [],
   "source": [
    "messages_bow = bow_transformer.transform(df['message'])"
   ]
  },
  {
   "cell_type": "code",
   "execution_count": 64,
   "metadata": {},
   "outputs": [
    {
     "name": "stdout",
     "output_type": "stream",
     "text": [
      "Shape of Sparse Matrix:  (3000, 70393)\n",
      "Amount of Non-Zero occurences:  321945\n"
     ]
    }
   ],
   "source": [
    "print('Shape of Sparse Matrix: ', messages_bow.shape)\n",
    "print('Amount of Non-Zero occurences: ', messages_bow.nnz)"
   ]
  },
  {
   "cell_type": "code",
   "execution_count": 65,
   "metadata": {},
   "outputs": [
    {
     "name": "stdout",
     "output_type": "stream",
     "text": [
      "sparsity: 0\n"
     ]
    }
   ],
   "source": [
    "sparsity = (100.0 * messages_bow.nnz / (messages_bow.shape[0] * messages_bow.shape[1]))\n",
    "print('sparsity: {}'.format(round(sparsity)))"
   ]
  },
  {
   "cell_type": "code",
   "execution_count": 66,
   "metadata": {},
   "outputs": [
    {
     "name": "stdout",
     "output_type": "stream",
     "text": [
      "  (0, 68905)\t0.019915248803895332\n",
      "  (0, 68891)\t0.032757003657206914\n",
      "  (0, 68774)\t0.038153656952575075\n",
      "  (0, 68757)\t0.037161497014326104\n",
      "  (0, 68652)\t0.23899910128040694\n",
      "  (0, 68576)\t0.06419143457104279\n",
      "  (0, 67772)\t0.05022314570060289\n",
      "  (0, 67711)\t0.027822540559736708\n",
      "  (0, 67514)\t0.0253992151152152\n",
      "  (0, 67176)\t0.07003024539833479\n",
      "  (0, 66983)\t0.04909832753368832\n",
      "  (0, 66942)\t0.05493713836098032\n",
      "  (0, 65767)\t0.02578707191416518\n",
      "  (0, 65761)\t0.041240602845239706\n",
      "  (0, 65726)\t0.02813721163833443\n",
      "  (0, 65575)\t0.06077594918827231\n",
      "  (0, 65433)\t0.05106621106658082\n",
      "  (0, 65179)\t0.05493713836098032\n",
      "  (0, 64962)\t0.0382499279824347\n",
      "  (0, 64935)\t0.02837367975331187\n",
      "  (0, 64711)\t0.05063413567042099\n",
      "  (0, 64632)\t0.12155189837654462\n",
      "  (0, 64413)\t0.04380316490488002\n",
      "  (0, 64165)\t0.05063413567042099\n",
      "  (0, 64111)\t0.021270691287064547\n",
      "  :\t:\n",
      "  (0, 31062)\t0.03301306055808486\n",
      "  (0, 30932)\t0.06419143457104279\n",
      "  (0, 30638)\t0.07968806264725167\n",
      "  (0, 30633)\t0.045452043510119756\n",
      "  (0, 30632)\t0.08065102455479324\n",
      "  (0, 29256)\t0.041811914856518334\n",
      "  (0, 29094)\t0.035754296313478276\n",
      "  (0, 29047)\t0.04137983946035851\n",
      "  (0, 29010)\t0.03448670145010463\n",
      "  (0, 27528)\t0.05947744191066537\n",
      "  (0, 27223)\t0.13322952003112862\n",
      "  (0, 23006)\t0.09335000417833364\n",
      "  (0, 22354)\t0.12838286914208558\n",
      "  (0, 20801)\t0.03400522049633385\n",
      "  (0, 19113)\t0.0387485127459908\n",
      "  (0, 17363)\t0.03768814495794737\n",
      "  (0, 16308)\t0.08453471353629469\n",
      "  (0, 16143)\t0.268771949058774\n",
      "  (0, 14756)\t0.05106621106658082\n",
      "  (0, 13591)\t0.038153656952575075\n",
      "  (0, 12302)\t0.058352623743750796\n",
      "  (0, 12113)\t0.07003024539833479\n",
      "  (0, 9058)\t0.07003024539833479\n",
      "  (0, 5974)\t0.06077594918827231\n",
      "  (0, 3622)\t0.07003024539833479\n"
     ]
    }
   ],
   "source": [
    "from sklearn.feature_extraction.text import TfidfTransformer\n",
    "\n",
    "tfidf_transformer = TfidfTransformer().fit(messages_bow)\n",
    "tfidf4 = tfidf_transformer.transform(bow4)\n",
    "print(tfidf4)"
   ]
  },
  {
   "cell_type": "code",
   "execution_count": 69,
   "metadata": {},
   "outputs": [
    {
     "name": "stdout",
     "output_type": "stream",
     "text": [
      "4.108861045489456\n"
     ]
    }
   ],
   "source": [
    "print(tfidf_transformer.idf_[bow_transformer.vocabulary_['Free']])"
   ]
  },
  {
   "cell_type": "code",
   "execution_count": 70,
   "metadata": {},
   "outputs": [
    {
     "name": "stdout",
     "output_type": "stream",
     "text": [
      "(3000, 70393)\n"
     ]
    }
   ],
   "source": [
    "messages_tfidf = tfidf_transformer.transform(messages_bow)\n",
    "print(messages_tfidf.shape)"
   ]
  },
  {
   "cell_type": "code",
   "execution_count": 71,
   "metadata": {},
   "outputs": [],
   "source": [
    "from sklearn.naive_bayes import MultinomialNB\n",
    "spam_detect_model = MultinomialNB().fit(messages_tfidf, df['class'])"
   ]
  },
  {
   "cell_type": "code",
   "execution_count": 75,
   "metadata": {},
   "outputs": [
    {
     "name": "stdout",
     "output_type": "stream",
     "text": [
      "predicted: ham\n",
      "expected: spam\n"
     ]
    }
   ],
   "source": [
    "print('predicted:', spam_detect_model.predict(tfidf4)[0])\n",
    "print('expected:', df['class'][3])"
   ]
  },
  {
   "cell_type": "code",
   "execution_count": 76,
   "metadata": {},
   "outputs": [
    {
     "name": "stdout",
     "output_type": "stream",
     "text": [
      "['spam' 'spam' 'spam' ... 'ham' 'ham' 'ham']\n"
     ]
    }
   ],
   "source": [
    "all_predictions = spam_detect_model.predict(messages_tfidf)\n",
    "print(all_predictions)"
   ]
  },
  {
   "cell_type": "code",
   "execution_count": 77,
   "metadata": {},
   "outputs": [
    {
     "name": "stdout",
     "output_type": "stream",
     "text": [
      "              precision    recall  f1-score   support\n",
      "\n",
      "         ham       0.93      1.00      0.96      2500\n",
      "        spam       1.00      0.61      0.76       500\n",
      "\n",
      "   micro avg       0.94      0.94      0.94      3000\n",
      "   macro avg       0.96      0.81      0.86      3000\n",
      "weighted avg       0.94      0.94      0.93      3000\n",
      "\n"
     ]
    }
   ],
   "source": [
    "from sklearn.metrics import classification_report\n",
    "print (classification_report(df['class'], all_predictions))"
   ]
  },
  {
   "cell_type": "code",
   "execution_count": 78,
   "metadata": {},
   "outputs": [
    {
     "name": "stdout",
     "output_type": "stream",
     "text": [
      "2400 600 3000\n"
     ]
    }
   ],
   "source": [
    "from sklearn.model_selection import train_test_split\n",
    "\n",
    "msg_train, msg_test, label_train, label_test = \\\n",
    "train_test_split(df['message'], df['class'], test_size=0.2)\n",
    "\n",
    "print(len(msg_train), len(msg_test), len(msg_train) + len(msg_test))"
   ]
  },
  {
   "cell_type": "code",
   "execution_count": 79,
   "metadata": {},
   "outputs": [],
   "source": [
    "from sklearn.pipeline import Pipeline\n",
    "\n",
    "pipeline = Pipeline([\n",
    "    ('bow', CountVectorizer(analyzer=text_process)),  # strings to token integer counts\n",
    "    ('tfidf', TfidfTransformer()),  # integer counts to weighted TF-IDF scores\n",
    "    ('classifier', MultinomialNB()),  # train on TF-IDF vectors w/ Naive Bayes classifier\n",
    "])"
   ]
  },
  {
   "cell_type": "code",
   "execution_count": 80,
   "metadata": {},
   "outputs": [
    {
     "data": {
      "text/plain": [
       "Pipeline(memory=None,\n",
       "     steps=[('bow', CountVectorizer(analyzer=<function text_process at 0x000000000D947AE8>,\n",
       "        binary=False, decode_error='strict', dtype=<class 'numpy.int64'>,\n",
       "        encoding='utf-8', input='content', lowercase=True, max_df=1.0,\n",
       "        max_features=None, min_df=1, ngram_range=(1, 1), preprocesso...f=False, use_idf=True)), ('classifier', MultinomialNB(alpha=1.0, class_prior=None, fit_prior=True))])"
      ]
     },
     "execution_count": 80,
     "metadata": {},
     "output_type": "execute_result"
    }
   ],
   "source": [
    "pipeline.fit(msg_train,label_train)"
   ]
  },
  {
   "cell_type": "code",
   "execution_count": 81,
   "metadata": {},
   "outputs": [],
   "source": [
    "predictions = pipeline.predict(msg_test)"
   ]
  },
  {
   "cell_type": "code",
   "execution_count": 83,
   "metadata": {},
   "outputs": [
    {
     "name": "stdout",
     "output_type": "stream",
     "text": [
      "              precision    recall  f1-score   support\n",
      "\n",
      "         ham       1.00      0.89      0.94       562\n",
      "        spam       0.38      1.00      0.55        38\n",
      "\n",
      "   micro avg       0.90      0.90      0.90       600\n",
      "   macro avg       0.69      0.94      0.74       600\n",
      "weighted avg       0.96      0.90      0.92       600\n",
      "\n"
     ]
    }
   ],
   "source": [
    "print(classification_report(predictions,label_test))"
   ]
  },
  {
   "cell_type": "code",
   "execution_count": null,
   "metadata": {},
   "outputs": [],
   "source": []
  }
 ],
 "metadata": {
  "kernelspec": {
   "display_name": "Python 3",
   "language": "python",
   "name": "python3"
  },
  "language_info": {
   "codemirror_mode": {
    "name": "ipython",
    "version": 3
   },
   "file_extension": ".py",
   "mimetype": "text/x-python",
   "name": "python",
   "nbconvert_exporter": "python",
   "pygments_lexer": "ipython3",
   "version": "3.7.1"
  }
 },
 "nbformat": 4,
 "nbformat_minor": 2
}
